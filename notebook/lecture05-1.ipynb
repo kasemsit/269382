{
  "cells": [
    {
      "cell_type": "markdown",
      "metadata": {
        "id": "hXfOhopc3gmE"
      },
      "source": [
        "# ปัญหาการจำแนกประเภทดอกไอริส\n",
        "\n",
        "ในคาบที่ผ่านมา ได้นำเสนอการทำนายค่า Sepal length จากคุณลักษณะอื่น ๆ อีก 3 คุณลักษณะ ได้แก่ Sepal width, Petal width และ Petal length สำหรับในคาบนี้ หากเราเปลี่ยนเป้าหมาย (target) ของการทำนายให้เป็นประเภทของดอก ที่มี 3 สายพันธ์บ้างล่ะ เราจะทำอย่างไร\n",
        "\n",
        "**จุดประสงค์การเรียนรู้**\n",
        "1. เข้าใจว่าทำไมถึงไม่ควรใช้ Linear regression ทำนายประเภทดอกไอริส\n",
        "2. เข้าใจที่มาของการ Logistic regression ที่ต่อยอดมาจาก Linear regression\n",
        "3. สามารถใช้ LabelEncoder ในการแปลงสิ่งที่ต้องการทำนายที่ไม่ใช่ตัวเลข ให้เป็นตัวเลขได้\n",
        "4. สามารถใช้ Logistic regression ในการแก้ปัญหา Binary classification กรณีที่อินพุตมีแค่ 1 คุณลักษณะ\n",
        "5. สามารถประเมินประสิทธิภาพโมเดล Logistic regression ด้วยค่า Accuracy และ Confusion matrix\n",
        "\n",
        "ก่อนอื่น อ่านข้อมูลดอกไอริสเข้ามาก่อนเหมือนเช่นเคย"
      ]
    },
    {
      "cell_type": "code",
      "execution_count": 4,
      "metadata": {
        "colab": {
          "base_uri": "https://localhost:8080/"
        },
        "id": "lFPJMyHa3XSr",
        "outputId": "b3f40b80-c8a0-4979-f742-a1a4535d950e"
      },
      "outputs": [
        {
          "name": "stdout",
          "output_type": "stream",
          "text": [
            "--2024-01-23 07:21:00--  https://archive.ics.uci.edu/static/public/53/iris.zip\n",
            "Resolving archive.ics.uci.edu (archive.ics.uci.edu)... 128.195.10.252\n",
            "Connecting to archive.ics.uci.edu (archive.ics.uci.edu)|128.195.10.252|:443... connected.\n",
            "HTTP request sent, awaiting response... 200 OK\n",
            "Length: unspecified\n",
            "Saving to: ‘iris.zip’\n",
            "\n",
            "iris.zip                [ <=>                ]   3.65K  --.-KB/s    in 0s      \n",
            "\n",
            "2024-01-23 07:21:00 (540 MB/s) - ‘iris.zip’ saved [3738]\n",
            "\n",
            "Archive:  iris.zip\n",
            "  inflating: iris_data/Index         \n",
            "  inflating: iris_data/bezdekIris.data  \n",
            "  inflating: iris_data/iris.data     \n",
            "  inflating: iris_data/iris.names    \n",
            "<class 'pandas.core.frame.DataFrame'>\n",
            "RangeIndex: 150 entries, 0 to 149\n",
            "Data columns (total 5 columns):\n",
            " #   Column        Non-Null Count  Dtype  \n",
            "---  ------        --------------  -----  \n",
            " 0   sepal_length  150 non-null    float64\n",
            " 1   sepal_width   150 non-null    float64\n",
            " 2   petal_length  150 non-null    float64\n",
            " 3   petal_width   150 non-null    float64\n",
            " 4   class         150 non-null    object \n",
            "dtypes: float64(4), object(1)\n",
            "memory usage: 6.0+ KB\n"
          ]
        }
      ],
      "source": [
        "!wget -c \"https://archive.ics.uci.edu/static/public/53/iris.zip\" -O iris.zip\n",
        "!unzip -o iris.zip -d iris_data\n",
        "\n",
        "import pandas as pd\n",
        "column_names = ['sepal_length', 'sepal_width', 'petal_length', 'petal_width', 'class']\n",
        "iris = pd.read_csv('iris_data/iris.data',\n",
        "                   header=None,\n",
        "                   names=column_names)\n",
        "iris.info()"
      ]
    },
    {
      "cell_type": "markdown",
      "metadata": {
        "id": "M20jkLXV3g08"
      },
      "source": [
        "ค่าที่ต้องการทำนายคือคอลัมน์ class ซึ่งมีค่าที่เป็นไปได้ คือ"
      ]
    },
    {
      "cell_type": "code",
      "execution_count": 5,
      "metadata": {
        "colab": {
          "base_uri": "https://localhost:8080/"
        },
        "id": "WH3mT0ca5QTu",
        "outputId": "4350bb71-c66d-42a3-a10b-85c5b40ba25f"
      },
      "outputs": [
        {
          "data": {
            "text/plain": [
              "array(['Iris-setosa', 'Iris-versicolor', 'Iris-virginica'], dtype=object)"
            ]
          },
          "execution_count": 5,
          "metadata": {},
          "output_type": "execute_result"
        }
      ],
      "source": [
        "iris['class'].unique()"
      ]
    },
    {
      "cell_type": "markdown",
      "metadata": {
        "id": "5RPfDS-Y3aI8"
      },
      "source": [
        "เราเรียกค่าเหล่านี้ว่า **target** (ที่ต้องการทำนาย) เช่นในคาบก่อนที่เราเรียก Sepal length ว่าเป็น target แต่สำหรับกรณีของคาบนี้ ค่า target เป็นไปได้แค่ 3 แบบเท่านั้น จึงอาจมันเรียกว่า **class** หรือ **label** ก็ได้\n",
        "\n",
        "เราเรียกปัญหาการจำแนกประเภทดอกไม้ว่า ปัญหา **Classification** ซึ่งต่างจากปัญหา Regression ที่เราใช้เรียกปัญหาการทำนายค่า Sepal length ในคาบที่ผ่านมา ซึ่งทั้งสองปัญหานี้ต่างกันอย่างไร?\n",
        "\n",
        "- **ปัญหา Regression** คือปัญหาที่สิ่งที่ต้องการทำนายเป็น**จำนวนจริง**\n",
        "- **ปัญหา Classification** คือปัญหาที่สิ่งที่ต้องการทำนายเป็น**จำนวนเต็ม**\n",
        "\n",
        "อันที่จริง ปัญหา 2 ประเภทนี้ มีความเกี่ยวข้องกัน ยกตัวอย่างเช่น\n",
        "- ปัญหาของการทำนาย Sepal length ที่เป็น Regression ก็สามารถแปลงเป็นปัญหา Classification ได้ หากเราแบ่งค่า Sepal length ให้เป็นช่วง ๆ (เช่น สั้นมาก/สั้น/ปานกลาง/ยาว/ยาวมาก เป็นต้น) แล้วให้โมเดลทำนายว่าดอก ๆ หนึ่งมีค่า Sepal length ตกอยู่ในระดับใด\n",
        "- ปัญหาของการทำนายประเภทดอกที่เป็นไปได้ 3 แบบ ซึ่งเป็นปัญหา Classification ก็อาจมองเป็นปัญหาการทำนายค่าความน่าจะเป็น (ซึ่งเป็นค่าทศนิยม มีค่าในช่วง 0 ถึง 1) ของการเป็นดอกประเภทใดประเภทหนึ่ง ซึ่งเป็นปัญหา Regression\n",
        "\n",
        "\n",
        "\n"
      ]
    },
    {
      "cell_type": "markdown",
      "metadata": {
        "id": "SERh6H9iA9VE"
      },
      "source": [
        "สำหรับปัญหาในคาบนี้ จะเริ่มที่ปัญหาการจำแนก (Classification) สายพันธ์ให้เป็น 2 สายพันธ์ (Binary classification) แล้วจะค่อยแก้ปัญหากรณี 3 สายพันธ์ (Multi-class classification)\n",
        "\n",
        "> **Note:** ปัญหาการจำแนกกรณีที่มีเพียง 2 classes เราจะเรียกมันว่า Binary classification แต่หากมี class ตั้งแต่ 3 classes ขึ้นไป เราจะเรียกรวม ๆ ว่า Multi-class classification\n",
        "\n"
      ]
    },
    {
      "cell_type": "markdown",
      "metadata": {
        "id": "3ZV9MHABB3X9"
      },
      "source": [
        "## Binary classification with only 1 input feature"
      ]
    },
    {
      "cell_type": "markdown",
      "metadata": {
        "id": "aD7DHjwqB94o"
      },
      "source": [
        "เพื่อที่จะมองปัญหาให้ง่ายที่สุด เราจะเริ่มต้นปัญหาการจำแนกระหว่างดอกพันธุ์ Setosa กับ Versicolor โดยจะใช้คุณลักษณะ sepal width เป็นอินพุต (ตัวแปรต้น) เท่านั้น และเราจะลองใช้ Linear regression แบบโต้ง ๆ เป็นโมเดลในการทำนาย\n",
        "\n"
      ]
    },
    {
      "cell_type": "code",
      "execution_count": 6,
      "metadata": {
        "colab": {
          "base_uri": "https://localhost:8080/",
          "height": 423
        },
        "id": "rahQYMQoF-vk",
        "outputId": "ebd80310-c2ab-4150-a1d2-066b8a8e1c7c"
      },
      "outputs": [
        {
          "data": {
            "text/html": [
              "\n",
              "  <div id=\"df-7bcae599-1cd6-4b57-9efa-65c64c3ce5cb\" class=\"colab-df-container\">\n",
              "    <div>\n",
              "<style scoped>\n",
              "    .dataframe tbody tr th:only-of-type {\n",
              "        vertical-align: middle;\n",
              "    }\n",
              "\n",
              "    .dataframe tbody tr th {\n",
              "        vertical-align: top;\n",
              "    }\n",
              "\n",
              "    .dataframe thead th {\n",
              "        text-align: right;\n",
              "    }\n",
              "</style>\n",
              "<table border=\"1\" class=\"dataframe\">\n",
              "  <thead>\n",
              "    <tr style=\"text-align: right;\">\n",
              "      <th></th>\n",
              "      <th>sepal_width</th>\n",
              "      <th>class</th>\n",
              "    </tr>\n",
              "  </thead>\n",
              "  <tbody>\n",
              "    <tr>\n",
              "      <th>0</th>\n",
              "      <td>3.5</td>\n",
              "      <td>Iris-setosa</td>\n",
              "    </tr>\n",
              "    <tr>\n",
              "      <th>1</th>\n",
              "      <td>3.0</td>\n",
              "      <td>Iris-setosa</td>\n",
              "    </tr>\n",
              "    <tr>\n",
              "      <th>2</th>\n",
              "      <td>3.2</td>\n",
              "      <td>Iris-setosa</td>\n",
              "    </tr>\n",
              "    <tr>\n",
              "      <th>3</th>\n",
              "      <td>3.1</td>\n",
              "      <td>Iris-setosa</td>\n",
              "    </tr>\n",
              "    <tr>\n",
              "      <th>4</th>\n",
              "      <td>3.6</td>\n",
              "      <td>Iris-setosa</td>\n",
              "    </tr>\n",
              "    <tr>\n",
              "      <th>...</th>\n",
              "      <td>...</td>\n",
              "      <td>...</td>\n",
              "    </tr>\n",
              "    <tr>\n",
              "      <th>95</th>\n",
              "      <td>3.0</td>\n",
              "      <td>Iris-versicolor</td>\n",
              "    </tr>\n",
              "    <tr>\n",
              "      <th>96</th>\n",
              "      <td>2.9</td>\n",
              "      <td>Iris-versicolor</td>\n",
              "    </tr>\n",
              "    <tr>\n",
              "      <th>97</th>\n",
              "      <td>2.9</td>\n",
              "      <td>Iris-versicolor</td>\n",
              "    </tr>\n",
              "    <tr>\n",
              "      <th>98</th>\n",
              "      <td>2.5</td>\n",
              "      <td>Iris-versicolor</td>\n",
              "    </tr>\n",
              "    <tr>\n",
              "      <th>99</th>\n",
              "      <td>2.8</td>\n",
              "      <td>Iris-versicolor</td>\n",
              "    </tr>\n",
              "  </tbody>\n",
              "</table>\n",
              "<p>100 rows × 2 columns</p>\n",
              "</div>\n",
              "    <div class=\"colab-df-buttons\">\n",
              "\n",
              "  <div class=\"colab-df-container\">\n",
              "    <button class=\"colab-df-convert\" onclick=\"convertToInteractive('df-7bcae599-1cd6-4b57-9efa-65c64c3ce5cb')\"\n",
              "            title=\"Convert this dataframe to an interactive table.\"\n",
              "            style=\"display:none;\">\n",
              "\n",
              "  <svg xmlns=\"http://www.w3.org/2000/svg\" height=\"24px\" viewBox=\"0 -960 960 960\">\n",
              "    <path d=\"M120-120v-720h720v720H120Zm60-500h600v-160H180v160Zm220 220h160v-160H400v160Zm0 220h160v-160H400v160ZM180-400h160v-160H180v160Zm440 0h160v-160H620v160ZM180-180h160v-160H180v160Zm440 0h160v-160H620v160Z\"/>\n",
              "  </svg>\n",
              "    </button>\n",
              "\n",
              "  <style>\n",
              "    .colab-df-container {\n",
              "      display:flex;\n",
              "      gap: 12px;\n",
              "    }\n",
              "\n",
              "    .colab-df-convert {\n",
              "      background-color: #E8F0FE;\n",
              "      border: none;\n",
              "      border-radius: 50%;\n",
              "      cursor: pointer;\n",
              "      display: none;\n",
              "      fill: #1967D2;\n",
              "      height: 32px;\n",
              "      padding: 0 0 0 0;\n",
              "      width: 32px;\n",
              "    }\n",
              "\n",
              "    .colab-df-convert:hover {\n",
              "      background-color: #E2EBFA;\n",
              "      box-shadow: 0px 1px 2px rgba(60, 64, 67, 0.3), 0px 1px 3px 1px rgba(60, 64, 67, 0.15);\n",
              "      fill: #174EA6;\n",
              "    }\n",
              "\n",
              "    .colab-df-buttons div {\n",
              "      margin-bottom: 4px;\n",
              "    }\n",
              "\n",
              "    [theme=dark] .colab-df-convert {\n",
              "      background-color: #3B4455;\n",
              "      fill: #D2E3FC;\n",
              "    }\n",
              "\n",
              "    [theme=dark] .colab-df-convert:hover {\n",
              "      background-color: #434B5C;\n",
              "      box-shadow: 0px 1px 3px 1px rgba(0, 0, 0, 0.15);\n",
              "      filter: drop-shadow(0px 1px 2px rgba(0, 0, 0, 0.3));\n",
              "      fill: #FFFFFF;\n",
              "    }\n",
              "  </style>\n",
              "\n",
              "    <script>\n",
              "      const buttonEl =\n",
              "        document.querySelector('#df-7bcae599-1cd6-4b57-9efa-65c64c3ce5cb button.colab-df-convert');\n",
              "      buttonEl.style.display =\n",
              "        google.colab.kernel.accessAllowed ? 'block' : 'none';\n",
              "\n",
              "      async function convertToInteractive(key) {\n",
              "        const element = document.querySelector('#df-7bcae599-1cd6-4b57-9efa-65c64c3ce5cb');\n",
              "        const dataTable =\n",
              "          await google.colab.kernel.invokeFunction('convertToInteractive',\n",
              "                                                    [key], {});\n",
              "        if (!dataTable) return;\n",
              "\n",
              "        const docLinkHtml = 'Like what you see? Visit the ' +\n",
              "          '<a target=\"_blank\" href=https://colab.research.google.com/notebooks/data_table.ipynb>data table notebook</a>'\n",
              "          + ' to learn more about interactive tables.';\n",
              "        element.innerHTML = '';\n",
              "        dataTable['output_type'] = 'display_data';\n",
              "        await google.colab.output.renderOutput(dataTable, element);\n",
              "        const docLink = document.createElement('div');\n",
              "        docLink.innerHTML = docLinkHtml;\n",
              "        element.appendChild(docLink);\n",
              "      }\n",
              "    </script>\n",
              "  </div>\n",
              "\n",
              "\n",
              "<div id=\"df-54ddbc48-7fb7-482f-b107-0659a7898c32\">\n",
              "  <button class=\"colab-df-quickchart\" onclick=\"quickchart('df-54ddbc48-7fb7-482f-b107-0659a7898c32')\"\n",
              "            title=\"Suggest charts\"\n",
              "            style=\"display:none;\">\n",
              "\n",
              "<svg xmlns=\"http://www.w3.org/2000/svg\" height=\"24px\"viewBox=\"0 0 24 24\"\n",
              "     width=\"24px\">\n",
              "    <g>\n",
              "        <path d=\"M19 3H5c-1.1 0-2 .9-2 2v14c0 1.1.9 2 2 2h14c1.1 0 2-.9 2-2V5c0-1.1-.9-2-2-2zM9 17H7v-7h2v7zm4 0h-2V7h2v10zm4 0h-2v-4h2v4z\"/>\n",
              "    </g>\n",
              "</svg>\n",
              "  </button>\n",
              "\n",
              "<style>\n",
              "  .colab-df-quickchart {\n",
              "      --bg-color: #E8F0FE;\n",
              "      --fill-color: #1967D2;\n",
              "      --hover-bg-color: #E2EBFA;\n",
              "      --hover-fill-color: #174EA6;\n",
              "      --disabled-fill-color: #AAA;\n",
              "      --disabled-bg-color: #DDD;\n",
              "  }\n",
              "\n",
              "  [theme=dark] .colab-df-quickchart {\n",
              "      --bg-color: #3B4455;\n",
              "      --fill-color: #D2E3FC;\n",
              "      --hover-bg-color: #434B5C;\n",
              "      --hover-fill-color: #FFFFFF;\n",
              "      --disabled-bg-color: #3B4455;\n",
              "      --disabled-fill-color: #666;\n",
              "  }\n",
              "\n",
              "  .colab-df-quickchart {\n",
              "    background-color: var(--bg-color);\n",
              "    border: none;\n",
              "    border-radius: 50%;\n",
              "    cursor: pointer;\n",
              "    display: none;\n",
              "    fill: var(--fill-color);\n",
              "    height: 32px;\n",
              "    padding: 0;\n",
              "    width: 32px;\n",
              "  }\n",
              "\n",
              "  .colab-df-quickchart:hover {\n",
              "    background-color: var(--hover-bg-color);\n",
              "    box-shadow: 0 1px 2px rgba(60, 64, 67, 0.3), 0 1px 3px 1px rgba(60, 64, 67, 0.15);\n",
              "    fill: var(--button-hover-fill-color);\n",
              "  }\n",
              "\n",
              "  .colab-df-quickchart-complete:disabled,\n",
              "  .colab-df-quickchart-complete:disabled:hover {\n",
              "    background-color: var(--disabled-bg-color);\n",
              "    fill: var(--disabled-fill-color);\n",
              "    box-shadow: none;\n",
              "  }\n",
              "\n",
              "  .colab-df-spinner {\n",
              "    border: 2px solid var(--fill-color);\n",
              "    border-color: transparent;\n",
              "    border-bottom-color: var(--fill-color);\n",
              "    animation:\n",
              "      spin 1s steps(1) infinite;\n",
              "  }\n",
              "\n",
              "  @keyframes spin {\n",
              "    0% {\n",
              "      border-color: transparent;\n",
              "      border-bottom-color: var(--fill-color);\n",
              "      border-left-color: var(--fill-color);\n",
              "    }\n",
              "    20% {\n",
              "      border-color: transparent;\n",
              "      border-left-color: var(--fill-color);\n",
              "      border-top-color: var(--fill-color);\n",
              "    }\n",
              "    30% {\n",
              "      border-color: transparent;\n",
              "      border-left-color: var(--fill-color);\n",
              "      border-top-color: var(--fill-color);\n",
              "      border-right-color: var(--fill-color);\n",
              "    }\n",
              "    40% {\n",
              "      border-color: transparent;\n",
              "      border-right-color: var(--fill-color);\n",
              "      border-top-color: var(--fill-color);\n",
              "    }\n",
              "    60% {\n",
              "      border-color: transparent;\n",
              "      border-right-color: var(--fill-color);\n",
              "    }\n",
              "    80% {\n",
              "      border-color: transparent;\n",
              "      border-right-color: var(--fill-color);\n",
              "      border-bottom-color: var(--fill-color);\n",
              "    }\n",
              "    90% {\n",
              "      border-color: transparent;\n",
              "      border-bottom-color: var(--fill-color);\n",
              "    }\n",
              "  }\n",
              "</style>\n",
              "\n",
              "  <script>\n",
              "    async function quickchart(key) {\n",
              "      const quickchartButtonEl =\n",
              "        document.querySelector('#' + key + ' button');\n",
              "      quickchartButtonEl.disabled = true;  // To prevent multiple clicks.\n",
              "      quickchartButtonEl.classList.add('colab-df-spinner');\n",
              "      try {\n",
              "        const charts = await google.colab.kernel.invokeFunction(\n",
              "            'suggestCharts', [key], {});\n",
              "      } catch (error) {\n",
              "        console.error('Error during call to suggestCharts:', error);\n",
              "      }\n",
              "      quickchartButtonEl.classList.remove('colab-df-spinner');\n",
              "      quickchartButtonEl.classList.add('colab-df-quickchart-complete');\n",
              "    }\n",
              "    (() => {\n",
              "      let quickchartButtonEl =\n",
              "        document.querySelector('#df-54ddbc48-7fb7-482f-b107-0659a7898c32 button');\n",
              "      quickchartButtonEl.style.display =\n",
              "        google.colab.kernel.accessAllowed ? 'block' : 'none';\n",
              "    })();\n",
              "  </script>\n",
              "</div>\n",
              "    </div>\n",
              "  </div>\n"
            ],
            "text/plain": [
              "    sepal_width            class\n",
              "0           3.5      Iris-setosa\n",
              "1           3.0      Iris-setosa\n",
              "2           3.2      Iris-setosa\n",
              "3           3.1      Iris-setosa\n",
              "4           3.6      Iris-setosa\n",
              "..          ...              ...\n",
              "95          3.0  Iris-versicolor\n",
              "96          2.9  Iris-versicolor\n",
              "97          2.9  Iris-versicolor\n",
              "98          2.5  Iris-versicolor\n",
              "99          2.8  Iris-versicolor\n",
              "\n",
              "[100 rows x 2 columns]"
            ]
          },
          "execution_count": 6,
          "metadata": {},
          "output_type": "execute_result"
        }
      ],
      "source": [
        "# filter data เฉพาะที่จะใช้\n",
        "iris2 = iris.loc[(iris['class'] == 'Iris-setosa') | (iris['class'] == 'Iris-versicolor'), ['sepal_width','class']].copy()\n",
        "iris2  # อย่าลืม copy เพราะไม่งั้นถ้าแก้ iris2 แล้วค่าใน iris ต้นฉบับจะเปลี่ยนด้วย (แต่เรายังต้องการใช้ต้นฉบับภายหลังอีก)"
      ]
    },
    {
      "cell_type": "markdown",
      "metadata": {
        "id": "_bHLhw8mJEIj"
      },
      "source": [
        "จากข้อมูล `iris2` ลองแบ่ง train/test และทำการ Standardize ข้อมูล เพื่อใช้ทำการทดลองต่อไป"
      ]
    },
    {
      "cell_type": "code",
      "execution_count": 7,
      "metadata": {
        "id": "AwpUq90AJDfM"
      },
      "outputs": [],
      "source": [
        "from sklearn.model_selection import train_test_split\n",
        "iris2_train, iris2_test = train_test_split(iris2, train_size=0.7, random_state=888)"
      ]
    },
    {
      "cell_type": "markdown",
      "metadata": {
        "id": "ERqQno8AJQ4f"
      },
      "source": [
        "จากการแบ่งข้างต้น ลองวาดกราฟของข้อมูล `iris2_train` ดู จะเห็น `Iris-versicolor` อยู่ฝั่งซ้าย และ `Iris-setosa` อยู่ฝั่งขวาของแกนนอน"
      ]
    },
    {
      "cell_type": "code",
      "execution_count": 8,
      "metadata": {
        "colab": {
          "base_uri": "https://localhost:8080/",
          "height": 542
        },
        "id": "ug0F3Cv-JSnq",
        "outputId": "8f515acb-4485-4c17-ec74-5926d69226e2"
      },
      "outputs": [
        {
          "data": {
            "text/html": [
              "<html>\n",
              "<head><meta charset=\"utf-8\" /></head>\n",
              "<body>\n",
              "    <div>            <script src=\"https://cdnjs.cloudflare.com/ajax/libs/mathjax/2.7.5/MathJax.js?config=TeX-AMS-MML_SVG\"></script><script type=\"text/javascript\">if (window.MathJax && window.MathJax.Hub && window.MathJax.Hub.Config) {window.MathJax.Hub.Config({SVG: {font: \"STIX-Web\"}});}</script>                <script type=\"text/javascript\">window.PlotlyConfig = {MathJaxConfig: 'local'};</script>\n",
              "        <script charset=\"utf-8\" src=\"https://cdn.plot.ly/plotly-2.24.1.min.js\"></script>                <div id=\"48989809-16fe-46f3-8f04-6e5f5e0da722\" class=\"plotly-graph-div\" style=\"height:525px; width:100%;\"></div>            <script type=\"text/javascript\">                                    window.PLOTLYENV=window.PLOTLYENV || {};                                    if (document.getElementById(\"48989809-16fe-46f3-8f04-6e5f5e0da722\")) {                    Plotly.newPlot(                        \"48989809-16fe-46f3-8f04-6e5f5e0da722\",                        [{\"hovertemplate\":\"class=%{y}\\u003cbr\\u003esepal_width=%{x}\\u003cextra\\u003e\\u003c\\u002fextra\\u003e\",\"legendgroup\":\"Iris-versicolor\",\"marker\":{\"color\":\"#636efa\",\"symbol\":\"circle\"},\"mode\":\"markers\",\"name\":\"Iris-versicolor\",\"orientation\":\"h\",\"showlegend\":true,\"x\":[2.2,3.2,2.8,3.3,2.7,2.6,2.6,2.9,2.9,3.0,2.9,3.0,3.0,2.7,2.9,2.6,3.2,2.8,3.0,2.9,3.1,2.7,2.5,2.3,2.4,3.1,2.9,2.7,2.5,2.8,2.4,2.3,2.0],\"xaxis\":\"x\",\"y\":[\"Iris-versicolor\",\"Iris-versicolor\",\"Iris-versicolor\",\"Iris-versicolor\",\"Iris-versicolor\",\"Iris-versicolor\",\"Iris-versicolor\",\"Iris-versicolor\",\"Iris-versicolor\",\"Iris-versicolor\",\"Iris-versicolor\",\"Iris-versicolor\",\"Iris-versicolor\",\"Iris-versicolor\",\"Iris-versicolor\",\"Iris-versicolor\",\"Iris-versicolor\",\"Iris-versicolor\",\"Iris-versicolor\",\"Iris-versicolor\",\"Iris-versicolor\",\"Iris-versicolor\",\"Iris-versicolor\",\"Iris-versicolor\",\"Iris-versicolor\",\"Iris-versicolor\",\"Iris-versicolor\",\"Iris-versicolor\",\"Iris-versicolor\",\"Iris-versicolor\",\"Iris-versicolor\",\"Iris-versicolor\",\"Iris-versicolor\"],\"yaxis\":\"y\",\"type\":\"scatter\"},{\"hovertemplate\":\"class=%{y}\\u003cbr\\u003esepal_width=%{x}\\u003cextra\\u003e\\u003c\\u002fextra\\u003e\",\"legendgroup\":\"Iris-setosa\",\"marker\":{\"color\":\"#EF553B\",\"symbol\":\"circle\"},\"mode\":\"markers\",\"name\":\"Iris-setosa\",\"orientation\":\"h\",\"showlegend\":true,\"x\":[3.4,3.4,3.7,3.4,3.3,3.9,3.4,3.4,4.2,3.3,3.1,3.1,3.4,3.8,3.2,3.0,3.4,3.7,2.3,4.0,3.0,3.7,3.2,3.5,3.8,3.2,2.9,3.2,3.0,3.8,3.1,3.0,3.9,3.5,3.8,3.6,3.4],\"xaxis\":\"x\",\"y\":[\"Iris-setosa\",\"Iris-setosa\",\"Iris-setosa\",\"Iris-setosa\",\"Iris-setosa\",\"Iris-setosa\",\"Iris-setosa\",\"Iris-setosa\",\"Iris-setosa\",\"Iris-setosa\",\"Iris-setosa\",\"Iris-setosa\",\"Iris-setosa\",\"Iris-setosa\",\"Iris-setosa\",\"Iris-setosa\",\"Iris-setosa\",\"Iris-setosa\",\"Iris-setosa\",\"Iris-setosa\",\"Iris-setosa\",\"Iris-setosa\",\"Iris-setosa\",\"Iris-setosa\",\"Iris-setosa\",\"Iris-setosa\",\"Iris-setosa\",\"Iris-setosa\",\"Iris-setosa\",\"Iris-setosa\",\"Iris-setosa\",\"Iris-setosa\",\"Iris-setosa\",\"Iris-setosa\",\"Iris-setosa\",\"Iris-setosa\",\"Iris-setosa\"],\"yaxis\":\"y\",\"type\":\"scatter\"}],                        {\"template\":{\"data\":{\"histogram2dcontour\":[{\"type\":\"histogram2dcontour\",\"colorbar\":{\"outlinewidth\":0,\"ticks\":\"\"},\"colorscale\":[[0.0,\"#0d0887\"],[0.1111111111111111,\"#46039f\"],[0.2222222222222222,\"#7201a8\"],[0.3333333333333333,\"#9c179e\"],[0.4444444444444444,\"#bd3786\"],[0.5555555555555556,\"#d8576b\"],[0.6666666666666666,\"#ed7953\"],[0.7777777777777778,\"#fb9f3a\"],[0.8888888888888888,\"#fdca26\"],[1.0,\"#f0f921\"]]}],\"choropleth\":[{\"type\":\"choropleth\",\"colorbar\":{\"outlinewidth\":0,\"ticks\":\"\"}}],\"histogram2d\":[{\"type\":\"histogram2d\",\"colorbar\":{\"outlinewidth\":0,\"ticks\":\"\"},\"colorscale\":[[0.0,\"#0d0887\"],[0.1111111111111111,\"#46039f\"],[0.2222222222222222,\"#7201a8\"],[0.3333333333333333,\"#9c179e\"],[0.4444444444444444,\"#bd3786\"],[0.5555555555555556,\"#d8576b\"],[0.6666666666666666,\"#ed7953\"],[0.7777777777777778,\"#fb9f3a\"],[0.8888888888888888,\"#fdca26\"],[1.0,\"#f0f921\"]]}],\"heatmap\":[{\"type\":\"heatmap\",\"colorbar\":{\"outlinewidth\":0,\"ticks\":\"\"},\"colorscale\":[[0.0,\"#0d0887\"],[0.1111111111111111,\"#46039f\"],[0.2222222222222222,\"#7201a8\"],[0.3333333333333333,\"#9c179e\"],[0.4444444444444444,\"#bd3786\"],[0.5555555555555556,\"#d8576b\"],[0.6666666666666666,\"#ed7953\"],[0.7777777777777778,\"#fb9f3a\"],[0.8888888888888888,\"#fdca26\"],[1.0,\"#f0f921\"]]}],\"heatmapgl\":[{\"type\":\"heatmapgl\",\"colorbar\":{\"outlinewidth\":0,\"ticks\":\"\"},\"colorscale\":[[0.0,\"#0d0887\"],[0.1111111111111111,\"#46039f\"],[0.2222222222222222,\"#7201a8\"],[0.3333333333333333,\"#9c179e\"],[0.4444444444444444,\"#bd3786\"],[0.5555555555555556,\"#d8576b\"],[0.6666666666666666,\"#ed7953\"],[0.7777777777777778,\"#fb9f3a\"],[0.8888888888888888,\"#fdca26\"],[1.0,\"#f0f921\"]]}],\"contourcarpet\":[{\"type\":\"contourcarpet\",\"colorbar\":{\"outlinewidth\":0,\"ticks\":\"\"}}],\"contour\":[{\"type\":\"contour\",\"colorbar\":{\"outlinewidth\":0,\"ticks\":\"\"},\"colorscale\":[[0.0,\"#0d0887\"],[0.1111111111111111,\"#46039f\"],[0.2222222222222222,\"#7201a8\"],[0.3333333333333333,\"#9c179e\"],[0.4444444444444444,\"#bd3786\"],[0.5555555555555556,\"#d8576b\"],[0.6666666666666666,\"#ed7953\"],[0.7777777777777778,\"#fb9f3a\"],[0.8888888888888888,\"#fdca26\"],[1.0,\"#f0f921\"]]}],\"surface\":[{\"type\":\"surface\",\"colorbar\":{\"outlinewidth\":0,\"ticks\":\"\"},\"colorscale\":[[0.0,\"#0d0887\"],[0.1111111111111111,\"#46039f\"],[0.2222222222222222,\"#7201a8\"],[0.3333333333333333,\"#9c179e\"],[0.4444444444444444,\"#bd3786\"],[0.5555555555555556,\"#d8576b\"],[0.6666666666666666,\"#ed7953\"],[0.7777777777777778,\"#fb9f3a\"],[0.8888888888888888,\"#fdca26\"],[1.0,\"#f0f921\"]]}],\"mesh3d\":[{\"type\":\"mesh3d\",\"colorbar\":{\"outlinewidth\":0,\"ticks\":\"\"}}],\"scatter\":[{\"fillpattern\":{\"fillmode\":\"overlay\",\"size\":10,\"solidity\":0.2},\"type\":\"scatter\"}],\"parcoords\":[{\"type\":\"parcoords\",\"line\":{\"colorbar\":{\"outlinewidth\":0,\"ticks\":\"\"}}}],\"scatterpolargl\":[{\"type\":\"scatterpolargl\",\"marker\":{\"colorbar\":{\"outlinewidth\":0,\"ticks\":\"\"}}}],\"bar\":[{\"error_x\":{\"color\":\"#2a3f5f\"},\"error_y\":{\"color\":\"#2a3f5f\"},\"marker\":{\"line\":{\"color\":\"#E5ECF6\",\"width\":0.5},\"pattern\":{\"fillmode\":\"overlay\",\"size\":10,\"solidity\":0.2}},\"type\":\"bar\"}],\"scattergeo\":[{\"type\":\"scattergeo\",\"marker\":{\"colorbar\":{\"outlinewidth\":0,\"ticks\":\"\"}}}],\"scatterpolar\":[{\"type\":\"scatterpolar\",\"marker\":{\"colorbar\":{\"outlinewidth\":0,\"ticks\":\"\"}}}],\"histogram\":[{\"marker\":{\"pattern\":{\"fillmode\":\"overlay\",\"size\":10,\"solidity\":0.2}},\"type\":\"histogram\"}],\"scattergl\":[{\"type\":\"scattergl\",\"marker\":{\"colorbar\":{\"outlinewidth\":0,\"ticks\":\"\"}}}],\"scatter3d\":[{\"type\":\"scatter3d\",\"line\":{\"colorbar\":{\"outlinewidth\":0,\"ticks\":\"\"}},\"marker\":{\"colorbar\":{\"outlinewidth\":0,\"ticks\":\"\"}}}],\"scattermapbox\":[{\"type\":\"scattermapbox\",\"marker\":{\"colorbar\":{\"outlinewidth\":0,\"ticks\":\"\"}}}],\"scatterternary\":[{\"type\":\"scatterternary\",\"marker\":{\"colorbar\":{\"outlinewidth\":0,\"ticks\":\"\"}}}],\"scattercarpet\":[{\"type\":\"scattercarpet\",\"marker\":{\"colorbar\":{\"outlinewidth\":0,\"ticks\":\"\"}}}],\"carpet\":[{\"aaxis\":{\"endlinecolor\":\"#2a3f5f\",\"gridcolor\":\"white\",\"linecolor\":\"white\",\"minorgridcolor\":\"white\",\"startlinecolor\":\"#2a3f5f\"},\"baxis\":{\"endlinecolor\":\"#2a3f5f\",\"gridcolor\":\"white\",\"linecolor\":\"white\",\"minorgridcolor\":\"white\",\"startlinecolor\":\"#2a3f5f\"},\"type\":\"carpet\"}],\"table\":[{\"cells\":{\"fill\":{\"color\":\"#EBF0F8\"},\"line\":{\"color\":\"white\"}},\"header\":{\"fill\":{\"color\":\"#C8D4E3\"},\"line\":{\"color\":\"white\"}},\"type\":\"table\"}],\"barpolar\":[{\"marker\":{\"line\":{\"color\":\"#E5ECF6\",\"width\":0.5},\"pattern\":{\"fillmode\":\"overlay\",\"size\":10,\"solidity\":0.2}},\"type\":\"barpolar\"}],\"pie\":[{\"automargin\":true,\"type\":\"pie\"}]},\"layout\":{\"autotypenumbers\":\"strict\",\"colorway\":[\"#636efa\",\"#EF553B\",\"#00cc96\",\"#ab63fa\",\"#FFA15A\",\"#19d3f3\",\"#FF6692\",\"#B6E880\",\"#FF97FF\",\"#FECB52\"],\"font\":{\"color\":\"#2a3f5f\"},\"hovermode\":\"closest\",\"hoverlabel\":{\"align\":\"left\"},\"paper_bgcolor\":\"white\",\"plot_bgcolor\":\"#E5ECF6\",\"polar\":{\"bgcolor\":\"#E5ECF6\",\"angularaxis\":{\"gridcolor\":\"white\",\"linecolor\":\"white\",\"ticks\":\"\"},\"radialaxis\":{\"gridcolor\":\"white\",\"linecolor\":\"white\",\"ticks\":\"\"}},\"ternary\":{\"bgcolor\":\"#E5ECF6\",\"aaxis\":{\"gridcolor\":\"white\",\"linecolor\":\"white\",\"ticks\":\"\"},\"baxis\":{\"gridcolor\":\"white\",\"linecolor\":\"white\",\"ticks\":\"\"},\"caxis\":{\"gridcolor\":\"white\",\"linecolor\":\"white\",\"ticks\":\"\"}},\"coloraxis\":{\"colorbar\":{\"outlinewidth\":0,\"ticks\":\"\"}},\"colorscale\":{\"sequential\":[[0.0,\"#0d0887\"],[0.1111111111111111,\"#46039f\"],[0.2222222222222222,\"#7201a8\"],[0.3333333333333333,\"#9c179e\"],[0.4444444444444444,\"#bd3786\"],[0.5555555555555556,\"#d8576b\"],[0.6666666666666666,\"#ed7953\"],[0.7777777777777778,\"#fb9f3a\"],[0.8888888888888888,\"#fdca26\"],[1.0,\"#f0f921\"]],\"sequentialminus\":[[0.0,\"#0d0887\"],[0.1111111111111111,\"#46039f\"],[0.2222222222222222,\"#7201a8\"],[0.3333333333333333,\"#9c179e\"],[0.4444444444444444,\"#bd3786\"],[0.5555555555555556,\"#d8576b\"],[0.6666666666666666,\"#ed7953\"],[0.7777777777777778,\"#fb9f3a\"],[0.8888888888888888,\"#fdca26\"],[1.0,\"#f0f921\"]],\"diverging\":[[0,\"#8e0152\"],[0.1,\"#c51b7d\"],[0.2,\"#de77ae\"],[0.3,\"#f1b6da\"],[0.4,\"#fde0ef\"],[0.5,\"#f7f7f7\"],[0.6,\"#e6f5d0\"],[0.7,\"#b8e186\"],[0.8,\"#7fbc41\"],[0.9,\"#4d9221\"],[1,\"#276419\"]]},\"xaxis\":{\"gridcolor\":\"white\",\"linecolor\":\"white\",\"ticks\":\"\",\"title\":{\"standoff\":15},\"zerolinecolor\":\"white\",\"automargin\":true,\"zerolinewidth\":2},\"yaxis\":{\"gridcolor\":\"white\",\"linecolor\":\"white\",\"ticks\":\"\",\"title\":{\"standoff\":15},\"zerolinecolor\":\"white\",\"automargin\":true,\"zerolinewidth\":2},\"scene\":{\"xaxis\":{\"backgroundcolor\":\"#E5ECF6\",\"gridcolor\":\"white\",\"linecolor\":\"white\",\"showbackground\":true,\"ticks\":\"\",\"zerolinecolor\":\"white\",\"gridwidth\":2},\"yaxis\":{\"backgroundcolor\":\"#E5ECF6\",\"gridcolor\":\"white\",\"linecolor\":\"white\",\"showbackground\":true,\"ticks\":\"\",\"zerolinecolor\":\"white\",\"gridwidth\":2},\"zaxis\":{\"backgroundcolor\":\"#E5ECF6\",\"gridcolor\":\"white\",\"linecolor\":\"white\",\"showbackground\":true,\"ticks\":\"\",\"zerolinecolor\":\"white\",\"gridwidth\":2}},\"shapedefaults\":{\"line\":{\"color\":\"#2a3f5f\"}},\"annotationdefaults\":{\"arrowcolor\":\"#2a3f5f\",\"arrowhead\":0,\"arrowwidth\":1},\"geo\":{\"bgcolor\":\"white\",\"landcolor\":\"#E5ECF6\",\"subunitcolor\":\"white\",\"showland\":true,\"showlakes\":true,\"lakecolor\":\"white\"},\"title\":{\"x\":0.05},\"mapbox\":{\"style\":\"light\"}}},\"xaxis\":{\"anchor\":\"y\",\"domain\":[0.0,1.0],\"title\":{\"text\":\"sepal_width\"}},\"yaxis\":{\"anchor\":\"x\",\"domain\":[0.0,1.0],\"title\":{\"text\":\"class\"},\"categoryorder\":\"array\",\"categoryarray\":[\"Iris-setosa\",\"Iris-versicolor\"]},\"legend\":{\"title\":{\"text\":\"class\"},\"tracegroupgap\":0},\"margin\":{\"t\":60}},                        {\"responsive\": true}                    ).then(function(){\n",
              "                            \n",
              "var gd = document.getElementById('48989809-16fe-46f3-8f04-6e5f5e0da722');\n",
              "var x = new MutationObserver(function (mutations, observer) {{\n",
              "        var display = window.getComputedStyle(gd).display;\n",
              "        if (!display || display === 'none') {{\n",
              "            console.log([gd, 'removed!']);\n",
              "            Plotly.purge(gd);\n",
              "            observer.disconnect();\n",
              "        }}\n",
              "}});\n",
              "\n",
              "// Listen for the removal of the full notebook cells\n",
              "var notebookContainer = gd.closest('#notebook-container');\n",
              "if (notebookContainer) {{\n",
              "    x.observe(notebookContainer, {childList: true});\n",
              "}}\n",
              "\n",
              "// Listen for the clearing of the current output cell\n",
              "var outputEl = gd.closest('.output');\n",
              "if (outputEl) {{\n",
              "    x.observe(outputEl, {childList: true});\n",
              "}}\n",
              "\n",
              "                        })                };                            </script>        </div>\n",
              "</body>\n",
              "</html>"
            ]
          },
          "metadata": {},
          "output_type": "display_data"
        }
      ],
      "source": [
        "import plotly.express as px\n",
        "px.scatter(iris2_train, x='sepal_width', y='class', color='class')"
      ]
    },
    {
      "cell_type": "markdown",
      "metadata": {
        "id": "k0mjWjWlDrSp"
      },
      "source": [
        "ข้อสังเกตจากกราฟคือ Plotly สามารถแสดงแกนตั้งของกราฟได้ (`Iris-setosa` กับ `Iris-versicolor`) แม้ว่าค่าของแกนตั้งจะไม่ใช่ตัวเลขก็ตาม\n",
        "\n",
        "อย่างไรก็ตาม สำหรับการเทรนโมเดล Linear regression นั้น (รวมถึงโมเดลอื่น ๆ อีกมากในโลกนี้) ก็จะไม่สามารถทำได้ หากไม่แปลง String เป็นตัวเลขเสียก่อน\n",
        "\n",
        "สมมติว่ากำหนดให้\n",
        "\n",
        "- `Iris-setosa` แทนด้วน `0`\n",
        "- `Iris-versicolor` แทนด้วย `1`\n",
        "\n",
        "เราอาจเขียนโค้ดแบบด้านล่างนี้ เพื่อแทน String ด้วยตัวเลขก็ได้ แล้วจึงค่อยป้อนค่าเข้า Linear regression\n",
        "\n",
        "```\n",
        "iris2 = iris2.replace({'Iris-setosa':0, 'Iris-versicolor':1})\n",
        "```\n",
        "แต่กระนั้น ในตัวอย่างนี้เราจะไม่ทำ แต่จะลองใช้ตัวแปลงชนิดข้อมูลของ Scikit-learn ที่เรียกว่า `LabelEncoder` ([คู่มือ](https://scikit-learn.org/stable/modules/generated/sklearn.preprocessing.LabelEncoder.html)) ซึ่งนำเข้าและสร้างตัวแปรที่เป็นตัวกลางในการแปลงชนิดข้อมูล ดังนี้\n",
        "\n",
        "\n",
        "\n",
        "\n",
        "\n"
      ]
    },
    {
      "cell_type": "code",
      "execution_count": 9,
      "metadata": {
        "id": "j88xdDBkLwKx"
      },
      "outputs": [],
      "source": [
        "from sklearn.preprocessing import LabelEncoder\n",
        "le = LabelEncoder()"
      ]
    },
    {
      "cell_type": "markdown",
      "metadata": {
        "id": "Nil-0YKNLzlX"
      },
      "source": [
        "สำหรับวิธีการใช้งาน จะคล้ายกับ `StandardScaler` และ `MinMaxScaler` จากคาบที่ผ่านมา ดังนี้"
      ]
    },
    {
      "cell_type": "code",
      "execution_count": 10,
      "metadata": {
        "colab": {
          "base_uri": "https://localhost:8080/"
        },
        "id": "Mz1HIyloEv6-",
        "outputId": "c2b198eb-5d66-41e5-b1b0-1f65f1b8659b"
      },
      "outputs": [
        {
          "name": "stdout",
          "output_type": "stream",
          "text": [
            "['Iris-setosa' 'Iris-versicolor']\n"
          ]
        }
      ],
      "source": [
        "le.fit(iris2_train['class'])\n",
        "print(le.classes_)"
      ]
    },
    {
      "cell_type": "markdown",
      "metadata": {
        "id": "R6I_t1opMG2v"
      },
      "source": [
        "ซึ่งหลังจาก `.fit()` แล้ว LabelEncoder จะจำรายการของ class ไว้ ในกรณีนี้คือ `['Iris-setosa' 'Iris-versicolor']`\n",
        "\n",
        "และเมื่อใช้คำสั่ง `.transform()` จะทำให้แต่ละ class ถูกกำหนดค่าตัวเลข ดังนี้\n",
        "\n",
        "- `Iris-setosa` จะมีค่า 0 เพราะอยู่ตำแหน่ง index=0 ของ List\n",
        "- `Iris-versicolor` จะมีค่า 1 เพราะอยู่ตำแหน่ง index=1 ของ List"
      ]
    },
    {
      "cell_type": "code",
      "execution_count": 11,
      "metadata": {
        "colab": {
          "base_uri": "https://localhost:8080/"
        },
        "id": "pCLe24tDHYBC",
        "outputId": "97b705b2-7ecb-452c-c678-bd624b26ed96"
      },
      "outputs": [
        {
          "name": "stdout",
          "output_type": "stream",
          "text": [
            "y_train = [1 0 0 0 0 1 0 1 1 1 1 1 1 1 0 0 0 0 0 1 0 0 1 0 1 0 1 1 0 0 1 0 0 1 1 1 0\n",
            " 1 1 1 0 1 0 0 1 0 0 1 1 0 0 0 0 0 1 1 1 1 0 1 1 0 0 1 0 0 1 0 0 0]\n",
            "y_test = [1 0 1 0 0 1 0 1 0 1 0 1 0 1 1 0 1 0 1 1 1 1 0 1 0 1 1 0 0 1]\n"
          ]
        },
        {
          "data": {
            "text/plain": [
              "33"
            ]
          },
          "execution_count": 11,
          "metadata": {},
          "output_type": "execute_result"
        }
      ],
      "source": [
        "y_train = le.transform(iris2_train['class'])\n",
        "y_test = le.transform(iris2_test['class'])\n",
        "print('y_train =', y_train)   # จะเห็นว่าตอนนี้มีแต่ 0 กับ 1\n",
        "print('y_test =', y_test)     # จะเห็นว่าตอนนี้มีแต่ 0 กับ 1\n",
        "sum(y_train == 1)"
      ]
    },
    {
      "cell_type": "markdown",
      "metadata": {
        "id": "QwF6a3ybyGgC"
      },
      "source": [
        "หรือหากต้องการแปลงกลับเพื่อการแสดงผล หรือเพื่อประโยชน์ในการอ้างถึงภายหลัง  ก็ทำได้เช่นกัน โดยใช้ `.inverse_transform()` เช่น"
      ]
    },
    {
      "cell_type": "code",
      "execution_count": 12,
      "metadata": {
        "colab": {
          "base_uri": "https://localhost:8080/"
        },
        "id": "Ou7a4cBtyOGn",
        "outputId": "4b7f92a5-7ac2-4f92-fb8a-e06928ec3d5f"
      },
      "outputs": [
        {
          "data": {
            "text/plain": [
              "array(['Iris-versicolor', 'Iris-versicolor', 'Iris-setosa', 'Iris-setosa',\n",
              "       'Iris-versicolor'], dtype=object)"
            ]
          },
          "execution_count": 12,
          "metadata": {},
          "output_type": "execute_result"
        }
      ],
      "source": [
        "le.inverse_transform([1,1,0,0,1])"
      ]
    },
    {
      "cell_type": "markdown",
      "metadata": {
        "id": "IuHVm2HzEtAZ"
      },
      "source": [
        "ที่ผ่านมาเป็นการแปลงเฉพาะส่วนของ target ที่จะนำไปสอนโมเดล จาก String เป็นตัวเลข\n",
        "\n",
        "ดังนั้น เราจะทำการแปลงข้อมูลส่วนที่เป็นอินพุตด้วย (เหมือนในคาบที่ผ่านมา) ด้วยการทำ Standardization ก่อนที่จะทำการเทรนโมเดล"
      ]
    },
    {
      "cell_type": "code",
      "execution_count": 13,
      "metadata": {
        "id": "q9COgnARlYqd"
      },
      "outputs": [],
      "source": [
        "X_train = iris2_train[['sepal_width']]  # X ต้องเป็น DataFrame ที่แต่ละแถวคือ 1 ดอก\n",
        "X_test = iris2_test[['sepal_width']]\n",
        "\n",
        "from sklearn.preprocessing import StandardScaler\n",
        "scaler = StandardScaler()\n",
        "X_train = scaler.fit_transform(X_train)  # ทำทั้ง fit (คำนวณ mean และ sd) และ transform (แปลงค่า)\n",
        "X_test = scaler.transform(X_test) # transform โดยใช้ค่าที่ fit ไว้แล้ว"
      ]
    },
    {
      "cell_type": "markdown",
      "metadata": {
        "id": "f5jZbGKCzoaV"
      },
      "source": [
        "### ลองใช้ Linear regression ในการแก้ปัญหา Classification"
      ]
    },
    {
      "cell_type": "markdown",
      "metadata": {
        "id": "WrlddMnBlc7t"
      },
      "source": [
        "เมื่อ Standardize ข้อมูลแล้ว ก็จะทำการเทรนโมเดล โดยลองเอาข้อมูล training set มาทำนายตัวมันเอง ดังโค้ดต่อไปนี้ ซึ่งในโค้ด ได้วาดกราฟแต่ละจุดแสดงผลการทำนายจาก Linear regression ส่วนสีของจุด แสดงถึงค่าที่แท้จริงของ (สีน้ำเงิน=1=Iris-setosa, สีแดง=0=Iris-versicolor)"
      ]
    },
    {
      "cell_type": "code",
      "execution_count": 14,
      "metadata": {
        "colab": {
          "base_uri": "https://localhost:8080/",
          "height": 542
        },
        "id": "_Cav-wHmHFNG",
        "outputId": "5e9cd6c9-9da1-4afd-eb5a-fb9e8f9529e2"
      },
      "outputs": [
        {
          "data": {
            "text/html": [
              "<html>\n",
              "<head><meta charset=\"utf-8\" /></head>\n",
              "<body>\n",
              "    <div>            <script src=\"https://cdnjs.cloudflare.com/ajax/libs/mathjax/2.7.5/MathJax.js?config=TeX-AMS-MML_SVG\"></script><script type=\"text/javascript\">if (window.MathJax && window.MathJax.Hub && window.MathJax.Hub.Config) {window.MathJax.Hub.Config({SVG: {font: \"STIX-Web\"}});}</script>                <script type=\"text/javascript\">window.PlotlyConfig = {MathJaxConfig: 'local'};</script>\n",
              "        <script charset=\"utf-8\" src=\"https://cdn.plot.ly/plotly-2.24.1.min.js\"></script>                <div id=\"5fec7fa6-b3bb-43ea-87af-d8a923f1d8bb\" class=\"plotly-graph-div\" style=\"height:525px; width:100%;\"></div>            <script type=\"text/javascript\">                                    window.PLOTLYENV=window.PLOTLYENV || {};                                    if (document.getElementById(\"5fec7fa6-b3bb-43ea-87af-d8a923f1d8bb\")) {                    Plotly.newPlot(                        \"5fec7fa6-b3bb-43ea-87af-d8a923f1d8bb\",                        [{\"hovertemplate\":\"\\u0e04\\u0e48\\u0e32\\u0e2a\\u0e32\\u0e22\\u0e1e\\u0e31\\u0e19\\u0e18\\u0e38\\u0e4c\\u0e17\\u0e35\\u0e48\\u0e41\\u0e17\\u0e49\\u0e08\\u0e23\\u0e34\\u0e07=1\\u003cbr\\u003eStandardized sepal width (x)=%{x}\\u003cbr\\u003e\\u0e2a\\u0e32\\u0e22\\u0e1e\\u0e31\\u0e19\\u0e18\\u0e38\\u0e4c\\u0e17\\u0e35\\u0e48\\u0e17\\u0e33\\u0e19\\u0e32\\u0e22\\u0e44\\u0e14\\u0e49 (y^)=%{y}\\u003cextra\\u003e\\u003c\\u002fextra\\u003e\",\"legendgroup\":\"1\",\"marker\":{\"color\":\"#636efa\",\"opacity\":0.5,\"symbol\":\"circle\"},\"mode\":\"markers\",\"name\":\"1\",\"orientation\":\"v\",\"showlegend\":true,\"x\":[-1.9114303337613388,0.2157576370382433,-0.6351175512815903,0.42847643411820074,-0.8478363483615478,-1.060555145441506,-1.060555145441506,-0.42239875420163187,-0.42239875420163187,-0.20967995712167348,-0.42239875420163187,-0.20967995712167348,-0.20967995712167348,-0.8478363483615478,-0.42239875420163187,-1.060555145441506,0.2157576370382433,-0.6351175512815903,-0.20967995712167348,-0.42239875420163187,0.0030388399582849173,-0.8478363483615478,-1.2732739425214645,-1.6987115366813812,-1.485992739601423,0.0030388399582849173,-0.42239875420163187,-0.8478363483615478,-1.2732739425214645,-0.6351175512815903,-1.485992739601423,-1.6987115366813812,-2.3368679279212556],\"xaxis\":\"x\",\"y\":[1.1308627838469278,0.39699323107610174,0.6905410521844324,0.3236062757990194,0.7639280074615148,0.8373149627385974,0.8373149627385974,0.6171540969073498,0.6171540969073498,0.5437671416302671,0.6171540969073498,0.5437671416302671,0.5437671416302671,0.7639280074615148,0.6171540969073498,0.8373149627385974,0.39699323107610174,0.6905410521844324,0.5437671416302671,0.6171540969073498,0.4703801863531844,0.7639280074615148,0.9107019180156801,1.0574758285698456,0.9840888732927628,0.4703801863531844,0.6171540969073498,0.7639280074615148,0.9107019180156801,0.6905410521844324,0.9840888732927628,1.0574758285698456,1.2776366944010933],\"yaxis\":\"y\",\"type\":\"scatter\"},{\"hovertemplate\":\"\\u0e04\\u0e48\\u0e32\\u0e2a\\u0e32\\u0e22\\u0e1e\\u0e31\\u0e19\\u0e18\\u0e38\\u0e4c\\u0e17\\u0e35\\u0e48\\u0e41\\u0e17\\u0e49\\u0e08\\u0e23\\u0e34\\u0e07=0\\u003cbr\\u003eStandardized sepal width (x)=%{x}\\u003cbr\\u003e\\u0e2a\\u0e32\\u0e22\\u0e1e\\u0e31\\u0e19\\u0e18\\u0e38\\u0e4c\\u0e17\\u0e35\\u0e48\\u0e17\\u0e33\\u0e19\\u0e32\\u0e22\\u0e44\\u0e14\\u0e49 (y^)=%{y}\\u003cextra\\u003e\\u003c\\u002fextra\\u003e\",\"legendgroup\":\"0\",\"marker\":{\"color\":\"#EF553B\",\"opacity\":0.5,\"symbol\":\"circle\"},\"mode\":\"markers\",\"name\":\"0\",\"orientation\":\"v\",\"showlegend\":true,\"x\":[0.6411952311981591,0.6411952311981591,1.2793516224380344,0.6411952311981591,0.42847643411820074,1.7047892165979501,0.6411952311981591,0.6411952311981591,2.3429456078378252,0.42847643411820074,0.0030388399582849173,0.0030388399582849173,0.6411952311981591,1.4920704195179917,0.2157576370382433,-0.20967995712167348,0.6411952311981591,1.2793516224380344,-1.6987115366813812,1.9175080136779086,-0.20967995712167348,1.2793516224380344,0.2157576370382433,0.8539140282781176,1.4920704195179917,0.2157576370382433,-0.42239875420163187,0.2157576370382433,-0.20967995712167348,1.4920704195179917,0.0030388399582849173,-0.20967995712167348,1.7047892165979501,0.8539140282781176,1.4920704195179917,1.066632825358076,0.6411952311981591],\"xaxis\":\"x\",\"y\":[0.25021932052193674,0.25021932052193674,0.030058454690688685,0.25021932052193674,0.3236062757990194,-0.11671545586347626,0.25021932052193674,0.25021932052193674,-0.3368763216947243,0.3236062757990194,0.4703801863531844,0.4703801863531844,0.25021932052193674,-0.04332850058639365,0.39699323107610174,0.5437671416302671,0.25021932052193674,0.030058454690688685,1.0574758285698456,-0.19010241114055898,0.5437671416302671,0.030058454690688685,0.39699323107610174,0.17683236524485407,-0.04332850058639365,0.39699323107610174,0.6171540969073498,0.39699323107610174,0.5437671416302671,-0.04332850058639365,0.4703801863531844,0.5437671416302671,-0.11671545586347626,0.17683236524485407,-0.04332850058639365,0.1034454099677714,0.25021932052193674],\"yaxis\":\"y\",\"type\":\"scatter\"}],                        {\"template\":{\"data\":{\"histogram2dcontour\":[{\"type\":\"histogram2dcontour\",\"colorbar\":{\"outlinewidth\":0,\"ticks\":\"\"},\"colorscale\":[[0.0,\"#0d0887\"],[0.1111111111111111,\"#46039f\"],[0.2222222222222222,\"#7201a8\"],[0.3333333333333333,\"#9c179e\"],[0.4444444444444444,\"#bd3786\"],[0.5555555555555556,\"#d8576b\"],[0.6666666666666666,\"#ed7953\"],[0.7777777777777778,\"#fb9f3a\"],[0.8888888888888888,\"#fdca26\"],[1.0,\"#f0f921\"]]}],\"choropleth\":[{\"type\":\"choropleth\",\"colorbar\":{\"outlinewidth\":0,\"ticks\":\"\"}}],\"histogram2d\":[{\"type\":\"histogram2d\",\"colorbar\":{\"outlinewidth\":0,\"ticks\":\"\"},\"colorscale\":[[0.0,\"#0d0887\"],[0.1111111111111111,\"#46039f\"],[0.2222222222222222,\"#7201a8\"],[0.3333333333333333,\"#9c179e\"],[0.4444444444444444,\"#bd3786\"],[0.5555555555555556,\"#d8576b\"],[0.6666666666666666,\"#ed7953\"],[0.7777777777777778,\"#fb9f3a\"],[0.8888888888888888,\"#fdca26\"],[1.0,\"#f0f921\"]]}],\"heatmap\":[{\"type\":\"heatmap\",\"colorbar\":{\"outlinewidth\":0,\"ticks\":\"\"},\"colorscale\":[[0.0,\"#0d0887\"],[0.1111111111111111,\"#46039f\"],[0.2222222222222222,\"#7201a8\"],[0.3333333333333333,\"#9c179e\"],[0.4444444444444444,\"#bd3786\"],[0.5555555555555556,\"#d8576b\"],[0.6666666666666666,\"#ed7953\"],[0.7777777777777778,\"#fb9f3a\"],[0.8888888888888888,\"#fdca26\"],[1.0,\"#f0f921\"]]}],\"heatmapgl\":[{\"type\":\"heatmapgl\",\"colorbar\":{\"outlinewidth\":0,\"ticks\":\"\"},\"colorscale\":[[0.0,\"#0d0887\"],[0.1111111111111111,\"#46039f\"],[0.2222222222222222,\"#7201a8\"],[0.3333333333333333,\"#9c179e\"],[0.4444444444444444,\"#bd3786\"],[0.5555555555555556,\"#d8576b\"],[0.6666666666666666,\"#ed7953\"],[0.7777777777777778,\"#fb9f3a\"],[0.8888888888888888,\"#fdca26\"],[1.0,\"#f0f921\"]]}],\"contourcarpet\":[{\"type\":\"contourcarpet\",\"colorbar\":{\"outlinewidth\":0,\"ticks\":\"\"}}],\"contour\":[{\"type\":\"contour\",\"colorbar\":{\"outlinewidth\":0,\"ticks\":\"\"},\"colorscale\":[[0.0,\"#0d0887\"],[0.1111111111111111,\"#46039f\"],[0.2222222222222222,\"#7201a8\"],[0.3333333333333333,\"#9c179e\"],[0.4444444444444444,\"#bd3786\"],[0.5555555555555556,\"#d8576b\"],[0.6666666666666666,\"#ed7953\"],[0.7777777777777778,\"#fb9f3a\"],[0.8888888888888888,\"#fdca26\"],[1.0,\"#f0f921\"]]}],\"surface\":[{\"type\":\"surface\",\"colorbar\":{\"outlinewidth\":0,\"ticks\":\"\"},\"colorscale\":[[0.0,\"#0d0887\"],[0.1111111111111111,\"#46039f\"],[0.2222222222222222,\"#7201a8\"],[0.3333333333333333,\"#9c179e\"],[0.4444444444444444,\"#bd3786\"],[0.5555555555555556,\"#d8576b\"],[0.6666666666666666,\"#ed7953\"],[0.7777777777777778,\"#fb9f3a\"],[0.8888888888888888,\"#fdca26\"],[1.0,\"#f0f921\"]]}],\"mesh3d\":[{\"type\":\"mesh3d\",\"colorbar\":{\"outlinewidth\":0,\"ticks\":\"\"}}],\"scatter\":[{\"fillpattern\":{\"fillmode\":\"overlay\",\"size\":10,\"solidity\":0.2},\"type\":\"scatter\"}],\"parcoords\":[{\"type\":\"parcoords\",\"line\":{\"colorbar\":{\"outlinewidth\":0,\"ticks\":\"\"}}}],\"scatterpolargl\":[{\"type\":\"scatterpolargl\",\"marker\":{\"colorbar\":{\"outlinewidth\":0,\"ticks\":\"\"}}}],\"bar\":[{\"error_x\":{\"color\":\"#2a3f5f\"},\"error_y\":{\"color\":\"#2a3f5f\"},\"marker\":{\"line\":{\"color\":\"#E5ECF6\",\"width\":0.5},\"pattern\":{\"fillmode\":\"overlay\",\"size\":10,\"solidity\":0.2}},\"type\":\"bar\"}],\"scattergeo\":[{\"type\":\"scattergeo\",\"marker\":{\"colorbar\":{\"outlinewidth\":0,\"ticks\":\"\"}}}],\"scatterpolar\":[{\"type\":\"scatterpolar\",\"marker\":{\"colorbar\":{\"outlinewidth\":0,\"ticks\":\"\"}}}],\"histogram\":[{\"marker\":{\"pattern\":{\"fillmode\":\"overlay\",\"size\":10,\"solidity\":0.2}},\"type\":\"histogram\"}],\"scattergl\":[{\"type\":\"scattergl\",\"marker\":{\"colorbar\":{\"outlinewidth\":0,\"ticks\":\"\"}}}],\"scatter3d\":[{\"type\":\"scatter3d\",\"line\":{\"colorbar\":{\"outlinewidth\":0,\"ticks\":\"\"}},\"marker\":{\"colorbar\":{\"outlinewidth\":0,\"ticks\":\"\"}}}],\"scattermapbox\":[{\"type\":\"scattermapbox\",\"marker\":{\"colorbar\":{\"outlinewidth\":0,\"ticks\":\"\"}}}],\"scatterternary\":[{\"type\":\"scatterternary\",\"marker\":{\"colorbar\":{\"outlinewidth\":0,\"ticks\":\"\"}}}],\"scattercarpet\":[{\"type\":\"scattercarpet\",\"marker\":{\"colorbar\":{\"outlinewidth\":0,\"ticks\":\"\"}}}],\"carpet\":[{\"aaxis\":{\"endlinecolor\":\"#2a3f5f\",\"gridcolor\":\"white\",\"linecolor\":\"white\",\"minorgridcolor\":\"white\",\"startlinecolor\":\"#2a3f5f\"},\"baxis\":{\"endlinecolor\":\"#2a3f5f\",\"gridcolor\":\"white\",\"linecolor\":\"white\",\"minorgridcolor\":\"white\",\"startlinecolor\":\"#2a3f5f\"},\"type\":\"carpet\"}],\"table\":[{\"cells\":{\"fill\":{\"color\":\"#EBF0F8\"},\"line\":{\"color\":\"white\"}},\"header\":{\"fill\":{\"color\":\"#C8D4E3\"},\"line\":{\"color\":\"white\"}},\"type\":\"table\"}],\"barpolar\":[{\"marker\":{\"line\":{\"color\":\"#E5ECF6\",\"width\":0.5},\"pattern\":{\"fillmode\":\"overlay\",\"size\":10,\"solidity\":0.2}},\"type\":\"barpolar\"}],\"pie\":[{\"automargin\":true,\"type\":\"pie\"}]},\"layout\":{\"autotypenumbers\":\"strict\",\"colorway\":[\"#636efa\",\"#EF553B\",\"#00cc96\",\"#ab63fa\",\"#FFA15A\",\"#19d3f3\",\"#FF6692\",\"#B6E880\",\"#FF97FF\",\"#FECB52\"],\"font\":{\"color\":\"#2a3f5f\"},\"hovermode\":\"closest\",\"hoverlabel\":{\"align\":\"left\"},\"paper_bgcolor\":\"white\",\"plot_bgcolor\":\"#E5ECF6\",\"polar\":{\"bgcolor\":\"#E5ECF6\",\"angularaxis\":{\"gridcolor\":\"white\",\"linecolor\":\"white\",\"ticks\":\"\"},\"radialaxis\":{\"gridcolor\":\"white\",\"linecolor\":\"white\",\"ticks\":\"\"}},\"ternary\":{\"bgcolor\":\"#E5ECF6\",\"aaxis\":{\"gridcolor\":\"white\",\"linecolor\":\"white\",\"ticks\":\"\"},\"baxis\":{\"gridcolor\":\"white\",\"linecolor\":\"white\",\"ticks\":\"\"},\"caxis\":{\"gridcolor\":\"white\",\"linecolor\":\"white\",\"ticks\":\"\"}},\"coloraxis\":{\"colorbar\":{\"outlinewidth\":0,\"ticks\":\"\"}},\"colorscale\":{\"sequential\":[[0.0,\"#0d0887\"],[0.1111111111111111,\"#46039f\"],[0.2222222222222222,\"#7201a8\"],[0.3333333333333333,\"#9c179e\"],[0.4444444444444444,\"#bd3786\"],[0.5555555555555556,\"#d8576b\"],[0.6666666666666666,\"#ed7953\"],[0.7777777777777778,\"#fb9f3a\"],[0.8888888888888888,\"#fdca26\"],[1.0,\"#f0f921\"]],\"sequentialminus\":[[0.0,\"#0d0887\"],[0.1111111111111111,\"#46039f\"],[0.2222222222222222,\"#7201a8\"],[0.3333333333333333,\"#9c179e\"],[0.4444444444444444,\"#bd3786\"],[0.5555555555555556,\"#d8576b\"],[0.6666666666666666,\"#ed7953\"],[0.7777777777777778,\"#fb9f3a\"],[0.8888888888888888,\"#fdca26\"],[1.0,\"#f0f921\"]],\"diverging\":[[0,\"#8e0152\"],[0.1,\"#c51b7d\"],[0.2,\"#de77ae\"],[0.3,\"#f1b6da\"],[0.4,\"#fde0ef\"],[0.5,\"#f7f7f7\"],[0.6,\"#e6f5d0\"],[0.7,\"#b8e186\"],[0.8,\"#7fbc41\"],[0.9,\"#4d9221\"],[1,\"#276419\"]]},\"xaxis\":{\"gridcolor\":\"white\",\"linecolor\":\"white\",\"ticks\":\"\",\"title\":{\"standoff\":15},\"zerolinecolor\":\"white\",\"automargin\":true,\"zerolinewidth\":2},\"yaxis\":{\"gridcolor\":\"white\",\"linecolor\":\"white\",\"ticks\":\"\",\"title\":{\"standoff\":15},\"zerolinecolor\":\"white\",\"automargin\":true,\"zerolinewidth\":2},\"scene\":{\"xaxis\":{\"backgroundcolor\":\"#E5ECF6\",\"gridcolor\":\"white\",\"linecolor\":\"white\",\"showbackground\":true,\"ticks\":\"\",\"zerolinecolor\":\"white\",\"gridwidth\":2},\"yaxis\":{\"backgroundcolor\":\"#E5ECF6\",\"gridcolor\":\"white\",\"linecolor\":\"white\",\"showbackground\":true,\"ticks\":\"\",\"zerolinecolor\":\"white\",\"gridwidth\":2},\"zaxis\":{\"backgroundcolor\":\"#E5ECF6\",\"gridcolor\":\"white\",\"linecolor\":\"white\",\"showbackground\":true,\"ticks\":\"\",\"zerolinecolor\":\"white\",\"gridwidth\":2}},\"shapedefaults\":{\"line\":{\"color\":\"#2a3f5f\"}},\"annotationdefaults\":{\"arrowcolor\":\"#2a3f5f\",\"arrowhead\":0,\"arrowwidth\":1},\"geo\":{\"bgcolor\":\"white\",\"landcolor\":\"#E5ECF6\",\"subunitcolor\":\"white\",\"showland\":true,\"showlakes\":true,\"lakecolor\":\"white\"},\"title\":{\"x\":0.05},\"mapbox\":{\"style\":\"light\"}}},\"xaxis\":{\"anchor\":\"y\",\"domain\":[0.0,1.0],\"title\":{\"text\":\"Standardized sepal width (x)\"}},\"yaxis\":{\"anchor\":\"x\",\"domain\":[0.0,1.0],\"title\":{\"text\":\"\\u0e2a\\u0e32\\u0e22\\u0e1e\\u0e31\\u0e19\\u0e18\\u0e38\\u0e4c\\u0e17\\u0e35\\u0e48\\u0e17\\u0e33\\u0e19\\u0e32\\u0e22\\u0e44\\u0e14\\u0e49 (y^)\"}},\"legend\":{\"title\":{\"text\":\"\\u0e04\\u0e48\\u0e32\\u0e2a\\u0e32\\u0e22\\u0e1e\\u0e31\\u0e19\\u0e18\\u0e38\\u0e4c\\u0e17\\u0e35\\u0e48\\u0e41\\u0e17\\u0e49\\u0e08\\u0e23\\u0e34\\u0e07\"},\"tracegroupgap\":0},\"title\":{\"text\":\"\\u0e01\\u0e23\\u0e32\\u0e1f\\u0e41\\u0e2a\\u0e14\\u0e07\\u0e1c\\u0e25\\u0e01\\u0e32\\u0e23\\u0e17\\u0e33\\u0e19\\u0e32\\u0e22\\u0e2a\\u0e32\\u0e22\\u0e1e\\u0e31\\u0e19\\u0e18\\u0e4c\\u0e08\\u0e32\\u0e01\\u0e04\\u0e48\\u0e32 Sepal width\"},\"shapes\":[{\"type\":\"line\",\"x0\":0,\"x1\":1,\"xref\":\"x domain\",\"y0\":0.65,\"y1\":0.65,\"yref\":\"y\"}]},                        {\"responsive\": true}                    ).then(function(){\n",
              "                            \n",
              "var gd = document.getElementById('5fec7fa6-b3bb-43ea-87af-d8a923f1d8bb');\n",
              "var x = new MutationObserver(function (mutations, observer) {{\n",
              "        var display = window.getComputedStyle(gd).display;\n",
              "        if (!display || display === 'none') {{\n",
              "            console.log([gd, 'removed!']);\n",
              "            Plotly.purge(gd);\n",
              "            observer.disconnect();\n",
              "        }}\n",
              "}});\n",
              "\n",
              "// Listen for the removal of the full notebook cells\n",
              "var notebookContainer = gd.closest('#notebook-container');\n",
              "if (notebookContainer) {{\n",
              "    x.observe(notebookContainer, {childList: true});\n",
              "}}\n",
              "\n",
              "// Listen for the clearing of the current output cell\n",
              "var outputEl = gd.closest('.output');\n",
              "if (outputEl) {{\n",
              "    x.observe(outputEl, {childList: true});\n",
              "}}\n",
              "\n",
              "                        })                };                            </script>        </div>\n",
              "</body>\n",
              "</html>"
            ]
          },
          "metadata": {},
          "output_type": "display_data"
        }
      ],
      "source": [
        "import plotly.graph_objects as go\n",
        "from sklearn.linear_model import LinearRegression\n",
        "model = LinearRegression()\n",
        "model.fit(X_train, y_train)\n",
        "y_train_pred = model.predict(X_train)\n",
        "fig = px.scatter(x=X_train.squeeze(),  # X_train.squeeze() เพื่อลดมิติจาก 2D เป็น 1D เนื่องจาก px.scatter ต้องการ 1D\n",
        "                 y=y_train_pred,\n",
        "                 color=y_train.astype(str),\n",
        "                 opacity=0.5,\n",
        "                 labels={'x':'Standardized sepal width (x)', 'y':'สายพันธุ์ที่ทำนายได้ (y^)', 'color':'ค่าสายพันธุ์ที่แท้จริง'},\n",
        "                 title='กราฟแสดงผลการทำนายสายพันธ์จากค่า Sepal width')\n",
        "\n",
        "fig.add_hline(y=0.65)"
      ]
    },
    {
      "cell_type": "markdown",
      "metadata": {
        "id": "abHBcFCRtt2p"
      },
      "source": [
        "จากกราฟ สิ่งที่ Linear regression ทำนายได้ เป็นค่าจำนวนจริง ดังนั้น การจะตีความให้ได้ 0 (Setosa) หรือ 1 (Versicolor) นั้นจะทำได้อย่างไร นักศึกษาอาจตอบว่า ในเมื่อสีของจุดที่แสดงกำกับอยู่ แสดงถึงกลุ่มที่ถูกต้อง ก็แค่ใช้เส้น $y=0.65$ (เส้นแนวนอน) ในการแบ่งกลุ่มเสียเลย\n",
        "\n",
        "คำตอบข้างต้นก็เป็นคำตอบที่สมเหตุสมผลดี อย่างไรก็ตาม วิธีการเช่นนั้นมีข้อจำกัด เพราะค่า $y=0.65$ นั้น เราเลือกมาเองจากการกะด้วยสายตา มันคงจะดีกว่านี้ถ้าเราไม่ต้องมาเลือกขีดแบ่ง (threshold) เอง\n",
        "\n",
        "กราฟข้างต้นแสดงถึงปัญหาของตัวโมเดล Linear regression ที่ตัวโมเดลเองเหมาะสมกับการทำนายค่าจำนวนจริง แต่กลับนำมาทำนายเป้าหมายที่เป็นไปได้แค่ 2 ค่า คือ 0 กับ 1 หรือจะกล่าวอีกอย่างก็คือ โมเดล Linear regression นั้น ไม่เหมาะสมกับปัญหา Classification (อ้าว แล้วที่ทำมาตั้งแต่เริ่มบทล่ะ...) ดังนั้น เราควรที่จะเปลี่ยนรูปแบบโมเดล\n",
        "\n"
      ]
    },
    {
      "cell_type": "markdown",
      "metadata": {
        "id": "Atnqugs4zzqe"
      },
      "source": [
        "### Logistic regression ในการแก้ปัญหา Classification"
      ]
    },
    {
      "cell_type": "markdown",
      "metadata": {
        "id": "SDU1Uua1z5E8"
      },
      "source": [
        "โมเดลเชิงเส้นที่เหมาะสมกับปัญหา Classification คือ โมเดลที่เรียกว่า Logistic regression โดยที่มาของโมเดลนั้น เป็นการต่อยอดมาจาก Linear regression\n",
        "\n",
        "จากกราฟที่ผ่านมาด้านบน ที่แสดงถึงปัญหาของ Linear regression ที่เอาต์พุตของมันเป็นจำนวนจริง แต่ค่าที่เราต้องการทำนายมีค่าแค่ 0 กับ 1 ดังนั้นจึงเกิดแนวคิดที่ว่า นำเอาต์พุตของ Linear regression ไปผ่านฟังก์ชันสักอย่างหนึ่ง ที่บีบค่าให้อยู่ในช่วง 0 ถึง 1 เท่านั้น ซึ่งฟังก์ชันที่มีคุณสมบัติดังกล่าว และเป็นที่นิยมใช้ คือฟังก์ชัน sigmoid ที่มีสมการและกราฟ ดังนี้\n",
        "\n",
        "$$\n",
        "\\mathrm{sigmoid}(z) = \\frac{1}{1 + e^{-z}}\n",
        "$$\n",
        "\n",
        "ซึ่งจะเห็นว่า เมื่อส่งค่าอะไรให้ฟังก์ชัน $\\mathrm{sigmoid}(z)$ ก็จะไม่มีทางมากกว่า 1 หรือน้อยกว่า 0 โดยที่ $z=0$ จะมีค่า $\\mathrm{sigmoid}(z)=0.5$ ซึ่งเป็นตัวแบ่งครึ่งแกนตั้งพอดี"
      ]
    },
    {
      "cell_type": "code",
      "execution_count": 15,
      "metadata": {
        "colab": {
          "base_uri": "https://localhost:8080/",
          "height": 542
        },
        "id": "j4qfsIqa1Uxa",
        "outputId": "39059f3a-dae7-46d1-8e85-07e4f8d41184"
      },
      "outputs": [
        {
          "data": {
            "text/html": [
              "<html>\n",
              "<head><meta charset=\"utf-8\" /></head>\n",
              "<body>\n",
              "    <div>            <script src=\"https://cdnjs.cloudflare.com/ajax/libs/mathjax/2.7.5/MathJax.js?config=TeX-AMS-MML_SVG\"></script><script type=\"text/javascript\">if (window.MathJax && window.MathJax.Hub && window.MathJax.Hub.Config) {window.MathJax.Hub.Config({SVG: {font: \"STIX-Web\"}});}</script>                <script type=\"text/javascript\">window.PlotlyConfig = {MathJaxConfig: 'local'};</script>\n",
              "        <script charset=\"utf-8\" src=\"https://cdn.plot.ly/plotly-2.24.1.min.js\"></script>                <div id=\"49d0a596-ca70-4d45-be89-743967e64f7a\" class=\"plotly-graph-div\" style=\"height:525px; width:100%;\"></div>            <script type=\"text/javascript\">                                    window.PLOTLYENV=window.PLOTLYENV || {};                                    if (document.getElementById(\"49d0a596-ca70-4d45-be89-743967e64f7a\")) {                    Plotly.newPlot(                        \"49d0a596-ca70-4d45-be89-743967e64f7a\",                        [{\"hovertemplate\":\"z=%{x}\\u003cbr\\u003esigmoid(z)=%{y}\\u003cextra\\u003e\\u003c\\u002fextra\\u003e\",\"legendgroup\":\"\",\"line\":{\"color\":\"#636efa\",\"dash\":\"solid\"},\"marker\":{\"symbol\":\"circle\"},\"mode\":\"lines\",\"name\":\"\",\"orientation\":\"v\",\"showlegend\":false,\"x\":[-8.0,-7.919597989949748,-7.839195979899498,-7.758793969849246,-7.678391959798995,-7.597989949748744,-7.517587939698492,-7.437185929648241,-7.35678391959799,-7.276381909547739,-7.1959798994974875,-7.115577889447236,-7.035175879396985,-6.954773869346734,-6.874371859296483,-6.793969849246231,-6.71356783919598,-6.633165829145729,-6.552763819095477,-6.472361809045227,-6.391959798994975,-6.311557788944723,-6.231155778894472,-6.150753768844221,-6.07035175879397,-5.989949748743719,-5.909547738693467,-5.829145728643216,-5.748743718592965,-5.668341708542714,-5.5879396984924625,-5.507537688442211,-5.427135678391959,-5.346733668341709,-5.266331658291458,-5.185929648241206,-5.105527638190955,-5.025125628140703,-4.944723618090452,-4.864321608040201,-4.78391959798995,-4.703517587939698,-4.623115577889447,-4.542713567839196,-4.4623115577889445,-4.381909547738694,-4.301507537688442,-4.221105527638191,-4.14070351758794,-4.060301507537688,-3.9798994974874375,-3.899497487437186,-3.8190954773869343,-3.7386934673366836,-3.658291457286432,-3.5778894472361804,-3.4974874371859297,-3.417085427135678,-3.3366834170854274,-3.2562814070351758,-3.175879396984924,-3.0954773869346734,-3.015075376884422,-2.934673366834171,-2.8542713567839195,-2.773869346733668,-2.693467336683417,-2.6130653266331656,-2.532663316582915,-2.4522613065326633,-2.3718592964824117,-2.291457286432161,-2.2110552763819094,-2.1306532663316586,-2.050251256281407,-1.9698492462311554,-1.8894472361809047,-1.809045226130653,-1.7286432160804015,-1.6482412060301508,-1.5678391959798992,-1.4874371859296485,-1.4070351758793969,-1.3266331658291453,-1.2462311557788945,-1.165829145728643,-1.0854271356783922,-1.0050251256281406,-0.924623115577889,-0.8442211055276383,-0.7638190954773867,-0.683417085427136,-0.6030150753768844,-0.5226130653266328,-0.44221105527638205,-0.36180904522613044,-0.2814070351758797,-0.20100502512562812,-0.12060301507537652,-0.0402010050251258,0.040201005025124914,0.12060301507537652,0.20100502512562812,0.2814070351758797,0.36180904522613133,0.44221105527638116,0.5226130653266328,0.6030150753768844,0.683417085427136,0.7638190954773876,0.8442211055276392,0.924623115577889,1.0050251256281406,1.0854271356783922,1.1658291457286438,1.2462311557788954,1.3266331658291453,1.4070351758793969,1.4874371859296485,1.5678391959799,1.6482412060301517,1.7286432160804015,1.809045226130653,1.8894472361809047,1.9698492462311563,2.050251256281408,2.1306532663316577,2.2110552763819094,2.291457286432161,2.3718592964824126,2.452261306532664,2.532663316582914,2.6130653266331656,2.693467336683417,2.773869346733669,2.8542713567839204,2.9346733668341702,3.015075376884422,3.0954773869346734,3.175879396984925,3.2562814070351767,3.3366834170854265,3.417085427135678,3.4974874371859297,3.5778894472361813,3.658291457286433,3.7386934673366827,3.8190954773869343,3.899497487437186,3.9798994974874375,4.060301507537689,4.140703517587941,4.221105527638191,4.301507537688442,4.381909547738694,4.462311557788945,4.542713567839197,4.623115577889447,4.703517587939698,4.78391959798995,4.864321608040202,4.944723618090453,5.025125628140703,5.105527638190955,5.185929648241206,5.266331658291458,5.3467336683417095,5.427135678391959,5.507537688442211,5.5879396984924625,5.668341708542714,5.748743718592966,5.829145728643216,5.909547738693467,5.989949748743719,6.07035175879397,6.150753768844222,6.231155778894472,6.311557788944723,6.391959798994975,6.472361809045227,6.552763819095478,6.633165829145728,6.71356783919598,6.793969849246231,6.874371859296483,6.9547738693467345,7.035175879396984,7.115577889447236,7.1959798994974875,7.276381909547739,7.356783919597991,7.4371859296482405,7.517587939698492,7.597989949748744,7.678391959798995,7.758793969849247,7.839195979899499,7.919597989949748,8.0],\"xaxis\":\"x\",\"y\":[0.0003353501304664781,0.00036341632780994085,0.00039383052216581825,0.00042678898383803984,0.0004625043613323557,0.0005012070431646007,0.000543146632043974,0.0005885935405547688,0.000637840718174399,0.0006912055202312531,0.0007490317302257134,0.0008116917478143349,0.0008795889556935494,0.0009531602796178792,0.0010328789568510319,0.0011192575294786335,0.0012128510802104598,0.0013142607295694162,0.0014241374147047222,0.0015431859714778785,0.0016721695429509787,0.0018119143389553412,0.001963314773030703,0.0021273390046953815,0.0023050349167281128,0.002497536558901883,0.0027060710913950257,0.0029319662628972606,0.003176658460205471,0.003441701367837892,0.00372877527785114,0.004039697091580039,0.004376431056384014,0.004741100281614279,0.005135999078839356,0.005563606171794583,0.006026598821450451,0.006527867910902277,0.007070534033326276,0.007657964623857455,0.008293792172728137,0.008981933552138534,0.009726610482853539,0.010532371158139152,0.011404113032030825,0.012347106765686447,0.01336702130929335,0.01446995007719639,0.01566243815007176,0.016951510409513725,0.018344700476711755,0.019850080287313502,0.021476290088400605,0.023232568590042794,0.025128782942428346,0.027175458139418743,0.029383805369926606,0.03176574874926456,0.03433394976322888,0.0371018286480813,0.04008358181002276,0.04329419425891782,0.04674944589419023,0.050465910337959545,0.05446094486449423,0.05875266982983512,0.06335993586616406,0.06830227697872672,0.07359984757702656,0.0792733413964514,0.08534389023309394,0.0918329404366548,0.09876210519889547,0.10615299085431901,0.1140269956924628,0.1224050801841235,0.13130750806253313,0.1407535583878255,0.1507612095675845,0.16134679730996584,0.17252464964236944,0.18430670342064026,0.1967021081511219,0.20971682440582343,0.22335322556930687,0.23760971303915493,0.2524803562209357,0.2679545696141001,0.2840168398729392,0.30064651584464624,0.317817674143814,0.3354990717496152,0.3536541953699076,0.37224141490740803,0.39121424533620164,0.41052171775236546,0.4301088564505085,0.4499172547922691,0.4698857385989473,0.48995110206001924,0.5100488979399804,0.5301142614010526,0.5500827452077309,0.5698911435494916,0.5894782822476348,0.6087857546637981,0.627758585092592,0.6463458046300924,0.6645009282503849,0.6821823258561862,0.6993534841553539,0.7159831601270609,0.7320454303858999,0.7475196437790643,0.7623902869608453,0.7766467744306933,0.7902831755941766,0.8032978918488781,0.8156932965793599,0.8274753503576308,0.8386532026900343,0.8492387904324156,0.8592464416121744,0.8686924919374668,0.8775949198158767,0.8859730043075373,0.8938470091456809,0.9012378948011046,0.9081670595633452,0.9146561097669061,0.9207266586035486,0.9264001524229734,0.9316977230212733,0.9366400641338358,0.9412473301701649,0.945539055135506,0.9495340896620404,0.9532505541058097,0.9567058057410821,0.9599164181899772,0.9628981713519188,0.9656660502367711,0.9682342512507355,0.9706161946300734,0.9728245418605813,0.9748712170575717,0.9767674314099573,0.9785237099115994,0.9801499197126864,0.9816552995232883,0.9830484895904862,0.9843375618499282,0.9855300499228037,0.9866329786907065,0.9876528932343136,0.9885958869679691,0.9894676288418609,0.9902733895171465,0.9910180664478616,0.9917062078272718,0.9923420353761426,0.9929294659666736,0.9934721320890977,0.9939734011785495,0.9944363938282055,0.9948640009211607,0.9952588997183857,0.9956235689436159,0.9959603029084201,0.9962712247221489,0.996558298632162,0.9968233415397946,0.9970680337371027,0.9972939289086049,0.9975024634410982,0.9976949650832718,0.9978726609953046,0.9980366852269693,0.9981880856610447,0.998327830457049,0.998456814028522,0.9985758625852953,0.9986857392704305,0.9987871489197896,0.9988807424705214,0.9989671210431489,0.9990468397203821,0.9991204110443064,0.9991883082521856,0.9992509682697743,0.9993087944797688,0.9993621592818257,0.9994114064594453,0.9994568533679561,0.9994987929568354,0.9995374956386677,0.999573211016162,0.9996061694778341,0.99963658367219,0.9996646498695336],\"yaxis\":\"y\",\"type\":\"scatter\"}],                        {\"template\":{\"data\":{\"histogram2dcontour\":[{\"type\":\"histogram2dcontour\",\"colorbar\":{\"outlinewidth\":0,\"ticks\":\"\"},\"colorscale\":[[0.0,\"#0d0887\"],[0.1111111111111111,\"#46039f\"],[0.2222222222222222,\"#7201a8\"],[0.3333333333333333,\"#9c179e\"],[0.4444444444444444,\"#bd3786\"],[0.5555555555555556,\"#d8576b\"],[0.6666666666666666,\"#ed7953\"],[0.7777777777777778,\"#fb9f3a\"],[0.8888888888888888,\"#fdca26\"],[1.0,\"#f0f921\"]]}],\"choropleth\":[{\"type\":\"choropleth\",\"colorbar\":{\"outlinewidth\":0,\"ticks\":\"\"}}],\"histogram2d\":[{\"type\":\"histogram2d\",\"colorbar\":{\"outlinewidth\":0,\"ticks\":\"\"},\"colorscale\":[[0.0,\"#0d0887\"],[0.1111111111111111,\"#46039f\"],[0.2222222222222222,\"#7201a8\"],[0.3333333333333333,\"#9c179e\"],[0.4444444444444444,\"#bd3786\"],[0.5555555555555556,\"#d8576b\"],[0.6666666666666666,\"#ed7953\"],[0.7777777777777778,\"#fb9f3a\"],[0.8888888888888888,\"#fdca26\"],[1.0,\"#f0f921\"]]}],\"heatmap\":[{\"type\":\"heatmap\",\"colorbar\":{\"outlinewidth\":0,\"ticks\":\"\"},\"colorscale\":[[0.0,\"#0d0887\"],[0.1111111111111111,\"#46039f\"],[0.2222222222222222,\"#7201a8\"],[0.3333333333333333,\"#9c179e\"],[0.4444444444444444,\"#bd3786\"],[0.5555555555555556,\"#d8576b\"],[0.6666666666666666,\"#ed7953\"],[0.7777777777777778,\"#fb9f3a\"],[0.8888888888888888,\"#fdca26\"],[1.0,\"#f0f921\"]]}],\"heatmapgl\":[{\"type\":\"heatmapgl\",\"colorbar\":{\"outlinewidth\":0,\"ticks\":\"\"},\"colorscale\":[[0.0,\"#0d0887\"],[0.1111111111111111,\"#46039f\"],[0.2222222222222222,\"#7201a8\"],[0.3333333333333333,\"#9c179e\"],[0.4444444444444444,\"#bd3786\"],[0.5555555555555556,\"#d8576b\"],[0.6666666666666666,\"#ed7953\"],[0.7777777777777778,\"#fb9f3a\"],[0.8888888888888888,\"#fdca26\"],[1.0,\"#f0f921\"]]}],\"contourcarpet\":[{\"type\":\"contourcarpet\",\"colorbar\":{\"outlinewidth\":0,\"ticks\":\"\"}}],\"contour\":[{\"type\":\"contour\",\"colorbar\":{\"outlinewidth\":0,\"ticks\":\"\"},\"colorscale\":[[0.0,\"#0d0887\"],[0.1111111111111111,\"#46039f\"],[0.2222222222222222,\"#7201a8\"],[0.3333333333333333,\"#9c179e\"],[0.4444444444444444,\"#bd3786\"],[0.5555555555555556,\"#d8576b\"],[0.6666666666666666,\"#ed7953\"],[0.7777777777777778,\"#fb9f3a\"],[0.8888888888888888,\"#fdca26\"],[1.0,\"#f0f921\"]]}],\"surface\":[{\"type\":\"surface\",\"colorbar\":{\"outlinewidth\":0,\"ticks\":\"\"},\"colorscale\":[[0.0,\"#0d0887\"],[0.1111111111111111,\"#46039f\"],[0.2222222222222222,\"#7201a8\"],[0.3333333333333333,\"#9c179e\"],[0.4444444444444444,\"#bd3786\"],[0.5555555555555556,\"#d8576b\"],[0.6666666666666666,\"#ed7953\"],[0.7777777777777778,\"#fb9f3a\"],[0.8888888888888888,\"#fdca26\"],[1.0,\"#f0f921\"]]}],\"mesh3d\":[{\"type\":\"mesh3d\",\"colorbar\":{\"outlinewidth\":0,\"ticks\":\"\"}}],\"scatter\":[{\"fillpattern\":{\"fillmode\":\"overlay\",\"size\":10,\"solidity\":0.2},\"type\":\"scatter\"}],\"parcoords\":[{\"type\":\"parcoords\",\"line\":{\"colorbar\":{\"outlinewidth\":0,\"ticks\":\"\"}}}],\"scatterpolargl\":[{\"type\":\"scatterpolargl\",\"marker\":{\"colorbar\":{\"outlinewidth\":0,\"ticks\":\"\"}}}],\"bar\":[{\"error_x\":{\"color\":\"#2a3f5f\"},\"error_y\":{\"color\":\"#2a3f5f\"},\"marker\":{\"line\":{\"color\":\"#E5ECF6\",\"width\":0.5},\"pattern\":{\"fillmode\":\"overlay\",\"size\":10,\"solidity\":0.2}},\"type\":\"bar\"}],\"scattergeo\":[{\"type\":\"scattergeo\",\"marker\":{\"colorbar\":{\"outlinewidth\":0,\"ticks\":\"\"}}}],\"scatterpolar\":[{\"type\":\"scatterpolar\",\"marker\":{\"colorbar\":{\"outlinewidth\":0,\"ticks\":\"\"}}}],\"histogram\":[{\"marker\":{\"pattern\":{\"fillmode\":\"overlay\",\"size\":10,\"solidity\":0.2}},\"type\":\"histogram\"}],\"scattergl\":[{\"type\":\"scattergl\",\"marker\":{\"colorbar\":{\"outlinewidth\":0,\"ticks\":\"\"}}}],\"scatter3d\":[{\"type\":\"scatter3d\",\"line\":{\"colorbar\":{\"outlinewidth\":0,\"ticks\":\"\"}},\"marker\":{\"colorbar\":{\"outlinewidth\":0,\"ticks\":\"\"}}}],\"scattermapbox\":[{\"type\":\"scattermapbox\",\"marker\":{\"colorbar\":{\"outlinewidth\":0,\"ticks\":\"\"}}}],\"scatterternary\":[{\"type\":\"scatterternary\",\"marker\":{\"colorbar\":{\"outlinewidth\":0,\"ticks\":\"\"}}}],\"scattercarpet\":[{\"type\":\"scattercarpet\",\"marker\":{\"colorbar\":{\"outlinewidth\":0,\"ticks\":\"\"}}}],\"carpet\":[{\"aaxis\":{\"endlinecolor\":\"#2a3f5f\",\"gridcolor\":\"white\",\"linecolor\":\"white\",\"minorgridcolor\":\"white\",\"startlinecolor\":\"#2a3f5f\"},\"baxis\":{\"endlinecolor\":\"#2a3f5f\",\"gridcolor\":\"white\",\"linecolor\":\"white\",\"minorgridcolor\":\"white\",\"startlinecolor\":\"#2a3f5f\"},\"type\":\"carpet\"}],\"table\":[{\"cells\":{\"fill\":{\"color\":\"#EBF0F8\"},\"line\":{\"color\":\"white\"}},\"header\":{\"fill\":{\"color\":\"#C8D4E3\"},\"line\":{\"color\":\"white\"}},\"type\":\"table\"}],\"barpolar\":[{\"marker\":{\"line\":{\"color\":\"#E5ECF6\",\"width\":0.5},\"pattern\":{\"fillmode\":\"overlay\",\"size\":10,\"solidity\":0.2}},\"type\":\"barpolar\"}],\"pie\":[{\"automargin\":true,\"type\":\"pie\"}]},\"layout\":{\"autotypenumbers\":\"strict\",\"colorway\":[\"#636efa\",\"#EF553B\",\"#00cc96\",\"#ab63fa\",\"#FFA15A\",\"#19d3f3\",\"#FF6692\",\"#B6E880\",\"#FF97FF\",\"#FECB52\"],\"font\":{\"color\":\"#2a3f5f\"},\"hovermode\":\"closest\",\"hoverlabel\":{\"align\":\"left\"},\"paper_bgcolor\":\"white\",\"plot_bgcolor\":\"#E5ECF6\",\"polar\":{\"bgcolor\":\"#E5ECF6\",\"angularaxis\":{\"gridcolor\":\"white\",\"linecolor\":\"white\",\"ticks\":\"\"},\"radialaxis\":{\"gridcolor\":\"white\",\"linecolor\":\"white\",\"ticks\":\"\"}},\"ternary\":{\"bgcolor\":\"#E5ECF6\",\"aaxis\":{\"gridcolor\":\"white\",\"linecolor\":\"white\",\"ticks\":\"\"},\"baxis\":{\"gridcolor\":\"white\",\"linecolor\":\"white\",\"ticks\":\"\"},\"caxis\":{\"gridcolor\":\"white\",\"linecolor\":\"white\",\"ticks\":\"\"}},\"coloraxis\":{\"colorbar\":{\"outlinewidth\":0,\"ticks\":\"\"}},\"colorscale\":{\"sequential\":[[0.0,\"#0d0887\"],[0.1111111111111111,\"#46039f\"],[0.2222222222222222,\"#7201a8\"],[0.3333333333333333,\"#9c179e\"],[0.4444444444444444,\"#bd3786\"],[0.5555555555555556,\"#d8576b\"],[0.6666666666666666,\"#ed7953\"],[0.7777777777777778,\"#fb9f3a\"],[0.8888888888888888,\"#fdca26\"],[1.0,\"#f0f921\"]],\"sequentialminus\":[[0.0,\"#0d0887\"],[0.1111111111111111,\"#46039f\"],[0.2222222222222222,\"#7201a8\"],[0.3333333333333333,\"#9c179e\"],[0.4444444444444444,\"#bd3786\"],[0.5555555555555556,\"#d8576b\"],[0.6666666666666666,\"#ed7953\"],[0.7777777777777778,\"#fb9f3a\"],[0.8888888888888888,\"#fdca26\"],[1.0,\"#f0f921\"]],\"diverging\":[[0,\"#8e0152\"],[0.1,\"#c51b7d\"],[0.2,\"#de77ae\"],[0.3,\"#f1b6da\"],[0.4,\"#fde0ef\"],[0.5,\"#f7f7f7\"],[0.6,\"#e6f5d0\"],[0.7,\"#b8e186\"],[0.8,\"#7fbc41\"],[0.9,\"#4d9221\"],[1,\"#276419\"]]},\"xaxis\":{\"gridcolor\":\"white\",\"linecolor\":\"white\",\"ticks\":\"\",\"title\":{\"standoff\":15},\"zerolinecolor\":\"white\",\"automargin\":true,\"zerolinewidth\":2},\"yaxis\":{\"gridcolor\":\"white\",\"linecolor\":\"white\",\"ticks\":\"\",\"title\":{\"standoff\":15},\"zerolinecolor\":\"white\",\"automargin\":true,\"zerolinewidth\":2},\"scene\":{\"xaxis\":{\"backgroundcolor\":\"#E5ECF6\",\"gridcolor\":\"white\",\"linecolor\":\"white\",\"showbackground\":true,\"ticks\":\"\",\"zerolinecolor\":\"white\",\"gridwidth\":2},\"yaxis\":{\"backgroundcolor\":\"#E5ECF6\",\"gridcolor\":\"white\",\"linecolor\":\"white\",\"showbackground\":true,\"ticks\":\"\",\"zerolinecolor\":\"white\",\"gridwidth\":2},\"zaxis\":{\"backgroundcolor\":\"#E5ECF6\",\"gridcolor\":\"white\",\"linecolor\":\"white\",\"showbackground\":true,\"ticks\":\"\",\"zerolinecolor\":\"white\",\"gridwidth\":2}},\"shapedefaults\":{\"line\":{\"color\":\"#2a3f5f\"}},\"annotationdefaults\":{\"arrowcolor\":\"#2a3f5f\",\"arrowhead\":0,\"arrowwidth\":1},\"geo\":{\"bgcolor\":\"white\",\"landcolor\":\"#E5ECF6\",\"subunitcolor\":\"white\",\"showland\":true,\"showlakes\":true,\"lakecolor\":\"white\"},\"title\":{\"x\":0.05},\"mapbox\":{\"style\":\"light\"}}},\"xaxis\":{\"anchor\":\"y\",\"domain\":[0.0,1.0],\"title\":{\"text\":\"z\"}},\"yaxis\":{\"anchor\":\"x\",\"domain\":[0.0,1.0],\"title\":{\"text\":\"sigmoid(z)\"}},\"legend\":{\"tracegroupgap\":0},\"margin\":{\"t\":60}},                        {\"responsive\": true}                    ).then(function(){\n",
              "                            \n",
              "var gd = document.getElementById('49d0a596-ca70-4d45-be89-743967e64f7a');\n",
              "var x = new MutationObserver(function (mutations, observer) {{\n",
              "        var display = window.getComputedStyle(gd).display;\n",
              "        if (!display || display === 'none') {{\n",
              "            console.log([gd, 'removed!']);\n",
              "            Plotly.purge(gd);\n",
              "            observer.disconnect();\n",
              "        }}\n",
              "}});\n",
              "\n",
              "// Listen for the removal of the full notebook cells\n",
              "var notebookContainer = gd.closest('#notebook-container');\n",
              "if (notebookContainer) {{\n",
              "    x.observe(notebookContainer, {childList: true});\n",
              "}}\n",
              "\n",
              "// Listen for the clearing of the current output cell\n",
              "var outputEl = gd.closest('.output');\n",
              "if (outputEl) {{\n",
              "    x.observe(outputEl, {childList: true});\n",
              "}}\n",
              "\n",
              "                        })                };                            </script>        </div>\n",
              "</body>\n",
              "</html>"
            ]
          },
          "metadata": {},
          "output_type": "display_data"
        }
      ],
      "source": [
        "# ตัวอย่างกราฟเฉย ๆ นักศึกษาสามารถข้ามโค้ดส่วนนี้ได้เลย\n",
        "import numpy as np\n",
        "z = np.linspace(-8,8,200)\n",
        "sigma = 1/(1+np.exp(-z))\n",
        "px.line(x=z, y=sigma,labels={'x':'z','y':'sigmoid(z)'})"
      ]
    },
    {
      "cell_type": "markdown",
      "metadata": {
        "id": "NJl3WeXd25tK"
      },
      "source": [
        "จากเดิม โมเดล Simple linear regression มีสมการ\n",
        "\n",
        "$$\n",
        "\\hat{y} = w x + b\n",
        "$$\n",
        "\n",
        "เมื่อต้องการบีบ $\\hat{y}$ ให้อยู่ในช่วง 0 ถึง 1 ก็ใช้ฟังก์ชัน sigmoid ช่วง ซึ่งจะได้สมการของโมเดลใหม่ ดังนี้\n",
        "$$\n",
        "\\hat{y} = \\mathrm{sigmoid}(w x + b)\n",
        "$$\n",
        "\n",
        "สมการใหม่นี้ ยังคงเข้ากับรูปแบบปัญหาของ Linear regression ที่ว่า\n",
        "\n",
        "$$\n",
        "\\min_{w,b} \\frac{1}{n} \\sum_{i=1}^n (\\hat{y}^{(i)} - y^{(i)})^2\n",
        "$$\n",
        "โดยที่ $\\hat{y}^{(i)} = \\mathrm{sigmoid}(w x^{(i)} + b)$\n",
        "\n",
        "อย่างไรก็ตาม ในทางทฤษฎีพบว่า การวัดความผิดพลาดของผลการทำนาย $(\\hat{y} - y)$ ด้วย MSE นั้น ให้ผลไม่ดีนักต่อการหาค่า $w$ และ $b$ ที่ดีที่สุด ดังนั้น นักคณิตศาสตร์จึงเสนอให้ใช้ฟังก์ชันวัดความผิดพลาดอีกฟังก์ชันหนึ่งที่ดีกว่า ที่เรียกว่า ฟังก์ชัน **Cross entropy loss** ซึ่งในที่นี้จะไม่ขอลงรายละเอียด แต่จะเขียนแทนฟังก์ชันดังกล่าวว่า $\\mathrm{Loss}(\\hat{y}, y)$ สุดท้ายแล้ว จึงได้รูปแบบของปัญหาทางคณิตศาสตร์ ดังนี้\n",
        "\n",
        "$$\n",
        "\\min_{w,b} \\frac{1}{n} \\sum_{i=1}^n \\mathrm{Loss}(\\hat{y}^{(i)}, y^{(i)})\n",
        "$$\n",
        "โดยที่ $\\hat{y}^{(i)} = \\mathrm{sigmoid}(w x^{(i)} + b)$\n",
        "\n",
        "เราเรียกการแก้ปัญหาการหา $w$ และ $b$ ของฟังก์ชัน $\\hat{y} = \\mathrm{sigmoid}(w x + b)$ ที่ให้ค่า $\\mathrm{Loss}(\\hat{y}, y)$ เฉลี่ยต่ำที่สุด นี้ว่า **Logistic regression**\n"
      ]
    },
    {
      "cell_type": "markdown",
      "metadata": {
        "id": "03vGkAg06y1z"
      },
      "source": [
        "แล้วค่า $w$ และ $b$ ที่ว่า จริง ๆ แล้ว จะหาได้อย่างไร เป็นเรื่องของวิชา Optimization ซึ่งเป็นศาสตร์ของการหาค่าที่ดีที่สุด อย่างไรก็ตาม จะขอข้ามการอธิบายวิธีการคำนวณไปก่อน (ตอนเนื้อหา Linear regression ก็ข้ามไปแล้ว และตอนนีก็ขอผัดผ่อนไปอีก) โดยจะใช้คำสั่ง `LogisticRegression()` ของ Scikit-learn ในการคำนวณค่าที่ดีที่สุดให้แทน"
      ]
    },
    {
      "cell_type": "markdown",
      "metadata": {
        "id": "T-ECAP-o82Hs"
      },
      "source": [
        "การเรียก `LogisticRegression` จาก Scikit-learn เพื่อมาทำการเทรน ทำได้ดังนี้"
      ]
    },
    {
      "cell_type": "code",
      "execution_count": 16,
      "metadata": {
        "colab": {
          "base_uri": "https://localhost:8080/",
          "height": 74
        },
        "id": "FJRW-zzm7VUc",
        "outputId": "c58ffdac-b6f5-4a0a-d3c0-b2e697d9b96e"
      },
      "outputs": [
        {
          "data": {
            "text/html": [
              "<style>#sk-container-id-1 {color: black;background-color: white;}#sk-container-id-1 pre{padding: 0;}#sk-container-id-1 div.sk-toggleable {background-color: white;}#sk-container-id-1 label.sk-toggleable__label {cursor: pointer;display: block;width: 100%;margin-bottom: 0;padding: 0.3em;box-sizing: border-box;text-align: center;}#sk-container-id-1 label.sk-toggleable__label-arrow:before {content: \"▸\";float: left;margin-right: 0.25em;color: #696969;}#sk-container-id-1 label.sk-toggleable__label-arrow:hover:before {color: black;}#sk-container-id-1 div.sk-estimator:hover label.sk-toggleable__label-arrow:before {color: black;}#sk-container-id-1 div.sk-toggleable__content {max-height: 0;max-width: 0;overflow: hidden;text-align: left;background-color: #f0f8ff;}#sk-container-id-1 div.sk-toggleable__content pre {margin: 0.2em;color: black;border-radius: 0.25em;background-color: #f0f8ff;}#sk-container-id-1 input.sk-toggleable__control:checked~div.sk-toggleable__content {max-height: 200px;max-width: 100%;overflow: auto;}#sk-container-id-1 input.sk-toggleable__control:checked~label.sk-toggleable__label-arrow:before {content: \"▾\";}#sk-container-id-1 div.sk-estimator input.sk-toggleable__control:checked~label.sk-toggleable__label {background-color: #d4ebff;}#sk-container-id-1 div.sk-label input.sk-toggleable__control:checked~label.sk-toggleable__label {background-color: #d4ebff;}#sk-container-id-1 input.sk-hidden--visually {border: 0;clip: rect(1px 1px 1px 1px);clip: rect(1px, 1px, 1px, 1px);height: 1px;margin: -1px;overflow: hidden;padding: 0;position: absolute;width: 1px;}#sk-container-id-1 div.sk-estimator {font-family: monospace;background-color: #f0f8ff;border: 1px dotted black;border-radius: 0.25em;box-sizing: border-box;margin-bottom: 0.5em;}#sk-container-id-1 div.sk-estimator:hover {background-color: #d4ebff;}#sk-container-id-1 div.sk-parallel-item::after {content: \"\";width: 100%;border-bottom: 1px solid gray;flex-grow: 1;}#sk-container-id-1 div.sk-label:hover label.sk-toggleable__label {background-color: #d4ebff;}#sk-container-id-1 div.sk-serial::before {content: \"\";position: absolute;border-left: 1px solid gray;box-sizing: border-box;top: 0;bottom: 0;left: 50%;z-index: 0;}#sk-container-id-1 div.sk-serial {display: flex;flex-direction: column;align-items: center;background-color: white;padding-right: 0.2em;padding-left: 0.2em;position: relative;}#sk-container-id-1 div.sk-item {position: relative;z-index: 1;}#sk-container-id-1 div.sk-parallel {display: flex;align-items: stretch;justify-content: center;background-color: white;position: relative;}#sk-container-id-1 div.sk-item::before, #sk-container-id-1 div.sk-parallel-item::before {content: \"\";position: absolute;border-left: 1px solid gray;box-sizing: border-box;top: 0;bottom: 0;left: 50%;z-index: -1;}#sk-container-id-1 div.sk-parallel-item {display: flex;flex-direction: column;z-index: 1;position: relative;background-color: white;}#sk-container-id-1 div.sk-parallel-item:first-child::after {align-self: flex-end;width: 50%;}#sk-container-id-1 div.sk-parallel-item:last-child::after {align-self: flex-start;width: 50%;}#sk-container-id-1 div.sk-parallel-item:only-child::after {width: 0;}#sk-container-id-1 div.sk-dashed-wrapped {border: 1px dashed gray;margin: 0 0.4em 0.5em 0.4em;box-sizing: border-box;padding-bottom: 0.4em;background-color: white;}#sk-container-id-1 div.sk-label label {font-family: monospace;font-weight: bold;display: inline-block;line-height: 1.2em;}#sk-container-id-1 div.sk-label-container {text-align: center;}#sk-container-id-1 div.sk-container {/* jupyter's `normalize.less` sets `[hidden] { display: none; }` but bootstrap.min.css set `[hidden] { display: none !important; }` so we also need the `!important` here to be able to override the default hidden behavior on the sphinx rendered scikit-learn.org. See: https://github.com/scikit-learn/scikit-learn/issues/21755 */display: inline-block !important;position: relative;}#sk-container-id-1 div.sk-text-repr-fallback {display: none;}</style><div id=\"sk-container-id-1\" class=\"sk-top-container\"><div class=\"sk-text-repr-fallback\"><pre>LogisticRegression()</pre><b>In a Jupyter environment, please rerun this cell to show the HTML representation or trust the notebook. <br />On GitHub, the HTML representation is unable to render, please try loading this page with nbviewer.org.</b></div><div class=\"sk-container\" hidden><div class=\"sk-item\"><div class=\"sk-estimator sk-toggleable\"><input class=\"sk-toggleable__control sk-hidden--visually\" id=\"sk-estimator-id-1\" type=\"checkbox\" checked><label for=\"sk-estimator-id-1\" class=\"sk-toggleable__label sk-toggleable__label-arrow\">LogisticRegression</label><div class=\"sk-toggleable__content\"><pre>LogisticRegression()</pre></div></div></div></div></div>"
            ],
            "text/plain": [
              "LogisticRegression()"
            ]
          },
          "execution_count": 16,
          "metadata": {},
          "output_type": "execute_result"
        }
      ],
      "source": [
        "from sklearn.linear_model import LogisticRegression\n",
        "model = LogisticRegression()   # ใช้รูปแบบเดียวกับ LinearRegression เลย\n",
        "model.fit(X_train, y_train)    # เทรนโมเดล"
      ]
    },
    {
      "cell_type": "code",
      "execution_count": 17,
      "metadata": {
        "colab": {
          "base_uri": "https://localhost:8080/"
        },
        "id": "TuzHGo6v9iQG",
        "outputId": "f1684122-9689-46f9-b78e-054c69a8bdf8"
      },
      "outputs": [
        {
          "name": "stdout",
          "output_type": "stream",
          "text": [
            "w = -2.162910505141291, b = -0.21613484019218462\n",
            "list of classes = [0, 1]\n"
          ]
        }
      ],
      "source": [
        "w = model.coef_\n",
        "b = model.intercept_\n",
        "c = model.classes_\n",
        "print(f'w = {w.squeeze()}, b = {b.squeeze()}')  # squeeze เพื่อลดมิติของค่า เช่น [[-2.1629]] ลดเหลือ -2.1629\n",
        "print(f'list of classes = {c.tolist()}')"
      ]
    },
    {
      "cell_type": "markdown",
      "metadata": {
        "id": "gCSWeStq96E_"
      },
      "source": [
        "หลังจากตรวจสอบค่าสัมประสิทธิ์ พบว่าได้สมการ\n",
        "\n",
        "$$\n",
        "\\hat{y} = \\frac{1}{1+e^{- (w x + b) }} = \\frac{1}{1+e^{2.16291051 x  + 0.21613484 }}\n",
        "$$\n",
        "เมื่อลองวาดกราฟเทียบกับ training set ที่สร้างมันขึ้นมา และผลการทำนาย จะได้ดังรูป"
      ]
    },
    {
      "cell_type": "code",
      "execution_count": 18,
      "metadata": {
        "colab": {
          "base_uri": "https://localhost:8080/",
          "height": 542
        },
        "id": "CTH62CG0-_4B",
        "outputId": "ad34a152-d86d-4ff7-baaf-22ae939a75d1"
      },
      "outputs": [
        {
          "data": {
            "text/html": [
              "<html>\n",
              "<head><meta charset=\"utf-8\" /></head>\n",
              "<body>\n",
              "    <div>            <script src=\"https://cdnjs.cloudflare.com/ajax/libs/mathjax/2.7.5/MathJax.js?config=TeX-AMS-MML_SVG\"></script><script type=\"text/javascript\">if (window.MathJax && window.MathJax.Hub && window.MathJax.Hub.Config) {window.MathJax.Hub.Config({SVG: {font: \"STIX-Web\"}});}</script>                <script type=\"text/javascript\">window.PlotlyConfig = {MathJaxConfig: 'local'};</script>\n",
              "        <script charset=\"utf-8\" src=\"https://cdn.plot.ly/plotly-2.24.1.min.js\"></script>                <div id=\"6d4a5ca1-528a-46aa-b80d-9eb3e4461dc1\" class=\"plotly-graph-div\" style=\"height:525px; width:100%;\"></div>            <script type=\"text/javascript\">                                    window.PLOTLYENV=window.PLOTLYENV || {};                                    if (document.getElementById(\"6d4a5ca1-528a-46aa-b80d-9eb3e4461dc1\")) {                    Plotly.newPlot(                        \"6d4a5ca1-528a-46aa-b80d-9eb3e4461dc1\",                        [{\"hovertemplate\":\"=1\\u003cbr\\u003eStandardized sepal width (x)=%{x}\\u003cbr\\u003e\\u0e2a\\u0e32\\u0e22\\u0e1e\\u0e31\\u0e19\\u0e18\\u0e38\\u0e4c\\u0e17\\u0e35\\u0e48\\u0e17\\u0e33\\u0e19\\u0e32\\u0e22\\u0e44\\u0e14\\u0e49 (y^)=%{y}\\u003cextra\\u003e\\u003c\\u002fextra\\u003e\",\"legendgroup\":\"1\",\"marker\":{\"color\":\"#636efa\",\"opacity\":0.5,\"symbol\":\"circle\"},\"mode\":\"markers\",\"name\":\"1\",\"orientation\":\"v\",\"showlegend\":true,\"x\":[-1.9114303337613388,0.2157576370382433,-0.6351175512815903,0.42847643411820074,-0.8478363483615478,-1.060555145441506,-1.060555145441506,-0.42239875420163187,-0.42239875420163187,-0.20967995712167348,-0.42239875420163187,-0.20967995712167348,-0.20967995712167348,-0.8478363483615478,-0.42239875420163187,-1.060555145441506,0.2157576370382433,-0.6351175512815903,-0.20967995712167348,-0.42239875420163187,0.0030388399582849173,-0.8478363483615478,-1.2732739425214645,-1.6987115366813812,-1.485992739601423,0.0030388399582849173,-0.42239875420163187,-0.8478363483615478,-1.2732739425214645,-0.6351175512815903,-1.485992739601423,-1.6987115366813812,-2.3368679279212556],\"xaxis\":\"x\",\"y\":[1,1,1,1,1,1,1,1,1,1,1,1,1,1,1,1,1,1,1,1,1,1,1,1,1,1,1,1,1,1,1,1,1],\"yaxis\":\"y\",\"type\":\"scatter\"},{\"hovertemplate\":\"=0\\u003cbr\\u003eStandardized sepal width (x)=%{x}\\u003cbr\\u003e\\u0e2a\\u0e32\\u0e22\\u0e1e\\u0e31\\u0e19\\u0e18\\u0e38\\u0e4c\\u0e17\\u0e35\\u0e48\\u0e17\\u0e33\\u0e19\\u0e32\\u0e22\\u0e44\\u0e14\\u0e49 (y^)=%{y}\\u003cextra\\u003e\\u003c\\u002fextra\\u003e\",\"legendgroup\":\"0\",\"marker\":{\"color\":\"#EF553B\",\"opacity\":0.5,\"symbol\":\"circle\"},\"mode\":\"markers\",\"name\":\"0\",\"orientation\":\"v\",\"showlegend\":true,\"x\":[0.6411952311981591,0.6411952311981591,1.2793516224380344,0.6411952311981591,0.42847643411820074,1.7047892165979501,0.6411952311981591,0.6411952311981591,2.3429456078378252,0.42847643411820074,0.0030388399582849173,0.0030388399582849173,0.6411952311981591,1.4920704195179917,0.2157576370382433,-0.20967995712167348,0.6411952311981591,1.2793516224380344,-1.6987115366813812,1.9175080136779086,-0.20967995712167348,1.2793516224380344,0.2157576370382433,0.8539140282781176,1.4920704195179917,0.2157576370382433,-0.42239875420163187,0.2157576370382433,-0.20967995712167348,1.4920704195179917,0.0030388399582849173,-0.20967995712167348,1.7047892165979501,0.8539140282781176,1.4920704195179917,1.066632825358076,0.6411952311981591],\"xaxis\":\"x\",\"y\":[0,0,0,0,0,0,0,0,0,0,0,0,0,0,0,0,0,0,0,0,0,0,0,0,0,0,0,0,0,0,0,0,0,0,0,0,0],\"yaxis\":\"y\",\"type\":\"scatter\"},{\"mode\":\"markers\",\"name\":\"\\u0e04\\u0e48\\u0e32\\u0e17\\u0e35\\u0e48\\u0e17\\u0e33\\u0e19\\u0e32\\u0e22\\u0e44\\u0e14\\u0e49\",\"x\":[-1.9114303337613388,0.6411952311981591,0.6411952311981591,1.2793516224380344,0.6411952311981591,0.2157576370382433,0.42847643411820074,-0.6351175512815903,0.42847643411820074,-0.8478363483615478,-1.060555145441506,-1.060555145441506,-0.42239875420163187,-0.42239875420163187,1.7047892165979501,0.6411952311981591,0.6411952311981591,2.3429456078378252,0.42847643411820074,-0.20967995712167348,0.0030388399582849173,0.0030388399582849173,-0.42239875420163187,0.6411952311981591,-0.20967995712167348,1.4920704195179917,-0.20967995712167348,-0.8478363483615478,0.2157576370382433,-0.20967995712167348,-0.42239875420163187,0.6411952311981591,1.2793516224380344,-1.060555145441506,0.2157576370382433,-0.6351175512815903,-1.6987115366813812,-0.20967995712167348,-0.42239875420163187,0.0030388399582849173,1.9175080136779086,-0.8478363483615478,-0.20967995712167348,1.2793516224380344,-1.2732739425214645,0.2157576370382433,0.8539140282781176,-1.6987115366813812,-1.485992739601423,1.4920704195179917,0.2157576370382433,-0.42239875420163187,0.2157576370382433,-0.20967995712167348,0.0030388399582849173,-0.42239875420163187,-0.8478363483615478,-1.2732739425214645,1.4920704195179917,-0.6351175512815903,-1.485992739601423,0.0030388399582849173,-0.20967995712167348,-1.6987115366813812,1.7047892165979501,0.8539140282781176,-2.3368679279212556,1.4920704195179917,1.066632825358076,0.6411952311981591],\"y\":[0.9805089790643103,0.16756514833609978,0.16756514833609978,0.04818798187198839,0.16756514833609978,0.3356368145043388,0.24178996160074887,0.7608904511663809,0.24178996160074887,0.8344720662468963,0.8887218144960469,0.8887218144960469,0.6676279010347836,0.6676279010347836,0.01977349349055837,0.16756514833609978,0.16756514833609978,0.005047928988077247,0.24178996160074887,0.5590689117889562,0.44455209451992644,0.44455209451992644,0.6676279010347836,0.16756514833609978,0.5590689117889562,0.03096780784788962,0.5590689117889562,0.8344720662468963,0.3356368145043388,0.5590689117889562,0.6676279010347836,0.16756514833609978,0.04818798187198839,0.8887218144960469,0.3356368145043388,0.7608904511663809,0.9694695993608791,0.5590689117889562,0.6676279010347836,0.44455209451992644,0.012573221555012346,0.8344720662468963,0.5590689117889562,0.04818798187198839,0.9267525219942524,0.3356368145043388,0.11273793111721964,0.9694695993608791,0.9524807256555536,0.03096780784788962,0.3356368145043388,0.6676279010347836,0.3356368145043388,0.5590689117889562,0.44455209451992644,0.6676279010347836,0.8344720662468963,0.9267525219942524,0.03096780784788962,0.7608904511663809,0.9524807256555536,0.44455209451992644,0.5590689117889562,0.9694695993608791,0.01977349349055837,0.11273793111721964,0.9921417445062425,0.03096780784788962,0.07425001779071677,0.16756514833609978],\"type\":\"scatter\"},{\"line\":{\"color\":\"rgb(205,12,24)\",\"dash\":\"dash\",\"shape\":\"linear\",\"width\":1},\"mode\":\"lines\",\"name\":\"\\u0e42\\u0e21\\u0e40\\u0e14\\u0e25 Logistic regression\",\"x\":[-2.5,-2.4748743718592965,-2.449748743718593,-2.4246231155778895,-2.399497487437186,-2.3743718592964824,-2.349246231155779,-2.3241206030150754,-2.298994974874372,-2.2738693467336684,-2.248743718592965,-2.2236180904522613,-2.198492462311558,-2.1733668341708543,-2.148241206030151,-2.1231155778894473,-2.0979899497487438,-2.0728643216080402,-2.0477386934673367,-2.022613065326633,-1.9974874371859297,-1.9723618090452262,-1.9472361809045227,-1.9221105527638191,-1.8969849246231156,-1.8718592964824121,-1.8467336683417086,-1.821608040201005,-1.7964824120603016,-1.771356783919598,-1.7462311557788945,-1.721105527638191,-1.6959798994974875,-1.670854271356784,-1.6457286432160805,-1.620603015075377,-1.5954773869346734,-1.57035175879397,-1.5452261306532664,-1.520100502512563,-1.4949748743718592,-1.4698492462311556,-1.4447236180904521,-1.4195979899497486,-1.394472361809045,-1.3693467336683416,-1.344221105527638,-1.3190954773869346,-1.293969849246231,-1.2688442211055275,-1.243718592964824,-1.2185929648241205,-1.193467336683417,-1.1683417085427135,-1.14321608040201,-1.1180904522613064,-1.092964824120603,-1.0678391959798994,-1.0427135678391959,-1.0175879396984924,-0.9924623115577889,-0.9673366834170853,-0.9422110552763818,-0.9170854271356783,-0.8919597989949748,-0.8668341708542713,-0.8417085427135678,-0.8165829145728642,-0.7914572864321607,-0.7663316582914572,-0.7412060301507537,-0.7160804020100502,-0.6909547738693467,-0.6658291457286432,-0.6407035175879396,-0.6155778894472361,-0.5904522613065326,-0.5653266331658291,-0.5402010050251256,-0.5150753768844221,-0.4899497487437183,-0.4648241206030148,-0.4396984924623113,-0.4145728643216078,-0.38944723618090427,-0.36432160804020075,-0.33919597989949724,-0.3140703517587937,-0.2889447236180902,-0.2638190954773867,-0.23869346733668317,-0.21356783919597966,-0.18844221105527614,-0.16331658291457263,-0.1381909547738691,-0.1130653266331656,-0.08793969849246208,-0.06281407035175857,-0.03768844221105505,-0.012562814070351536,0.01256281407035198,0.037688442211055495,0.06281407035175901,0.08793969849246253,0.11306532663316604,0.13819095477386956,0.16331658291457307,0.1884422110552766,0.2135678391959801,0.23869346733668362,0.26381909547738713,0.28894472361809065,0.31407035175879416,0.3391959798994977,0.3643216080402012,0.3894472361809047,0.4145728643216082,0.43969849246231174,0.46482412060301526,0.48994974874371877,0.5150753768844223,0.5402010050251258,0.5653266331658293,0.5904522613065328,0.6155778894472363,0.6407035175879399,0.6658291457286434,0.6909547738693469,0.7160804020100504,0.7412060301507539,0.7663316582914574,0.791457286432161,0.8165829145728645,0.841708542713568,0.8668341708542715,0.891959798994975,0.9170854271356785,0.942211055276382,0.9673366834170856,0.9924623115577891,1.0175879396984926,1.042713567839196,1.0678391959798996,1.0929648241206031,1.1180904522613067,1.1432160804020102,1.1683417085427137,1.1934673366834172,1.2185929648241207,1.2437185929648242,1.2688442211055277,1.2939698492462313,1.3190954773869348,1.3442211055276383,1.3693467336683418,1.3944723618090453,1.4195979899497488,1.4447236180904524,1.4698492462311559,1.4949748743718594,1.5201005025125633,1.5452261306532664,1.5703517587939704,1.5954773869346734,1.6206030150753774,1.6457286432160805,1.6708542713567844,1.6959798994974875,1.7211055276381915,1.7462311557788945,1.7713567839195985,1.7964824120603016,1.8216080402010055,1.8467336683417086,1.8718592964824126,1.8969849246231156,1.9221105527638196,1.9472361809045227,1.9723618090452266,1.9974874371859297,2.0226130653266337,2.0477386934673367,2.0728643216080407,2.0979899497487438,2.1231155778894477,2.148241206030151,2.1733668341708547,2.198492462311558,2.2236180904522618,2.248743718592965,2.273869346733669,2.298994974874372,2.324120603015076,2.349246231155779,2.374371859296483,2.399497487437186,2.42462311557789,2.449748743718593,2.474874371859297,2.5],\"y\":[0.9944651545863221,0.9941578489575524,0.9938335869071716,0.9934914448829145,0.9931304504048883,0.9927495796305423,0.9923477548165954,0.9919238416757494,0.9914766466262606,0.9910049139327464,0.9905073227369697,0.9899824839777676,0.9894289371997829,0.988845147251243,0.9882295008716826,0.9875803031712723,0.9868957740042821,0.9861740442401884,0.9854131519370444,0.9846110384229881,0.9837655442931593,0.9828744053308709,0.9819352483636177,0.9809455870664593,0.9799028177274405,0.9788042149920984,0.9776469276066898,0.9764279741826407,0.975144239007815,0.9737924679336015,0.9723692643704831,0.9708710854287188,0.9692942382450395,0.967634876540821,0.9658889974620771,0.9640524387567703,0.9621208763504019,0.9600898223865396,0.9579546238049048,0.955710461535781,0.9533523503958071,0.9508751397766023,0.948273515224073,0.9455420010125641,0.9426749638241575,0.9396666176492174,0.9365110300296393,0.9332021297709446,0.9297337162532366,0.9260994704738339,0.922292967955898,0.9183076936573134,0.9141370590121463,0.9097744212329241,0.9052131049953829,0.9004464266179248,0.8954677208354314,0.8902703702509882,0.8848478375291544,0.8791937003703443,0.8733016892774619,0.8671657280928999,0.8607799772462801,0.8541388796108408,0.8472372088192451,0.8400701198380109,0.832633201544122,0.824922530988235,0.8169347289669593,0.8086670164629317,0.8001172714469749,0.7912840854728979,0.7821668194340272,0.7727656577931401,0.7630816605459908,0.7531168121351519,0.7428740664975069,0.7323573874075661,0.7215717832718269,0.7105233355385685,0.6992192199143401,0.6876677196242628,0.6758782300189264,0.6638612539164296,0.6516283871736632,0.6391922941053201,0.6265666725106339,0.6137662082241636,0.6008065192749737,0.5877040899146602,0.5744761949546302,0.5611408150322749,0.5477165435993162,0.5342224865887604,0.5206781558647373,0.5071033576875688,0.4935180775307029,0.47994236266336554,0.46639620396043685,0.4528994184176042,0.43947153383474397,0.42613167708422234,0.41289846730490043,0.39978991525950264,0.38682332996595237,0.37401523356623917,0.3613812852338312,0.3489362147473728,0.33669376617932906,0.3246666519682087,0.3128665174666266,0.30130391588897754,0.28998829342557747,0.2789279841478654,0.2681302142040602,0.2576011146982193,0.24734574255896782,0.23736810863758304,0.2276712122283723,0.2182570811765614,0.2091268167289745,0.20028064228902928,0.19171795525813584,0.18343738117845632,0.17543682943503816,0.16771354982648998,0.1602641893705626,0.15308484877231726,0.14617113804622783,0.13951823084799625,0.1331209171356757,0.12697365384173268,0.12107061329697656,0.11540572920309697,0.10997274000231742,0.10476522954001359,0.0997766649588365,0.09500043180082865,0.09042986632726052,0.08605828509455711,0.08187901184893633,0.07788540182248772,0.07407086352968528,0.07042887817606604,0.06695301680036087,0.06363695527807109,0.06047448731868304,0.05745953559073025,0.0545861611090558,0.05184857101719095,0.04924112489501381,0.04675833971803444,0.044394893589985066,0.04214562836507914,0.0400055512705089,0.037969835633634465,0.036033820812002675,0.034193011417938374,0.0324430759230605,0.03077984472177272,0.029199307726622097,0.027697611562459614,0.026271056420611612,0.02491609262881014,0.02362931698744902,0.022407468917850344,0.02124742646364081,0.020146202182059463,0.01910093895803656,0.01810890577019932,0.017167493434558423,0.016274210348505576,0.015426678254888011,0.01462262804331495,0.013859895603471777,0.013136417743064191,0.012450228181064657,0.011799453625179817,0.011182309940880666,0.010597098417928259,0.010042202139069334,0.009516082454460308,0.009017275564388699,0.008544389211990685,0.008096099486898337,0.007671147740083567,0.00726833760958567,0.006886532156309869,0.00652465110865498,0.006181668214364712,0.005856608697689316,0.005548546819689931,0.005256603539307313,0.004979944272648617,0.00471777674781221,0.004469348952470194,0.004233947171354507,0.004010894110744494,0.0037995471070260784,0.0035992964163845957],\"type\":\"scatter\"}],                        {\"template\":{\"data\":{\"histogram2dcontour\":[{\"type\":\"histogram2dcontour\",\"colorbar\":{\"outlinewidth\":0,\"ticks\":\"\"},\"colorscale\":[[0.0,\"#0d0887\"],[0.1111111111111111,\"#46039f\"],[0.2222222222222222,\"#7201a8\"],[0.3333333333333333,\"#9c179e\"],[0.4444444444444444,\"#bd3786\"],[0.5555555555555556,\"#d8576b\"],[0.6666666666666666,\"#ed7953\"],[0.7777777777777778,\"#fb9f3a\"],[0.8888888888888888,\"#fdca26\"],[1.0,\"#f0f921\"]]}],\"choropleth\":[{\"type\":\"choropleth\",\"colorbar\":{\"outlinewidth\":0,\"ticks\":\"\"}}],\"histogram2d\":[{\"type\":\"histogram2d\",\"colorbar\":{\"outlinewidth\":0,\"ticks\":\"\"},\"colorscale\":[[0.0,\"#0d0887\"],[0.1111111111111111,\"#46039f\"],[0.2222222222222222,\"#7201a8\"],[0.3333333333333333,\"#9c179e\"],[0.4444444444444444,\"#bd3786\"],[0.5555555555555556,\"#d8576b\"],[0.6666666666666666,\"#ed7953\"],[0.7777777777777778,\"#fb9f3a\"],[0.8888888888888888,\"#fdca26\"],[1.0,\"#f0f921\"]]}],\"heatmap\":[{\"type\":\"heatmap\",\"colorbar\":{\"outlinewidth\":0,\"ticks\":\"\"},\"colorscale\":[[0.0,\"#0d0887\"],[0.1111111111111111,\"#46039f\"],[0.2222222222222222,\"#7201a8\"],[0.3333333333333333,\"#9c179e\"],[0.4444444444444444,\"#bd3786\"],[0.5555555555555556,\"#d8576b\"],[0.6666666666666666,\"#ed7953\"],[0.7777777777777778,\"#fb9f3a\"],[0.8888888888888888,\"#fdca26\"],[1.0,\"#f0f921\"]]}],\"heatmapgl\":[{\"type\":\"heatmapgl\",\"colorbar\":{\"outlinewidth\":0,\"ticks\":\"\"},\"colorscale\":[[0.0,\"#0d0887\"],[0.1111111111111111,\"#46039f\"],[0.2222222222222222,\"#7201a8\"],[0.3333333333333333,\"#9c179e\"],[0.4444444444444444,\"#bd3786\"],[0.5555555555555556,\"#d8576b\"],[0.6666666666666666,\"#ed7953\"],[0.7777777777777778,\"#fb9f3a\"],[0.8888888888888888,\"#fdca26\"],[1.0,\"#f0f921\"]]}],\"contourcarpet\":[{\"type\":\"contourcarpet\",\"colorbar\":{\"outlinewidth\":0,\"ticks\":\"\"}}],\"contour\":[{\"type\":\"contour\",\"colorbar\":{\"outlinewidth\":0,\"ticks\":\"\"},\"colorscale\":[[0.0,\"#0d0887\"],[0.1111111111111111,\"#46039f\"],[0.2222222222222222,\"#7201a8\"],[0.3333333333333333,\"#9c179e\"],[0.4444444444444444,\"#bd3786\"],[0.5555555555555556,\"#d8576b\"],[0.6666666666666666,\"#ed7953\"],[0.7777777777777778,\"#fb9f3a\"],[0.8888888888888888,\"#fdca26\"],[1.0,\"#f0f921\"]]}],\"surface\":[{\"type\":\"surface\",\"colorbar\":{\"outlinewidth\":0,\"ticks\":\"\"},\"colorscale\":[[0.0,\"#0d0887\"],[0.1111111111111111,\"#46039f\"],[0.2222222222222222,\"#7201a8\"],[0.3333333333333333,\"#9c179e\"],[0.4444444444444444,\"#bd3786\"],[0.5555555555555556,\"#d8576b\"],[0.6666666666666666,\"#ed7953\"],[0.7777777777777778,\"#fb9f3a\"],[0.8888888888888888,\"#fdca26\"],[1.0,\"#f0f921\"]]}],\"mesh3d\":[{\"type\":\"mesh3d\",\"colorbar\":{\"outlinewidth\":0,\"ticks\":\"\"}}],\"scatter\":[{\"fillpattern\":{\"fillmode\":\"overlay\",\"size\":10,\"solidity\":0.2},\"type\":\"scatter\"}],\"parcoords\":[{\"type\":\"parcoords\",\"line\":{\"colorbar\":{\"outlinewidth\":0,\"ticks\":\"\"}}}],\"scatterpolargl\":[{\"type\":\"scatterpolargl\",\"marker\":{\"colorbar\":{\"outlinewidth\":0,\"ticks\":\"\"}}}],\"bar\":[{\"error_x\":{\"color\":\"#2a3f5f\"},\"error_y\":{\"color\":\"#2a3f5f\"},\"marker\":{\"line\":{\"color\":\"#E5ECF6\",\"width\":0.5},\"pattern\":{\"fillmode\":\"overlay\",\"size\":10,\"solidity\":0.2}},\"type\":\"bar\"}],\"scattergeo\":[{\"type\":\"scattergeo\",\"marker\":{\"colorbar\":{\"outlinewidth\":0,\"ticks\":\"\"}}}],\"scatterpolar\":[{\"type\":\"scatterpolar\",\"marker\":{\"colorbar\":{\"outlinewidth\":0,\"ticks\":\"\"}}}],\"histogram\":[{\"marker\":{\"pattern\":{\"fillmode\":\"overlay\",\"size\":10,\"solidity\":0.2}},\"type\":\"histogram\"}],\"scattergl\":[{\"type\":\"scattergl\",\"marker\":{\"colorbar\":{\"outlinewidth\":0,\"ticks\":\"\"}}}],\"scatter3d\":[{\"type\":\"scatter3d\",\"line\":{\"colorbar\":{\"outlinewidth\":0,\"ticks\":\"\"}},\"marker\":{\"colorbar\":{\"outlinewidth\":0,\"ticks\":\"\"}}}],\"scattermapbox\":[{\"type\":\"scattermapbox\",\"marker\":{\"colorbar\":{\"outlinewidth\":0,\"ticks\":\"\"}}}],\"scatterternary\":[{\"type\":\"scatterternary\",\"marker\":{\"colorbar\":{\"outlinewidth\":0,\"ticks\":\"\"}}}],\"scattercarpet\":[{\"type\":\"scattercarpet\",\"marker\":{\"colorbar\":{\"outlinewidth\":0,\"ticks\":\"\"}}}],\"carpet\":[{\"aaxis\":{\"endlinecolor\":\"#2a3f5f\",\"gridcolor\":\"white\",\"linecolor\":\"white\",\"minorgridcolor\":\"white\",\"startlinecolor\":\"#2a3f5f\"},\"baxis\":{\"endlinecolor\":\"#2a3f5f\",\"gridcolor\":\"white\",\"linecolor\":\"white\",\"minorgridcolor\":\"white\",\"startlinecolor\":\"#2a3f5f\"},\"type\":\"carpet\"}],\"table\":[{\"cells\":{\"fill\":{\"color\":\"#EBF0F8\"},\"line\":{\"color\":\"white\"}},\"header\":{\"fill\":{\"color\":\"#C8D4E3\"},\"line\":{\"color\":\"white\"}},\"type\":\"table\"}],\"barpolar\":[{\"marker\":{\"line\":{\"color\":\"#E5ECF6\",\"width\":0.5},\"pattern\":{\"fillmode\":\"overlay\",\"size\":10,\"solidity\":0.2}},\"type\":\"barpolar\"}],\"pie\":[{\"automargin\":true,\"type\":\"pie\"}]},\"layout\":{\"autotypenumbers\":\"strict\",\"colorway\":[\"#636efa\",\"#EF553B\",\"#00cc96\",\"#ab63fa\",\"#FFA15A\",\"#19d3f3\",\"#FF6692\",\"#B6E880\",\"#FF97FF\",\"#FECB52\"],\"font\":{\"color\":\"#2a3f5f\"},\"hovermode\":\"closest\",\"hoverlabel\":{\"align\":\"left\"},\"paper_bgcolor\":\"white\",\"plot_bgcolor\":\"#E5ECF6\",\"polar\":{\"bgcolor\":\"#E5ECF6\",\"angularaxis\":{\"gridcolor\":\"white\",\"linecolor\":\"white\",\"ticks\":\"\"},\"radialaxis\":{\"gridcolor\":\"white\",\"linecolor\":\"white\",\"ticks\":\"\"}},\"ternary\":{\"bgcolor\":\"#E5ECF6\",\"aaxis\":{\"gridcolor\":\"white\",\"linecolor\":\"white\",\"ticks\":\"\"},\"baxis\":{\"gridcolor\":\"white\",\"linecolor\":\"white\",\"ticks\":\"\"},\"caxis\":{\"gridcolor\":\"white\",\"linecolor\":\"white\",\"ticks\":\"\"}},\"coloraxis\":{\"colorbar\":{\"outlinewidth\":0,\"ticks\":\"\"}},\"colorscale\":{\"sequential\":[[0.0,\"#0d0887\"],[0.1111111111111111,\"#46039f\"],[0.2222222222222222,\"#7201a8\"],[0.3333333333333333,\"#9c179e\"],[0.4444444444444444,\"#bd3786\"],[0.5555555555555556,\"#d8576b\"],[0.6666666666666666,\"#ed7953\"],[0.7777777777777778,\"#fb9f3a\"],[0.8888888888888888,\"#fdca26\"],[1.0,\"#f0f921\"]],\"sequentialminus\":[[0.0,\"#0d0887\"],[0.1111111111111111,\"#46039f\"],[0.2222222222222222,\"#7201a8\"],[0.3333333333333333,\"#9c179e\"],[0.4444444444444444,\"#bd3786\"],[0.5555555555555556,\"#d8576b\"],[0.6666666666666666,\"#ed7953\"],[0.7777777777777778,\"#fb9f3a\"],[0.8888888888888888,\"#fdca26\"],[1.0,\"#f0f921\"]],\"diverging\":[[0,\"#8e0152\"],[0.1,\"#c51b7d\"],[0.2,\"#de77ae\"],[0.3,\"#f1b6da\"],[0.4,\"#fde0ef\"],[0.5,\"#f7f7f7\"],[0.6,\"#e6f5d0\"],[0.7,\"#b8e186\"],[0.8,\"#7fbc41\"],[0.9,\"#4d9221\"],[1,\"#276419\"]]},\"xaxis\":{\"gridcolor\":\"white\",\"linecolor\":\"white\",\"ticks\":\"\",\"title\":{\"standoff\":15},\"zerolinecolor\":\"white\",\"automargin\":true,\"zerolinewidth\":2},\"yaxis\":{\"gridcolor\":\"white\",\"linecolor\":\"white\",\"ticks\":\"\",\"title\":{\"standoff\":15},\"zerolinecolor\":\"white\",\"automargin\":true,\"zerolinewidth\":2},\"scene\":{\"xaxis\":{\"backgroundcolor\":\"#E5ECF6\",\"gridcolor\":\"white\",\"linecolor\":\"white\",\"showbackground\":true,\"ticks\":\"\",\"zerolinecolor\":\"white\",\"gridwidth\":2},\"yaxis\":{\"backgroundcolor\":\"#E5ECF6\",\"gridcolor\":\"white\",\"linecolor\":\"white\",\"showbackground\":true,\"ticks\":\"\",\"zerolinecolor\":\"white\",\"gridwidth\":2},\"zaxis\":{\"backgroundcolor\":\"#E5ECF6\",\"gridcolor\":\"white\",\"linecolor\":\"white\",\"showbackground\":true,\"ticks\":\"\",\"zerolinecolor\":\"white\",\"gridwidth\":2}},\"shapedefaults\":{\"line\":{\"color\":\"#2a3f5f\"}},\"annotationdefaults\":{\"arrowcolor\":\"#2a3f5f\",\"arrowhead\":0,\"arrowwidth\":1},\"geo\":{\"bgcolor\":\"white\",\"landcolor\":\"#E5ECF6\",\"subunitcolor\":\"white\",\"showland\":true,\"showlakes\":true,\"lakecolor\":\"white\"},\"title\":{\"x\":0.05},\"mapbox\":{\"style\":\"light\"}}},\"xaxis\":{\"anchor\":\"y\",\"domain\":[0.0,1.0],\"title\":{\"text\":\"Standardized sepal width (x)\"}},\"yaxis\":{\"anchor\":\"x\",\"domain\":[0.0,1.0],\"title\":{\"text\":\"\\u0e2a\\u0e32\\u0e22\\u0e1e\\u0e31\\u0e19\\u0e18\\u0e38\\u0e4c\\u0e17\\u0e35\\u0e48\\u0e17\\u0e33\\u0e19\\u0e32\\u0e22\\u0e44\\u0e14\\u0e49 (y^)\"}},\"legend\":{\"title\":{\"text\":\"\"},\"tracegroupgap\":0},\"title\":{\"text\":\"\\u0e01\\u0e23\\u0e32\\u0e1f\\u0e41\\u0e2a\\u0e14\\u0e07 training set \\u0e01\\u0e31\\u0e1a\\u0e40\\u0e2a\\u0e49\\u0e19\\u0e01\\u0e23\\u0e32\\u0e1f\\u0e02\\u0e2d\\u0e07 Logistic regression\"},\"shapes\":[{\"type\":\"line\",\"x0\":0,\"x1\":1,\"xref\":\"x domain\",\"y0\":0.5,\"y1\":0.5,\"yref\":\"y\"}]},                        {\"responsive\": true}                    ).then(function(){\n",
              "                            \n",
              "var gd = document.getElementById('6d4a5ca1-528a-46aa-b80d-9eb3e4461dc1');\n",
              "var x = new MutationObserver(function (mutations, observer) {{\n",
              "        var display = window.getComputedStyle(gd).display;\n",
              "        if (!display || display === 'none') {{\n",
              "            console.log([gd, 'removed!']);\n",
              "            Plotly.purge(gd);\n",
              "            observer.disconnect();\n",
              "        }}\n",
              "}});\n",
              "\n",
              "// Listen for the removal of the full notebook cells\n",
              "var notebookContainer = gd.closest('#notebook-container');\n",
              "if (notebookContainer) {{\n",
              "    x.observe(notebookContainer, {childList: true});\n",
              "}}\n",
              "\n",
              "// Listen for the clearing of the current output cell\n",
              "var outputEl = gd.closest('.output');\n",
              "if (outputEl) {{\n",
              "    x.observe(outputEl, {childList: true});\n",
              "}}\n",
              "\n",
              "                        })                };                            </script>        </div>\n",
              "</body>\n",
              "</html>"
            ]
          },
          "metadata": {},
          "output_type": "display_data"
        }
      ],
      "source": [
        "# โค้ดนี้สำหรับวาดกราฟ อาจข้ามไปดูกราฟได้เลย\n",
        "import numpy as np\n",
        "\n",
        "def sigmoid(z):\n",
        "  return 1/(1+np.exp(-z.squeeze()))\n",
        "\n",
        "fig = px.scatter(x=X_train.squeeze(),  # X_train.squeeze() เพื่อลดมิติจาก 2D เป็น 1D เนื่องจาก px.scatter ต้องการ 1D\n",
        "                 y=y_train,\n",
        "                 color=y_train.astype(str),\n",
        "                 opacity=0.5,\n",
        "                 labels={'x':'Standardized sepal width (x)', 'y':'สายพันธุ์ที่ทำนายได้ (y^)', 'color':''},\n",
        "                 title='กราฟแสดง training set กับเส้นกราฟของ Logistic regression')\n",
        "fig.add_trace(\n",
        "    go.Scatter(x=X_train.squeeze(),\n",
        "               y=sigmoid(w*X_train+b),  # คำนวณสมการ Logistic regression เองกับมือ เมื่อป้อน X_train เข้าไป\n",
        "               mode='markers',name='ค่าที่ทำนายได้')\n",
        ")\n",
        "\n",
        "x = np.linspace(-2.5,2.5,200)\n",
        "fig.add_trace(\n",
        "    go.Scatter(x=x,\n",
        "               y=sigmoid(w*x+b),  # คำนวณสมการ Logistic regression เองกับมือ เพื่อวาดกราฟเส้น\n",
        "               mode='lines', name='โมเดล Logistic regression',\n",
        "               line = dict(shape='linear', color='rgb(205,12,24)', width= 1, dash='dash'))\n",
        ")\n",
        "fig.add_hline(y=0.5)"
      ]
    },
    {
      "cell_type": "markdown",
      "metadata": {
        "id": "ntns8qcKCTC8"
      },
      "source": [
        "จากกราฟจะเห็น\n",
        "\n",
        "- จุดสีแดง (0; `Iris-setosa`) และน้ำเงิน (1; `Iris-versicolor`) คือสายพันธุ์ที่แท้จริงของดอกใน training set\n",
        "- เส้นประสีแดง เป็นเส้นกราฟที่วาดจากสมการที่มีสัมประสิทธิ์ที่ได้จากการเทรน `LogisticRegression`\n",
        "- จุดสีเขียว เป็นค่าที่ได้จากการป้อนดอกใน training set เข้าสมการเส้นประสีแดง\n",
        "- เส้น $y=0.5$ คือเส้นแบ่งครึ่งระหว่างดอกสายพันธุ์ 0 และสายพันธุ์ 1 โดยเราสามารถใช้ค่านี้ในการตัดสินใจได้\n",
        "  - ถ้าหากจุดเขียวอยู่เกินเส้น $y=0.5$ ก็จะหมายถึง `Iris-versicolor`\n",
        "  - ถ้าหากจุดเขียวอยู่ต่ำกว่าเส้น $y=0.5$ ก็จะหมายถึง `Iris-setosa`\n",
        "\n",
        "การที่เอาต์พุตของ Logistic regression มีค่าในช่วง 0 ถึง 1 เท่านั้น เราสามารถตีความเอาต์พุตเป็นค่าความน่าจะเป็น (probability) ของการที่ดอกที่อินพุต จะเป็นสายพันธุ์ 1 (`Iris-versicolor`)  ดังนิยาม\n",
        "\n",
        "$$\n",
        "\\mathbb{P}(y = 1 \\mid x) = \\hat{y} = \\frac{1}{1+e^{- (w x + b) }}\n",
        "$$\n",
        "\n",
        "ซึ่งจากค่าความน่าจะเป็น การตัดสินใจว่าดอกจะเป็นดอกสายพันธุ์ไหน ก็ตัดสินใจด้วยกฎการตัดสินใจ (Decision rule) ดังนี้\n",
        "\n",
        "$$\n",
        "\\mathbb{P}(y = 1 \\mid x) > 0.5 ⟹ \\mathrm{Prediction} = 1  \n",
        "$$\n",
        "$$\n",
        "\\mathbb{P}(y = 1 \\mid x) \\leq 0.5 ⟹ \\mathrm{Prediction} = 0  \n",
        "$$\n",
        "โดยสัญลักษณ์ $\\mathbb{P}$ คือความน่าจะเป็น และสัญลักษณ์ $\\mid x$ แสดงเพื่อบอกว่า เป็นความน่าจะเป็นเมื่อป้อน $x$ เป็นอินพุต\n",
        "\n",
        "ทั้งนี้ เนื่องจากมีแค่ 2 classes คือ 0 กับ 1 จึงหมายความว่า หากสนใจความน่าจะเป็นที่ $y=0$ แล้วล่ะก็ ก็สามารถนำ 1 มาลบ\n",
        "$$\n",
        "\\mathbb{P}(y = 0 \\mid x) = 1 - \\mathbb{P}(y = 1 \\mid x)\n",
        "$$\n",
        "\n",
        "ยกตัวอย่างเช่น หากโมเดลทำนายว่า ดอก ๆ หนึ่ง น่าจะเป็นชนิด 1 ด้วยความน่าจะเป็น 0.8 ก็หมายความว่า ดอก ๆ นั้น มีความน่าจะเป็นชนิด 0 อยู่เท่ากับ 0.2 เป็นต้น\n"
      ]
    },
    {
      "cell_type": "markdown",
      "metadata": {
        "id": "A9JmhnfdIW8h"
      },
      "source": [
        "#### การใช้ `model.predict()`\n",
        "\n",
        "จากโมเดลที่เทรนแล้ว เราจะลองใช้คำสั่ง `model.predict()` จะพบว่า ผลการทำนายเป็นแค่ค่า 0 หรือ 1 ไม่เหมือนกับจุดสีเขียวที่แสดงในกราฟก่อนหน้า ที่เป็นค่าความน่าจะเป็น สาเหตุที่เป็นเช่นนั้น ก็เพราะ `model.predict()` ใช้เส้น $y=0.5$ ในการปัดขึ้นหรือปัดลง\n",
        "\n"
      ]
    },
    {
      "cell_type": "code",
      "execution_count": 19,
      "metadata": {
        "id": "gZgAkHWf8vTx"
      },
      "outputs": [],
      "source": [
        "y_train_pred = model.predict(X_train)\n",
        "y_train_pred = pd.Series(y_train_pred, index=iris2_train.index)"
      ]
    },
    {
      "cell_type": "markdown",
      "metadata": {
        "id": "Nmq2kGTXI4uY"
      },
      "source": [
        "#### การใช้ `model.predict_proba()`\n",
        "\n",
        "ถ้าหากต้องการให้โมเดล `LogisticRegression` ของ Scikit-learn ให้ผลลัพธ์เป็นค่าความน่าจะเป็น จะต้องใช้ `model_predict_proba()` แทน ซึ่งค่าความน่าจะเป็น จะเป็นประโยชน์ในแง่ของการแสดงความเชื่อมั่นของโมเดล ว่ามั่นใจว่าเป็นสายพันธ์ไหน เช่นหากได้ $P(y=1\\mid x)$ = 0.98 แสดงว่าโมเดลมั่นใจ 98% ว่าเป็นสายพันธุ์ 1 เป็นต้น\n",
        "\n"
      ]
    },
    {
      "cell_type": "code",
      "execution_count": 20,
      "metadata": {
        "colab": {
          "base_uri": "https://localhost:8080/",
          "height": 423
        },
        "id": "2TrQlm8HI_M0",
        "outputId": "88cb597a-20ec-4133-8b61-6c41620ba192"
      },
      "outputs": [
        {
          "data": {
            "text/html": [
              "\n",
              "  <div id=\"df-911828b0-83a2-4e27-8d0e-a22310ccf65f\" class=\"colab-df-container\">\n",
              "    <div>\n",
              "<style scoped>\n",
              "    .dataframe tbody tr th:only-of-type {\n",
              "        vertical-align: middle;\n",
              "    }\n",
              "\n",
              "    .dataframe tbody tr th {\n",
              "        vertical-align: top;\n",
              "    }\n",
              "\n",
              "    .dataframe thead th {\n",
              "        text-align: right;\n",
              "    }\n",
              "</style>\n",
              "<table border=\"1\" class=\"dataframe\">\n",
              "  <thead>\n",
              "    <tr style=\"text-align: right;\">\n",
              "      <th></th>\n",
              "      <th>P(y=0|x)</th>\n",
              "      <th>P(y=1|x)</th>\n",
              "    </tr>\n",
              "  </thead>\n",
              "  <tbody>\n",
              "    <tr>\n",
              "      <th>68</th>\n",
              "      <td>0.019491</td>\n",
              "      <td>0.980509</td>\n",
              "    </tr>\n",
              "    <tr>\n",
              "      <th>6</th>\n",
              "      <td>0.832435</td>\n",
              "      <td>0.167565</td>\n",
              "    </tr>\n",
              "    <tr>\n",
              "      <th>39</th>\n",
              "      <td>0.832435</td>\n",
              "      <td>0.167565</td>\n",
              "    </tr>\n",
              "    <tr>\n",
              "      <th>21</th>\n",
              "      <td>0.951812</td>\n",
              "      <td>0.048188</td>\n",
              "    </tr>\n",
              "    <tr>\n",
              "      <th>24</th>\n",
              "      <td>0.832435</td>\n",
              "      <td>0.167565</td>\n",
              "    </tr>\n",
              "    <tr>\n",
              "      <th>...</th>\n",
              "      <td>...</td>\n",
              "      <td>...</td>\n",
              "    </tr>\n",
              "    <tr>\n",
              "      <th>17</th>\n",
              "      <td>0.887262</td>\n",
              "      <td>0.112738</td>\n",
              "    </tr>\n",
              "    <tr>\n",
              "      <th>60</th>\n",
              "      <td>0.007858</td>\n",
              "      <td>0.992142</td>\n",
              "    </tr>\n",
              "    <tr>\n",
              "      <th>46</th>\n",
              "      <td>0.969032</td>\n",
              "      <td>0.030968</td>\n",
              "    </tr>\n",
              "    <tr>\n",
              "      <th>22</th>\n",
              "      <td>0.925750</td>\n",
              "      <td>0.074250</td>\n",
              "    </tr>\n",
              "    <tr>\n",
              "      <th>26</th>\n",
              "      <td>0.832435</td>\n",
              "      <td>0.167565</td>\n",
              "    </tr>\n",
              "  </tbody>\n",
              "</table>\n",
              "<p>70 rows × 2 columns</p>\n",
              "</div>\n",
              "    <div class=\"colab-df-buttons\">\n",
              "\n",
              "  <div class=\"colab-df-container\">\n",
              "    <button class=\"colab-df-convert\" onclick=\"convertToInteractive('df-911828b0-83a2-4e27-8d0e-a22310ccf65f')\"\n",
              "            title=\"Convert this dataframe to an interactive table.\"\n",
              "            style=\"display:none;\">\n",
              "\n",
              "  <svg xmlns=\"http://www.w3.org/2000/svg\" height=\"24px\" viewBox=\"0 -960 960 960\">\n",
              "    <path d=\"M120-120v-720h720v720H120Zm60-500h600v-160H180v160Zm220 220h160v-160H400v160Zm0 220h160v-160H400v160ZM180-400h160v-160H180v160Zm440 0h160v-160H620v160ZM180-180h160v-160H180v160Zm440 0h160v-160H620v160Z\"/>\n",
              "  </svg>\n",
              "    </button>\n",
              "\n",
              "  <style>\n",
              "    .colab-df-container {\n",
              "      display:flex;\n",
              "      gap: 12px;\n",
              "    }\n",
              "\n",
              "    .colab-df-convert {\n",
              "      background-color: #E8F0FE;\n",
              "      border: none;\n",
              "      border-radius: 50%;\n",
              "      cursor: pointer;\n",
              "      display: none;\n",
              "      fill: #1967D2;\n",
              "      height: 32px;\n",
              "      padding: 0 0 0 0;\n",
              "      width: 32px;\n",
              "    }\n",
              "\n",
              "    .colab-df-convert:hover {\n",
              "      background-color: #E2EBFA;\n",
              "      box-shadow: 0px 1px 2px rgba(60, 64, 67, 0.3), 0px 1px 3px 1px rgba(60, 64, 67, 0.15);\n",
              "      fill: #174EA6;\n",
              "    }\n",
              "\n",
              "    .colab-df-buttons div {\n",
              "      margin-bottom: 4px;\n",
              "    }\n",
              "\n",
              "    [theme=dark] .colab-df-convert {\n",
              "      background-color: #3B4455;\n",
              "      fill: #D2E3FC;\n",
              "    }\n",
              "\n",
              "    [theme=dark] .colab-df-convert:hover {\n",
              "      background-color: #434B5C;\n",
              "      box-shadow: 0px 1px 3px 1px rgba(0, 0, 0, 0.15);\n",
              "      filter: drop-shadow(0px 1px 2px rgba(0, 0, 0, 0.3));\n",
              "      fill: #FFFFFF;\n",
              "    }\n",
              "  </style>\n",
              "\n",
              "    <script>\n",
              "      const buttonEl =\n",
              "        document.querySelector('#df-911828b0-83a2-4e27-8d0e-a22310ccf65f button.colab-df-convert');\n",
              "      buttonEl.style.display =\n",
              "        google.colab.kernel.accessAllowed ? 'block' : 'none';\n",
              "\n",
              "      async function convertToInteractive(key) {\n",
              "        const element = document.querySelector('#df-911828b0-83a2-4e27-8d0e-a22310ccf65f');\n",
              "        const dataTable =\n",
              "          await google.colab.kernel.invokeFunction('convertToInteractive',\n",
              "                                                    [key], {});\n",
              "        if (!dataTable) return;\n",
              "\n",
              "        const docLinkHtml = 'Like what you see? Visit the ' +\n",
              "          '<a target=\"_blank\" href=https://colab.research.google.com/notebooks/data_table.ipynb>data table notebook</a>'\n",
              "          + ' to learn more about interactive tables.';\n",
              "        element.innerHTML = '';\n",
              "        dataTable['output_type'] = 'display_data';\n",
              "        await google.colab.output.renderOutput(dataTable, element);\n",
              "        const docLink = document.createElement('div');\n",
              "        docLink.innerHTML = docLinkHtml;\n",
              "        element.appendChild(docLink);\n",
              "      }\n",
              "    </script>\n",
              "  </div>\n",
              "\n",
              "\n",
              "<div id=\"df-4658e612-09c7-48c9-a6ff-4008588176ad\">\n",
              "  <button class=\"colab-df-quickchart\" onclick=\"quickchart('df-4658e612-09c7-48c9-a6ff-4008588176ad')\"\n",
              "            title=\"Suggest charts\"\n",
              "            style=\"display:none;\">\n",
              "\n",
              "<svg xmlns=\"http://www.w3.org/2000/svg\" height=\"24px\"viewBox=\"0 0 24 24\"\n",
              "     width=\"24px\">\n",
              "    <g>\n",
              "        <path d=\"M19 3H5c-1.1 0-2 .9-2 2v14c0 1.1.9 2 2 2h14c1.1 0 2-.9 2-2V5c0-1.1-.9-2-2-2zM9 17H7v-7h2v7zm4 0h-2V7h2v10zm4 0h-2v-4h2v4z\"/>\n",
              "    </g>\n",
              "</svg>\n",
              "  </button>\n",
              "\n",
              "<style>\n",
              "  .colab-df-quickchart {\n",
              "      --bg-color: #E8F0FE;\n",
              "      --fill-color: #1967D2;\n",
              "      --hover-bg-color: #E2EBFA;\n",
              "      --hover-fill-color: #174EA6;\n",
              "      --disabled-fill-color: #AAA;\n",
              "      --disabled-bg-color: #DDD;\n",
              "  }\n",
              "\n",
              "  [theme=dark] .colab-df-quickchart {\n",
              "      --bg-color: #3B4455;\n",
              "      --fill-color: #D2E3FC;\n",
              "      --hover-bg-color: #434B5C;\n",
              "      --hover-fill-color: #FFFFFF;\n",
              "      --disabled-bg-color: #3B4455;\n",
              "      --disabled-fill-color: #666;\n",
              "  }\n",
              "\n",
              "  .colab-df-quickchart {\n",
              "    background-color: var(--bg-color);\n",
              "    border: none;\n",
              "    border-radius: 50%;\n",
              "    cursor: pointer;\n",
              "    display: none;\n",
              "    fill: var(--fill-color);\n",
              "    height: 32px;\n",
              "    padding: 0;\n",
              "    width: 32px;\n",
              "  }\n",
              "\n",
              "  .colab-df-quickchart:hover {\n",
              "    background-color: var(--hover-bg-color);\n",
              "    box-shadow: 0 1px 2px rgba(60, 64, 67, 0.3), 0 1px 3px 1px rgba(60, 64, 67, 0.15);\n",
              "    fill: var(--button-hover-fill-color);\n",
              "  }\n",
              "\n",
              "  .colab-df-quickchart-complete:disabled,\n",
              "  .colab-df-quickchart-complete:disabled:hover {\n",
              "    background-color: var(--disabled-bg-color);\n",
              "    fill: var(--disabled-fill-color);\n",
              "    box-shadow: none;\n",
              "  }\n",
              "\n",
              "  .colab-df-spinner {\n",
              "    border: 2px solid var(--fill-color);\n",
              "    border-color: transparent;\n",
              "    border-bottom-color: var(--fill-color);\n",
              "    animation:\n",
              "      spin 1s steps(1) infinite;\n",
              "  }\n",
              "\n",
              "  @keyframes spin {\n",
              "    0% {\n",
              "      border-color: transparent;\n",
              "      border-bottom-color: var(--fill-color);\n",
              "      border-left-color: var(--fill-color);\n",
              "    }\n",
              "    20% {\n",
              "      border-color: transparent;\n",
              "      border-left-color: var(--fill-color);\n",
              "      border-top-color: var(--fill-color);\n",
              "    }\n",
              "    30% {\n",
              "      border-color: transparent;\n",
              "      border-left-color: var(--fill-color);\n",
              "      border-top-color: var(--fill-color);\n",
              "      border-right-color: var(--fill-color);\n",
              "    }\n",
              "    40% {\n",
              "      border-color: transparent;\n",
              "      border-right-color: var(--fill-color);\n",
              "      border-top-color: var(--fill-color);\n",
              "    }\n",
              "    60% {\n",
              "      border-color: transparent;\n",
              "      border-right-color: var(--fill-color);\n",
              "    }\n",
              "    80% {\n",
              "      border-color: transparent;\n",
              "      border-right-color: var(--fill-color);\n",
              "      border-bottom-color: var(--fill-color);\n",
              "    }\n",
              "    90% {\n",
              "      border-color: transparent;\n",
              "      border-bottom-color: var(--fill-color);\n",
              "    }\n",
              "  }\n",
              "</style>\n",
              "\n",
              "  <script>\n",
              "    async function quickchart(key) {\n",
              "      const quickchartButtonEl =\n",
              "        document.querySelector('#' + key + ' button');\n",
              "      quickchartButtonEl.disabled = true;  // To prevent multiple clicks.\n",
              "      quickchartButtonEl.classList.add('colab-df-spinner');\n",
              "      try {\n",
              "        const charts = await google.colab.kernel.invokeFunction(\n",
              "            'suggestCharts', [key], {});\n",
              "      } catch (error) {\n",
              "        console.error('Error during call to suggestCharts:', error);\n",
              "      }\n",
              "      quickchartButtonEl.classList.remove('colab-df-spinner');\n",
              "      quickchartButtonEl.classList.add('colab-df-quickchart-complete');\n",
              "    }\n",
              "    (() => {\n",
              "      let quickchartButtonEl =\n",
              "        document.querySelector('#df-4658e612-09c7-48c9-a6ff-4008588176ad button');\n",
              "      quickchartButtonEl.style.display =\n",
              "        google.colab.kernel.accessAllowed ? 'block' : 'none';\n",
              "    })();\n",
              "  </script>\n",
              "</div>\n",
              "    </div>\n",
              "  </div>\n"
            ],
            "text/plain": [
              "    P(y=0|x)  P(y=1|x)\n",
              "68  0.019491  0.980509\n",
              "6   0.832435  0.167565\n",
              "39  0.832435  0.167565\n",
              "21  0.951812  0.048188\n",
              "24  0.832435  0.167565\n",
              "..       ...       ...\n",
              "17  0.887262  0.112738\n",
              "60  0.007858  0.992142\n",
              "46  0.969032  0.030968\n",
              "22  0.925750  0.074250\n",
              "26  0.832435  0.167565\n",
              "\n",
              "[70 rows x 2 columns]"
            ]
          },
          "execution_count": 20,
          "metadata": {},
          "output_type": "execute_result"
        }
      ],
      "source": [
        "y_train_pred_proba = model.predict_proba(X_train) # ได้ Numpy array\n",
        "y_train_pred_proba = pd.DataFrame(\n",
        "    y_train_pred_proba,\n",
        "    columns=['P(y=0|x)', 'P(y=1|x)'],\n",
        "    index=iris2_train.index\n",
        ") # เราทำเป็น DataFrame จะได้ดูผลง่าย ๆ ซึ่งเราอาจจะนำไปจัดอันดับดอก ตามความน่าจะเป็นก็ได้\n",
        "y_train_pred_proba"
      ]
    },
    {
      "cell_type": "markdown",
      "metadata": {
        "id": "73PI5K3CJWFt"
      },
      "source": [
        "### การประเมินประสิทธิภาพของโมเดล Logistic Regression\n",
        "\n",
        "ใน Linear regression เราใช้ MSE เป็นเป้าหมาย (Objective) ในการหาพารามิเตอร์ของโมเดล รวมถึงการรายงานประสิทธิภาพของโมเดลให้ผู้อื่นได้รับทราบ อย่างไรก็ตาม สำหรับ Logistic regression กลับใช้ Cross entropy loss ด้วยเหตุผลของทางเทคนิคในการฝีกสอนโมเดล ซึ่งเป็นฟังก์ชันวัดประสิทธิภาพที่ผู้คนโดยทั่วไปไม่เข้าใจ ดังนั้น ในการรายงานประสิทธิภาพของโมเดล Logistic regression จึงจะใช้ค่าอื่นแทน ได้แก่\n",
        "\n",
        "1. Accuracy\n",
        "2. Confusion matrix\n",
        "\n",
        "สำหรับค่าอื่น ๆ ได้แก่ค่า Precision, Recall, F1-score เป็นต้น ซึ่งจะยังไม่ขอกล่าวในหัวข้อนี้"
      ]
    },
    {
      "cell_type": "markdown",
      "metadata": {
        "id": "Gt0YjLbymNpT"
      },
      "source": [
        "#### การคำนวณ Accuracy\n",
        "\n",
        "การคำนวณ Accuracy ของโมเดล คำนวณได้จาก\n",
        "\n",
        "$$\n",
        "\\mathrm{Accuracy} = \\frac{n_\\mathrm{correct}}{n_\\mathrm{correct} + n_\\mathrm{incorrect}} = \\frac{n_\\mathrm{correct}}{n}\n",
        "$$\n",
        "\n",
        "โดยที่ $n_\\mathrm{correct}$ และ $n_\\mathrm{incorrect}$ คือจำนวนที่ทายถูกและผิด ตามลำดับ ส่วน $n$ คือข้อมูลที่นำมาทำนายทั้งหมด\n",
        "\n",
        "หากจะคำนวณเองด้วย Pandas จะทำได้ดังนี้"
      ]
    },
    {
      "cell_type": "code",
      "execution_count": 21,
      "metadata": {
        "colab": {
          "base_uri": "https://localhost:8080/"
        },
        "id": "xJU_jagUpwmT",
        "outputId": "6b277821-ffa2-4f26-f040-95730b17c6db"
      },
      "outputs": [
        {
          "data": {
            "text/plain": [
              "0.8428571428571429"
            ]
          },
          "execution_count": 21,
          "metadata": {},
          "output_type": "execute_result"
        }
      ],
      "source": [
        "correct = (y_train == y_train_pred)  # อย่าลืมว่าตัวแปร y_train_pred มีแต่ค่า 0 กับ 1\n",
        "correct.mean() # หรือ correct.sum()/len(correct)"
      ]
    },
    {
      "cell_type": "markdown",
      "metadata": {
        "id": "FK9KdBxPqzl9"
      },
      "source": [
        "หรือหากจะใช้ Scikit-learn ก็ย่อมได้ โดยทำดังนี้"
      ]
    },
    {
      "cell_type": "code",
      "execution_count": 22,
      "metadata": {
        "colab": {
          "base_uri": "https://localhost:8080/"
        },
        "id": "UwYVzCC2q4Sy",
        "outputId": "02175fa7-dc2e-4f86-cbe2-eaa54851f38a"
      },
      "outputs": [
        {
          "data": {
            "text/plain": [
              "0.8428571428571429"
            ]
          },
          "execution_count": 22,
          "metadata": {},
          "output_type": "execute_result"
        }
      ],
      "source": [
        "from sklearn.metrics import accuracy_score\n",
        "accuracy_score(y_train, y_train_pred)"
      ]
    },
    {
      "cell_type": "markdown",
      "metadata": {
        "id": "LmsG1eiOJZ0Z"
      },
      "source": [
        "\n",
        "#### การคำนวณ Confusion matrix\n",
        "\n",
        "ค่า Accuracy เป็นการเปรียบเทียบความถูกต้องของการทำนายเพียงด้านเดียว กล่าวคือ ค่า Accuracy สะท้อนสัดส่วนเฉพาะกรณีที่ผลค่าที่ทำนายตรงกับค่าที่แท้จริงเท่านั้น อย่างไรก็ตาม เราไม่อาจทราบได้ว่า กรณีที่ทำนายผิด เป็นการผิดในลักษณะใด กล่าวคือ\n",
        "\n",
        "- ค่าจริงเป็น 0 แต่โมเดลทำนาย 1\n",
        "- ค่าจริงเป็น 1 แต่โมเดลทำนาย 0 เป็นต้น\n",
        "\n",
        "ดังนั้น จึงมีประเมินประสิทธิภาพอีกอย่างหนึ่ง คือ Confusion matrix ที่สามารถคำนวณได้โดยใช้ `confusion_matrix` ของ Scikit-learn ([คู่มือ](https://scikit-learn.org/stable/modules/generated/sklearn.metrics.confusion_matrix.html)) ซึ่งมีวิธีใช้คือ\n",
        "\n",
        "\n"
      ]
    },
    {
      "cell_type": "code",
      "execution_count": 23,
      "metadata": {
        "colab": {
          "base_uri": "https://localhost:8080/"
        },
        "id": "0qCyipsAuVzU",
        "outputId": "6f8e73d1-d6db-445f-8deb-2235ea0194f8"
      },
      "outputs": [
        {
          "name": "stdout",
          "output_type": "stream",
          "text": [
            "[[31  6]\n",
            " [ 5 28]]\n"
          ]
        }
      ],
      "source": [
        "from sklearn.metrics import confusion_matrix\n",
        "confusion = confusion_matrix(y_train, y_train_pred)\n",
        "print(confusion)"
      ]
    },
    {
      "cell_type": "markdown",
      "metadata": {
        "id": "D4ImZ6Rqw41p"
      },
      "source": [
        "โดย\n",
        "\n",
        "- แต่ละแถวคือเป็นค่าที่แท้จริง และ\n",
        "- คอลัมน์แสดงค่าที่ทำนายได้\n",
        "\n",
        "เช่น ค่า 5 หมายถึง ดอกที่แท้จริงเป็นสายพันธุ์ 1 แต่โมเดลทำนายเป็นสายพันธุ์ 0 เป็นต้น\n",
        "\n",
        "ซึ่งเพื่อไม่ให้สับสนระหว่างแถวกับคอลัมน์ อาจใช้ฟังก์ชัน `ConfusionMatrixDisplay` ของ Scikit-learn ในการช่วยแสดงผล Confusion matrix ก็ได้ ซึ่งจะได้กราฟที่วาดด้วยไลบรารี Matplotlib"
      ]
    },
    {
      "cell_type": "code",
      "execution_count": 45,
      "metadata": {
        "colab": {
          "base_uri": "https://localhost:8080/",
          "height": 466
        },
        "id": "RHQZszSVxV4o",
        "outputId": "1e621ad4-dfeb-41d2-c468-019c8551f3a1"
      },
      "outputs": [
        {
          "data": {
            "text/plain": [
              "<sklearn.metrics._plot.confusion_matrix.ConfusionMatrixDisplay at 0x79165634aa70>"
            ]
          },
          "execution_count": 45,
          "metadata": {},
          "output_type": "execute_result"
        },
        {
          "data": {
            "image/png": "[encoded data removed]",
            "text/plain": [
              "<Figure size 640x480 with 2 Axes>"
            ]
          },
          "metadata": {},
          "output_type": "display_data"
        }
      ],
      "source": [
        "from sklearn.metrics import ConfusionMatrixDisplay\n",
        "disp = ConfusionMatrixDisplay(\n",
        "    confusion_matrix=confusion,   # ได้จาก confusion_matrix\n",
        "    display_labels=le.inverse_transform(model.classes_),  # model.classes_ เก็บ [0,1] ไว้ จึงใช้ LabelEncoder แปลงกลับเป็นชื่อสายพันธุ์\n",
        ")\n",
        "disp.plot()\n"
      ]
    },
    {
      "cell_type": "markdown",
      "metadata": {
        "id": "zpB2Z4wxMdV7"
      },
      "source": [
        "อย่างไรก็ตาม เพื่อความสวยงาม นักศึกษาอาจลองหัดวาดเองโดยใช้ Plotly โดยใช้กราฟประเภท Heat map ([คู่มือ](https://plotly.com/python/heatmaps/)) ซึ่งสามารถวาดด้วยคำสั่ง `px.imshow()` (imshow ย่อมาจาก Image show เพื่อแสดงรูป)"
      ]
    },
    {
      "cell_type": "code",
      "execution_count": 37,
      "metadata": {
        "colab": {
          "base_uri": "https://localhost:8080/",
          "height": 112
        },
        "id": "QI6xrTjnQmCb",
        "outputId": "157ee1ce-7bf5-4191-dc55-a3ee1d534ca2"
      },
      "outputs": [
        {
          "data": {
            "text/html": [
              "\n",
              "  <div id=\"df-037e7539-b1d7-4215-83a0-76e48e3bec55\" class=\"colab-df-container\">\n",
              "    <div>\n",
              "<style scoped>\n",
              "    .dataframe tbody tr th:only-of-type {\n",
              "        vertical-align: middle;\n",
              "    }\n",
              "\n",
              "    .dataframe tbody tr th {\n",
              "        vertical-align: top;\n",
              "    }\n",
              "\n",
              "    .dataframe thead th {\n",
              "        text-align: right;\n",
              "    }\n",
              "</style>\n",
              "<table border=\"1\" class=\"dataframe\">\n",
              "  <thead>\n",
              "    <tr style=\"text-align: right;\">\n",
              "      <th></th>\n",
              "      <th>Iris-setosa</th>\n",
              "      <th>Iris-versicolor</th>\n",
              "    </tr>\n",
              "  </thead>\n",
              "  <tbody>\n",
              "    <tr>\n",
              "      <th>Iris-setosa</th>\n",
              "      <td>31</td>\n",
              "      <td>6</td>\n",
              "    </tr>\n",
              "    <tr>\n",
              "      <th>Iris-versicolor</th>\n",
              "      <td>5</td>\n",
              "      <td>28</td>\n",
              "    </tr>\n",
              "  </tbody>\n",
              "</table>\n",
              "</div>\n",
              "    <div class=\"colab-df-buttons\">\n",
              "\n",
              "  <div class=\"colab-df-container\">\n",
              "    <button class=\"colab-df-convert\" onclick=\"convertToInteractive('df-037e7539-b1d7-4215-83a0-76e48e3bec55')\"\n",
              "            title=\"Convert this dataframe to an interactive table.\"\n",
              "            style=\"display:none;\">\n",
              "\n",
              "  <svg xmlns=\"http://www.w3.org/2000/svg\" height=\"24px\" viewBox=\"0 -960 960 960\">\n",
              "    <path d=\"M120-120v-720h720v720H120Zm60-500h600v-160H180v160Zm220 220h160v-160H400v160Zm0 220h160v-160H400v160ZM180-400h160v-160H180v160Zm440 0h160v-160H620v160ZM180-180h160v-160H180v160Zm440 0h160v-160H620v160Z\"/>\n",
              "  </svg>\n",
              "    </button>\n",
              "\n",
              "  <style>\n",
              "    .colab-df-container {\n",
              "      display:flex;\n",
              "      gap: 12px;\n",
              "    }\n",
              "\n",
              "    .colab-df-convert {\n",
              "      background-color: #E8F0FE;\n",
              "      border: none;\n",
              "      border-radius: 50%;\n",
              "      cursor: pointer;\n",
              "      display: none;\n",
              "      fill: #1967D2;\n",
              "      height: 32px;\n",
              "      padding: 0 0 0 0;\n",
              "      width: 32px;\n",
              "    }\n",
              "\n",
              "    .colab-df-convert:hover {\n",
              "      background-color: #E2EBFA;\n",
              "      box-shadow: 0px 1px 2px rgba(60, 64, 67, 0.3), 0px 1px 3px 1px rgba(60, 64, 67, 0.15);\n",
              "      fill: #174EA6;\n",
              "    }\n",
              "\n",
              "    .colab-df-buttons div {\n",
              "      margin-bottom: 4px;\n",
              "    }\n",
              "\n",
              "    [theme=dark] .colab-df-convert {\n",
              "      background-color: #3B4455;\n",
              "      fill: #D2E3FC;\n",
              "    }\n",
              "\n",
              "    [theme=dark] .colab-df-convert:hover {\n",
              "      background-color: #434B5C;\n",
              "      box-shadow: 0px 1px 3px 1px rgba(0, 0, 0, 0.15);\n",
              "      filter: drop-shadow(0px 1px 2px rgba(0, 0, 0, 0.3));\n",
              "      fill: #FFFFFF;\n",
              "    }\n",
              "  </style>\n",
              "\n",
              "    <script>\n",
              "      const buttonEl =\n",
              "        document.querySelector('#df-037e7539-b1d7-4215-83a0-76e48e3bec55 button.colab-df-convert');\n",
              "      buttonEl.style.display =\n",
              "        google.colab.kernel.accessAllowed ? 'block' : 'none';\n",
              "\n",
              "      async function convertToInteractive(key) {\n",
              "        const element = document.querySelector('#df-037e7539-b1d7-4215-83a0-76e48e3bec55');\n",
              "        const dataTable =\n",
              "          await google.colab.kernel.invokeFunction('convertToInteractive',\n",
              "                                                    [key], {});\n",
              "        if (!dataTable) return;\n",
              "\n",
              "        const docLinkHtml = 'Like what you see? Visit the ' +\n",
              "          '<a target=\"_blank\" href=https://colab.research.google.com/notebooks/data_table.ipynb>data table notebook</a>'\n",
              "          + ' to learn more about interactive tables.';\n",
              "        element.innerHTML = '';\n",
              "        dataTable['output_type'] = 'display_data';\n",
              "        await google.colab.output.renderOutput(dataTable, element);\n",
              "        const docLink = document.createElement('div');\n",
              "        docLink.innerHTML = docLinkHtml;\n",
              "        element.appendChild(docLink);\n",
              "      }\n",
              "    </script>\n",
              "  </div>\n",
              "\n",
              "\n",
              "<div id=\"df-6f488802-ba5f-4834-96fd-fb1969b8cd7b\">\n",
              "  <button class=\"colab-df-quickchart\" onclick=\"quickchart('df-6f488802-ba5f-4834-96fd-fb1969b8cd7b')\"\n",
              "            title=\"Suggest charts\"\n",
              "            style=\"display:none;\">\n",
              "\n",
              "<svg xmlns=\"http://www.w3.org/2000/svg\" height=\"24px\"viewBox=\"0 0 24 24\"\n",
              "     width=\"24px\">\n",
              "    <g>\n",
              "        <path d=\"M19 3H5c-1.1 0-2 .9-2 2v14c0 1.1.9 2 2 2h14c1.1 0 2-.9 2-2V5c0-1.1-.9-2-2-2zM9 17H7v-7h2v7zm4 0h-2V7h2v10zm4 0h-2v-4h2v4z\"/>\n",
              "    </g>\n",
              "</svg>\n",
              "  </button>\n",
              "\n",
              "<style>\n",
              "  .colab-df-quickchart {\n",
              "      --bg-color: #E8F0FE;\n",
              "      --fill-color: #1967D2;\n",
              "      --hover-bg-color: #E2EBFA;\n",
              "      --hover-fill-color: #174EA6;\n",
              "      --disabled-fill-color: #AAA;\n",
              "      --disabled-bg-color: #DDD;\n",
              "  }\n",
              "\n",
              "  [theme=dark] .colab-df-quickchart {\n",
              "      --bg-color: #3B4455;\n",
              "      --fill-color: #D2E3FC;\n",
              "      --hover-bg-color: #434B5C;\n",
              "      --hover-fill-color: #FFFFFF;\n",
              "      --disabled-bg-color: #3B4455;\n",
              "      --disabled-fill-color: #666;\n",
              "  }\n",
              "\n",
              "  .colab-df-quickchart {\n",
              "    background-color: var(--bg-color);\n",
              "    border: none;\n",
              "    border-radius: 50%;\n",
              "    cursor: pointer;\n",
              "    display: none;\n",
              "    fill: var(--fill-color);\n",
              "    height: 32px;\n",
              "    padding: 0;\n",
              "    width: 32px;\n",
              "  }\n",
              "\n",
              "  .colab-df-quickchart:hover {\n",
              "    background-color: var(--hover-bg-color);\n",
              "    box-shadow: 0 1px 2px rgba(60, 64, 67, 0.3), 0 1px 3px 1px rgba(60, 64, 67, 0.15);\n",
              "    fill: var(--button-hover-fill-color);\n",
              "  }\n",
              "\n",
              "  .colab-df-quickchart-complete:disabled,\n",
              "  .colab-df-quickchart-complete:disabled:hover {\n",
              "    background-color: var(--disabled-bg-color);\n",
              "    fill: var(--disabled-fill-color);\n",
              "    box-shadow: none;\n",
              "  }\n",
              "\n",
              "  .colab-df-spinner {\n",
              "    border: 2px solid var(--fill-color);\n",
              "    border-color: transparent;\n",
              "    border-bottom-color: var(--fill-color);\n",
              "    animation:\n",
              "      spin 1s steps(1) infinite;\n",
              "  }\n",
              "\n",
              "  @keyframes spin {\n",
              "    0% {\n",
              "      border-color: transparent;\n",
              "      border-bottom-color: var(--fill-color);\n",
              "      border-left-color: var(--fill-color);\n",
              "    }\n",
              "    20% {\n",
              "      border-color: transparent;\n",
              "      border-left-color: var(--fill-color);\n",
              "      border-top-color: var(--fill-color);\n",
              "    }\n",
              "    30% {\n",
              "      border-color: transparent;\n",
              "      border-left-color: var(--fill-color);\n",
              "      border-top-color: var(--fill-color);\n",
              "      border-right-color: var(--fill-color);\n",
              "    }\n",
              "    40% {\n",
              "      border-color: transparent;\n",
              "      border-right-color: var(--fill-color);\n",
              "      border-top-color: var(--fill-color);\n",
              "    }\n",
              "    60% {\n",
              "      border-color: transparent;\n",
              "      border-right-color: var(--fill-color);\n",
              "    }\n",
              "    80% {\n",
              "      border-color: transparent;\n",
              "      border-right-color: var(--fill-color);\n",
              "      border-bottom-color: var(--fill-color);\n",
              "    }\n",
              "    90% {\n",
              "      border-color: transparent;\n",
              "      border-bottom-color: var(--fill-color);\n",
              "    }\n",
              "  }\n",
              "</style>\n",
              "\n",
              "  <script>\n",
              "    async function quickchart(key) {\n",
              "      const quickchartButtonEl =\n",
              "        document.querySelector('#' + key + ' button');\n",
              "      quickchartButtonEl.disabled = true;  // To prevent multiple clicks.\n",
              "      quickchartButtonEl.classList.add('colab-df-spinner');\n",
              "      try {\n",
              "        const charts = await google.colab.kernel.invokeFunction(\n",
              "            'suggestCharts', [key], {});\n",
              "      } catch (error) {\n",
              "        console.error('Error during call to suggestCharts:', error);\n",
              "      }\n",
              "      quickchartButtonEl.classList.remove('colab-df-spinner');\n",
              "      quickchartButtonEl.classList.add('colab-df-quickchart-complete');\n",
              "    }\n",
              "    (() => {\n",
              "      let quickchartButtonEl =\n",
              "        document.querySelector('#df-6f488802-ba5f-4834-96fd-fb1969b8cd7b button');\n",
              "      quickchartButtonEl.style.display =\n",
              "        google.colab.kernel.accessAllowed ? 'block' : 'none';\n",
              "    })();\n",
              "  </script>\n",
              "</div>\n",
              "    </div>\n",
              "  </div>\n"
            ],
            "text/plain": [
              "                 Iris-setosa  Iris-versicolor\n",
              "Iris-setosa               31                6\n",
              "Iris-versicolor            5               28"
            ]
          },
          "execution_count": 37,
          "metadata": {},
          "output_type": "execute_result"
        }
      ],
      "source": [
        "# ใช้สร้างเป็น DataFrame เพื่อที่จะให้ imshow แสดงชื่อ index และชื่อคอลัมน์\n",
        "df_confusion = pd.DataFrame(confusion,\n",
        "                            index=le.inverse_transform(model.classes_),\n",
        "                            columns=le.inverse_transform(model.classes_))\n",
        "df_confusion"
      ]
    },
    {
      "cell_type": "code",
      "execution_count": 42,
      "metadata": {
        "colab": {
          "base_uri": "https://localhost:8080/",
          "height": 542
        },
        "id": "sFpZcYSsO8bA",
        "outputId": "36eea27f-21d6-4534-fe08-7030edfe8ed6"
      },
      "outputs": [
        {
          "data": {
            "text/html": [
              "<html>\n",
              "<head><meta charset=\"utf-8\" /></head>\n",
              "<body>\n",
              "    <div>            <script src=\"https://cdnjs.cloudflare.com/ajax/libs/mathjax/2.7.5/MathJax.js?config=TeX-AMS-MML_SVG\"></script><script type=\"text/javascript\">if (window.MathJax && window.MathJax.Hub && window.MathJax.Hub.Config) {window.MathJax.Hub.Config({SVG: {font: \"STIX-Web\"}});}</script>                <script type=\"text/javascript\">window.PlotlyConfig = {MathJaxConfig: 'local'};</script>\n",
              "        <script charset=\"utf-8\" src=\"https://cdn.plot.ly/plotly-2.24.1.min.js\"></script>                <div id=\"1bb2886c-83a8-42ad-84b1-2628becf8eac\" class=\"plotly-graph-div\" style=\"height:525px; width:100%;\"></div>            <script type=\"text/javascript\">                                    window.PLOTLYENV=window.PLOTLYENV || {};                                    if (document.getElementById(\"1bb2886c-83a8-42ad-84b1-2628becf8eac\")) {                    Plotly.newPlot(                        \"1bb2886c-83a8-42ad-84b1-2628becf8eac\",                        [{\"coloraxis\":\"coloraxis\",\"name\":\"0\",\"texttemplate\":\"%{z}\",\"x\":[\"Iris-setosa\",\"Iris-versicolor\"],\"y\":[\"Iris-setosa\",\"Iris-versicolor\"],\"z\":[[31,6],[5,28]],\"type\":\"heatmap\",\"xaxis\":\"x\",\"yaxis\":\"y\",\"hovertemplate\":\"\\u0e04\\u0e48\\u0e32\\u0e17\\u0e35\\u0e48\\u0e17\\u0e33\\u0e19\\u0e32\\u0e22: %{x}\\u003cbr\\u003e\\u0e04\\u0e48\\u0e32\\u0e17\\u0e35\\u0e48\\u0e41\\u0e17\\u0e49\\u0e08\\u0e23\\u0e34\\u0e07: %{y}\\u003cbr\\u003e\\u0e04\\u0e48\\u0e32\\u0e2a\\u0e35: %{z}\\u003cextra\\u003e\\u003c\\u002fextra\\u003e\"}],                        {\"template\":{\"data\":{\"histogram2dcontour\":[{\"type\":\"histogram2dcontour\",\"colorbar\":{\"outlinewidth\":0,\"ticks\":\"\"},\"colorscale\":[[0.0,\"#0d0887\"],[0.1111111111111111,\"#46039f\"],[0.2222222222222222,\"#7201a8\"],[0.3333333333333333,\"#9c179e\"],[0.4444444444444444,\"#bd3786\"],[0.5555555555555556,\"#d8576b\"],[0.6666666666666666,\"#ed7953\"],[0.7777777777777778,\"#fb9f3a\"],[0.8888888888888888,\"#fdca26\"],[1.0,\"#f0f921\"]]}],\"choropleth\":[{\"type\":\"choropleth\",\"colorbar\":{\"outlinewidth\":0,\"ticks\":\"\"}}],\"histogram2d\":[{\"type\":\"histogram2d\",\"colorbar\":{\"outlinewidth\":0,\"ticks\":\"\"},\"colorscale\":[[0.0,\"#0d0887\"],[0.1111111111111111,\"#46039f\"],[0.2222222222222222,\"#7201a8\"],[0.3333333333333333,\"#9c179e\"],[0.4444444444444444,\"#bd3786\"],[0.5555555555555556,\"#d8576b\"],[0.6666666666666666,\"#ed7953\"],[0.7777777777777778,\"#fb9f3a\"],[0.8888888888888888,\"#fdca26\"],[1.0,\"#f0f921\"]]}],\"heatmap\":[{\"type\":\"heatmap\",\"colorbar\":{\"outlinewidth\":0,\"ticks\":\"\"},\"colorscale\":[[0.0,\"#0d0887\"],[0.1111111111111111,\"#46039f\"],[0.2222222222222222,\"#7201a8\"],[0.3333333333333333,\"#9c179e\"],[0.4444444444444444,\"#bd3786\"],[0.5555555555555556,\"#d8576b\"],[0.6666666666666666,\"#ed7953\"],[0.7777777777777778,\"#fb9f3a\"],[0.8888888888888888,\"#fdca26\"],[1.0,\"#f0f921\"]]}],\"heatmapgl\":[{\"type\":\"heatmapgl\",\"colorbar\":{\"outlinewidth\":0,\"ticks\":\"\"},\"colorscale\":[[0.0,\"#0d0887\"],[0.1111111111111111,\"#46039f\"],[0.2222222222222222,\"#7201a8\"],[0.3333333333333333,\"#9c179e\"],[0.4444444444444444,\"#bd3786\"],[0.5555555555555556,\"#d8576b\"],[0.6666666666666666,\"#ed7953\"],[0.7777777777777778,\"#fb9f3a\"],[0.8888888888888888,\"#fdca26\"],[1.0,\"#f0f921\"]]}],\"contourcarpet\":[{\"type\":\"contourcarpet\",\"colorbar\":{\"outlinewidth\":0,\"ticks\":\"\"}}],\"contour\":[{\"type\":\"contour\",\"colorbar\":{\"outlinewidth\":0,\"ticks\":\"\"},\"colorscale\":[[0.0,\"#0d0887\"],[0.1111111111111111,\"#46039f\"],[0.2222222222222222,\"#7201a8\"],[0.3333333333333333,\"#9c179e\"],[0.4444444444444444,\"#bd3786\"],[0.5555555555555556,\"#d8576b\"],[0.6666666666666666,\"#ed7953\"],[0.7777777777777778,\"#fb9f3a\"],[0.8888888888888888,\"#fdca26\"],[1.0,\"#f0f921\"]]}],\"surface\":[{\"type\":\"surface\",\"colorbar\":{\"outlinewidth\":0,\"ticks\":\"\"},\"colorscale\":[[0.0,\"#0d0887\"],[0.1111111111111111,\"#46039f\"],[0.2222222222222222,\"#7201a8\"],[0.3333333333333333,\"#9c179e\"],[0.4444444444444444,\"#bd3786\"],[0.5555555555555556,\"#d8576b\"],[0.6666666666666666,\"#ed7953\"],[0.7777777777777778,\"#fb9f3a\"],[0.8888888888888888,\"#fdca26\"],[1.0,\"#f0f921\"]]}],\"mesh3d\":[{\"type\":\"mesh3d\",\"colorbar\":{\"outlinewidth\":0,\"ticks\":\"\"}}],\"scatter\":[{\"fillpattern\":{\"fillmode\":\"overlay\",\"size\":10,\"solidity\":0.2},\"type\":\"scatter\"}],\"parcoords\":[{\"type\":\"parcoords\",\"line\":{\"colorbar\":{\"outlinewidth\":0,\"ticks\":\"\"}}}],\"scatterpolargl\":[{\"type\":\"scatterpolargl\",\"marker\":{\"colorbar\":{\"outlinewidth\":0,\"ticks\":\"\"}}}],\"bar\":[{\"error_x\":{\"color\":\"#2a3f5f\"},\"error_y\":{\"color\":\"#2a3f5f\"},\"marker\":{\"line\":{\"color\":\"#E5ECF6\",\"width\":0.5},\"pattern\":{\"fillmode\":\"overlay\",\"size\":10,\"solidity\":0.2}},\"type\":\"bar\"}],\"scattergeo\":[{\"type\":\"scattergeo\",\"marker\":{\"colorbar\":{\"outlinewidth\":0,\"ticks\":\"\"}}}],\"scatterpolar\":[{\"type\":\"scatterpolar\",\"marker\":{\"colorbar\":{\"outlinewidth\":0,\"ticks\":\"\"}}}],\"histogram\":[{\"marker\":{\"pattern\":{\"fillmode\":\"overlay\",\"size\":10,\"solidity\":0.2}},\"type\":\"histogram\"}],\"scattergl\":[{\"type\":\"scattergl\",\"marker\":{\"colorbar\":{\"outlinewidth\":0,\"ticks\":\"\"}}}],\"scatter3d\":[{\"type\":\"scatter3d\",\"line\":{\"colorbar\":{\"outlinewidth\":0,\"ticks\":\"\"}},\"marker\":{\"colorbar\":{\"outlinewidth\":0,\"ticks\":\"\"}}}],\"scattermapbox\":[{\"type\":\"scattermapbox\",\"marker\":{\"colorbar\":{\"outlinewidth\":0,\"ticks\":\"\"}}}],\"scatterternary\":[{\"type\":\"scatterternary\",\"marker\":{\"colorbar\":{\"outlinewidth\":0,\"ticks\":\"\"}}}],\"scattercarpet\":[{\"type\":\"scattercarpet\",\"marker\":{\"colorbar\":{\"outlinewidth\":0,\"ticks\":\"\"}}}],\"carpet\":[{\"aaxis\":{\"endlinecolor\":\"#2a3f5f\",\"gridcolor\":\"white\",\"linecolor\":\"white\",\"minorgridcolor\":\"white\",\"startlinecolor\":\"#2a3f5f\"},\"baxis\":{\"endlinecolor\":\"#2a3f5f\",\"gridcolor\":\"white\",\"linecolor\":\"white\",\"minorgridcolor\":\"white\",\"startlinecolor\":\"#2a3f5f\"},\"type\":\"carpet\"}],\"table\":[{\"cells\":{\"fill\":{\"color\":\"#EBF0F8\"},\"line\":{\"color\":\"white\"}},\"header\":{\"fill\":{\"color\":\"#C8D4E3\"},\"line\":{\"color\":\"white\"}},\"type\":\"table\"}],\"barpolar\":[{\"marker\":{\"line\":{\"color\":\"#E5ECF6\",\"width\":0.5},\"pattern\":{\"fillmode\":\"overlay\",\"size\":10,\"solidity\":0.2}},\"type\":\"barpolar\"}],\"pie\":[{\"automargin\":true,\"type\":\"pie\"}]},\"layout\":{\"autotypenumbers\":\"strict\",\"colorway\":[\"#636efa\",\"#EF553B\",\"#00cc96\",\"#ab63fa\",\"#FFA15A\",\"#19d3f3\",\"#FF6692\",\"#B6E880\",\"#FF97FF\",\"#FECB52\"],\"font\":{\"color\":\"#2a3f5f\"},\"hovermode\":\"closest\",\"hoverlabel\":{\"align\":\"left\"},\"paper_bgcolor\":\"white\",\"plot_bgcolor\":\"#E5ECF6\",\"polar\":{\"bgcolor\":\"#E5ECF6\",\"angularaxis\":{\"gridcolor\":\"white\",\"linecolor\":\"white\",\"ticks\":\"\"},\"radialaxis\":{\"gridcolor\":\"white\",\"linecolor\":\"white\",\"ticks\":\"\"}},\"ternary\":{\"bgcolor\":\"#E5ECF6\",\"aaxis\":{\"gridcolor\":\"white\",\"linecolor\":\"white\",\"ticks\":\"\"},\"baxis\":{\"gridcolor\":\"white\",\"linecolor\":\"white\",\"ticks\":\"\"},\"caxis\":{\"gridcolor\":\"white\",\"linecolor\":\"white\",\"ticks\":\"\"}},\"coloraxis\":{\"colorbar\":{\"outlinewidth\":0,\"ticks\":\"\"}},\"colorscale\":{\"sequential\":[[0.0,\"#0d0887\"],[0.1111111111111111,\"#46039f\"],[0.2222222222222222,\"#7201a8\"],[0.3333333333333333,\"#9c179e\"],[0.4444444444444444,\"#bd3786\"],[0.5555555555555556,\"#d8576b\"],[0.6666666666666666,\"#ed7953\"],[0.7777777777777778,\"#fb9f3a\"],[0.8888888888888888,\"#fdca26\"],[1.0,\"#f0f921\"]],\"sequentialminus\":[[0.0,\"#0d0887\"],[0.1111111111111111,\"#46039f\"],[0.2222222222222222,\"#7201a8\"],[0.3333333333333333,\"#9c179e\"],[0.4444444444444444,\"#bd3786\"],[0.5555555555555556,\"#d8576b\"],[0.6666666666666666,\"#ed7953\"],[0.7777777777777778,\"#fb9f3a\"],[0.8888888888888888,\"#fdca26\"],[1.0,\"#f0f921\"]],\"diverging\":[[0,\"#8e0152\"],[0.1,\"#c51b7d\"],[0.2,\"#de77ae\"],[0.3,\"#f1b6da\"],[0.4,\"#fde0ef\"],[0.5,\"#f7f7f7\"],[0.6,\"#e6f5d0\"],[0.7,\"#b8e186\"],[0.8,\"#7fbc41\"],[0.9,\"#4d9221\"],[1,\"#276419\"]]},\"xaxis\":{\"gridcolor\":\"white\",\"linecolor\":\"white\",\"ticks\":\"\",\"title\":{\"standoff\":15},\"zerolinecolor\":\"white\",\"automargin\":true,\"zerolinewidth\":2},\"yaxis\":{\"gridcolor\":\"white\",\"linecolor\":\"white\",\"ticks\":\"\",\"title\":{\"standoff\":15},\"zerolinecolor\":\"white\",\"automargin\":true,\"zerolinewidth\":2},\"scene\":{\"xaxis\":{\"backgroundcolor\":\"#E5ECF6\",\"gridcolor\":\"white\",\"linecolor\":\"white\",\"showbackground\":true,\"ticks\":\"\",\"zerolinecolor\":\"white\",\"gridwidth\":2},\"yaxis\":{\"backgroundcolor\":\"#E5ECF6\",\"gridcolor\":\"white\",\"linecolor\":\"white\",\"showbackground\":true,\"ticks\":\"\",\"zerolinecolor\":\"white\",\"gridwidth\":2},\"zaxis\":{\"backgroundcolor\":\"#E5ECF6\",\"gridcolor\":\"white\",\"linecolor\":\"white\",\"showbackground\":true,\"ticks\":\"\",\"zerolinecolor\":\"white\",\"gridwidth\":2}},\"shapedefaults\":{\"line\":{\"color\":\"#2a3f5f\"}},\"annotationdefaults\":{\"arrowcolor\":\"#2a3f5f\",\"arrowhead\":0,\"arrowwidth\":1},\"geo\":{\"bgcolor\":\"white\",\"landcolor\":\"#E5ECF6\",\"subunitcolor\":\"white\",\"showland\":true,\"showlakes\":true,\"lakecolor\":\"white\"},\"title\":{\"x\":0.05},\"mapbox\":{\"style\":\"light\"}}},\"xaxis\":{\"anchor\":\"y\",\"domain\":[0.0,1.0],\"scaleanchor\":\"y\",\"constrain\":\"domain\",\"title\":{\"text\":\"\\u0e04\\u0e48\\u0e32\\u0e17\\u0e35\\u0e48\\u0e17\\u0e33\\u0e19\\u0e32\\u0e22\"},\"side\":\"top\"},\"yaxis\":{\"anchor\":\"x\",\"domain\":[0.0,1.0],\"autorange\":\"reversed\",\"constrain\":\"domain\",\"title\":{\"text\":\"\\u0e04\\u0e48\\u0e32\\u0e17\\u0e35\\u0e48\\u0e41\\u0e17\\u0e49\\u0e08\\u0e23\\u0e34\\u0e07\"}},\"coloraxis\":{\"colorbar\":{\"title\":{\"text\":\"\\u0e04\\u0e48\\u0e32\\u0e2a\\u0e35\"}},\"colorscale\":[[0.0,\"#0d0887\"],[0.1111111111111111,\"#46039f\"],[0.2222222222222222,\"#7201a8\"],[0.3333333333333333,\"#9c179e\"],[0.4444444444444444,\"#bd3786\"],[0.5555555555555556,\"#d8576b\"],[0.6666666666666666,\"#ed7953\"],[0.7777777777777778,\"#fb9f3a\"],[0.8888888888888888,\"#fdca26\"],[1.0,\"#f0f921\"]]},\"margin\":{\"t\":60}},                        {\"responsive\": true}                    ).then(function(){\n",
              "                            \n",
              "var gd = document.getElementById('1bb2886c-83a8-42ad-84b1-2628becf8eac');\n",
              "var x = new MutationObserver(function (mutations, observer) {{\n",
              "        var display = window.getComputedStyle(gd).display;\n",
              "        if (!display || display === 'none') {{\n",
              "            console.log([gd, 'removed!']);\n",
              "            Plotly.purge(gd);\n",
              "            observer.disconnect();\n",
              "        }}\n",
              "}});\n",
              "\n",
              "// Listen for the removal of the full notebook cells\n",
              "var notebookContainer = gd.closest('#notebook-container');\n",
              "if (notebookContainer) {{\n",
              "    x.observe(notebookContainer, {childList: true});\n",
              "}}\n",
              "\n",
              "// Listen for the clearing of the current output cell\n",
              "var outputEl = gd.closest('.output');\n",
              "if (outputEl) {{\n",
              "    x.observe(outputEl, {childList: true});\n",
              "}}\n",
              "\n",
              "                        })                };                            </script>        </div>\n",
              "</body>\n",
              "</html>"
            ]
          },
          "metadata": {},
          "output_type": "display_data"
        }
      ],
      "source": [
        "fig = px.imshow(df_confusion,\n",
        "          labels=dict(x='ค่าที่ทำนาย', y='ค่าที่แท้จริง', color='ค่าสี'),\n",
        "          text_auto=True)\n",
        "fig.update_xaxes(side=\"top\")  # เอาคำอธิบายแกนนอนไว้ด้านบน"
      ]
    },
    {
      "cell_type": "markdown",
      "metadata": {
        "id": "gzeHpCB8vY_m"
      },
      "source": [
        "\n",
        "\n",
        "> **ข้อสังเกต:** ฟังก์ชันการคำนวณประสิทธิภาพของโมเดล ไม่ว่าจะเป็น `confusion_matrix`, `accuracy_score`, และ `mean_squared_error`  จะถูกนิยามไว้ใน `sklearn.metrics` ดังนั้น ที่ผ่านมา จึงเห็นเรานำเข้าฟังก์ชันเหล่านี้จาก `sklearn.metrics`\n",
        "\n",
        "> **ระวัง:** ฟังก์ชันวัดประสิทธิภาพของ Scikit-learn จะรับค่าที่ถูกต้อง (Ground truth) กับค่าผลการทำนาย (Prediction) ตามลำดับ เพื่อนำไปคำนวณประสิทธิภาพ ดังนั้น ระวังอย่าสลับตำแหน่งการส่งค่า เพราะจะทำให้ผลการคำนวณผิดพลาด หากฟังก์ชันวัดประสิทธิภาพนั้นไม่มีคุณสมบัติสลับที่ อย่างเช่น `confusion_matrix`"
      ]
    },
    {
      "cell_type": "markdown",
      "metadata": {
        "id": "blNXge-c1Yf0"
      },
      "source": [
        "### สรุปโค้ด Logistic regression\n",
        "\n",
        "ในส่วนท้ายของการใช้ Logistic regression เพื่อแก้ปัญหา Binary classification  ด้านล่างนี้ ได้รวบรวมโค้ดทั้งหมดตั้งแต่ต้น จนถึงการรายงานประสิทธิภาพโมเดล"
      ]
    },
    {
      "cell_type": "code",
      "execution_count": 83,
      "metadata": {
        "colab": {
          "base_uri": "https://localhost:8080/",
          "height": 852
        },
        "id": "OcS-tFI31-0S",
        "outputId": "6cd5d884-8142-4f32-99aa-d83dcad24a5d"
      },
      "outputs": [
        {
          "data": {
            "text/html": [
              "<html>\n",
              "<head><meta charset=\"utf-8\" /></head>\n",
              "<body>\n",
              "    <div>            <script src=\"https://cdnjs.cloudflare.com/ajax/libs/mathjax/2.7.5/MathJax.js?config=TeX-AMS-MML_SVG\"></script><script type=\"text/javascript\">if (window.MathJax && window.MathJax.Hub && window.MathJax.Hub.Config) {window.MathJax.Hub.Config({SVG: {font: \"STIX-Web\"}});}</script>                <script type=\"text/javascript\">window.PlotlyConfig = {MathJaxConfig: 'local'};</script>\n",
              "        <script charset=\"utf-8\" src=\"https://cdn.plot.ly/plotly-2.24.1.min.js\"></script>                <div id=\"cae89772-f6a2-48ea-b1d9-0b8fe163045e\" class=\"plotly-graph-div\" style=\"height:400px; width:400px;\"></div>            <script type=\"text/javascript\">                                    window.PLOTLYENV=window.PLOTLYENV || {};                                    if (document.getElementById(\"cae89772-f6a2-48ea-b1d9-0b8fe163045e\")) {                    Plotly.newPlot(                        \"cae89772-f6a2-48ea-b1d9-0b8fe163045e\",                        [{\"coloraxis\":\"coloraxis\",\"name\":\"0\",\"texttemplate\":\"%{z}\",\"x\":[\"Iris-setosa\",\"Iris-versicolor\"],\"y\":[\"Iris-setosa\",\"Iris-versicolor\"],\"z\":[[31,6],[5,28]],\"type\":\"heatmap\",\"xaxis\":\"x\",\"yaxis\":\"y\",\"hovertemplate\":\"\\u0e04\\u0e48\\u0e32\\u0e17\\u0e35\\u0e48\\u0e17\\u0e33\\u0e19\\u0e32\\u0e22: %{x}\\u003cbr\\u003e\\u0e04\\u0e48\\u0e32\\u0e17\\u0e35\\u0e48\\u0e41\\u0e17\\u0e49\\u0e08\\u0e23\\u0e34\\u0e07: %{y}\\u003cbr\\u003e\\u0e04\\u0e48\\u0e32\\u0e2a\\u0e35: %{z}\\u003cextra\\u003e\\u003c\\u002fextra\\u003e\"}],                        {\"template\":{\"data\":{\"histogram2dcontour\":[{\"type\":\"histogram2dcontour\",\"colorbar\":{\"outlinewidth\":0,\"ticks\":\"\"},\"colorscale\":[[0.0,\"#0d0887\"],[0.1111111111111111,\"#46039f\"],[0.2222222222222222,\"#7201a8\"],[0.3333333333333333,\"#9c179e\"],[0.4444444444444444,\"#bd3786\"],[0.5555555555555556,\"#d8576b\"],[0.6666666666666666,\"#ed7953\"],[0.7777777777777778,\"#fb9f3a\"],[0.8888888888888888,\"#fdca26\"],[1.0,\"#f0f921\"]]}],\"choropleth\":[{\"type\":\"choropleth\",\"colorbar\":{\"outlinewidth\":0,\"ticks\":\"\"}}],\"histogram2d\":[{\"type\":\"histogram2d\",\"colorbar\":{\"outlinewidth\":0,\"ticks\":\"\"},\"colorscale\":[[0.0,\"#0d0887\"],[0.1111111111111111,\"#46039f\"],[0.2222222222222222,\"#7201a8\"],[0.3333333333333333,\"#9c179e\"],[0.4444444444444444,\"#bd3786\"],[0.5555555555555556,\"#d8576b\"],[0.6666666666666666,\"#ed7953\"],[0.7777777777777778,\"#fb9f3a\"],[0.8888888888888888,\"#fdca26\"],[1.0,\"#f0f921\"]]}],\"heatmap\":[{\"type\":\"heatmap\",\"colorbar\":{\"outlinewidth\":0,\"ticks\":\"\"},\"colorscale\":[[0.0,\"#0d0887\"],[0.1111111111111111,\"#46039f\"],[0.2222222222222222,\"#7201a8\"],[0.3333333333333333,\"#9c179e\"],[0.4444444444444444,\"#bd3786\"],[0.5555555555555556,\"#d8576b\"],[0.6666666666666666,\"#ed7953\"],[0.7777777777777778,\"#fb9f3a\"],[0.8888888888888888,\"#fdca26\"],[1.0,\"#f0f921\"]]}],\"heatmapgl\":[{\"type\":\"heatmapgl\",\"colorbar\":{\"outlinewidth\":0,\"ticks\":\"\"},\"colorscale\":[[0.0,\"#0d0887\"],[0.1111111111111111,\"#46039f\"],[0.2222222222222222,\"#7201a8\"],[0.3333333333333333,\"#9c179e\"],[0.4444444444444444,\"#bd3786\"],[0.5555555555555556,\"#d8576b\"],[0.6666666666666666,\"#ed7953\"],[0.7777777777777778,\"#fb9f3a\"],[0.8888888888888888,\"#fdca26\"],[1.0,\"#f0f921\"]]}],\"contourcarpet\":[{\"type\":\"contourcarpet\",\"colorbar\":{\"outlinewidth\":0,\"ticks\":\"\"}}],\"contour\":[{\"type\":\"contour\",\"colorbar\":{\"outlinewidth\":0,\"ticks\":\"\"},\"colorscale\":[[0.0,\"#0d0887\"],[0.1111111111111111,\"#46039f\"],[0.2222222222222222,\"#7201a8\"],[0.3333333333333333,\"#9c179e\"],[0.4444444444444444,\"#bd3786\"],[0.5555555555555556,\"#d8576b\"],[0.6666666666666666,\"#ed7953\"],[0.7777777777777778,\"#fb9f3a\"],[0.8888888888888888,\"#fdca26\"],[1.0,\"#f0f921\"]]}],\"surface\":[{\"type\":\"surface\",\"colorbar\":{\"outlinewidth\":0,\"ticks\":\"\"},\"colorscale\":[[0.0,\"#0d0887\"],[0.1111111111111111,\"#46039f\"],[0.2222222222222222,\"#7201a8\"],[0.3333333333333333,\"#9c179e\"],[0.4444444444444444,\"#bd3786\"],[0.5555555555555556,\"#d8576b\"],[0.6666666666666666,\"#ed7953\"],[0.7777777777777778,\"#fb9f3a\"],[0.8888888888888888,\"#fdca26\"],[1.0,\"#f0f921\"]]}],\"mesh3d\":[{\"type\":\"mesh3d\",\"colorbar\":{\"outlinewidth\":0,\"ticks\":\"\"}}],\"scatter\":[{\"fillpattern\":{\"fillmode\":\"overlay\",\"size\":10,\"solidity\":0.2},\"type\":\"scatter\"}],\"parcoords\":[{\"type\":\"parcoords\",\"line\":{\"colorbar\":{\"outlinewidth\":0,\"ticks\":\"\"}}}],\"scatterpolargl\":[{\"type\":\"scatterpolargl\",\"marker\":{\"colorbar\":{\"outlinewidth\":0,\"ticks\":\"\"}}}],\"bar\":[{\"error_x\":{\"color\":\"#2a3f5f\"},\"error_y\":{\"color\":\"#2a3f5f\"},\"marker\":{\"line\":{\"color\":\"#E5ECF6\",\"width\":0.5},\"pattern\":{\"fillmode\":\"overlay\",\"size\":10,\"solidity\":0.2}},\"type\":\"bar\"}],\"scattergeo\":[{\"type\":\"scattergeo\",\"marker\":{\"colorbar\":{\"outlinewidth\":0,\"ticks\":\"\"}}}],\"scatterpolar\":[{\"type\":\"scatterpolar\",\"marker\":{\"colorbar\":{\"outlinewidth\":0,\"ticks\":\"\"}}}],\"histogram\":[{\"marker\":{\"pattern\":{\"fillmode\":\"overlay\",\"size\":10,\"solidity\":0.2}},\"type\":\"histogram\"}],\"scattergl\":[{\"type\":\"scattergl\",\"marker\":{\"colorbar\":{\"outlinewidth\":0,\"ticks\":\"\"}}}],\"scatter3d\":[{\"type\":\"scatter3d\",\"line\":{\"colorbar\":{\"outlinewidth\":0,\"ticks\":\"\"}},\"marker\":{\"colorbar\":{\"outlinewidth\":0,\"ticks\":\"\"}}}],\"scattermapbox\":[{\"type\":\"scattermapbox\",\"marker\":{\"colorbar\":{\"outlinewidth\":0,\"ticks\":\"\"}}}],\"scatterternary\":[{\"type\":\"scatterternary\",\"marker\":{\"colorbar\":{\"outlinewidth\":0,\"ticks\":\"\"}}}],\"scattercarpet\":[{\"type\":\"scattercarpet\",\"marker\":{\"colorbar\":{\"outlinewidth\":0,\"ticks\":\"\"}}}],\"carpet\":[{\"aaxis\":{\"endlinecolor\":\"#2a3f5f\",\"gridcolor\":\"white\",\"linecolor\":\"white\",\"minorgridcolor\":\"white\",\"startlinecolor\":\"#2a3f5f\"},\"baxis\":{\"endlinecolor\":\"#2a3f5f\",\"gridcolor\":\"white\",\"linecolor\":\"white\",\"minorgridcolor\":\"white\",\"startlinecolor\":\"#2a3f5f\"},\"type\":\"carpet\"}],\"table\":[{\"cells\":{\"fill\":{\"color\":\"#EBF0F8\"},\"line\":{\"color\":\"white\"}},\"header\":{\"fill\":{\"color\":\"#C8D4E3\"},\"line\":{\"color\":\"white\"}},\"type\":\"table\"}],\"barpolar\":[{\"marker\":{\"line\":{\"color\":\"#E5ECF6\",\"width\":0.5},\"pattern\":{\"fillmode\":\"overlay\",\"size\":10,\"solidity\":0.2}},\"type\":\"barpolar\"}],\"pie\":[{\"automargin\":true,\"type\":\"pie\"}]},\"layout\":{\"autotypenumbers\":\"strict\",\"colorway\":[\"#636efa\",\"#EF553B\",\"#00cc96\",\"#ab63fa\",\"#FFA15A\",\"#19d3f3\",\"#FF6692\",\"#B6E880\",\"#FF97FF\",\"#FECB52\"],\"font\":{\"color\":\"#2a3f5f\"},\"hovermode\":\"closest\",\"hoverlabel\":{\"align\":\"left\"},\"paper_bgcolor\":\"white\",\"plot_bgcolor\":\"#E5ECF6\",\"polar\":{\"bgcolor\":\"#E5ECF6\",\"angularaxis\":{\"gridcolor\":\"white\",\"linecolor\":\"white\",\"ticks\":\"\"},\"radialaxis\":{\"gridcolor\":\"white\",\"linecolor\":\"white\",\"ticks\":\"\"}},\"ternary\":{\"bgcolor\":\"#E5ECF6\",\"aaxis\":{\"gridcolor\":\"white\",\"linecolor\":\"white\",\"ticks\":\"\"},\"baxis\":{\"gridcolor\":\"white\",\"linecolor\":\"white\",\"ticks\":\"\"},\"caxis\":{\"gridcolor\":\"white\",\"linecolor\":\"white\",\"ticks\":\"\"}},\"coloraxis\":{\"colorbar\":{\"outlinewidth\":0,\"ticks\":\"\"}},\"colorscale\":{\"sequential\":[[0.0,\"#0d0887\"],[0.1111111111111111,\"#46039f\"],[0.2222222222222222,\"#7201a8\"],[0.3333333333333333,\"#9c179e\"],[0.4444444444444444,\"#bd3786\"],[0.5555555555555556,\"#d8576b\"],[0.6666666666666666,\"#ed7953\"],[0.7777777777777778,\"#fb9f3a\"],[0.8888888888888888,\"#fdca26\"],[1.0,\"#f0f921\"]],\"sequentialminus\":[[0.0,\"#0d0887\"],[0.1111111111111111,\"#46039f\"],[0.2222222222222222,\"#7201a8\"],[0.3333333333333333,\"#9c179e\"],[0.4444444444444444,\"#bd3786\"],[0.5555555555555556,\"#d8576b\"],[0.6666666666666666,\"#ed7953\"],[0.7777777777777778,\"#fb9f3a\"],[0.8888888888888888,\"#fdca26\"],[1.0,\"#f0f921\"]],\"diverging\":[[0,\"#8e0152\"],[0.1,\"#c51b7d\"],[0.2,\"#de77ae\"],[0.3,\"#f1b6da\"],[0.4,\"#fde0ef\"],[0.5,\"#f7f7f7\"],[0.6,\"#e6f5d0\"],[0.7,\"#b8e186\"],[0.8,\"#7fbc41\"],[0.9,\"#4d9221\"],[1,\"#276419\"]]},\"xaxis\":{\"gridcolor\":\"white\",\"linecolor\":\"white\",\"ticks\":\"\",\"title\":{\"standoff\":15},\"zerolinecolor\":\"white\",\"automargin\":true,\"zerolinewidth\":2},\"yaxis\":{\"gridcolor\":\"white\",\"linecolor\":\"white\",\"ticks\":\"\",\"title\":{\"standoff\":15},\"zerolinecolor\":\"white\",\"automargin\":true,\"zerolinewidth\":2},\"scene\":{\"xaxis\":{\"backgroundcolor\":\"#E5ECF6\",\"gridcolor\":\"white\",\"linecolor\":\"white\",\"showbackground\":true,\"ticks\":\"\",\"zerolinecolor\":\"white\",\"gridwidth\":2},\"yaxis\":{\"backgroundcolor\":\"#E5ECF6\",\"gridcolor\":\"white\",\"linecolor\":\"white\",\"showbackground\":true,\"ticks\":\"\",\"zerolinecolor\":\"white\",\"gridwidth\":2},\"zaxis\":{\"backgroundcolor\":\"#E5ECF6\",\"gridcolor\":\"white\",\"linecolor\":\"white\",\"showbackground\":true,\"ticks\":\"\",\"zerolinecolor\":\"white\",\"gridwidth\":2}},\"shapedefaults\":{\"line\":{\"color\":\"#2a3f5f\"}},\"annotationdefaults\":{\"arrowcolor\":\"#2a3f5f\",\"arrowhead\":0,\"arrowwidth\":1},\"geo\":{\"bgcolor\":\"white\",\"landcolor\":\"#E5ECF6\",\"subunitcolor\":\"white\",\"showland\":true,\"showlakes\":true,\"lakecolor\":\"white\"},\"title\":{\"x\":0.05},\"mapbox\":{\"style\":\"light\"}}},\"xaxis\":{\"anchor\":\"y\",\"domain\":[0.0,1.0],\"scaleanchor\":\"y\",\"constrain\":\"domain\",\"title\":{\"text\":\"\\u0e04\\u0e48\\u0e32\\u0e17\\u0e35\\u0e48\\u0e17\\u0e33\\u0e19\\u0e32\\u0e22\"}},\"yaxis\":{\"anchor\":\"x\",\"domain\":[0.0,1.0],\"autorange\":\"reversed\",\"constrain\":\"domain\",\"title\":{\"text\":\"\\u0e04\\u0e48\\u0e32\\u0e17\\u0e35\\u0e48\\u0e41\\u0e17\\u0e49\\u0e08\\u0e23\\u0e34\\u0e07\"}},\"coloraxis\":{\"colorbar\":{\"title\":{\"text\":\"\\u0e04\\u0e48\\u0e32\\u0e2a\\u0e35\"}},\"colorscale\":[[0.0,\"#0d0887\"],[0.1111111111111111,\"#46039f\"],[0.2222222222222222,\"#7201a8\"],[0.3333333333333333,\"#9c179e\"],[0.4444444444444444,\"#bd3786\"],[0.5555555555555556,\"#d8576b\"],[0.6666666666666666,\"#ed7953\"],[0.7777777777777778,\"#fb9f3a\"],[0.8888888888888888,\"#fdca26\"],[1.0,\"#f0f921\"]]},\"title\":{\"text\":\"Confusion matrix \\u0e02\\u0e2d\\u0e07 training set\"},\"height\":400,\"width\":400},                        {\"responsive\": true}                    ).then(function(){\n",
              "                            \n",
              "var gd = document.getElementById('cae89772-f6a2-48ea-b1d9-0b8fe163045e');\n",
              "var x = new MutationObserver(function (mutations, observer) {{\n",
              "        var display = window.getComputedStyle(gd).display;\n",
              "        if (!display || display === 'none') {{\n",
              "            console.log([gd, 'removed!']);\n",
              "            Plotly.purge(gd);\n",
              "            observer.disconnect();\n",
              "        }}\n",
              "}});\n",
              "\n",
              "// Listen for the removal of the full notebook cells\n",
              "var notebookContainer = gd.closest('#notebook-container');\n",
              "if (notebookContainer) {{\n",
              "    x.observe(notebookContainer, {childList: true});\n",
              "}}\n",
              "\n",
              "// Listen for the clearing of the current output cell\n",
              "var outputEl = gd.closest('.output');\n",
              "if (outputEl) {{\n",
              "    x.observe(outputEl, {childList: true});\n",
              "}}\n",
              "\n",
              "                        })                };                            </script>        </div>\n",
              "</body>\n",
              "</html>"
            ]
          },
          "metadata": {},
          "output_type": "display_data"
        },
        {
          "data": {
            "text/html": [
              "<html>\n",
              "<head><meta charset=\"utf-8\" /></head>\n",
              "<body>\n",
              "    <div>            <script src=\"https://cdnjs.cloudflare.com/ajax/libs/mathjax/2.7.5/MathJax.js?config=TeX-AMS-MML_SVG\"></script><script type=\"text/javascript\">if (window.MathJax && window.MathJax.Hub && window.MathJax.Hub.Config) {window.MathJax.Hub.Config({SVG: {font: \"STIX-Web\"}});}</script>                <script type=\"text/javascript\">window.PlotlyConfig = {MathJaxConfig: 'local'};</script>\n",
              "        <script charset=\"utf-8\" src=\"https://cdn.plot.ly/plotly-2.24.1.min.js\"></script>                <div id=\"e380ae9b-659d-4eda-a9d8-ad77f2016f38\" class=\"plotly-graph-div\" style=\"height:400px; width:400px;\"></div>            <script type=\"text/javascript\">                                    window.PLOTLYENV=window.PLOTLYENV || {};                                    if (document.getElementById(\"e380ae9b-659d-4eda-a9d8-ad77f2016f38\")) {                    Plotly.newPlot(                        \"e380ae9b-659d-4eda-a9d8-ad77f2016f38\",                        [{\"coloraxis\":\"coloraxis\",\"name\":\"0\",\"texttemplate\":\"%{z}\",\"x\":[\"Iris-setosa\",\"Iris-versicolor\"],\"y\":[\"Iris-setosa\",\"Iris-versicolor\"],\"z\":[[11,2],[3,14]],\"type\":\"heatmap\",\"xaxis\":\"x\",\"yaxis\":\"y\",\"hovertemplate\":\"\\u0e04\\u0e48\\u0e32\\u0e17\\u0e35\\u0e48\\u0e17\\u0e33\\u0e19\\u0e32\\u0e22: %{x}\\u003cbr\\u003e\\u0e04\\u0e48\\u0e32\\u0e17\\u0e35\\u0e48\\u0e41\\u0e17\\u0e49\\u0e08\\u0e23\\u0e34\\u0e07: %{y}\\u003cbr\\u003e\\u0e04\\u0e48\\u0e32\\u0e2a\\u0e35: %{z}\\u003cextra\\u003e\\u003c\\u002fextra\\u003e\"}],                        {\"template\":{\"data\":{\"histogram2dcontour\":[{\"type\":\"histogram2dcontour\",\"colorbar\":{\"outlinewidth\":0,\"ticks\":\"\"},\"colorscale\":[[0.0,\"#0d0887\"],[0.1111111111111111,\"#46039f\"],[0.2222222222222222,\"#7201a8\"],[0.3333333333333333,\"#9c179e\"],[0.4444444444444444,\"#bd3786\"],[0.5555555555555556,\"#d8576b\"],[0.6666666666666666,\"#ed7953\"],[0.7777777777777778,\"#fb9f3a\"],[0.8888888888888888,\"#fdca26\"],[1.0,\"#f0f921\"]]}],\"choropleth\":[{\"type\":\"choropleth\",\"colorbar\":{\"outlinewidth\":0,\"ticks\":\"\"}}],\"histogram2d\":[{\"type\":\"histogram2d\",\"colorbar\":{\"outlinewidth\":0,\"ticks\":\"\"},\"colorscale\":[[0.0,\"#0d0887\"],[0.1111111111111111,\"#46039f\"],[0.2222222222222222,\"#7201a8\"],[0.3333333333333333,\"#9c179e\"],[0.4444444444444444,\"#bd3786\"],[0.5555555555555556,\"#d8576b\"],[0.6666666666666666,\"#ed7953\"],[0.7777777777777778,\"#fb9f3a\"],[0.8888888888888888,\"#fdca26\"],[1.0,\"#f0f921\"]]}],\"heatmap\":[{\"type\":\"heatmap\",\"colorbar\":{\"outlinewidth\":0,\"ticks\":\"\"},\"colorscale\":[[0.0,\"#0d0887\"],[0.1111111111111111,\"#46039f\"],[0.2222222222222222,\"#7201a8\"],[0.3333333333333333,\"#9c179e\"],[0.4444444444444444,\"#bd3786\"],[0.5555555555555556,\"#d8576b\"],[0.6666666666666666,\"#ed7953\"],[0.7777777777777778,\"#fb9f3a\"],[0.8888888888888888,\"#fdca26\"],[1.0,\"#f0f921\"]]}],\"heatmapgl\":[{\"type\":\"heatmapgl\",\"colorbar\":{\"outlinewidth\":0,\"ticks\":\"\"},\"colorscale\":[[0.0,\"#0d0887\"],[0.1111111111111111,\"#46039f\"],[0.2222222222222222,\"#7201a8\"],[0.3333333333333333,\"#9c179e\"],[0.4444444444444444,\"#bd3786\"],[0.5555555555555556,\"#d8576b\"],[0.6666666666666666,\"#ed7953\"],[0.7777777777777778,\"#fb9f3a\"],[0.8888888888888888,\"#fdca26\"],[1.0,\"#f0f921\"]]}],\"contourcarpet\":[{\"type\":\"contourcarpet\",\"colorbar\":{\"outlinewidth\":0,\"ticks\":\"\"}}],\"contour\":[{\"type\":\"contour\",\"colorbar\":{\"outlinewidth\":0,\"ticks\":\"\"},\"colorscale\":[[0.0,\"#0d0887\"],[0.1111111111111111,\"#46039f\"],[0.2222222222222222,\"#7201a8\"],[0.3333333333333333,\"#9c179e\"],[0.4444444444444444,\"#bd3786\"],[0.5555555555555556,\"#d8576b\"],[0.6666666666666666,\"#ed7953\"],[0.7777777777777778,\"#fb9f3a\"],[0.8888888888888888,\"#fdca26\"],[1.0,\"#f0f921\"]]}],\"surface\":[{\"type\":\"surface\",\"colorbar\":{\"outlinewidth\":0,\"ticks\":\"\"},\"colorscale\":[[0.0,\"#0d0887\"],[0.1111111111111111,\"#46039f\"],[0.2222222222222222,\"#7201a8\"],[0.3333333333333333,\"#9c179e\"],[0.4444444444444444,\"#bd3786\"],[0.5555555555555556,\"#d8576b\"],[0.6666666666666666,\"#ed7953\"],[0.7777777777777778,\"#fb9f3a\"],[0.8888888888888888,\"#fdca26\"],[1.0,\"#f0f921\"]]}],\"mesh3d\":[{\"type\":\"mesh3d\",\"colorbar\":{\"outlinewidth\":0,\"ticks\":\"\"}}],\"scatter\":[{\"fillpattern\":{\"fillmode\":\"overlay\",\"size\":10,\"solidity\":0.2},\"type\":\"scatter\"}],\"parcoords\":[{\"type\":\"parcoords\",\"line\":{\"colorbar\":{\"outlinewidth\":0,\"ticks\":\"\"}}}],\"scatterpolargl\":[{\"type\":\"scatterpolargl\",\"marker\":{\"colorbar\":{\"outlinewidth\":0,\"ticks\":\"\"}}}],\"bar\":[{\"error_x\":{\"color\":\"#2a3f5f\"},\"error_y\":{\"color\":\"#2a3f5f\"},\"marker\":{\"line\":{\"color\":\"#E5ECF6\",\"width\":0.5},\"pattern\":{\"fillmode\":\"overlay\",\"size\":10,\"solidity\":0.2}},\"type\":\"bar\"}],\"scattergeo\":[{\"type\":\"scattergeo\",\"marker\":{\"colorbar\":{\"outlinewidth\":0,\"ticks\":\"\"}}}],\"scatterpolar\":[{\"type\":\"scatterpolar\",\"marker\":{\"colorbar\":{\"outlinewidth\":0,\"ticks\":\"\"}}}],\"histogram\":[{\"marker\":{\"pattern\":{\"fillmode\":\"overlay\",\"size\":10,\"solidity\":0.2}},\"type\":\"histogram\"}],\"scattergl\":[{\"type\":\"scattergl\",\"marker\":{\"colorbar\":{\"outlinewidth\":0,\"ticks\":\"\"}}}],\"scatter3d\":[{\"type\":\"scatter3d\",\"line\":{\"colorbar\":{\"outlinewidth\":0,\"ticks\":\"\"}},\"marker\":{\"colorbar\":{\"outlinewidth\":0,\"ticks\":\"\"}}}],\"scattermapbox\":[{\"type\":\"scattermapbox\",\"marker\":{\"colorbar\":{\"outlinewidth\":0,\"ticks\":\"\"}}}],\"scatterternary\":[{\"type\":\"scatterternary\",\"marker\":{\"colorbar\":{\"outlinewidth\":0,\"ticks\":\"\"}}}],\"scattercarpet\":[{\"type\":\"scattercarpet\",\"marker\":{\"colorbar\":{\"outlinewidth\":0,\"ticks\":\"\"}}}],\"carpet\":[{\"aaxis\":{\"endlinecolor\":\"#2a3f5f\",\"gridcolor\":\"white\",\"linecolor\":\"white\",\"minorgridcolor\":\"white\",\"startlinecolor\":\"#2a3f5f\"},\"baxis\":{\"endlinecolor\":\"#2a3f5f\",\"gridcolor\":\"white\",\"linecolor\":\"white\",\"minorgridcolor\":\"white\",\"startlinecolor\":\"#2a3f5f\"},\"type\":\"carpet\"}],\"table\":[{\"cells\":{\"fill\":{\"color\":\"#EBF0F8\"},\"line\":{\"color\":\"white\"}},\"header\":{\"fill\":{\"color\":\"#C8D4E3\"},\"line\":{\"color\":\"white\"}},\"type\":\"table\"}],\"barpolar\":[{\"marker\":{\"line\":{\"color\":\"#E5ECF6\",\"width\":0.5},\"pattern\":{\"fillmode\":\"overlay\",\"size\":10,\"solidity\":0.2}},\"type\":\"barpolar\"}],\"pie\":[{\"automargin\":true,\"type\":\"pie\"}]},\"layout\":{\"autotypenumbers\":\"strict\",\"colorway\":[\"#636efa\",\"#EF553B\",\"#00cc96\",\"#ab63fa\",\"#FFA15A\",\"#19d3f3\",\"#FF6692\",\"#B6E880\",\"#FF97FF\",\"#FECB52\"],\"font\":{\"color\":\"#2a3f5f\"},\"hovermode\":\"closest\",\"hoverlabel\":{\"align\":\"left\"},\"paper_bgcolor\":\"white\",\"plot_bgcolor\":\"#E5ECF6\",\"polar\":{\"bgcolor\":\"#E5ECF6\",\"angularaxis\":{\"gridcolor\":\"white\",\"linecolor\":\"white\",\"ticks\":\"\"},\"radialaxis\":{\"gridcolor\":\"white\",\"linecolor\":\"white\",\"ticks\":\"\"}},\"ternary\":{\"bgcolor\":\"#E5ECF6\",\"aaxis\":{\"gridcolor\":\"white\",\"linecolor\":\"white\",\"ticks\":\"\"},\"baxis\":{\"gridcolor\":\"white\",\"linecolor\":\"white\",\"ticks\":\"\"},\"caxis\":{\"gridcolor\":\"white\",\"linecolor\":\"white\",\"ticks\":\"\"}},\"coloraxis\":{\"colorbar\":{\"outlinewidth\":0,\"ticks\":\"\"}},\"colorscale\":{\"sequential\":[[0.0,\"#0d0887\"],[0.1111111111111111,\"#46039f\"],[0.2222222222222222,\"#7201a8\"],[0.3333333333333333,\"#9c179e\"],[0.4444444444444444,\"#bd3786\"],[0.5555555555555556,\"#d8576b\"],[0.6666666666666666,\"#ed7953\"],[0.7777777777777778,\"#fb9f3a\"],[0.8888888888888888,\"#fdca26\"],[1.0,\"#f0f921\"]],\"sequentialminus\":[[0.0,\"#0d0887\"],[0.1111111111111111,\"#46039f\"],[0.2222222222222222,\"#7201a8\"],[0.3333333333333333,\"#9c179e\"],[0.4444444444444444,\"#bd3786\"],[0.5555555555555556,\"#d8576b\"],[0.6666666666666666,\"#ed7953\"],[0.7777777777777778,\"#fb9f3a\"],[0.8888888888888888,\"#fdca26\"],[1.0,\"#f0f921\"]],\"diverging\":[[0,\"#8e0152\"],[0.1,\"#c51b7d\"],[0.2,\"#de77ae\"],[0.3,\"#f1b6da\"],[0.4,\"#fde0ef\"],[0.5,\"#f7f7f7\"],[0.6,\"#e6f5d0\"],[0.7,\"#b8e186\"],[0.8,\"#7fbc41\"],[0.9,\"#4d9221\"],[1,\"#276419\"]]},\"xaxis\":{\"gridcolor\":\"white\",\"linecolor\":\"white\",\"ticks\":\"\",\"title\":{\"standoff\":15},\"zerolinecolor\":\"white\",\"automargin\":true,\"zerolinewidth\":2},\"yaxis\":{\"gridcolor\":\"white\",\"linecolor\":\"white\",\"ticks\":\"\",\"title\":{\"standoff\":15},\"zerolinecolor\":\"white\",\"automargin\":true,\"zerolinewidth\":2},\"scene\":{\"xaxis\":{\"backgroundcolor\":\"#E5ECF6\",\"gridcolor\":\"white\",\"linecolor\":\"white\",\"showbackground\":true,\"ticks\":\"\",\"zerolinecolor\":\"white\",\"gridwidth\":2},\"yaxis\":{\"backgroundcolor\":\"#E5ECF6\",\"gridcolor\":\"white\",\"linecolor\":\"white\",\"showbackground\":true,\"ticks\":\"\",\"zerolinecolor\":\"white\",\"gridwidth\":2},\"zaxis\":{\"backgroundcolor\":\"#E5ECF6\",\"gridcolor\":\"white\",\"linecolor\":\"white\",\"showbackground\":true,\"ticks\":\"\",\"zerolinecolor\":\"white\",\"gridwidth\":2}},\"shapedefaults\":{\"line\":{\"color\":\"#2a3f5f\"}},\"annotationdefaults\":{\"arrowcolor\":\"#2a3f5f\",\"arrowhead\":0,\"arrowwidth\":1},\"geo\":{\"bgcolor\":\"white\",\"landcolor\":\"#E5ECF6\",\"subunitcolor\":\"white\",\"showland\":true,\"showlakes\":true,\"lakecolor\":\"white\"},\"title\":{\"x\":0.05},\"mapbox\":{\"style\":\"light\"}}},\"xaxis\":{\"anchor\":\"y\",\"domain\":[0.0,1.0],\"scaleanchor\":\"y\",\"constrain\":\"domain\",\"title\":{\"text\":\"\\u0e04\\u0e48\\u0e32\\u0e17\\u0e35\\u0e48\\u0e17\\u0e33\\u0e19\\u0e32\\u0e22\"}},\"yaxis\":{\"anchor\":\"x\",\"domain\":[0.0,1.0],\"autorange\":\"reversed\",\"constrain\":\"domain\",\"title\":{\"text\":\"\\u0e04\\u0e48\\u0e32\\u0e17\\u0e35\\u0e48\\u0e41\\u0e17\\u0e49\\u0e08\\u0e23\\u0e34\\u0e07\"}},\"coloraxis\":{\"colorbar\":{\"title\":{\"text\":\"\\u0e04\\u0e48\\u0e32\\u0e2a\\u0e35\"}},\"colorscale\":[[0.0,\"#0d0887\"],[0.1111111111111111,\"#46039f\"],[0.2222222222222222,\"#7201a8\"],[0.3333333333333333,\"#9c179e\"],[0.4444444444444444,\"#bd3786\"],[0.5555555555555556,\"#d8576b\"],[0.6666666666666666,\"#ed7953\"],[0.7777777777777778,\"#fb9f3a\"],[0.8888888888888888,\"#fdca26\"],[1.0,\"#f0f921\"]]},\"title\":{\"text\":\"Confusion matrix \\u0e02\\u0e2d\\u0e07 test set\"},\"height\":400,\"width\":400},                        {\"responsive\": true}                    ).then(function(){\n",
              "                            \n",
              "var gd = document.getElementById('e380ae9b-659d-4eda-a9d8-ad77f2016f38');\n",
              "var x = new MutationObserver(function (mutations, observer) {{\n",
              "        var display = window.getComputedStyle(gd).display;\n",
              "        if (!display || display === 'none') {{\n",
              "            console.log([gd, 'removed!']);\n",
              "            Plotly.purge(gd);\n",
              "            observer.disconnect();\n",
              "        }}\n",
              "}});\n",
              "\n",
              "// Listen for the removal of the full notebook cells\n",
              "var notebookContainer = gd.closest('#notebook-container');\n",
              "if (notebookContainer) {{\n",
              "    x.observe(notebookContainer, {childList: true});\n",
              "}}\n",
              "\n",
              "// Listen for the clearing of the current output cell\n",
              "var outputEl = gd.closest('.output');\n",
              "if (outputEl) {{\n",
              "    x.observe(outputEl, {childList: true});\n",
              "}}\n",
              "\n",
              "                        })                };                            </script>        </div>\n",
              "</body>\n",
              "</html>"
            ]
          },
          "metadata": {},
          "output_type": "display_data"
        },
        {
          "name": "stdout",
          "output_type": "stream",
          "text": [
            "Accuracy of training set = 84.286%\n",
            "Accuracy of test set = 83.333%\n"
          ]
        }
      ],
      "source": [
        "%reset -f\n",
        "import pandas as pd\n",
        "column_names = ['sepal_length', 'sepal_width', 'petal_length', 'petal_width', 'class']\n",
        "iris = pd.read_csv('iris_data/iris.data',\n",
        "                   header=None,\n",
        "                   names=column_names)\n",
        "\n",
        "######################\n",
        "# ส่วนของการเตรียมข้อมูล #\n",
        "######################\n",
        "iris2 = iris.loc[(iris['class'] == 'Iris-setosa') | (iris['class'] == 'Iris-versicolor'), ['sepal_width','class']].copy()\n",
        "\n",
        "# Train/Test split\n",
        "from sklearn.model_selection import train_test_split\n",
        "iris2_train, iris2_test = train_test_split(iris2, train_size=0.7, random_state=888)\n",
        "\n",
        "# LabelEncoder\n",
        "from sklearn.preprocessing import LabelEncoder\n",
        "le = LabelEncoder()\n",
        "y_train = le.fit_transform(iris2_train['class'])\n",
        "y_test = le.transform(iris2_test['class'])\n",
        "\n",
        "# Standardization\n",
        "from sklearn.preprocessing import StandardScaler\n",
        "scaler = StandardScaler()\n",
        "X_train = iris2_train[['sepal_width']]  # X ต้องเป็น DataFrame ที่แต่ละแถวคือ 1 ดอก\n",
        "X_test = iris2_test[['sepal_width']]\n",
        "X_train = scaler.fit_transform(X_train)  # ทำทั้ง fit (คำนวณ mean และ sd) และ transform (แปลงค่า)\n",
        "X_test = scaler.transform(X_test) # transform โดยใช้ค่าที่ fit ไว้แล้ว\n",
        "\n",
        "#############################\n",
        "# ส่วนของโมเดลและการเทรนโมเดล #\n",
        "#############################\n",
        "from sklearn.linear_model import LogisticRegression\n",
        "model = LogisticRegression()   # ใช้รูปแบบเดียวกับ LinearRegression เลย\n",
        "model.fit(X_train, y_train)    # เทรนโมเดล\n",
        "\n",
        "##################\n",
        "# ส่วนของการทำนาย #\n",
        "##################\n",
        "y_train_pred = model.predict(X_train)\n",
        "y_test_pred = model.predict(X_test)\n",
        "\n",
        "##################\n",
        "# ส่วนของการประเมิน #\n",
        "##################\n",
        "from sklearn.metrics import accuracy_score\n",
        "acc_train = accuracy_score(y_train, y_train_pred)\n",
        "acc_test = accuracy_score(y_test, y_test_pred)\n",
        "\n",
        "from sklearn.metrics import confusion_matrix\n",
        "cm_train = confusion_matrix(y_train, y_train_pred)\n",
        "cm_test = confusion_matrix(y_test, y_test_pred)\n",
        "\n",
        "# วาดกราฟ confusion matrix\n",
        "import plotly.express as px\n",
        "class_names = le.inverse_transform(model.classes_)\n",
        "cm_train = pd.DataFrame(cm_train, index=class_names, columns=class_names)\n",
        "cm_test = pd.DataFrame(cm_test, index=class_names, columns=class_names)\n",
        "\n",
        "fig = px.imshow(cm_train,\n",
        "          labels=dict(x='ค่าที่ทำนาย', y='ค่าที่แท้จริง', color='ค่าสี'),\n",
        "          title='Confusion matrix ของ training set', width=400, height=400,\n",
        "          text_auto=True)\n",
        "fig.show()\n",
        "\n",
        "fig = px.imshow(cm_test,\n",
        "          labels=dict(x='ค่าที่ทำนาย', y='ค่าที่แท้จริง', color='ค่าสี'),\n",
        "          title='Confusion matrix ของ test set', width=400, height=400,\n",
        "          text_auto=True)\n",
        "fig.show()\n",
        "\n",
        "print(f'Accuracy of training set = {100*acc_train:.3f}%')\n",
        "print(f'Accuracy of test set = {100*acc_test:.3f}%')\n"
      ]
    },
    {
      "cell_type": "markdown",
      "metadata": {},
      "source": [
        "## ลองทำ: Binary classification with > 1 input features\n",
        "\n",
        "สรุปโค้ด Logistic regression ที่ให้ ใช้เพียงแค่ 1 คุณลักษณะเป็นอินพุตเท่านั้น จะเห็นว่าได้ผลลัพธ์ได้ดีพอประมาณ\n",
        "\n",
        "```\n",
        "Accuracy of training set = 84.286%\n",
        "Accuracy of test set = 83.333%\n",
        "```\n",
        "\n",
        "ดังนั้น ในส่วนสุดท้ายนี้ จะขอให้นักศึกษาทดลองแก้ไขโค้ดดังกล่าว ดังนี้\n",
        "\n",
        "- **แบบที่ 1:** ให้รับอินพุตมากกว่า 1 คุณลักษณะ คือ `sepal_width` และ `petal_width` เพื่อจำแนกระหว่างสายพันธุ์ Setosa กับ Versicolor\n",
        "- **แบบที่ 2:** รับ `sepal_width` และ `sepal_length` เพื่อจำแนกระหว่างสายพันธุ์ Virginica กับ Versicolor\n",
        "\n",
        "*เมื่อทดลองแล้ว ให้รายงานค่า Accuracy ของ Training set และ Test set และตอบคำถามอีกว่า ทำไมแบบที่ 1* ถึงได้ผลการจำแนกถูกต้อง 100%\n",
        "\n"
      ]
    },
    {
      "cell_type": "markdown",
      "metadata": {
        "id": "ASydyFVwJe01"
      },
      "source": [
        "สำหรับในหัวข้อต่อจากนี้ จะเป็นการแก้ปัญหา Multi-class classification เพื่อจำแนกดอกไอริส 3 สายพันธุ์ (ไม่ใช่แค่ 2 สายพันธุ์เหมือนในบทนี้)"
      ]
    }
  ],
  "metadata": {
    "colab": {
      "provenance": [],
      "toc_visible": true
    },
    "kernelspec": {
      "display_name": "Python 3",
      "name": "python3"
    },
    "language_info": {
      "name": "python"
    }
  },
  "nbformat": 4,
  "nbformat_minor": 0
}
