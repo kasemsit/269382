{
  "cells": [
    {
      "cell_type": "markdown",
      "metadata": {
        "id": "wJkhvX4P0-Py"
      },
      "source": [
        "# การทำนายความยาวกลีบเลี้ยงด้วยชุดข้อมูลดอกไอริส\n",
        "\n",
        "ในคาบนี้ จะใช้ชุดข้อมูลดอกไอริสจากคาบที่ผ่านมา ในการสร้างโมเดล Linear regression เพื่อทำนายความยาวกลีบเลี้ยง (sepal length) โดยจุดประสงค์การเรียนรู้ มีดังนี้\n",
        "\n",
        "1. สามารถแบ่งข้อมูลเป็น training set และ test set ได้ และเข้าใจว่าแบ่งไปทำไม\n",
        "2. เข้าใจที่มาของปัญหา Linear regression\n",
        "3. ฝึกสอนโมเดล Linear regression ได้\n",
        "4. ใช้โมเดลที่ฝึกสอนแล้วมาทำนายได้\n",
        "5. ประเมินประสิทธิภาพของโมเดล Linear regression ไดุ้\n",
        "6. สามารถทำ Standardization/Normalization กับข้อมูลได้"
      ]
    },
    {
      "cell_type": "code",
      "execution_count": 6,
      "metadata": {
        "id": "94cPcW090JkK"
      },
      "outputs": [],
      "source": [
        "%reset -f\n",
        "import pandas as pd\n",
        "import plotly.express as px"
      ]
    },
    {
      "cell_type": "markdown",
      "metadata": {
        "id": "P2ht0iZDRmVZ"
      },
      "source": [
        "## Load data"
      ]
    },
    {
      "cell_type": "code",
      "execution_count": 7,
      "metadata": {
        "colab": {
          "base_uri": "https://localhost:8080/"
        },
        "id": "lSXxWjtB0Jfa",
        "outputId": "dda4991a-682f-440f-8267-57f0cf409dfb",
        "tags": [
          "hide-output"
        ]
      },
      "outputs": [
        {
          "name": "stdout",
          "output_type": "stream",
          "text": [
            "--2024-01-21 21:13:03--  https://archive.ics.uci.edu/static/public/53/iris.zip\n",
            "Resolving archive.ics.uci.edu (archive.ics.uci.edu)... 128.195.10.252\n",
            "Connecting to archive.ics.uci.edu (archive.ics.uci.edu)|128.195.10.252|:443... connected.\n",
            "HTTP request sent, awaiting response... 200 OK\n",
            "Length: unspecified\n",
            "Saving to: ‘iris.zip’\n",
            "\n",
            "iris.zip                [ <=>                ]   3.65K  --.-KB/s    in 0s      \n",
            "\n",
            "2024-01-21 21:13:05 (193 MB/s) - ‘iris.zip’ saved [3738]\n",
            "\n",
            "Archive:  iris.zip\n",
            "  inflating: iris_data/Index         \n",
            "  inflating: iris_data/bezdekIris.data  \n",
            "  inflating: iris_data/iris.data     \n",
            "  inflating: iris_data/iris.names    \n"
          ]
        }
      ],
      "source": [
        "!wget -c \"https://archive.ics.uci.edu/static/public/53/iris.zip\" -O iris.zip\n",
        "!unzip -o iris.zip -d iris_data"
      ]
    },
    {
      "cell_type": "markdown",
      "metadata": {
        "id": "_8ccpgF02qG2"
      },
      "source": [
        "หลังจากดาวน์โหลดและแตกไฟล์ zip แล้ว เราทำการอ่านไฟล์ด้วย `pd.read_csv()` เหมือนครั้งที่ผ่านมา และถือโอกาสกำหนดชื่อของคอลัมน์ไปด้วยโดยกำหนดพารามิเตอร์ `names=` และชนิดข้อมูลของแต่ละคอลัมน์ด้วย `dtype=`"
      ]
    },
    {
      "cell_type": "code",
      "execution_count": 8,
      "metadata": {
        "colab": {
          "base_uri": "https://localhost:8080/"
        },
        "id": "NXuaY2Ll3z03",
        "outputId": "257ef554-9200-4a11-8740-702720990b13"
      },
      "outputs": [
        {
          "name": "stdout",
          "output_type": "stream",
          "text": [
            "<class 'pandas.core.frame.DataFrame'>\n",
            "RangeIndex: 150 entries, 0 to 149\n",
            "Data columns (total 5 columns):\n",
            " #   Column        Non-Null Count  Dtype  \n",
            "---  ------        --------------  -----  \n",
            " 0   sepal_length  150 non-null    float64\n",
            " 1   sepal_width   150 non-null    float64\n",
            " 2   petal_length  150 non-null    float64\n",
            " 3   petal_width   150 non-null    float64\n",
            " 4   class         150 non-null    string \n",
            "dtypes: float64(4), string(1)\n",
            "memory usage: 6.0 KB\n"
          ]
        }
      ],
      "source": [
        "import pandas as pd\n",
        "column_names = ['sepal_length', 'sepal_width', 'petal_length', 'petal_width', 'class']\n",
        "column_types = {'sepal_length': 'float64',\n",
        "                'sepal_width': 'float64',\n",
        "                'petal_length': 'float64',\n",
        "                'petal_width': 'float64',\n",
        "                'class': 'string'}\n",
        "iris = pd.read_csv('iris_data/iris.data',\n",
        "                   header=None,\n",
        "                   names=column_names,\n",
        "                   dtype=column_types)\n",
        "iris.info()"
      ]
    },
    {
      "cell_type": "markdown",
      "metadata": {
        "id": "GMzv5eBa318Q"
      },
      "source": [
        "จากนั้นลองวาด scatter matrix"
      ]
    },
    {
      "cell_type": "code",
      "execution_count": 9,
      "metadata": {
        "colab": {
          "base_uri": "https://localhost:8080/",
          "height": 542
        },
        "id": "2YNswmRI0AeB",
        "outputId": "291d6530-797f-42d2-8632-64a01fb298f7"
      },
      "outputs": [
        {
          "data": {
            "application/vnd.plotly.v1+json": {
              "config": {
                "plotlyServerURL": "https://plot.ly"
              },
              "data": [
                {
                  "dimensions": [
                    {
                      "axis": {
                        "matches": true
                      },
                      "label": "sepal_length",
                      "values": [
                        5.1,
                        4.9,
                        4.7,
                        4.6,
                        5,
                        5.4,
                        4.6,
                        5,
                        4.4,
                        4.9,
                        5.4,
                        4.8,
                        4.8,
                        4.3,
                        5.8,
                        5.7,
                        5.4,
                        5.1,
                        5.7,
                        5.1,
                        5.4,
                        5.1,
                        4.6,
                        5.1,
                        4.8,
                        5,
                        5,
                        5.2,
                        5.2,
                        4.7,
                        4.8,
                        5.4,
                        5.2,
                        5.5,
                        4.9,
                        5,
                        5.5,
                        4.9,
                        4.4,
                        5.1,
                        5,
                        4.5,
                        4.4,
                        5,
                        5.1,
                        4.8,
                        5.1,
                        4.6,
                        5.3,
                        5,
                        7,
                        6.4,
                        6.9,
                        5.5,
                        6.5,
                        5.7,
                        6.3,
                        4.9,
                        6.6,
                        5.2,
                        5,
                        5.9,
                        6,
                        6.1,
                        5.6,
                        6.7,
                        5.6,
                        5.8,
                        6.2,
                        5.6,
                        5.9,
                        6.1,
                        6.3,
                        6.1,
                        6.4,
                        6.6,
                        6.8,
                        6.7,
                        6,
                        5.7,
                        5.5,
                        5.5,
                        5.8,
                        6,
                        5.4,
                        6,
                        6.7,
                        6.3,
                        5.6,
                        5.5,
                        5.5,
                        6.1,
                        5.8,
                        5,
                        5.6,
                        5.7,
                        5.7,
                        6.2,
                        5.1,
                        5.7,
                        6.3,
                        5.8,
                        7.1,
                        6.3,
                        6.5,
                        7.6,
                        4.9,
                        7.3,
                        6.7,
                        7.2,
                        6.5,
                        6.4,
                        6.8,
                        5.7,
                        5.8,
                        6.4,
                        6.5,
                        7.7,
                        7.7,
                        6,
                        6.9,
                        5.6,
                        7.7,
                        6.3,
                        6.7,
                        7.2,
                        6.2,
                        6.1,
                        6.4,
                        7.2,
                        7.4,
                        7.9,
                        6.4,
                        6.3,
                        6.1,
                        7.7,
                        6.3,
                        6.4,
                        6,
                        6.9,
                        6.7,
                        6.9,
                        5.8,
                        6.8,
                        6.7,
                        6.7,
                        6.3,
                        6.5,
                        6.2,
                        5.9
                      ]
                    },
                    {
                      "axis": {
                        "matches": true
                      },
                      "label": "sepal_width",
                      "values": [
                        3.5,
                        3,
                        3.2,
                        3.1,
                        3.6,
                        3.9,
                        3.4,
                        3.4,
                        2.9,
                        3.1,
                        3.7,
                        3.4,
                        3,
                        3,
                        4,
                        4.4,
                        3.9,
                        3.5,
                        3.8,
                        3.8,
                        3.4,
                        3.7,
                        3.6,
                        3.3,
                        3.4,
                        3,
                        3.4,
                        3.5,
                        3.4,
                        3.2,
                        3.1,
                        3.4,
                        4.1,
                        4.2,
                        3.1,
                        3.2,
                        3.5,
                        3.1,
                        3,
                        3.4,
                        3.5,
                        2.3,
                        3.2,
                        3.5,
                        3.8,
                        3,
                        3.8,
                        3.2,
                        3.7,
                        3.3,
                        3.2,
                        3.2,
                        3.1,
                        2.3,
                        2.8,
                        2.8,
                        3.3,
                        2.4,
                        2.9,
                        2.7,
                        2,
                        3,
                        2.2,
                        2.9,
                        2.9,
                        3.1,
                        3,
                        2.7,
                        2.2,
                        2.5,
                        3.2,
                        2.8,
                        2.5,
                        2.8,
                        2.9,
                        3,
                        2.8,
                        3,
                        2.9,
                        2.6,
                        2.4,
                        2.4,
                        2.7,
                        2.7,
                        3,
                        3.4,
                        3.1,
                        2.3,
                        3,
                        2.5,
                        2.6,
                        3,
                        2.6,
                        2.3,
                        2.7,
                        3,
                        2.9,
                        2.9,
                        2.5,
                        2.8,
                        3.3,
                        2.7,
                        3,
                        2.9,
                        3,
                        3,
                        2.5,
                        2.9,
                        2.5,
                        3.6,
                        3.2,
                        2.7,
                        3,
                        2.5,
                        2.8,
                        3.2,
                        3,
                        3.8,
                        2.6,
                        2.2,
                        3.2,
                        2.8,
                        2.8,
                        2.7,
                        3.3,
                        3.2,
                        2.8,
                        3,
                        2.8,
                        3,
                        2.8,
                        3.8,
                        2.8,
                        2.8,
                        2.6,
                        3,
                        3.4,
                        3.1,
                        3,
                        3.1,
                        3.1,
                        3.1,
                        2.7,
                        3.2,
                        3.3,
                        3,
                        2.5,
                        3,
                        3.4,
                        3
                      ]
                    },
                    {
                      "axis": {
                        "matches": true
                      },
                      "label": "petal_length",
                      "values": [
                        1.4,
                        1.4,
                        1.3,
                        1.5,
                        1.4,
                        1.7,
                        1.4,
                        1.5,
                        1.4,
                        1.5,
                        1.5,
                        1.6,
                        1.4,
                        1.1,
                        1.2,
                        1.5,
                        1.3,
                        1.4,
                        1.7,
                        1.5,
                        1.7,
                        1.5,
                        1,
                        1.7,
                        1.9,
                        1.6,
                        1.6,
                        1.5,
                        1.4,
                        1.6,
                        1.6,
                        1.5,
                        1.5,
                        1.4,
                        1.5,
                        1.2,
                        1.3,
                        1.5,
                        1.3,
                        1.5,
                        1.3,
                        1.3,
                        1.3,
                        1.6,
                        1.9,
                        1.4,
                        1.6,
                        1.4,
                        1.5,
                        1.4,
                        4.7,
                        4.5,
                        4.9,
                        4,
                        4.6,
                        4.5,
                        4.7,
                        3.3,
                        4.6,
                        3.9,
                        3.5,
                        4.2,
                        4,
                        4.7,
                        3.6,
                        4.4,
                        4.5,
                        4.1,
                        4.5,
                        3.9,
                        4.8,
                        4,
                        4.9,
                        4.7,
                        4.3,
                        4.4,
                        4.8,
                        5,
                        4.5,
                        3.5,
                        3.8,
                        3.7,
                        3.9,
                        5.1,
                        4.5,
                        4.5,
                        4.7,
                        4.4,
                        4.1,
                        4,
                        4.4,
                        4.6,
                        4,
                        3.3,
                        4.2,
                        4.2,
                        4.2,
                        4.3,
                        3,
                        4.1,
                        6,
                        5.1,
                        5.9,
                        5.6,
                        5.8,
                        6.6,
                        4.5,
                        6.3,
                        5.8,
                        6.1,
                        5.1,
                        5.3,
                        5.5,
                        5,
                        5.1,
                        5.3,
                        5.5,
                        6.7,
                        6.9,
                        5,
                        5.7,
                        4.9,
                        6.7,
                        4.9,
                        5.7,
                        6,
                        4.8,
                        4.9,
                        5.6,
                        5.8,
                        6.1,
                        6.4,
                        5.6,
                        5.1,
                        5.6,
                        6.1,
                        5.6,
                        5.5,
                        4.8,
                        5.4,
                        5.6,
                        5.1,
                        5.1,
                        5.9,
                        5.7,
                        5.2,
                        5,
                        5.2,
                        5.4,
                        5.1
                      ]
                    },
                    {
                      "axis": {
                        "matches": true
                      },
                      "label": "petal_width",
                      "values": [
                        0.2,
                        0.2,
                        0.2,
                        0.2,
                        0.2,
                        0.4,
                        0.3,
                        0.2,
                        0.2,
                        0.1,
                        0.2,
                        0.2,
                        0.1,
                        0.1,
                        0.2,
                        0.4,
                        0.4,
                        0.3,
                        0.3,
                        0.3,
                        0.2,
                        0.4,
                        0.2,
                        0.5,
                        0.2,
                        0.2,
                        0.4,
                        0.2,
                        0.2,
                        0.2,
                        0.2,
                        0.4,
                        0.1,
                        0.2,
                        0.1,
                        0.2,
                        0.2,
                        0.1,
                        0.2,
                        0.2,
                        0.3,
                        0.3,
                        0.2,
                        0.6,
                        0.4,
                        0.3,
                        0.2,
                        0.2,
                        0.2,
                        0.2,
                        1.4,
                        1.5,
                        1.5,
                        1.3,
                        1.5,
                        1.3,
                        1.6,
                        1,
                        1.3,
                        1.4,
                        1,
                        1.5,
                        1,
                        1.4,
                        1.3,
                        1.4,
                        1.5,
                        1,
                        1.5,
                        1.1,
                        1.8,
                        1.3,
                        1.5,
                        1.2,
                        1.3,
                        1.4,
                        1.4,
                        1.7,
                        1.5,
                        1,
                        1.1,
                        1,
                        1.2,
                        1.6,
                        1.5,
                        1.6,
                        1.5,
                        1.3,
                        1.3,
                        1.3,
                        1.2,
                        1.4,
                        1.2,
                        1,
                        1.3,
                        1.2,
                        1.3,
                        1.3,
                        1.1,
                        1.3,
                        2.5,
                        1.9,
                        2.1,
                        1.8,
                        2.2,
                        2.1,
                        1.7,
                        1.8,
                        1.8,
                        2.5,
                        2,
                        1.9,
                        2.1,
                        2,
                        2.4,
                        2.3,
                        1.8,
                        2.2,
                        2.3,
                        1.5,
                        2.3,
                        2,
                        2,
                        1.8,
                        2.1,
                        1.8,
                        1.8,
                        1.8,
                        2.1,
                        1.6,
                        1.9,
                        2,
                        2.2,
                        1.5,
                        1.4,
                        2.3,
                        2.4,
                        1.8,
                        1.8,
                        2.1,
                        2.4,
                        2.3,
                        1.9,
                        2.3,
                        2.5,
                        2.3,
                        1.9,
                        2,
                        2.3,
                        1.8
                      ]
                    }
                  ],
                  "hovertemplate": "%{xaxis.title.text}=%{x}<br>%{yaxis.title.text}=%{y}<extra></extra>",
                  "legendgroup": "",
                  "marker": {
                    "color": "#636efa",
                    "symbol": "circle"
                  },
                  "name": "",
                  "showlegend": false,
                  "type": "splom"
                }
              ],
              "layout": {
                "dragmode": "select",
                "legend": {
                  "tracegroupgap": 0
                },
                "margin": {
                  "t": 60
                },
                "template": {
                  "data": {
                    "bar": [
                      {
                        "error_x": {
                          "color": "#2a3f5f"
                        },
                        "error_y": {
                          "color": "#2a3f5f"
                        },
                        "marker": {
                          "line": {
                            "color": "#E5ECF6",
                            "width": 0.5
                          },
                          "pattern": {
                            "fillmode": "overlay",
                            "size": 10,
                            "solidity": 0.2
                          }
                        },
                        "type": "bar"
                      }
                    ],
                    "barpolar": [
                      {
                        "marker": {
                          "line": {
                            "color": "#E5ECF6",
                            "width": 0.5
                          },
                          "pattern": {
                            "fillmode": "overlay",
                            "size": 10,
                            "solidity": 0.2
                          }
                        },
                        "type": "barpolar"
                      }
                    ],
                    "carpet": [
                      {
                        "aaxis": {
                          "endlinecolor": "#2a3f5f",
                          "gridcolor": "white",
                          "linecolor": "white",
                          "minorgridcolor": "white",
                          "startlinecolor": "#2a3f5f"
                        },
                        "baxis": {
                          "endlinecolor": "#2a3f5f",
                          "gridcolor": "white",
                          "linecolor": "white",
                          "minorgridcolor": "white",
                          "startlinecolor": "#2a3f5f"
                        },
                        "type": "carpet"
                      }
                    ],
                    "choropleth": [
                      {
                        "colorbar": {
                          "outlinewidth": 0,
                          "ticks": ""
                        },
                        "type": "choropleth"
                      }
                    ],
                    "contour": [
                      {
                        "colorbar": {
                          "outlinewidth": 0,
                          "ticks": ""
                        },
                        "colorscale": [
                          [
                            0,
                            "#0d0887"
                          ],
                          [
                            0.1111111111111111,
                            "#46039f"
                          ],
                          [
                            0.2222222222222222,
                            "#7201a8"
                          ],
                          [
                            0.3333333333333333,
                            "#9c179e"
                          ],
                          [
                            0.4444444444444444,
                            "#bd3786"
                          ],
                          [
                            0.5555555555555556,
                            "#d8576b"
                          ],
                          [
                            0.6666666666666666,
                            "#ed7953"
                          ],
                          [
                            0.7777777777777778,
                            "#fb9f3a"
                          ],
                          [
                            0.8888888888888888,
                            "#fdca26"
                          ],
                          [
                            1,
                            "#f0f921"
                          ]
                        ],
                        "type": "contour"
                      }
                    ],
                    "contourcarpet": [
                      {
                        "colorbar": {
                          "outlinewidth": 0,
                          "ticks": ""
                        },
                        "type": "contourcarpet"
                      }
                    ],
                    "heatmap": [
                      {
                        "colorbar": {
                          "outlinewidth": 0,
                          "ticks": ""
                        },
                        "colorscale": [
                          [
                            0,
                            "#0d0887"
                          ],
                          [
                            0.1111111111111111,
                            "#46039f"
                          ],
                          [
                            0.2222222222222222,
                            "#7201a8"
                          ],
                          [
                            0.3333333333333333,
                            "#9c179e"
                          ],
                          [
                            0.4444444444444444,
                            "#bd3786"
                          ],
                          [
                            0.5555555555555556,
                            "#d8576b"
                          ],
                          [
                            0.6666666666666666,
                            "#ed7953"
                          ],
                          [
                            0.7777777777777778,
                            "#fb9f3a"
                          ],
                          [
                            0.8888888888888888,
                            "#fdca26"
                          ],
                          [
                            1,
                            "#f0f921"
                          ]
                        ],
                        "type": "heatmap"
                      }
                    ],
                    "heatmapgl": [
                      {
                        "colorbar": {
                          "outlinewidth": 0,
                          "ticks": ""
                        },
                        "colorscale": [
                          [
                            0,
                            "#0d0887"
                          ],
                          [
                            0.1111111111111111,
                            "#46039f"
                          ],
                          [
                            0.2222222222222222,
                            "#7201a8"
                          ],
                          [
                            0.3333333333333333,
                            "#9c179e"
                          ],
                          [
                            0.4444444444444444,
                            "#bd3786"
                          ],
                          [
                            0.5555555555555556,
                            "#d8576b"
                          ],
                          [
                            0.6666666666666666,
                            "#ed7953"
                          ],
                          [
                            0.7777777777777778,
                            "#fb9f3a"
                          ],
                          [
                            0.8888888888888888,
                            "#fdca26"
                          ],
                          [
                            1,
                            "#f0f921"
                          ]
                        ],
                        "type": "heatmapgl"
                      }
                    ],
                    "histogram": [
                      {
                        "marker": {
                          "pattern": {
                            "fillmode": "overlay",
                            "size": 10,
                            "solidity": 0.2
                          }
                        },
                        "type": "histogram"
                      }
                    ],
                    "histogram2d": [
                      {
                        "colorbar": {
                          "outlinewidth": 0,
                          "ticks": ""
                        },
                        "colorscale": [
                          [
                            0,
                            "#0d0887"
                          ],
                          [
                            0.1111111111111111,
                            "#46039f"
                          ],
                          [
                            0.2222222222222222,
                            "#7201a8"
                          ],
                          [
                            0.3333333333333333,
                            "#9c179e"
                          ],
                          [
                            0.4444444444444444,
                            "#bd3786"
                          ],
                          [
                            0.5555555555555556,
                            "#d8576b"
                          ],
                          [
                            0.6666666666666666,
                            "#ed7953"
                          ],
                          [
                            0.7777777777777778,
                            "#fb9f3a"
                          ],
                          [
                            0.8888888888888888,
                            "#fdca26"
                          ],
                          [
                            1,
                            "#f0f921"
                          ]
                        ],
                        "type": "histogram2d"
                      }
                    ],
                    "histogram2dcontour": [
                      {
                        "colorbar": {
                          "outlinewidth": 0,
                          "ticks": ""
                        },
                        "colorscale": [
                          [
                            0,
                            "#0d0887"
                          ],
                          [
                            0.1111111111111111,
                            "#46039f"
                          ],
                          [
                            0.2222222222222222,
                            "#7201a8"
                          ],
                          [
                            0.3333333333333333,
                            "#9c179e"
                          ],
                          [
                            0.4444444444444444,
                            "#bd3786"
                          ],
                          [
                            0.5555555555555556,
                            "#d8576b"
                          ],
                          [
                            0.6666666666666666,
                            "#ed7953"
                          ],
                          [
                            0.7777777777777778,
                            "#fb9f3a"
                          ],
                          [
                            0.8888888888888888,
                            "#fdca26"
                          ],
                          [
                            1,
                            "#f0f921"
                          ]
                        ],
                        "type": "histogram2dcontour"
                      }
                    ],
                    "mesh3d": [
                      {
                        "colorbar": {
                          "outlinewidth": 0,
                          "ticks": ""
                        },
                        "type": "mesh3d"
                      }
                    ],
                    "parcoords": [
                      {
                        "line": {
                          "colorbar": {
                            "outlinewidth": 0,
                            "ticks": ""
                          }
                        },
                        "type": "parcoords"
                      }
                    ],
                    "pie": [
                      {
                        "automargin": true,
                        "type": "pie"
                      }
                    ],
                    "scatter": [
                      {
                        "fillpattern": {
                          "fillmode": "overlay",
                          "size": 10,
                          "solidity": 0.2
                        },
                        "type": "scatter"
                      }
                    ],
                    "scatter3d": [
                      {
                        "line": {
                          "colorbar": {
                            "outlinewidth": 0,
                            "ticks": ""
                          }
                        },
                        "marker": {
                          "colorbar": {
                            "outlinewidth": 0,
                            "ticks": ""
                          }
                        },
                        "type": "scatter3d"
                      }
                    ],
                    "scattercarpet": [
                      {
                        "marker": {
                          "colorbar": {
                            "outlinewidth": 0,
                            "ticks": ""
                          }
                        },
                        "type": "scattercarpet"
                      }
                    ],
                    "scattergeo": [
                      {
                        "marker": {
                          "colorbar": {
                            "outlinewidth": 0,
                            "ticks": ""
                          }
                        },
                        "type": "scattergeo"
                      }
                    ],
                    "scattergl": [
                      {
                        "marker": {
                          "colorbar": {
                            "outlinewidth": 0,
                            "ticks": ""
                          }
                        },
                        "type": "scattergl"
                      }
                    ],
                    "scattermapbox": [
                      {
                        "marker": {
                          "colorbar": {
                            "outlinewidth": 0,
                            "ticks": ""
                          }
                        },
                        "type": "scattermapbox"
                      }
                    ],
                    "scatterpolar": [
                      {
                        "marker": {
                          "colorbar": {
                            "outlinewidth": 0,
                            "ticks": ""
                          }
                        },
                        "type": "scatterpolar"
                      }
                    ],
                    "scatterpolargl": [
                      {
                        "marker": {
                          "colorbar": {
                            "outlinewidth": 0,
                            "ticks": ""
                          }
                        },
                        "type": "scatterpolargl"
                      }
                    ],
                    "scatterternary": [
                      {
                        "marker": {
                          "colorbar": {
                            "outlinewidth": 0,
                            "ticks": ""
                          }
                        },
                        "type": "scatterternary"
                      }
                    ],
                    "surface": [
                      {
                        "colorbar": {
                          "outlinewidth": 0,
                          "ticks": ""
                        },
                        "colorscale": [
                          [
                            0,
                            "#0d0887"
                          ],
                          [
                            0.1111111111111111,
                            "#46039f"
                          ],
                          [
                            0.2222222222222222,
                            "#7201a8"
                          ],
                          [
                            0.3333333333333333,
                            "#9c179e"
                          ],
                          [
                            0.4444444444444444,
                            "#bd3786"
                          ],
                          [
                            0.5555555555555556,
                            "#d8576b"
                          ],
                          [
                            0.6666666666666666,
                            "#ed7953"
                          ],
                          [
                            0.7777777777777778,
                            "#fb9f3a"
                          ],
                          [
                            0.8888888888888888,
                            "#fdca26"
                          ],
                          [
                            1,
                            "#f0f921"
                          ]
                        ],
                        "type": "surface"
                      }
                    ],
                    "table": [
                      {
                        "cells": {
                          "fill": {
                            "color": "#EBF0F8"
                          },
                          "line": {
                            "color": "white"
                          }
                        },
                        "header": {
                          "fill": {
                            "color": "#C8D4E3"
                          },
                          "line": {
                            "color": "white"
                          }
                        },
                        "type": "table"
                      }
                    ]
                  },
                  "layout": {
                    "annotationdefaults": {
                      "arrowcolor": "#2a3f5f",
                      "arrowhead": 0,
                      "arrowwidth": 1
                    },
                    "autotypenumbers": "strict",
                    "coloraxis": {
                      "colorbar": {
                        "outlinewidth": 0,
                        "ticks": ""
                      }
                    },
                    "colorscale": {
                      "diverging": [
                        [
                          0,
                          "#8e0152"
                        ],
                        [
                          0.1,
                          "#c51b7d"
                        ],
                        [
                          0.2,
                          "#de77ae"
                        ],
                        [
                          0.3,
                          "#f1b6da"
                        ],
                        [
                          0.4,
                          "#fde0ef"
                        ],
                        [
                          0.5,
                          "#f7f7f7"
                        ],
                        [
                          0.6,
                          "#e6f5d0"
                        ],
                        [
                          0.7,
                          "#b8e186"
                        ],
                        [
                          0.8,
                          "#7fbc41"
                        ],
                        [
                          0.9,
                          "#4d9221"
                        ],
                        [
                          1,
                          "#276419"
                        ]
                      ],
                      "sequential": [
                        [
                          0,
                          "#0d0887"
                        ],
                        [
                          0.1111111111111111,
                          "#46039f"
                        ],
                        [
                          0.2222222222222222,
                          "#7201a8"
                        ],
                        [
                          0.3333333333333333,
                          "#9c179e"
                        ],
                        [
                          0.4444444444444444,
                          "#bd3786"
                        ],
                        [
                          0.5555555555555556,
                          "#d8576b"
                        ],
                        [
                          0.6666666666666666,
                          "#ed7953"
                        ],
                        [
                          0.7777777777777778,
                          "#fb9f3a"
                        ],
                        [
                          0.8888888888888888,
                          "#fdca26"
                        ],
                        [
                          1,
                          "#f0f921"
                        ]
                      ],
                      "sequentialminus": [
                        [
                          0,
                          "#0d0887"
                        ],
                        [
                          0.1111111111111111,
                          "#46039f"
                        ],
                        [
                          0.2222222222222222,
                          "#7201a8"
                        ],
                        [
                          0.3333333333333333,
                          "#9c179e"
                        ],
                        [
                          0.4444444444444444,
                          "#bd3786"
                        ],
                        [
                          0.5555555555555556,
                          "#d8576b"
                        ],
                        [
                          0.6666666666666666,
                          "#ed7953"
                        ],
                        [
                          0.7777777777777778,
                          "#fb9f3a"
                        ],
                        [
                          0.8888888888888888,
                          "#fdca26"
                        ],
                        [
                          1,
                          "#f0f921"
                        ]
                      ]
                    },
                    "colorway": [
                      "#636efa",
                      "#EF553B",
                      "#00cc96",
                      "#ab63fa",
                      "#FFA15A",
                      "#19d3f3",
                      "#FF6692",
                      "#B6E880",
                      "#FF97FF",
                      "#FECB52"
                    ],
                    "font": {
                      "color": "#2a3f5f"
                    },
                    "geo": {
                      "bgcolor": "white",
                      "lakecolor": "white",
                      "landcolor": "#E5ECF6",
                      "showlakes": true,
                      "showland": true,
                      "subunitcolor": "white"
                    },
                    "hoverlabel": {
                      "align": "left"
                    },
                    "hovermode": "closest",
                    "mapbox": {
                      "style": "light"
                    },
                    "paper_bgcolor": "white",
                    "plot_bgcolor": "#E5ECF6",
                    "polar": {
                      "angularaxis": {
                        "gridcolor": "white",
                        "linecolor": "white",
                        "ticks": ""
                      },
                      "bgcolor": "#E5ECF6",
                      "radialaxis": {
                        "gridcolor": "white",
                        "linecolor": "white",
                        "ticks": ""
                      }
                    },
                    "scene": {
                      "xaxis": {
                        "backgroundcolor": "#E5ECF6",
                        "gridcolor": "white",
                        "gridwidth": 2,
                        "linecolor": "white",
                        "showbackground": true,
                        "ticks": "",
                        "zerolinecolor": "white"
                      },
                      "yaxis": {
                        "backgroundcolor": "#E5ECF6",
                        "gridcolor": "white",
                        "gridwidth": 2,
                        "linecolor": "white",
                        "showbackground": true,
                        "ticks": "",
                        "zerolinecolor": "white"
                      },
                      "zaxis": {
                        "backgroundcolor": "#E5ECF6",
                        "gridcolor": "white",
                        "gridwidth": 2,
                        "linecolor": "white",
                        "showbackground": true,
                        "ticks": "",
                        "zerolinecolor": "white"
                      }
                    },
                    "shapedefaults": {
                      "line": {
                        "color": "#2a3f5f"
                      }
                    },
                    "ternary": {
                      "aaxis": {
                        "gridcolor": "white",
                        "linecolor": "white",
                        "ticks": ""
                      },
                      "baxis": {
                        "gridcolor": "white",
                        "linecolor": "white",
                        "ticks": ""
                      },
                      "bgcolor": "#E5ECF6",
                      "caxis": {
                        "gridcolor": "white",
                        "linecolor": "white",
                        "ticks": ""
                      }
                    },
                    "title": {
                      "x": 0.05
                    },
                    "xaxis": {
                      "automargin": true,
                      "gridcolor": "white",
                      "linecolor": "white",
                      "ticks": "",
                      "title": {
                        "standoff": 15
                      },
                      "zerolinecolor": "white",
                      "zerolinewidth": 2
                    },
                    "yaxis": {
                      "automargin": true,
                      "gridcolor": "white",
                      "linecolor": "white",
                      "ticks": "",
                      "title": {
                        "standoff": 15
                      },
                      "zerolinecolor": "white",
                      "zerolinewidth": 2
                    }
                  }
                }
              }
            },
            "text/html": [
              "<div>                            <div id=\"e5316a96-6ecb-4b9b-b9db-18ccd5bb9fe9\" class=\"plotly-graph-div\" style=\"height:525px; width:100%;\"></div>            <script type=\"text/javascript\">                require([\"plotly\"], function(Plotly) {                    window.PLOTLYENV=window.PLOTLYENV || {};                                    if (document.getElementById(\"e5316a96-6ecb-4b9b-b9db-18ccd5bb9fe9\")) {                    Plotly.newPlot(                        \"e5316a96-6ecb-4b9b-b9db-18ccd5bb9fe9\",                        [{\"dimensions\":[{\"axis\":{\"matches\":true},\"label\":\"sepal_length\",\"values\":[5.1,4.9,4.7,4.6,5.0,5.4,4.6,5.0,4.4,4.9,5.4,4.8,4.8,4.3,5.8,5.7,5.4,5.1,5.7,5.1,5.4,5.1,4.6,5.1,4.8,5.0,5.0,5.2,5.2,4.7,4.8,5.4,5.2,5.5,4.9,5.0,5.5,4.9,4.4,5.1,5.0,4.5,4.4,5.0,5.1,4.8,5.1,4.6,5.3,5.0,7.0,6.4,6.9,5.5,6.5,5.7,6.3,4.9,6.6,5.2,5.0,5.9,6.0,6.1,5.6,6.7,5.6,5.8,6.2,5.6,5.9,6.1,6.3,6.1,6.4,6.6,6.8,6.7,6.0,5.7,5.5,5.5,5.8,6.0,5.4,6.0,6.7,6.3,5.6,5.5,5.5,6.1,5.8,5.0,5.6,5.7,5.7,6.2,5.1,5.7,6.3,5.8,7.1,6.3,6.5,7.6,4.9,7.3,6.7,7.2,6.5,6.4,6.8,5.7,5.8,6.4,6.5,7.7,7.7,6.0,6.9,5.6,7.7,6.3,6.7,7.2,6.2,6.1,6.4,7.2,7.4,7.9,6.4,6.3,6.1,7.7,6.3,6.4,6.0,6.9,6.7,6.9,5.8,6.8,6.7,6.7,6.3,6.5,6.2,5.9]},{\"axis\":{\"matches\":true},\"label\":\"sepal_width\",\"values\":[3.5,3.0,3.2,3.1,3.6,3.9,3.4,3.4,2.9,3.1,3.7,3.4,3.0,3.0,4.0,4.4,3.9,3.5,3.8,3.8,3.4,3.7,3.6,3.3,3.4,3.0,3.4,3.5,3.4,3.2,3.1,3.4,4.1,4.2,3.1,3.2,3.5,3.1,3.0,3.4,3.5,2.3,3.2,3.5,3.8,3.0,3.8,3.2,3.7,3.3,3.2,3.2,3.1,2.3,2.8,2.8,3.3,2.4,2.9,2.7,2.0,3.0,2.2,2.9,2.9,3.1,3.0,2.7,2.2,2.5,3.2,2.8,2.5,2.8,2.9,3.0,2.8,3.0,2.9,2.6,2.4,2.4,2.7,2.7,3.0,3.4,3.1,2.3,3.0,2.5,2.6,3.0,2.6,2.3,2.7,3.0,2.9,2.9,2.5,2.8,3.3,2.7,3.0,2.9,3.0,3.0,2.5,2.9,2.5,3.6,3.2,2.7,3.0,2.5,2.8,3.2,3.0,3.8,2.6,2.2,3.2,2.8,2.8,2.7,3.3,3.2,2.8,3.0,2.8,3.0,2.8,3.8,2.8,2.8,2.6,3.0,3.4,3.1,3.0,3.1,3.1,3.1,2.7,3.2,3.3,3.0,2.5,3.0,3.4,3.0]},{\"axis\":{\"matches\":true},\"label\":\"petal_length\",\"values\":[1.4,1.4,1.3,1.5,1.4,1.7,1.4,1.5,1.4,1.5,1.5,1.6,1.4,1.1,1.2,1.5,1.3,1.4,1.7,1.5,1.7,1.5,1.0,1.7,1.9,1.6,1.6,1.5,1.4,1.6,1.6,1.5,1.5,1.4,1.5,1.2,1.3,1.5,1.3,1.5,1.3,1.3,1.3,1.6,1.9,1.4,1.6,1.4,1.5,1.4,4.7,4.5,4.9,4.0,4.6,4.5,4.7,3.3,4.6,3.9,3.5,4.2,4.0,4.7,3.6,4.4,4.5,4.1,4.5,3.9,4.8,4.0,4.9,4.7,4.3,4.4,4.8,5.0,4.5,3.5,3.8,3.7,3.9,5.1,4.5,4.5,4.7,4.4,4.1,4.0,4.4,4.6,4.0,3.3,4.2,4.2,4.2,4.3,3.0,4.1,6.0,5.1,5.9,5.6,5.8,6.6,4.5,6.3,5.8,6.1,5.1,5.3,5.5,5.0,5.1,5.3,5.5,6.7,6.9,5.0,5.7,4.9,6.7,4.9,5.7,6.0,4.8,4.9,5.6,5.8,6.1,6.4,5.6,5.1,5.6,6.1,5.6,5.5,4.8,5.4,5.6,5.1,5.1,5.9,5.7,5.2,5.0,5.2,5.4,5.1]},{\"axis\":{\"matches\":true},\"label\":\"petal_width\",\"values\":[0.2,0.2,0.2,0.2,0.2,0.4,0.3,0.2,0.2,0.1,0.2,0.2,0.1,0.1,0.2,0.4,0.4,0.3,0.3,0.3,0.2,0.4,0.2,0.5,0.2,0.2,0.4,0.2,0.2,0.2,0.2,0.4,0.1,0.2,0.1,0.2,0.2,0.1,0.2,0.2,0.3,0.3,0.2,0.6,0.4,0.3,0.2,0.2,0.2,0.2,1.4,1.5,1.5,1.3,1.5,1.3,1.6,1.0,1.3,1.4,1.0,1.5,1.0,1.4,1.3,1.4,1.5,1.0,1.5,1.1,1.8,1.3,1.5,1.2,1.3,1.4,1.4,1.7,1.5,1.0,1.1,1.0,1.2,1.6,1.5,1.6,1.5,1.3,1.3,1.3,1.2,1.4,1.2,1.0,1.3,1.2,1.3,1.3,1.1,1.3,2.5,1.9,2.1,1.8,2.2,2.1,1.7,1.8,1.8,2.5,2.0,1.9,2.1,2.0,2.4,2.3,1.8,2.2,2.3,1.5,2.3,2.0,2.0,1.8,2.1,1.8,1.8,1.8,2.1,1.6,1.9,2.0,2.2,1.5,1.4,2.3,2.4,1.8,1.8,2.1,2.4,2.3,1.9,2.3,2.5,2.3,1.9,2.0,2.3,1.8]}],\"hovertemplate\":\"%{xaxis.title.text}=%{x}\\u003cbr\\u003e%{yaxis.title.text}=%{y}\\u003cextra\\u003e\\u003c\\u002fextra\\u003e\",\"legendgroup\":\"\",\"marker\":{\"color\":\"#636efa\",\"symbol\":\"circle\"},\"name\":\"\",\"showlegend\":false,\"type\":\"splom\"}],                        {\"template\":{\"data\":{\"histogram2dcontour\":[{\"type\":\"histogram2dcontour\",\"colorbar\":{\"outlinewidth\":0,\"ticks\":\"\"},\"colorscale\":[[0.0,\"#0d0887\"],[0.1111111111111111,\"#46039f\"],[0.2222222222222222,\"#7201a8\"],[0.3333333333333333,\"#9c179e\"],[0.4444444444444444,\"#bd3786\"],[0.5555555555555556,\"#d8576b\"],[0.6666666666666666,\"#ed7953\"],[0.7777777777777778,\"#fb9f3a\"],[0.8888888888888888,\"#fdca26\"],[1.0,\"#f0f921\"]]}],\"choropleth\":[{\"type\":\"choropleth\",\"colorbar\":{\"outlinewidth\":0,\"ticks\":\"\"}}],\"histogram2d\":[{\"type\":\"histogram2d\",\"colorbar\":{\"outlinewidth\":0,\"ticks\":\"\"},\"colorscale\":[[0.0,\"#0d0887\"],[0.1111111111111111,\"#46039f\"],[0.2222222222222222,\"#7201a8\"],[0.3333333333333333,\"#9c179e\"],[0.4444444444444444,\"#bd3786\"],[0.5555555555555556,\"#d8576b\"],[0.6666666666666666,\"#ed7953\"],[0.7777777777777778,\"#fb9f3a\"],[0.8888888888888888,\"#fdca26\"],[1.0,\"#f0f921\"]]}],\"heatmap\":[{\"type\":\"heatmap\",\"colorbar\":{\"outlinewidth\":0,\"ticks\":\"\"},\"colorscale\":[[0.0,\"#0d0887\"],[0.1111111111111111,\"#46039f\"],[0.2222222222222222,\"#7201a8\"],[0.3333333333333333,\"#9c179e\"],[0.4444444444444444,\"#bd3786\"],[0.5555555555555556,\"#d8576b\"],[0.6666666666666666,\"#ed7953\"],[0.7777777777777778,\"#fb9f3a\"],[0.8888888888888888,\"#fdca26\"],[1.0,\"#f0f921\"]]}],\"heatmapgl\":[{\"type\":\"heatmapgl\",\"colorbar\":{\"outlinewidth\":0,\"ticks\":\"\"},\"colorscale\":[[0.0,\"#0d0887\"],[0.1111111111111111,\"#46039f\"],[0.2222222222222222,\"#7201a8\"],[0.3333333333333333,\"#9c179e\"],[0.4444444444444444,\"#bd3786\"],[0.5555555555555556,\"#d8576b\"],[0.6666666666666666,\"#ed7953\"],[0.7777777777777778,\"#fb9f3a\"],[0.8888888888888888,\"#fdca26\"],[1.0,\"#f0f921\"]]}],\"contourcarpet\":[{\"type\":\"contourcarpet\",\"colorbar\":{\"outlinewidth\":0,\"ticks\":\"\"}}],\"contour\":[{\"type\":\"contour\",\"colorbar\":{\"outlinewidth\":0,\"ticks\":\"\"},\"colorscale\":[[0.0,\"#0d0887\"],[0.1111111111111111,\"#46039f\"],[0.2222222222222222,\"#7201a8\"],[0.3333333333333333,\"#9c179e\"],[0.4444444444444444,\"#bd3786\"],[0.5555555555555556,\"#d8576b\"],[0.6666666666666666,\"#ed7953\"],[0.7777777777777778,\"#fb9f3a\"],[0.8888888888888888,\"#fdca26\"],[1.0,\"#f0f921\"]]}],\"surface\":[{\"type\":\"surface\",\"colorbar\":{\"outlinewidth\":0,\"ticks\":\"\"},\"colorscale\":[[0.0,\"#0d0887\"],[0.1111111111111111,\"#46039f\"],[0.2222222222222222,\"#7201a8\"],[0.3333333333333333,\"#9c179e\"],[0.4444444444444444,\"#bd3786\"],[0.5555555555555556,\"#d8576b\"],[0.6666666666666666,\"#ed7953\"],[0.7777777777777778,\"#fb9f3a\"],[0.8888888888888888,\"#fdca26\"],[1.0,\"#f0f921\"]]}],\"mesh3d\":[{\"type\":\"mesh3d\",\"colorbar\":{\"outlinewidth\":0,\"ticks\":\"\"}}],\"scatter\":[{\"fillpattern\":{\"fillmode\":\"overlay\",\"size\":10,\"solidity\":0.2},\"type\":\"scatter\"}],\"parcoords\":[{\"type\":\"parcoords\",\"line\":{\"colorbar\":{\"outlinewidth\":0,\"ticks\":\"\"}}}],\"scatterpolargl\":[{\"type\":\"scatterpolargl\",\"marker\":{\"colorbar\":{\"outlinewidth\":0,\"ticks\":\"\"}}}],\"bar\":[{\"error_x\":{\"color\":\"#2a3f5f\"},\"error_y\":{\"color\":\"#2a3f5f\"},\"marker\":{\"line\":{\"color\":\"#E5ECF6\",\"width\":0.5},\"pattern\":{\"fillmode\":\"overlay\",\"size\":10,\"solidity\":0.2}},\"type\":\"bar\"}],\"scattergeo\":[{\"type\":\"scattergeo\",\"marker\":{\"colorbar\":{\"outlinewidth\":0,\"ticks\":\"\"}}}],\"scatterpolar\":[{\"type\":\"scatterpolar\",\"marker\":{\"colorbar\":{\"outlinewidth\":0,\"ticks\":\"\"}}}],\"histogram\":[{\"marker\":{\"pattern\":{\"fillmode\":\"overlay\",\"size\":10,\"solidity\":0.2}},\"type\":\"histogram\"}],\"scattergl\":[{\"type\":\"scattergl\",\"marker\":{\"colorbar\":{\"outlinewidth\":0,\"ticks\":\"\"}}}],\"scatter3d\":[{\"type\":\"scatter3d\",\"line\":{\"colorbar\":{\"outlinewidth\":0,\"ticks\":\"\"}},\"marker\":{\"colorbar\":{\"outlinewidth\":0,\"ticks\":\"\"}}}],\"scattermapbox\":[{\"type\":\"scattermapbox\",\"marker\":{\"colorbar\":{\"outlinewidth\":0,\"ticks\":\"\"}}}],\"scatterternary\":[{\"type\":\"scatterternary\",\"marker\":{\"colorbar\":{\"outlinewidth\":0,\"ticks\":\"\"}}}],\"scattercarpet\":[{\"type\":\"scattercarpet\",\"marker\":{\"colorbar\":{\"outlinewidth\":0,\"ticks\":\"\"}}}],\"carpet\":[{\"aaxis\":{\"endlinecolor\":\"#2a3f5f\",\"gridcolor\":\"white\",\"linecolor\":\"white\",\"minorgridcolor\":\"white\",\"startlinecolor\":\"#2a3f5f\"},\"baxis\":{\"endlinecolor\":\"#2a3f5f\",\"gridcolor\":\"white\",\"linecolor\":\"white\",\"minorgridcolor\":\"white\",\"startlinecolor\":\"#2a3f5f\"},\"type\":\"carpet\"}],\"table\":[{\"cells\":{\"fill\":{\"color\":\"#EBF0F8\"},\"line\":{\"color\":\"white\"}},\"header\":{\"fill\":{\"color\":\"#C8D4E3\"},\"line\":{\"color\":\"white\"}},\"type\":\"table\"}],\"barpolar\":[{\"marker\":{\"line\":{\"color\":\"#E5ECF6\",\"width\":0.5},\"pattern\":{\"fillmode\":\"overlay\",\"size\":10,\"solidity\":0.2}},\"type\":\"barpolar\"}],\"pie\":[{\"automargin\":true,\"type\":\"pie\"}]},\"layout\":{\"autotypenumbers\":\"strict\",\"colorway\":[\"#636efa\",\"#EF553B\",\"#00cc96\",\"#ab63fa\",\"#FFA15A\",\"#19d3f3\",\"#FF6692\",\"#B6E880\",\"#FF97FF\",\"#FECB52\"],\"font\":{\"color\":\"#2a3f5f\"},\"hovermode\":\"closest\",\"hoverlabel\":{\"align\":\"left\"},\"paper_bgcolor\":\"white\",\"plot_bgcolor\":\"#E5ECF6\",\"polar\":{\"bgcolor\":\"#E5ECF6\",\"angularaxis\":{\"gridcolor\":\"white\",\"linecolor\":\"white\",\"ticks\":\"\"},\"radialaxis\":{\"gridcolor\":\"white\",\"linecolor\":\"white\",\"ticks\":\"\"}},\"ternary\":{\"bgcolor\":\"#E5ECF6\",\"aaxis\":{\"gridcolor\":\"white\",\"linecolor\":\"white\",\"ticks\":\"\"},\"baxis\":{\"gridcolor\":\"white\",\"linecolor\":\"white\",\"ticks\":\"\"},\"caxis\":{\"gridcolor\":\"white\",\"linecolor\":\"white\",\"ticks\":\"\"}},\"coloraxis\":{\"colorbar\":{\"outlinewidth\":0,\"ticks\":\"\"}},\"colorscale\":{\"sequential\":[[0.0,\"#0d0887\"],[0.1111111111111111,\"#46039f\"],[0.2222222222222222,\"#7201a8\"],[0.3333333333333333,\"#9c179e\"],[0.4444444444444444,\"#bd3786\"],[0.5555555555555556,\"#d8576b\"],[0.6666666666666666,\"#ed7953\"],[0.7777777777777778,\"#fb9f3a\"],[0.8888888888888888,\"#fdca26\"],[1.0,\"#f0f921\"]],\"sequentialminus\":[[0.0,\"#0d0887\"],[0.1111111111111111,\"#46039f\"],[0.2222222222222222,\"#7201a8\"],[0.3333333333333333,\"#9c179e\"],[0.4444444444444444,\"#bd3786\"],[0.5555555555555556,\"#d8576b\"],[0.6666666666666666,\"#ed7953\"],[0.7777777777777778,\"#fb9f3a\"],[0.8888888888888888,\"#fdca26\"],[1.0,\"#f0f921\"]],\"diverging\":[[0,\"#8e0152\"],[0.1,\"#c51b7d\"],[0.2,\"#de77ae\"],[0.3,\"#f1b6da\"],[0.4,\"#fde0ef\"],[0.5,\"#f7f7f7\"],[0.6,\"#e6f5d0\"],[0.7,\"#b8e186\"],[0.8,\"#7fbc41\"],[0.9,\"#4d9221\"],[1,\"#276419\"]]},\"xaxis\":{\"gridcolor\":\"white\",\"linecolor\":\"white\",\"ticks\":\"\",\"title\":{\"standoff\":15},\"zerolinecolor\":\"white\",\"automargin\":true,\"zerolinewidth\":2},\"yaxis\":{\"gridcolor\":\"white\",\"linecolor\":\"white\",\"ticks\":\"\",\"title\":{\"standoff\":15},\"zerolinecolor\":\"white\",\"automargin\":true,\"zerolinewidth\":2},\"scene\":{\"xaxis\":{\"backgroundcolor\":\"#E5ECF6\",\"gridcolor\":\"white\",\"linecolor\":\"white\",\"showbackground\":true,\"ticks\":\"\",\"zerolinecolor\":\"white\",\"gridwidth\":2},\"yaxis\":{\"backgroundcolor\":\"#E5ECF6\",\"gridcolor\":\"white\",\"linecolor\":\"white\",\"showbackground\":true,\"ticks\":\"\",\"zerolinecolor\":\"white\",\"gridwidth\":2},\"zaxis\":{\"backgroundcolor\":\"#E5ECF6\",\"gridcolor\":\"white\",\"linecolor\":\"white\",\"showbackground\":true,\"ticks\":\"\",\"zerolinecolor\":\"white\",\"gridwidth\":2}},\"shapedefaults\":{\"line\":{\"color\":\"#2a3f5f\"}},\"annotationdefaults\":{\"arrowcolor\":\"#2a3f5f\",\"arrowhead\":0,\"arrowwidth\":1},\"geo\":{\"bgcolor\":\"white\",\"landcolor\":\"#E5ECF6\",\"subunitcolor\":\"white\",\"showland\":true,\"showlakes\":true,\"lakecolor\":\"white\"},\"title\":{\"x\":0.05},\"mapbox\":{\"style\":\"light\"}}},\"legend\":{\"tracegroupgap\":0},\"margin\":{\"t\":60},\"dragmode\":\"select\"},                        {\"responsive\": true}                    ).then(function(){\n",
              "                            \n",
              "var gd = document.getElementById('e5316a96-6ecb-4b9b-b9db-18ccd5bb9fe9');\n",
              "var x = new MutationObserver(function (mutations, observer) {{\n",
              "        var display = window.getComputedStyle(gd).display;\n",
              "        if (!display || display === 'none') {{\n",
              "            console.log([gd, 'removed!']);\n",
              "            Plotly.purge(gd);\n",
              "            observer.disconnect();\n",
              "        }}\n",
              "}});\n",
              "\n",
              "// Listen for the removal of the full notebook cells\n",
              "var notebookContainer = gd.closest('#notebook-container');\n",
              "if (notebookContainer) {{\n",
              "    x.observe(notebookContainer, {childList: true});\n",
              "}}\n",
              "\n",
              "// Listen for the clearing of the current output cell\n",
              "var outputEl = gd.closest('.output');\n",
              "if (outputEl) {{\n",
              "    x.observe(outputEl, {childList: true});\n",
              "}}\n",
              "\n",
              "                        })                };                });            </script>        </div>"
            ]
          },
          "metadata": {},
          "output_type": "display_data"
        }
      ],
      "source": [
        "import plotly.express as px\n",
        "\n",
        "# df.select_dtypes() เลือกเฉพาะคอลัมน์ตามชนิดตัวแปรที่ต้องการ ซึ่งในกรณีนี้เราจะเอาแค่ float64\n",
        "iris_number_only = iris.select_dtypes(include='float64')\n",
        "px.scatter_matrix(iris_number_only)"
      ]
    },
    {
      "cell_type": "markdown",
      "metadata": {
        "id": "x-chVhj_3g-0"
      },
      "source": [
        "## โมเดลเชิงเส้นที่รับอินพุต 1 คุณลักษณะ (Simple linear regression)"
      ]
    },
    {
      "cell_type": "markdown",
      "metadata": {
        "id": "-fS086c784Py"
      },
      "source": [
        "จากกราฟ เป็นที่น่าสนใจว่า น่าจะสามารถใช้ petal width ในการทำนาย sepal length ได้ แบบไม่ต้องสนใจสายพันธ์ของดอกไอริสเลย โดยใช้เพียง**สมการหรือฟังก์ชันเชิงเส้น (Linear function)** เท่านั้น เพราะจากการดูด้วยตาเปล่า แนวโน้มของค่า (trendline) จะเป็นเส้นตรง\n",
        "\n",
        "> **Note:** การวิเคราะห์ข้อมูลในรูปแบบที่ต้องการทำนายค่าอะไรสักอย่างนั้น จะเรียกว่า **Predictive data analytics** ซึ่งแตกต่างจากเนื้อหาในคาบที่ผ่านมาที่เรียกว่า **Descriptive data analytics** (หรือ Exploratory Data Analysis (EDA)) ที่มุ่งแต่การดูแนวโน้มและข้อสรุปจากข้อมูลในอดีต \n",
        "\n",
        "การที่นำค่า **petal width** หนึ่งค่า มาทำนาย **sepal length** นั้น เรากล่าวว่า\n",
        "\n",
        "- **petal width** เป็นตัวแปรต้น (Independent variable) แทนด้วยตัวแปร $x$ หรือในสาขาการวิเคราะห์ข้อมูล มักเรียก $x$ ว่าเป็น **คุณลักษณะ (หรือ feature)**\n",
        "- **sepal length** เป็นตัวแปรตาม (Dependent variable) แทนด้วยตัวแปร $y$  ซึ่งในสาขาการวิเคราะห์ข้อมูล มักเรียก $y$ ว่าเป็น **เป้าหมายของการทำนาย (หรือ target)**\n",
        "\n",
        "จากการดูด้วยตาเปล่าที่ว่า ความสัมพันธ์ระหว่าง petal width และ sepal length เป็นความสัมพันธ์เชิงเส้น (linear) นั้น สำหรับในส่วนของ Plotly จะมีความสามารถในการเพิ่มเส้นแนวโน้มเส้นตรง (trendline) ให้กับกราฟ `px.scatter()` ได้ โดยการกำหนดค่า `trendline='ols'` ดังนี้\n",
        "\n",
        "\n"
      ]
    },
    {
      "cell_type": "code",
      "execution_count": 10,
      "metadata": {
        "colab": {
          "base_uri": "https://localhost:8080/",
          "height": 542
        },
        "id": "avUAbc0_9zZK",
        "outputId": "e85a734f-87c7-4b74-dd94-0992b68f1f0f"
      },
      "outputs": [
        {
          "ename": "ModuleNotFoundError",
          "evalue": "No module named 'statsmodels'",
          "output_type": "error",
          "traceback": [
            "\u001b[0;31m---------------------------------------------------------------------------\u001b[0m",
            "\u001b[0;31mModuleNotFoundError\u001b[0m                       Traceback (most recent call last)",
            "Cell \u001b[0;32mIn[10], line 1\u001b[0m\n\u001b[0;32m----> 1\u001b[0m fig \u001b[38;5;241m=\u001b[39m \u001b[43mpx\u001b[49m\u001b[38;5;241;43m.\u001b[39;49m\u001b[43mscatter\u001b[49m\u001b[43m(\u001b[49m\u001b[43miris\u001b[49m\u001b[43m,\u001b[49m\u001b[43m \u001b[49m\u001b[43mx\u001b[49m\u001b[38;5;241;43m=\u001b[39;49m\u001b[38;5;124;43m'\u001b[39;49m\u001b[38;5;124;43mpetal_width\u001b[39;49m\u001b[38;5;124;43m'\u001b[39;49m\u001b[43m,\u001b[49m\n\u001b[1;32m      2\u001b[0m \u001b[43m           \u001b[49m\u001b[43my\u001b[49m\u001b[38;5;241;43m=\u001b[39;49m\u001b[38;5;124;43m'\u001b[39;49m\u001b[38;5;124;43msepal_length\u001b[39;49m\u001b[38;5;124;43m'\u001b[39;49m\u001b[43m,\u001b[49m\n\u001b[1;32m      3\u001b[0m \u001b[43m           \u001b[49m\u001b[43mcolor\u001b[49m\u001b[38;5;241;43m=\u001b[39;49m\u001b[38;5;124;43m'\u001b[39;49m\u001b[38;5;124;43mclass\u001b[39;49m\u001b[38;5;124;43m'\u001b[39;49m\u001b[43m,\u001b[49m\n\u001b[1;32m      4\u001b[0m \u001b[43m           \u001b[49m\u001b[43mopacity\u001b[49m\u001b[38;5;241;43m=\u001b[39;49m\u001b[38;5;241;43m0.65\u001b[39;49m\u001b[43m,\u001b[49m\u001b[43m   \u001b[49m\u001b[38;5;66;43;03m# ความโปร่งแสงของแต่ละจุดข้อมูล เพื่อที่จะได้เห็นจุดที่ซ้อนกันเข้มกว่าจุดอื่น ๆ\u001b[39;49;00m\n\u001b[1;32m      5\u001b[0m \u001b[43m           \u001b[49m\u001b[43mtrendline\u001b[49m\u001b[38;5;241;43m=\u001b[39;49m\u001b[38;5;124;43m'\u001b[39;49m\u001b[38;5;124;43mols\u001b[39;49m\u001b[38;5;124;43m'\u001b[39;49m\u001b[43m,\u001b[49m\u001b[43m   \u001b[49m\u001b[38;5;66;43;03m# ols = Ordinary Least Square เป็นการหาเส้นตรงที่ fit กับจุดข้อมูลที่สุดมาแสดง\u001b[39;49;00m\n\u001b[1;32m      6\u001b[0m \u001b[43m           \u001b[49m\u001b[43mtrendline_scope\u001b[49m\u001b[38;5;241;43m=\u001b[39;49m\u001b[38;5;124;43m'\u001b[39;49m\u001b[38;5;124;43moverall\u001b[39;49m\u001b[38;5;124;43m'\u001b[39;49m\u001b[43m,\u001b[49m\u001b[43m \u001b[49m\u001b[38;5;66;43;03m# คำนวนเส้นตรงจากข้อมูลทุกจุด ไม่แยกเป็นตาม color (ถ้าไม่กำหนดแล้วจะเกิดอะไรขึ้น?)\u001b[39;49;00m\n\u001b[1;32m      7\u001b[0m \u001b[43m           \u001b[49m\u001b[43mtrendline_color_override\u001b[49m\u001b[38;5;241;43m=\u001b[39;49m\u001b[38;5;124;43m'\u001b[39;49m\u001b[38;5;124;43mdarkblue\u001b[39;49m\u001b[38;5;124;43m'\u001b[39;49m\u001b[43m)\u001b[49m  \u001b[38;5;66;03m# สีของเส้น trendline\u001b[39;00m\n\u001b[1;32m      8\u001b[0m fig\u001b[38;5;241m.\u001b[39mshow()\n",
            "File \u001b[0;32m~/269382/.venv/lib/python3.10/site-packages/plotly/express/_chart_types.py:66\u001b[0m, in \u001b[0;36mscatter\u001b[0;34m(data_frame, x, y, color, symbol, size, hover_name, hover_data, custom_data, text, facet_row, facet_col, facet_col_wrap, facet_row_spacing, facet_col_spacing, error_x, error_x_minus, error_y, error_y_minus, animation_frame, animation_group, category_orders, labels, orientation, color_discrete_sequence, color_discrete_map, color_continuous_scale, range_color, color_continuous_midpoint, symbol_sequence, symbol_map, opacity, size_max, marginal_x, marginal_y, trendline, trendline_options, trendline_color_override, trendline_scope, log_x, log_y, range_x, range_y, render_mode, title, template, width, height)\u001b[0m\n\u001b[1;32m     12\u001b[0m \u001b[38;5;28;01mdef\u001b[39;00m \u001b[38;5;21mscatter\u001b[39m(\n\u001b[1;32m     13\u001b[0m     data_frame\u001b[38;5;241m=\u001b[39m\u001b[38;5;28;01mNone\u001b[39;00m,\n\u001b[1;32m     14\u001b[0m     x\u001b[38;5;241m=\u001b[39m\u001b[38;5;28;01mNone\u001b[39;00m,\n\u001b[0;32m   (...)\u001b[0m\n\u001b[1;32m     60\u001b[0m     height\u001b[38;5;241m=\u001b[39m\u001b[38;5;28;01mNone\u001b[39;00m,\n\u001b[1;32m     61\u001b[0m ) \u001b[38;5;241m-\u001b[39m\u001b[38;5;241m>\u001b[39m go\u001b[38;5;241m.\u001b[39mFigure:\n\u001b[1;32m     62\u001b[0m \u001b[38;5;250m    \u001b[39m\u001b[38;5;124;03m\"\"\"\u001b[39;00m\n\u001b[1;32m     63\u001b[0m \u001b[38;5;124;03m    In a scatter plot, each row of `data_frame` is represented by a symbol\u001b[39;00m\n\u001b[1;32m     64\u001b[0m \u001b[38;5;124;03m    mark in 2D space.\u001b[39;00m\n\u001b[1;32m     65\u001b[0m \u001b[38;5;124;03m    \"\"\"\u001b[39;00m\n\u001b[0;32m---> 66\u001b[0m     \u001b[38;5;28;01mreturn\u001b[39;00m \u001b[43mmake_figure\u001b[49m\u001b[43m(\u001b[49m\u001b[43margs\u001b[49m\u001b[38;5;241;43m=\u001b[39;49m\u001b[38;5;28;43mlocals\u001b[39;49m\u001b[43m(\u001b[49m\u001b[43m)\u001b[49m\u001b[43m,\u001b[49m\u001b[43m \u001b[49m\u001b[43mconstructor\u001b[49m\u001b[38;5;241;43m=\u001b[39;49m\u001b[43mgo\u001b[49m\u001b[38;5;241;43m.\u001b[39;49m\u001b[43mScatter\u001b[49m\u001b[43m)\u001b[49m\n",
            "File \u001b[0;32m~/269382/.venv/lib/python3.10/site-packages/plotly/express/_core.py:2350\u001b[0m, in \u001b[0;36mmake_figure\u001b[0;34m(args, constructor, trace_patch, layout_patch)\u001b[0m\n\u001b[1;32m   2348\u001b[0m             next_color \u001b[38;5;241m=\u001b[39m m\u001b[38;5;241m.\u001b[39msequence[\u001b[38;5;28mlen\u001b[39m(m\u001b[38;5;241m.\u001b[39mval_map) \u001b[38;5;241m%\u001b[39m \u001b[38;5;28mlen\u001b[39m(m\u001b[38;5;241m.\u001b[39msequence)]\n\u001b[1;32m   2349\u001b[0m             trendline_spec\u001b[38;5;241m.\u001b[39mtrace_patch[\u001b[38;5;124m\"\u001b[39m\u001b[38;5;124mline\u001b[39m\u001b[38;5;124m\"\u001b[39m] \u001b[38;5;241m=\u001b[39m \u001b[38;5;28mdict\u001b[39m(color\u001b[38;5;241m=\u001b[39mnext_color)\n\u001b[0;32m-> 2350\u001b[0m patch, fit_results \u001b[38;5;241m=\u001b[39m \u001b[43mmake_trace_kwargs\u001b[49m\u001b[43m(\u001b[49m\n\u001b[1;32m   2351\u001b[0m \u001b[43m    \u001b[49m\u001b[43margs\u001b[49m\u001b[43m,\u001b[49m\u001b[43m \u001b[49m\u001b[43mtrendline_spec\u001b[49m\u001b[43m,\u001b[49m\u001b[43m \u001b[49m\u001b[43margs\u001b[49m\u001b[43m[\u001b[49m\u001b[38;5;124;43m\"\u001b[39;49m\u001b[38;5;124;43mdata_frame\u001b[39;49m\u001b[38;5;124;43m\"\u001b[39;49m\u001b[43m]\u001b[49m\u001b[43m,\u001b[49m\u001b[43m \u001b[49m\u001b[43m{\u001b[49m\u001b[43m}\u001b[49m\u001b[43m,\u001b[49m\u001b[43m \u001b[49m\u001b[43msizeref\u001b[49m\n\u001b[1;32m   2352\u001b[0m \u001b[43m\u001b[49m\u001b[43m)\u001b[49m\n\u001b[1;32m   2353\u001b[0m trendline_trace\u001b[38;5;241m.\u001b[39mupdate(patch)\n\u001b[1;32m   2354\u001b[0m fig\u001b[38;5;241m.\u001b[39madd_trace(\n\u001b[1;32m   2355\u001b[0m     trendline_trace, row\u001b[38;5;241m=\u001b[39m\u001b[38;5;124m\"\u001b[39m\u001b[38;5;124mall\u001b[39m\u001b[38;5;124m\"\u001b[39m, col\u001b[38;5;241m=\u001b[39m\u001b[38;5;124m\"\u001b[39m\u001b[38;5;124mall\u001b[39m\u001b[38;5;124m\"\u001b[39m, exclude_empty_subplots\u001b[38;5;241m=\u001b[39m\u001b[38;5;28;01mTrue\u001b[39;00m\n\u001b[1;32m   2356\u001b[0m )\n",
            "File \u001b[0;32m~/269382/.venv/lib/python3.10/site-packages/plotly/express/_core.py:359\u001b[0m, in \u001b[0;36mmake_trace_kwargs\u001b[0;34m(args, trace_spec, trace_data, mapping_labels, sizeref)\u001b[0m\n\u001b[1;32m    357\u001b[0m trace_patch[\u001b[38;5;124m\"\u001b[39m\u001b[38;5;124mx\u001b[39m\u001b[38;5;124m\"\u001b[39m] \u001b[38;5;241m=\u001b[39m sorted_trace_data[args[\u001b[38;5;124m\"\u001b[39m\u001b[38;5;124mx\u001b[39m\u001b[38;5;124m\"\u001b[39m]][non_missing]\n\u001b[1;32m    358\u001b[0m trendline_function \u001b[38;5;241m=\u001b[39m trendline_functions[attr_value]\n\u001b[0;32m--> 359\u001b[0m y_out, hover_header, fit_results \u001b[38;5;241m=\u001b[39m \u001b[43mtrendline_function\u001b[49m\u001b[43m(\u001b[49m\n\u001b[1;32m    360\u001b[0m \u001b[43m    \u001b[49m\u001b[43margs\u001b[49m\u001b[43m[\u001b[49m\u001b[38;5;124;43m\"\u001b[39;49m\u001b[38;5;124;43mtrendline_options\u001b[39;49m\u001b[38;5;124;43m\"\u001b[39;49m\u001b[43m]\u001b[49m\u001b[43m,\u001b[49m\n\u001b[1;32m    361\u001b[0m \u001b[43m    \u001b[49m\u001b[43msorted_trace_data\u001b[49m\u001b[43m[\u001b[49m\u001b[43margs\u001b[49m\u001b[43m[\u001b[49m\u001b[38;5;124;43m\"\u001b[39;49m\u001b[38;5;124;43mx\u001b[39;49m\u001b[38;5;124;43m\"\u001b[39;49m\u001b[43m]\u001b[49m\u001b[43m]\u001b[49m\u001b[43m,\u001b[49m\n\u001b[1;32m    362\u001b[0m \u001b[43m    \u001b[49m\u001b[43mx\u001b[49m\u001b[43m,\u001b[49m\n\u001b[1;32m    363\u001b[0m \u001b[43m    \u001b[49m\u001b[43my\u001b[49m\u001b[43m,\u001b[49m\n\u001b[1;32m    364\u001b[0m \u001b[43m    \u001b[49m\u001b[43margs\u001b[49m\u001b[43m[\u001b[49m\u001b[38;5;124;43m\"\u001b[39;49m\u001b[38;5;124;43mx\u001b[39;49m\u001b[38;5;124;43m\"\u001b[39;49m\u001b[43m]\u001b[49m\u001b[43m,\u001b[49m\n\u001b[1;32m    365\u001b[0m \u001b[43m    \u001b[49m\u001b[43margs\u001b[49m\u001b[43m[\u001b[49m\u001b[38;5;124;43m\"\u001b[39;49m\u001b[38;5;124;43my\u001b[39;49m\u001b[38;5;124;43m\"\u001b[39;49m\u001b[43m]\u001b[49m\u001b[43m,\u001b[49m\n\u001b[1;32m    366\u001b[0m \u001b[43m    \u001b[49m\u001b[43mnon_missing\u001b[49m\u001b[43m,\u001b[49m\n\u001b[1;32m    367\u001b[0m \u001b[43m\u001b[49m\u001b[43m)\u001b[49m\n\u001b[1;32m    368\u001b[0m \u001b[38;5;28;01massert\u001b[39;00m \u001b[38;5;28mlen\u001b[39m(y_out) \u001b[38;5;241m==\u001b[39m \u001b[38;5;28mlen\u001b[39m(\n\u001b[1;32m    369\u001b[0m     trace_patch[\u001b[38;5;124m\"\u001b[39m\u001b[38;5;124mx\u001b[39m\u001b[38;5;124m\"\u001b[39m]\n\u001b[1;32m    370\u001b[0m ), \u001b[38;5;124m\"\u001b[39m\u001b[38;5;124mmissing-data-handling failure in trendline code\u001b[39m\u001b[38;5;124m\"\u001b[39m\n\u001b[1;32m    371\u001b[0m trace_patch[\u001b[38;5;124m\"\u001b[39m\u001b[38;5;124my\u001b[39m\u001b[38;5;124m\"\u001b[39m] \u001b[38;5;241m=\u001b[39m y_out\n",
            "File \u001b[0;32m~/269382/.venv/lib/python3.10/site-packages/plotly/express/trendline_functions/__init__.py:43\u001b[0m, in \u001b[0;36mols\u001b[0;34m(trendline_options, x_raw, x, y, x_label, y_label, non_missing)\u001b[0m\n\u001b[1;32m     37\u001b[0m     \u001b[38;5;28;01mif\u001b[39;00m k \u001b[38;5;129;01mnot\u001b[39;00m \u001b[38;5;129;01min\u001b[39;00m valid_options:\n\u001b[1;32m     38\u001b[0m         \u001b[38;5;28;01mraise\u001b[39;00m \u001b[38;5;167;01mValueError\u001b[39;00m(\n\u001b[1;32m     39\u001b[0m             \u001b[38;5;124m\"\u001b[39m\u001b[38;5;124mOLS trendline_options keys must be one of [\u001b[39m\u001b[38;5;132;01m%s\u001b[39;00m\u001b[38;5;124m] but got \u001b[39m\u001b[38;5;124m'\u001b[39m\u001b[38;5;132;01m%s\u001b[39;00m\u001b[38;5;124m'\u001b[39m\u001b[38;5;124m\"\u001b[39m\n\u001b[1;32m     40\u001b[0m             \u001b[38;5;241m%\u001b[39m (\u001b[38;5;124m\"\u001b[39m\u001b[38;5;124m, \u001b[39m\u001b[38;5;124m\"\u001b[39m\u001b[38;5;241m.\u001b[39mjoin(valid_options), k)\n\u001b[1;32m     41\u001b[0m         )\n\u001b[0;32m---> 43\u001b[0m \u001b[38;5;28;01mimport\u001b[39;00m \u001b[38;5;21;01mstatsmodels\u001b[39;00m\u001b[38;5;21;01m.\u001b[39;00m\u001b[38;5;21;01mapi\u001b[39;00m \u001b[38;5;28;01mas\u001b[39;00m \u001b[38;5;21;01msm\u001b[39;00m\n\u001b[1;32m     45\u001b[0m add_constant \u001b[38;5;241m=\u001b[39m trendline_options\u001b[38;5;241m.\u001b[39mget(\u001b[38;5;124m\"\u001b[39m\u001b[38;5;124madd_constant\u001b[39m\u001b[38;5;124m\"\u001b[39m, \u001b[38;5;28;01mTrue\u001b[39;00m)\n\u001b[1;32m     46\u001b[0m log_x \u001b[38;5;241m=\u001b[39m trendline_options\u001b[38;5;241m.\u001b[39mget(\u001b[38;5;124m\"\u001b[39m\u001b[38;5;124mlog_x\u001b[39m\u001b[38;5;124m\"\u001b[39m, \u001b[38;5;28;01mFalse\u001b[39;00m)\n",
            "\u001b[0;31mModuleNotFoundError\u001b[0m: No module named 'statsmodels'"
          ]
        }
      ],
      "source": [
        "fig = px.scatter(iris, x='petal_width',\n",
        "           y='sepal_length',\n",
        "           color='class',\n",
        "           opacity=0.65,   # ความโปร่งแสงของแต่ละจุดข้อมูล เพื่อที่จะได้เห็นจุดที่ซ้อนกันเข้มกว่าจุดอื่น ๆ\n",
        "           trendline='ols',   # ols = Ordinary Least Square เป็นการหาเส้นตรงที่ fit กับจุดข้อมูลที่สุดมาแสดง\n",
        "           trendline_scope='overall', # คำนวนเส้นตรงจากข้อมูลทุกจุด ไม่แยกเป็นตาม color (ถ้าไม่กำหนดแล้วจะเกิดอะไรขึ้น?)\n",
        "           trendline_color_override='darkblue')  # สีของเส้น trendline\n",
        "fig.show()"
      ]
    },
    {
      "cell_type": "markdown",
      "metadata": {
        "id": "4SyYvdj4_01w"
      },
      "source": [
        ">**Note:**\n",
        ">- OLS ย่อมาจาก Ordinary Least Squares เป็นรูปแบบการคำนวณหาคำตอบของ Linear regression แบบหนึ่ง\n",
        ">- ศึกษาเพิ่มเติมการสร้าง trendline ใน plotly ได้ที่ https://plotly.com/python/linear-fits/"
      ]
    },
    {
      "cell_type": "markdown",
      "metadata": {
        "id": "SEzQzXeG9zn_"
      },
      "source": [
        "\n",
        "\n",
        "สมการ trendline ข้างต้น มีสมการคือ $f(x) = \\hat{y} = w x + b$ โดยที่ $w$ และ $b$ เป็นสัมประสิทธิ์ของสมการ ที่มีความหมายคือ\n",
        "- $w$ คือ ความชัน (slope)\n",
        "- $b$ คือ ค่าตัดแกนตั้ง (offset)\n",
        "\n",
        "เราให้ $\\hat{y}$ แทนเอาต์พุตของสมการ trendline เพื่อหมายถึงการเป็นค่าประมาณของ $y$ กล่าวคือ เมื่อป้อน $x$ ค่าหนึ่ง ๆ เข้าสมการ $f(x) = w x + b$ แล้ว ค่าที่ได้อาจจะไม่เท่ากับค่า $y$ จริง ๆ ก็ได้\n"
      ]
    },
    {
      "cell_type": "markdown",
      "metadata": {
        "id": "KypK2PaJ75nJ"
      },
      "source": [
        "เราเรียกโมเดลที่ใช้ฟังก์ชันเชิงเส้นในการทำนายค่าที่เป็นจำนวนจริงใด ๆ จะว่าเป็นโมเดล **Linear regression** ซึ่งปัญหาของ Linear regression ก็คือการหาค่า $w$ และ $b$ ที่ดีที่สุด (ใกล้เคียงข้อมูลที่สุด, fit ข้อมูลมากที่สุด) แล้วเราจะหาได้อย่างไร?\n",
        "\n",
        "พิจารณาตัวอย่างข้อมูลเฉพาะ `petal_width` กับ `sepal_length` และผลการทำนายที่ติดตัวแปรไม่ทราบค่า $w$ และ $b$ ต่อไปนี้\n",
        "\n",
        "| แถวที่ | ค่า petal_width ($x$) | ค่า sepal_length จริง ๆ ($y$) | $\\rightarrow$ |sepal_length ที่ทำนายได้ ($\\hat{y} = wx+b$)  |\n",
        "|:--|:--|:--|:-- |:-- |\n",
        "| 30 |\t$x^{(30)} = 0.2$ |\t$y^{(30)} = 4.8$ |$\\rightarrow$ | $\\hat{y}^{(30)} =  0.2 w + b$ |\n",
        "| 84\t| $x^{(84)} = 1.5$\t| $y^{(84)} = 5.4$ |$\\rightarrow$ |  $\\hat{y}^{(84)} = 1.5w + b$ |\n",
        "| 128 |\t$x^{(128)} = 2.1$\t| $y^{(128)} = 6.4$ |$\\rightarrow$ | $\\hat{y}^{(128)} = 2.1 w + b$  |\n",
        "| 134\t| $x^{(134)} = 1.4$\t| $y^{(134)} = 6.1$ |$\\rightarrow$ | $\\hat{y}^{(134)} = 1.4 w + b$  |\n",
        "| 145\t| $x^{(145)} = 2.3$\t| $y^{(145)} = 6.7$ |$\\rightarrow$ |  $\\hat{y}^{(145)} = 2.3 w + b$ |\n",
        "\n",
        "โดยที่ $x^{(i)}$ และ $y^{(i)}$ คือค่าของแถวที่ $i$\n",
        "\n",
        "จากตาราง จะสามารถประเมินความผิดพลาดในการทำนายข้อมูลแต่ละแถว ได้ดังนี้\n",
        "\n",
        "| แถวที่ |  ความผิดพลาดของการทำนาย (Error) |\n",
        "|:--|:--  |\n",
        "| 30 | $\\hat{y}^{(30)}- y^{(30)} = 0.2 w + b - 4.8$ |\n",
        "| 84| $\\hat{y}^{(84)}- y^{(84)} = 1.5w + b - 5.4$ |\n",
        "| 128| $\\hat{y}^{(128)}- y^{(128)} = 2.1 w + b - 6.4$ |\n",
        "| 134| $\\hat{y}^{(134)}- y^{(134)} = 1.4 w + b - 6.1$|\n",
        "| 145 | $\\hat{y}^{(145)}- y^{(145)} = 2.3 w + b - 6.7$|\n",
        "\n",
        "> **Note:** ในทางสถิติมักเรียก Error ว่า Residual ซึ่งแม้ว่าทั้งสองคำนี้จะมีความแตกต่างกันอยู่บ้าง แต่ในวิชานี้จะใช้สองคำนี้แทนกัน ซึ่งหมายถึงความผิดพลาดในการทำนาย \n",
        "\n",
        "ค่าความผิดพลาดข้างต้น เป็นได้ทั้งค่าบวกและลบ ดังนั้นการจะนำความผิดพลาดรวมกัน จึงจะทำการยกกำลังสองเสียก่อน แล้วจึงค่อยมาบวกกัน ซึ่งการหาค่าความผิดพลาดลักษณะนี้ เรียกว่า  **Mean Squared Error หรือ MSE**\n",
        "\n",
        "จะได้ว่า สำหรับดอกไอริส 5 ดอกนี้ ทำนายผิดพลาดโดยเฉลี่ย คือ\n",
        "\n",
        "$\n",
        "MSE = \\frac{(0.2 w + b - 4.8)^2 + (1.5w + b - 5.4)^2 + (2.1 w + b - 6.4)^2 + (1.4 w + b - 6.1)^2 + (2.3 w + b - 6.7)^2}{5}\n",
        "$\n",
        "\n",
        "หรือสุดท้ายแล้ว หากกระจายพหุนามแล้ว จะได้\n",
        "\n",
        "$\n",
        "MSE = 2.79 w^2 + b^2 + 3 wb- 18.58 w - 11.76 b  + 35.052   \n",
        "$\n",
        "\n",
        "การไม่ทราบค่า $w$ และ $b$ จะทำให้ค่า MSE ติดอยู่ในรูปตัวแปร 2 ตัวนี้ ซึ่งสำหรับปัญหา Linear regression แล้วนั้น จะเป็นการเลือก $w$ และ $b$ ที่ให้ค่า MSE ต่ำที่สุด\n",
        "\n",
        ">**Note:** จะใช้ค่าสัมบูรณ์แทนการยกกำลังสองก็ได้ แต่ในทางคณิตศาสตร์ การยกกำลังสองจะสะดวกในการหาค่า $w$ และ $b$ ที่ดีที่สุดมากกว่า\n"
      ]
    },
    {
      "cell_type": "markdown",
      "metadata": {
        "id": "SOY40vQcgPbI"
      },
      "source": [
        "สำหรับกรณีทั่วไปที่มีดอกไอริส $n$ ดอก สูตรคำนวณ MSE จะเขียนได้ ดังนี้\n",
        "\n",
        "$\n",
        "MSE = \\frac{1}{n} \\sum_{i=1}^n (\\hat{y}^{(i)} - y^{(i)})^2\n",
        "$\n",
        "\n",
        "โดยที่ $\\hat{y}^{(i)} = w x^{(i)} + b$\n",
        "\n",
        "ซึ่งปัญหา Linear regression ก็คือปัญหาของการเลือก $w$ และ $b$ ของ $\\hat{y}^{(i)} = w x^{(i)} + b$ ที่ให้ค่า MSE ต่ำที่สุด โดยใช้ข้อมูล $n$ คู่ คือ ($x^{(i)},y^{(i)}$), $i=1,2,...,n$ ในการเลือก และโดยทั่วไป มักเขียนด้วยสัญลักษณ์ทางคณิตศาสตร์ ดังต่อไปนี้\n",
        "\n",
        "$\n",
        "\\min_{w,b} \\frac{1}{n} \\sum_{i=1}^n (\\hat{y}^{(i)} - y^{(i)})^2\n",
        "$\n",
        "\n",
        "> **Note:**\n",
        "> สำหรับในคาบนี้ จะไม่สนใจว่าวิธีการทางคณิตศาสตร์จะแก้ปัญหาข้างต้นเพื่อหา $w$ และ $b$ ได้อย่างไร แต่อยากให้นักศึกษาทำความเข้าใจกราฟรูปนี้ แล้วในรูป จะเห็นว่า สุดท้ายแล้ว Linear regression คือการหาสัมประสิทธิ์ของสมการเส้นตรง (เส้นสีฟ้า) ที่ทำให้ผลรวมของความยาวของเส้นแนวตั้งทุกเส้น (เส้นสีเขียว) โดยรวมให้สั้นที่สุด\n",
        ">\n",
        "> <img src=\"https://upload.wikimedia.org/wikipedia/commons/thumb/b/b0/Linear_least_squares_example2.svg/782px-Linear_least_squares_example2.svg.png\" height=\"200\">\n",
        "\n",
        "\n"
      ]
    },
    {
      "cell_type": "markdown",
      "metadata": {
        "id": "QfJzmVB7R5Rt"
      },
      "source": [
        "### Data splits ด้วย `train_test_split()`\n",
        "\n",
        "ข้อมูลดอกไอริสมีทั้งหมด 150 แถว (3 สายพันธุ์ สายพันธุ์ละ 50 แถว) การจะนำข้อมูล*ทั้งหมด*มาสร้างโมเดล (หรือก็คือมาใช้หาฟังก์ชัน $\\hat{y} = wx+b$) ก็สามารถทำได้ แต่หากทำแล้ว เราก็จะไม่มีข้อมูลเหลือไว้สำหรับประเมินประสิทธิภาพของโมเดล (Model evaluation) แบบไม่ลำเอียง และถ้าเราวัดประสิทธิภาพแบบไม่ลำเอียงไม่ได้ ก็ไม่มีเหตุผลที่จะสร้างโมเดลแต่แรก\n",
        "\n",
        "ดังนั้น ในทางปฏิบัติ มักจำเป็นต้องแบ่งข้อมูลเป็น 2 กลุ่ม ดังนี้\n",
        "- **กลุ่มที่ 1** ไว้สำหรับสร้างโมเดล (หาพารามิเตอร์ $w$ และ $b$ ของโมเดล) เราจะเรียกข้อมูลกลุ่มนี้ว่า **ชุดข้อมูลฝึกสอน/เทรน (training set)**\n",
        "- **กลุ่มที่ 2** ไว้สำหรับทดสอบโมเดล เราเรียกชุดข้อมูลกลุ่มนี้ว่า **ชุดข้อมูลทดสอบ (test set)** ซึ่งชุดข้อมูลทดสอบนี้ จะไม่ได้มีส่วนในการหาพารามิเตอร์ $w$ และ $b$ ของโมเดลเลย ดังนั้นบางครั้งจึงถูกเรียกว่า blind test set"
      ]
    },
    {
      "cell_type": "markdown",
      "metadata": {
        "id": "rJTBYQDTMdCp"
      },
      "source": [
        "การแบ่งข้อมูล สามารถทำได้ง่ายโดยใช้ฟังก์ชัน `train_test_split()` ของ `scikit-learn` ตามรูปแบบดังนี้\n",
        "\n",
        "ขั้นแรก คือนำเข้าคำสั่ง\n",
        "```python\n",
        "from sklearn.model_selection import train_test_split\n",
        "```\n",
        "\n",
        "โดยรูปแบบการ split ข้อมูลแบบง่ายที่สุดคือ\n",
        "```python\n",
        "df1, df2 = train_test_split(df, train_size=สัดส่วนการแบ่ง, random_state=None)\n",
        "```\n",
        "ซึ่งจะทำการสุ่มเลือกแถวของ `df` เป็น 2 กลุ่ม และเก็บไว้ในตัวแปร `df1` และ `df2`\n",
        "\n",
        "> **Note:** `random_state=` ใช้สำหรับกำหนดตัวเลข (ค่า seed) เพื่อล็อกผลการสุ่ม เช่น `random_state=555` ซึ่งในตัวอย่างต่อ ๆ ไป จะทำการล็อกค่าไว้เพื่อให้ผลลัพธ์ที่นักศึกษาได้ ตรงกับของอาจารย์\n",
        "\n",
        "ยกตัวอย่างเช่น หากต้องการแบ่ง 60% สำหรับเทรน และ 40% สำหรับเทส จะทำได้ดังนี้"
      ]
    },
    {
      "cell_type": "code",
      "execution_count": null,
      "metadata": {
        "colab": {
          "base_uri": "https://localhost:8080/"
        },
        "id": "Tu04BSj5RK6D",
        "outputId": "3975c214-290f-45e4-cbe9-c12321c54a14"
      },
      "outputs": [
        {
          "name": "stdout",
          "output_type": "stream",
          "text": [
            "Shape of training set: (90, 5)\n",
            "Shape of test set: (60, 5)\n"
          ]
        }
      ],
      "source": [
        "from sklearn.model_selection import train_test_split\n",
        "iris_train, iris_test = train_test_split(iris,\n",
        "                                         train_size=0.6, # ต้องการ training set ดอกมี 60% ของ 150 ดอก\n",
        "                                         random_state=123)\n",
        "print(f'Shape of training set: {iris_train.shape}')\n",
        "print(f'Shape of test set: {iris_test.shape}')"
      ]
    },
    {
      "cell_type": "markdown",
      "metadata": {
        "id": "pLTb0DHiTRBL"
      },
      "source": [
        "จากผลข้างต้น ลองมาดูกันว่ามีสายพันธุ์อะไรบ้างอยู่ใน training set สายพันธุ์ละกี่แถว?"
      ]
    },
    {
      "cell_type": "code",
      "execution_count": null,
      "metadata": {
        "colab": {
          "base_uri": "https://localhost:8080/"
        },
        "id": "3VzcDkWoTil_",
        "outputId": "05dd7568-3fdd-44f4-82a1-c00f46b1f7cf"
      },
      "outputs": [
        {
          "data": {
            "text/plain": [
              "Iris-versicolor    0.377778\n",
              "Iris-setosa        0.311111\n",
              "Iris-virginica     0.311111\n",
              "Name: class, dtype: Float64"
            ]
          },
          "execution_count": 7,
          "metadata": {},
          "output_type": "execute_result"
        }
      ],
      "source": [
        "iris_train['class'].value_counts(normalize=True) # กำหนด normalize เพื่อให้ได้ค่าสัดส่วน"
      ]
    },
    {
      "cell_type": "markdown",
      "metadata": {
        "id": "hytucw3BT-Ug"
      },
      "source": [
        "เนื่องจากการสุ่มไม่ได้สนใจเลยว่า training set (`iris_train`) และ test set (`iris_test`) ที่ได้ จะมีสัดส่วนของสายพันธุ์ดอกไอริสที่เท่า ๆ กับข้อมูลตั้งต้น (`iris`) หรือไม่ ซึ่งในกรณีนี้ จะเห็นว่า หลังจากที่แบ่ง train/test ด้วยสัดส่วน 80/20 แล้ว เราได้ ข้อมูลเทรนที่มีสัดส่วนสายพันธุ์เป็น Versicolor/Virginica/Setosa = 36.6/32.5/30.8\n",
        "\n",
        "ในหลายกรณี สัดส่วนที่ไม่เท่ากันข้างต้นก็ไม่ได้เป็นผลเสียแต่อย่างใด แต่ถ้าหากต้องการแบ่งให้คำนึงถึงสัดส่วนของสายพันธุ์ด้วยนั้น  ก็สามารถทำได้โดยกำหนด `stratify=รายการชนิดสายพันธ์` ดังนี้"
      ]
    },
    {
      "cell_type": "code",
      "execution_count": null,
      "metadata": {
        "colab": {
          "base_uri": "https://localhost:8080/"
        },
        "id": "i64bkMh0Vx6_",
        "outputId": "b896673e-8815-4638-8a4c-282ffb0bafd9"
      },
      "outputs": [
        {
          "data": {
            "text/plain": [
              "Iris-setosa        0.333333\n",
              "Iris-virginica     0.333333\n",
              "Iris-versicolor    0.333333\n",
              "Name: class, dtype: Float64"
            ]
          },
          "execution_count": 8,
          "metadata": {},
          "output_type": "execute_result"
        }
      ],
      "source": [
        "labels = iris['class']  # เลือกคอลัมน์ของสายพันธุ์\n",
        "iris_train, iris_test = train_test_split(iris,\n",
        "                                         train_size=0.6,\n",
        "                                         stratify=labels,\n",
        "                                         random_state=123)\n",
        "iris_train['class'].value_counts(normalize=True) # กำหนด normalize เพื่อให้ได้ค่าสัดส่วน"
      ]
    },
    {
      "cell_type": "markdown",
      "metadata": {
        "id": "MrraDgg5V-oY"
      },
      "source": [
        "จะเห็นว่า หลังจากที่กำหนดพารามิเตอร์ `stratify=` แล้ว จะได้ข้อมูลที่มีสัดส่วนสายพันธุ์เท่ากับสัดส่วนในข้อมูลต้นฉบับ\n",
        "\n",
        "**คำถาม:** ทำไมจึงอยากที่จะให้สัดส่วนสายพันธุ์ในข้อมูลหลังแบ่ง ให้เหมือนกับสัดส่วนสายพันธุ์ในข้อมูลก่อนแบ่ง?"
      ]
    },
    {
      "cell_type": "markdown",
      "metadata": {
        "id": "HRHd2U7cWVn-"
      },
      "source": [
        "นอกจากนี้ คำสั่ง `train_test_split()` ยังสามารถแบ่งข้อมูลในกรณีที่ข้อมูลอินพุต(ตัวแปรต้น) กับข้อมูลเอาต์พุต (ตัวแปรตาม) ถูกแยกเก็บไว้คนละตัวแปร ได้อีกด้วย ดังตัวอย่างต่อไปนี้"
      ]
    },
    {
      "cell_type": "code",
      "execution_count": null,
      "metadata": {
        "colab": {
          "base_uri": "https://localhost:8080/"
        },
        "id": "tTwip3baLxGI",
        "outputId": "d5cd5fbc-4e42-4e46-87ea-3421acaaebe4"
      },
      "outputs": [
        {
          "name": "stdout",
          "output_type": "stream",
          "text": [
            "Shape of training set: X_train (90, 1), y_train (90, 1)\n",
            "Shape of test set:     X_test  (60, 1),  y_test  (60, 1)\n"
          ]
        }
      ],
      "source": [
        "from sklearn.model_selection import train_test_split\n",
        "X = iris[['petal_width']]  # X เป็น DataFrame\n",
        "Y = iris[['sepal_length']] # Y เป็น DataFrame\n",
        "label = iris[['class']]    # label เป็น DataFrame\n",
        "X_train, X_test, y_train, y_test = train_test_split(X, Y,\n",
        "                                                    train_size=0.6,\n",
        "                                                    stratify=labels,\n",
        "                                                    random_state=123)\n",
        "print(f'Shape of training set: X_train {X_train.shape}, y_train {y_train.shape}')\n",
        "print(f'Shape of test set:     X_test  {X_test.shape},  y_test  {y_test.shape}')"
      ]
    },
    {
      "cell_type": "markdown",
      "metadata": {
        "id": "PdMOHqD3PPhl"
      },
      "source": [
        "จากโค้ดข้างต้น เราแยกตัวแปรต้นและตัวแปรตาม เก็บไว้ในตัวแปร `X` และ `Y` ตามลำดับ ซึ่งในการ split นั้น คำสั่ง `train_test_split()` จะคำนึงถึงแถวของ `X` และ `Y` คู่กัน และให้ถูกเลือกไปด้วยกันตอน split ซึ่งผลลัพธ์ของการ split จะได้ DataFrame อยู่ 4 ตัวแปร"
      ]
    },
    {
      "cell_type": "markdown",
      "metadata": {
        "id": "miIqRApGR724"
      },
      "source": [
        "### การฝึกสอนโมเดลด้วย `model.fit()`\n",
        "\n",
        "เมื่อมีชุดข้อมูลพร้อมแล้วสำหรับเทรน ขั้นตอนต่อไปจะเป็นการฝึกสอนโมเดลให้เรียนรู้ชดข้อมูลนั้น\n",
        "\n",
        "ซึ่งในขั้นแรก จะต้องสร้างโมเดลตั้งต้นมาก่อน ซึ่งจะเป็นโมเดลที่จะยังไม่ได้เรียนรู้ ซึ่งสร้างได้ ดังนี้\n",
        "\n",
        "\n",
        "\n",
        "\n",
        "\n",
        "\n"
      ]
    },
    {
      "cell_type": "code",
      "execution_count": null,
      "metadata": {
        "colab": {
          "base_uri": "https://localhost:8080/",
          "height": 74
        },
        "id": "XLn3UeHecG5c",
        "outputId": "1ea0537d-5c8f-4f7f-806e-ea399dc5dc4c"
      },
      "outputs": [
        {
          "data": {
            "text/html": [
              "<style>#sk-container-id-1 {color: black;background-color: white;}#sk-container-id-1 pre{padding: 0;}#sk-container-id-1 div.sk-toggleable {background-color: white;}#sk-container-id-1 label.sk-toggleable__label {cursor: pointer;display: block;width: 100%;margin-bottom: 0;padding: 0.3em;box-sizing: border-box;text-align: center;}#sk-container-id-1 label.sk-toggleable__label-arrow:before {content: \"▸\";float: left;margin-right: 0.25em;color: #696969;}#sk-container-id-1 label.sk-toggleable__label-arrow:hover:before {color: black;}#sk-container-id-1 div.sk-estimator:hover label.sk-toggleable__label-arrow:before {color: black;}#sk-container-id-1 div.sk-toggleable__content {max-height: 0;max-width: 0;overflow: hidden;text-align: left;background-color: #f0f8ff;}#sk-container-id-1 div.sk-toggleable__content pre {margin: 0.2em;color: black;border-radius: 0.25em;background-color: #f0f8ff;}#sk-container-id-1 input.sk-toggleable__control:checked~div.sk-toggleable__content {max-height: 200px;max-width: 100%;overflow: auto;}#sk-container-id-1 input.sk-toggleable__control:checked~label.sk-toggleable__label-arrow:before {content: \"▾\";}#sk-container-id-1 div.sk-estimator input.sk-toggleable__control:checked~label.sk-toggleable__label {background-color: #d4ebff;}#sk-container-id-1 div.sk-label input.sk-toggleable__control:checked~label.sk-toggleable__label {background-color: #d4ebff;}#sk-container-id-1 input.sk-hidden--visually {border: 0;clip: rect(1px 1px 1px 1px);clip: rect(1px, 1px, 1px, 1px);height: 1px;margin: -1px;overflow: hidden;padding: 0;position: absolute;width: 1px;}#sk-container-id-1 div.sk-estimator {font-family: monospace;background-color: #f0f8ff;border: 1px dotted black;border-radius: 0.25em;box-sizing: border-box;margin-bottom: 0.5em;}#sk-container-id-1 div.sk-estimator:hover {background-color: #d4ebff;}#sk-container-id-1 div.sk-parallel-item::after {content: \"\";width: 100%;border-bottom: 1px solid gray;flex-grow: 1;}#sk-container-id-1 div.sk-label:hover label.sk-toggleable__label {background-color: #d4ebff;}#sk-container-id-1 div.sk-serial::before {content: \"\";position: absolute;border-left: 1px solid gray;box-sizing: border-box;top: 0;bottom: 0;left: 50%;z-index: 0;}#sk-container-id-1 div.sk-serial {display: flex;flex-direction: column;align-items: center;background-color: white;padding-right: 0.2em;padding-left: 0.2em;position: relative;}#sk-container-id-1 div.sk-item {position: relative;z-index: 1;}#sk-container-id-1 div.sk-parallel {display: flex;align-items: stretch;justify-content: center;background-color: white;position: relative;}#sk-container-id-1 div.sk-item::before, #sk-container-id-1 div.sk-parallel-item::before {content: \"\";position: absolute;border-left: 1px solid gray;box-sizing: border-box;top: 0;bottom: 0;left: 50%;z-index: -1;}#sk-container-id-1 div.sk-parallel-item {display: flex;flex-direction: column;z-index: 1;position: relative;background-color: white;}#sk-container-id-1 div.sk-parallel-item:first-child::after {align-self: flex-end;width: 50%;}#sk-container-id-1 div.sk-parallel-item:last-child::after {align-self: flex-start;width: 50%;}#sk-container-id-1 div.sk-parallel-item:only-child::after {width: 0;}#sk-container-id-1 div.sk-dashed-wrapped {border: 1px dashed gray;margin: 0 0.4em 0.5em 0.4em;box-sizing: border-box;padding-bottom: 0.4em;background-color: white;}#sk-container-id-1 div.sk-label label {font-family: monospace;font-weight: bold;display: inline-block;line-height: 1.2em;}#sk-container-id-1 div.sk-label-container {text-align: center;}#sk-container-id-1 div.sk-container {/* jupyter's `normalize.less` sets `[hidden] { display: none; }` but bootstrap.min.css set `[hidden] { display: none !important; }` so we also need the `!important` here to be able to override the default hidden behavior on the sphinx rendered scikit-learn.org. See: https://github.com/scikit-learn/scikit-learn/issues/21755 */display: inline-block !important;position: relative;}#sk-container-id-1 div.sk-text-repr-fallback {display: none;}</style><div id=\"sk-container-id-1\" class=\"sk-top-container\"><div class=\"sk-text-repr-fallback\"><pre>LinearRegression()</pre><b>In a Jupyter environment, please rerun this cell to show the HTML representation or trust the notebook. <br />On GitHub, the HTML representation is unable to render, please try loading this page with nbviewer.org.</b></div><div class=\"sk-container\" hidden><div class=\"sk-item\"><div class=\"sk-estimator sk-toggleable\"><input class=\"sk-toggleable__control sk-hidden--visually\" id=\"sk-estimator-id-1\" type=\"checkbox\" checked><label for=\"sk-estimator-id-1\" class=\"sk-toggleable__label sk-toggleable__label-arrow\">LinearRegression</label><div class=\"sk-toggleable__content\"><pre>LinearRegression()</pre></div></div></div></div></div>"
            ],
            "text/plain": [
              "LinearRegression()"
            ]
          },
          "execution_count": 10,
          "metadata": {},
          "output_type": "execute_result"
        }
      ],
      "source": [
        "from sklearn.linear_model import LinearRegression\n",
        "model = LinearRegression()\n",
        "model"
      ]
    },
    {
      "cell_type": "markdown",
      "metadata": {
        "id": "cvFdGmD7cIeS"
      },
      "source": [
        "ในกรณีนี้ โมเดลถูกเก็บในตัวแปร `model` ซึ่งการฝึกสอนโมเดล ทำได้โดยใช้คำสั่ง `model.fit()` ซึ่งมีรูปแบบการใช้งาน ดังนี้\n",
        "\n",
        "```python\n",
        "model.fit(ตัวแปรต้น,ตัวแปรตาม)\n",
        "```"
      ]
    },
    {
      "cell_type": "code",
      "execution_count": null,
      "metadata": {
        "colab": {
          "base_uri": "https://localhost:8080/",
          "height": 74
        },
        "id": "Rc0uRhEY35DD",
        "outputId": "b42ef566-3cb2-4710-bdad-edcc1ed99bfb"
      },
      "outputs": [
        {
          "data": {
            "text/html": [
              "<style>#sk-container-id-2 {color: black;background-color: white;}#sk-container-id-2 pre{padding: 0;}#sk-container-id-2 div.sk-toggleable {background-color: white;}#sk-container-id-2 label.sk-toggleable__label {cursor: pointer;display: block;width: 100%;margin-bottom: 0;padding: 0.3em;box-sizing: border-box;text-align: center;}#sk-container-id-2 label.sk-toggleable__label-arrow:before {content: \"▸\";float: left;margin-right: 0.25em;color: #696969;}#sk-container-id-2 label.sk-toggleable__label-arrow:hover:before {color: black;}#sk-container-id-2 div.sk-estimator:hover label.sk-toggleable__label-arrow:before {color: black;}#sk-container-id-2 div.sk-toggleable__content {max-height: 0;max-width: 0;overflow: hidden;text-align: left;background-color: #f0f8ff;}#sk-container-id-2 div.sk-toggleable__content pre {margin: 0.2em;color: black;border-radius: 0.25em;background-color: #f0f8ff;}#sk-container-id-2 input.sk-toggleable__control:checked~div.sk-toggleable__content {max-height: 200px;max-width: 100%;overflow: auto;}#sk-container-id-2 input.sk-toggleable__control:checked~label.sk-toggleable__label-arrow:before {content: \"▾\";}#sk-container-id-2 div.sk-estimator input.sk-toggleable__control:checked~label.sk-toggleable__label {background-color: #d4ebff;}#sk-container-id-2 div.sk-label input.sk-toggleable__control:checked~label.sk-toggleable__label {background-color: #d4ebff;}#sk-container-id-2 input.sk-hidden--visually {border: 0;clip: rect(1px 1px 1px 1px);clip: rect(1px, 1px, 1px, 1px);height: 1px;margin: -1px;overflow: hidden;padding: 0;position: absolute;width: 1px;}#sk-container-id-2 div.sk-estimator {font-family: monospace;background-color: #f0f8ff;border: 1px dotted black;border-radius: 0.25em;box-sizing: border-box;margin-bottom: 0.5em;}#sk-container-id-2 div.sk-estimator:hover {background-color: #d4ebff;}#sk-container-id-2 div.sk-parallel-item::after {content: \"\";width: 100%;border-bottom: 1px solid gray;flex-grow: 1;}#sk-container-id-2 div.sk-label:hover label.sk-toggleable__label {background-color: #d4ebff;}#sk-container-id-2 div.sk-serial::before {content: \"\";position: absolute;border-left: 1px solid gray;box-sizing: border-box;top: 0;bottom: 0;left: 50%;z-index: 0;}#sk-container-id-2 div.sk-serial {display: flex;flex-direction: column;align-items: center;background-color: white;padding-right: 0.2em;padding-left: 0.2em;position: relative;}#sk-container-id-2 div.sk-item {position: relative;z-index: 1;}#sk-container-id-2 div.sk-parallel {display: flex;align-items: stretch;justify-content: center;background-color: white;position: relative;}#sk-container-id-2 div.sk-item::before, #sk-container-id-2 div.sk-parallel-item::before {content: \"\";position: absolute;border-left: 1px solid gray;box-sizing: border-box;top: 0;bottom: 0;left: 50%;z-index: -1;}#sk-container-id-2 div.sk-parallel-item {display: flex;flex-direction: column;z-index: 1;position: relative;background-color: white;}#sk-container-id-2 div.sk-parallel-item:first-child::after {align-self: flex-end;width: 50%;}#sk-container-id-2 div.sk-parallel-item:last-child::after {align-self: flex-start;width: 50%;}#sk-container-id-2 div.sk-parallel-item:only-child::after {width: 0;}#sk-container-id-2 div.sk-dashed-wrapped {border: 1px dashed gray;margin: 0 0.4em 0.5em 0.4em;box-sizing: border-box;padding-bottom: 0.4em;background-color: white;}#sk-container-id-2 div.sk-label label {font-family: monospace;font-weight: bold;display: inline-block;line-height: 1.2em;}#sk-container-id-2 div.sk-label-container {text-align: center;}#sk-container-id-2 div.sk-container {/* jupyter's `normalize.less` sets `[hidden] { display: none; }` but bootstrap.min.css set `[hidden] { display: none !important; }` so we also need the `!important` here to be able to override the default hidden behavior on the sphinx rendered scikit-learn.org. See: https://github.com/scikit-learn/scikit-learn/issues/21755 */display: inline-block !important;position: relative;}#sk-container-id-2 div.sk-text-repr-fallback {display: none;}</style><div id=\"sk-container-id-2\" class=\"sk-top-container\"><div class=\"sk-text-repr-fallback\"><pre>LinearRegression()</pre><b>In a Jupyter environment, please rerun this cell to show the HTML representation or trust the notebook. <br />On GitHub, the HTML representation is unable to render, please try loading this page with nbviewer.org.</b></div><div class=\"sk-container\" hidden><div class=\"sk-item\"><div class=\"sk-estimator sk-toggleable\"><input class=\"sk-toggleable__control sk-hidden--visually\" id=\"sk-estimator-id-2\" type=\"checkbox\" checked><label for=\"sk-estimator-id-2\" class=\"sk-toggleable__label sk-toggleable__label-arrow\">LinearRegression</label><div class=\"sk-toggleable__content\"><pre>LinearRegression()</pre></div></div></div></div></div>"
            ],
            "text/plain": [
              "LinearRegression()"
            ]
          },
          "execution_count": 11,
          "metadata": {},
          "output_type": "execute_result"
        }
      ],
      "source": [
        "model.fit(X_train, y_train)"
      ]
    },
    {
      "cell_type": "markdown",
      "metadata": {
        "id": "EVLJlVK4c8nP"
      },
      "source": [
        "<figure>\n",
        "<img src=\"https://raw.githubusercontent.com/INRIA/scikit-learn-mooc/main/figures/api_diagram-predictor.fit.svg\" width=50%>\n",
        "<figcaption>ที่มารูป scikit-learn MOOC by scikit-learn developers (https://inria.github.io/scikit-learn-mooc/)</figcaption>\n",
        "</figure>\n",
        "\n",
        "โดยหลังจาก `model.fit()` แล้ว จะสามารถเข้าถึงสัมประสิทธิ์ของสมการ $\\hat{y} = wx+b$ ได้จาก\n",
        "- `model.coef_` ซึ่งจะได้ค่า $w$\n",
        "- `model.intercept_` ซึ่งจะได้ค่า $b$"
      ]
    },
    {
      "cell_type": "code",
      "execution_count": null,
      "metadata": {
        "colab": {
          "base_uri": "https://localhost:8080/"
        },
        "id": "HMb0-7DPdaMQ",
        "outputId": "1ba641dc-e501-4bf5-ff2a-83970cd21ab3"
      },
      "outputs": [
        {
          "name": "stdout",
          "output_type": "stream",
          "text": [
            "สมการคือ f(x) = [[0.85559634]]*x + [4.7620008]\n"
          ]
        }
      ],
      "source": [
        "w = model.coef_\n",
        "b = model.intercept_\n",
        "print(f'สมการคือ f(x) = {w}*x + {b}')"
      ]
    },
    {
      "cell_type": "markdown",
      "metadata": {
        "id": "oy5w0zAxd4by"
      },
      "source": [
        "### การทำนายด้วย `model.predict()`\n",
        "\n",
        "การจะนำโมเดลนี้ไปใช้ทำนาย ก็สามารถทำได้โดยการป้อนค่า petal_width ($x$) ทีละแถวเข้าไป ก็จะได้ผลการทำนายค่า sepal_length ($\\hat{y}$) ซึ่งอาจคำนวณโดยใช้ Pandas ดังนี้"
      ]
    },
    {
      "cell_type": "code",
      "execution_count": null,
      "metadata": {
        "colab": {
          "base_uri": "https://localhost:8080/",
          "height": 423
        },
        "id": "YhlXe2MherS3",
        "outputId": "b218afe1-9bef-4e63-8059-aea94da3f354"
      },
      "outputs": [
        {
          "data": {
            "text/html": [
              "\n",
              "  <div id=\"df-c4c2d41c-aff8-4f80-94b0-5c45f3122069\" class=\"colab-df-container\">\n",
              "    <div>\n",
              "<style scoped>\n",
              "    .dataframe tbody tr th:only-of-type {\n",
              "        vertical-align: middle;\n",
              "    }\n",
              "\n",
              "    .dataframe tbody tr th {\n",
              "        vertical-align: top;\n",
              "    }\n",
              "\n",
              "    .dataframe thead th {\n",
              "        text-align: right;\n",
              "    }\n",
              "</style>\n",
              "<table border=\"1\" class=\"dataframe\">\n",
              "  <thead>\n",
              "    <tr style=\"text-align: right;\">\n",
              "      <th></th>\n",
              "      <th>petal_width</th>\n",
              "    </tr>\n",
              "  </thead>\n",
              "  <tbody>\n",
              "    <tr>\n",
              "      <th>24</th>\n",
              "      <td>4.933120</td>\n",
              "    </tr>\n",
              "    <tr>\n",
              "      <th>147</th>\n",
              "      <td>6.473193</td>\n",
              "    </tr>\n",
              "    <tr>\n",
              "      <th>88</th>\n",
              "      <td>5.874276</td>\n",
              "    </tr>\n",
              "    <tr>\n",
              "      <th>123</th>\n",
              "      <td>6.302074</td>\n",
              "    </tr>\n",
              "    <tr>\n",
              "      <th>31</th>\n",
              "      <td>5.104239</td>\n",
              "    </tr>\n",
              "    <tr>\n",
              "      <th>...</th>\n",
              "      <td>...</td>\n",
              "    </tr>\n",
              "    <tr>\n",
              "      <th>52</th>\n",
              "      <td>6.045395</td>\n",
              "    </tr>\n",
              "    <tr>\n",
              "      <th>41</th>\n",
              "      <td>5.018680</td>\n",
              "    </tr>\n",
              "    <tr>\n",
              "      <th>12</th>\n",
              "      <td>4.847560</td>\n",
              "    </tr>\n",
              "    <tr>\n",
              "      <th>20</th>\n",
              "      <td>4.933120</td>\n",
              "    </tr>\n",
              "    <tr>\n",
              "      <th>131</th>\n",
              "      <td>6.473193</td>\n",
              "    </tr>\n",
              "  </tbody>\n",
              "</table>\n",
              "<p>90 rows × 1 columns</p>\n",
              "</div>\n",
              "    <div class=\"colab-df-buttons\">\n",
              "\n",
              "  <div class=\"colab-df-container\">\n",
              "    <button class=\"colab-df-convert\" onclick=\"convertToInteractive('df-c4c2d41c-aff8-4f80-94b0-5c45f3122069')\"\n",
              "            title=\"Convert this dataframe to an interactive table.\"\n",
              "            style=\"display:none;\">\n",
              "\n",
              "  <svg xmlns=\"http://www.w3.org/2000/svg\" height=\"24px\" viewBox=\"0 -960 960 960\">\n",
              "    <path d=\"M120-120v-720h720v720H120Zm60-500h600v-160H180v160Zm220 220h160v-160H400v160Zm0 220h160v-160H400v160ZM180-400h160v-160H180v160Zm440 0h160v-160H620v160ZM180-180h160v-160H180v160Zm440 0h160v-160H620v160Z\"/>\n",
              "  </svg>\n",
              "    </button>\n",
              "\n",
              "  <style>\n",
              "    .colab-df-container {\n",
              "      display:flex;\n",
              "      gap: 12px;\n",
              "    }\n",
              "\n",
              "    .colab-df-convert {\n",
              "      background-color: #E8F0FE;\n",
              "      border: none;\n",
              "      border-radius: 50%;\n",
              "      cursor: pointer;\n",
              "      display: none;\n",
              "      fill: #1967D2;\n",
              "      height: 32px;\n",
              "      padding: 0 0 0 0;\n",
              "      width: 32px;\n",
              "    }\n",
              "\n",
              "    .colab-df-convert:hover {\n",
              "      background-color: #E2EBFA;\n",
              "      box-shadow: 0px 1px 2px rgba(60, 64, 67, 0.3), 0px 1px 3px 1px rgba(60, 64, 67, 0.15);\n",
              "      fill: #174EA6;\n",
              "    }\n",
              "\n",
              "    .colab-df-buttons div {\n",
              "      margin-bottom: 4px;\n",
              "    }\n",
              "\n",
              "    [theme=dark] .colab-df-convert {\n",
              "      background-color: #3B4455;\n",
              "      fill: #D2E3FC;\n",
              "    }\n",
              "\n",
              "    [theme=dark] .colab-df-convert:hover {\n",
              "      background-color: #434B5C;\n",
              "      box-shadow: 0px 1px 3px 1px rgba(0, 0, 0, 0.15);\n",
              "      filter: drop-shadow(0px 1px 2px rgba(0, 0, 0, 0.3));\n",
              "      fill: #FFFFFF;\n",
              "    }\n",
              "  </style>\n",
              "\n",
              "    <script>\n",
              "      const buttonEl =\n",
              "        document.querySelector('#df-c4c2d41c-aff8-4f80-94b0-5c45f3122069 button.colab-df-convert');\n",
              "      buttonEl.style.display =\n",
              "        google.colab.kernel.accessAllowed ? 'block' : 'none';\n",
              "\n",
              "      async function convertToInteractive(key) {\n",
              "        const element = document.querySelector('#df-c4c2d41c-aff8-4f80-94b0-5c45f3122069');\n",
              "        const dataTable =\n",
              "          await google.colab.kernel.invokeFunction('convertToInteractive',\n",
              "                                                    [key], {});\n",
              "        if (!dataTable) return;\n",
              "\n",
              "        const docLinkHtml = 'Like what you see? Visit the ' +\n",
              "          '<a target=\"_blank\" href=https://colab.research.google.com/notebooks/data_table.ipynb>data table notebook</a>'\n",
              "          + ' to learn more about interactive tables.';\n",
              "        element.innerHTML = '';\n",
              "        dataTable['output_type'] = 'display_data';\n",
              "        await google.colab.output.renderOutput(dataTable, element);\n",
              "        const docLink = document.createElement('div');\n",
              "        docLink.innerHTML = docLinkHtml;\n",
              "        element.appendChild(docLink);\n",
              "      }\n",
              "    </script>\n",
              "  </div>\n",
              "\n",
              "\n",
              "<div id=\"df-1dcaf18b-2f8c-4f73-a220-7254d6b51b56\">\n",
              "  <button class=\"colab-df-quickchart\" onclick=\"quickchart('df-1dcaf18b-2f8c-4f73-a220-7254d6b51b56')\"\n",
              "            title=\"Suggest charts\"\n",
              "            style=\"display:none;\">\n",
              "\n",
              "<svg xmlns=\"http://www.w3.org/2000/svg\" height=\"24px\"viewBox=\"0 0 24 24\"\n",
              "     width=\"24px\">\n",
              "    <g>\n",
              "        <path d=\"M19 3H5c-1.1 0-2 .9-2 2v14c0 1.1.9 2 2 2h14c1.1 0 2-.9 2-2V5c0-1.1-.9-2-2-2zM9 17H7v-7h2v7zm4 0h-2V7h2v10zm4 0h-2v-4h2v4z\"/>\n",
              "    </g>\n",
              "</svg>\n",
              "  </button>\n",
              "\n",
              "<style>\n",
              "  .colab-df-quickchart {\n",
              "      --bg-color: #E8F0FE;\n",
              "      --fill-color: #1967D2;\n",
              "      --hover-bg-color: #E2EBFA;\n",
              "      --hover-fill-color: #174EA6;\n",
              "      --disabled-fill-color: #AAA;\n",
              "      --disabled-bg-color: #DDD;\n",
              "  }\n",
              "\n",
              "  [theme=dark] .colab-df-quickchart {\n",
              "      --bg-color: #3B4455;\n",
              "      --fill-color: #D2E3FC;\n",
              "      --hover-bg-color: #434B5C;\n",
              "      --hover-fill-color: #FFFFFF;\n",
              "      --disabled-bg-color: #3B4455;\n",
              "      --disabled-fill-color: #666;\n",
              "  }\n",
              "\n",
              "  .colab-df-quickchart {\n",
              "    background-color: var(--bg-color);\n",
              "    border: none;\n",
              "    border-radius: 50%;\n",
              "    cursor: pointer;\n",
              "    display: none;\n",
              "    fill: var(--fill-color);\n",
              "    height: 32px;\n",
              "    padding: 0;\n",
              "    width: 32px;\n",
              "  }\n",
              "\n",
              "  .colab-df-quickchart:hover {\n",
              "    background-color: var(--hover-bg-color);\n",
              "    box-shadow: 0 1px 2px rgba(60, 64, 67, 0.3), 0 1px 3px 1px rgba(60, 64, 67, 0.15);\n",
              "    fill: var(--button-hover-fill-color);\n",
              "  }\n",
              "\n",
              "  .colab-df-quickchart-complete:disabled,\n",
              "  .colab-df-quickchart-complete:disabled:hover {\n",
              "    background-color: var(--disabled-bg-color);\n",
              "    fill: var(--disabled-fill-color);\n",
              "    box-shadow: none;\n",
              "  }\n",
              "\n",
              "  .colab-df-spinner {\n",
              "    border: 2px solid var(--fill-color);\n",
              "    border-color: transparent;\n",
              "    border-bottom-color: var(--fill-color);\n",
              "    animation:\n",
              "      spin 1s steps(1) infinite;\n",
              "  }\n",
              "\n",
              "  @keyframes spin {\n",
              "    0% {\n",
              "      border-color: transparent;\n",
              "      border-bottom-color: var(--fill-color);\n",
              "      border-left-color: var(--fill-color);\n",
              "    }\n",
              "    20% {\n",
              "      border-color: transparent;\n",
              "      border-left-color: var(--fill-color);\n",
              "      border-top-color: var(--fill-color);\n",
              "    }\n",
              "    30% {\n",
              "      border-color: transparent;\n",
              "      border-left-color: var(--fill-color);\n",
              "      border-top-color: var(--fill-color);\n",
              "      border-right-color: var(--fill-color);\n",
              "    }\n",
              "    40% {\n",
              "      border-color: transparent;\n",
              "      border-right-color: var(--fill-color);\n",
              "      border-top-color: var(--fill-color);\n",
              "    }\n",
              "    60% {\n",
              "      border-color: transparent;\n",
              "      border-right-color: var(--fill-color);\n",
              "    }\n",
              "    80% {\n",
              "      border-color: transparent;\n",
              "      border-right-color: var(--fill-color);\n",
              "      border-bottom-color: var(--fill-color);\n",
              "    }\n",
              "    90% {\n",
              "      border-color: transparent;\n",
              "      border-bottom-color: var(--fill-color);\n",
              "    }\n",
              "  }\n",
              "</style>\n",
              "\n",
              "  <script>\n",
              "    async function quickchart(key) {\n",
              "      const quickchartButtonEl =\n",
              "        document.querySelector('#' + key + ' button');\n",
              "      quickchartButtonEl.disabled = true;  // To prevent multiple clicks.\n",
              "      quickchartButtonEl.classList.add('colab-df-spinner');\n",
              "      try {\n",
              "        const charts = await google.colab.kernel.invokeFunction(\n",
              "            'suggestCharts', [key], {});\n",
              "      } catch (error) {\n",
              "        console.error('Error during call to suggestCharts:', error);\n",
              "      }\n",
              "      quickchartButtonEl.classList.remove('colab-df-spinner');\n",
              "      quickchartButtonEl.classList.add('colab-df-quickchart-complete');\n",
              "    }\n",
              "    (() => {\n",
              "      let quickchartButtonEl =\n",
              "        document.querySelector('#df-1dcaf18b-2f8c-4f73-a220-7254d6b51b56 button');\n",
              "      quickchartButtonEl.style.display =\n",
              "        google.colab.kernel.accessAllowed ? 'block' : 'none';\n",
              "    })();\n",
              "  </script>\n",
              "</div>\n",
              "    </div>\n",
              "  </div>\n"
            ],
            "text/plain": [
              "     petal_width\n",
              "24      4.933120\n",
              "147     6.473193\n",
              "88      5.874276\n",
              "123     6.302074\n",
              "31      5.104239\n",
              "..           ...\n",
              "52      6.045395\n",
              "41      5.018680\n",
              "12      4.847560\n",
              "20      4.933120\n",
              "131     6.473193\n",
              "\n",
              "[90 rows x 1 columns]"
            ]
          },
          "execution_count": 13,
          "metadata": {},
          "output_type": "execute_result"
        }
      ],
      "source": [
        "0.85559634*X_train + 4.7620008"
      ]
    },
    {
      "cell_type": "markdown",
      "metadata": {
        "id": "xthc_aFbtBGA"
      },
      "source": [
        "> **Note:** ผลลัพธ์ข้างต้นแสดงคอลัมน์ชื่อ `petal_width` แต่จริง ๆ คือค่า sepal length ที่ทำนายได้ของแต่ละดอก\n",
        "\n",
        "โค้ดข้างต้นเป็นการลองให้โมเดลทำนายดอกใน training set ซึ่งในกรณีต้องการให้ทำนายดอกใน test set ก็ทำลักษณะเดียวกัน แค่เปลี่ยนตัวแปรต้น ดังนี้\n",
        "\n",
        "```python\n",
        "0.85559634*X_test + 4.7620008\n",
        "```\n",
        "\n",
        "\n",
        "\n",
        "อย่างไรก็ตาม มีวิธีการให้โมเดลทำนาย แบบที่สะดวกกว่าโค้ดข้างต้น โดยการเรียกใช้ฟังก์ชัน `model.predit()`\n",
        "\n",
        "\n",
        "<figure>\n",
        "<img src=\"https://raw.githubusercontent.com/INRIA/scikit-learn-mooc/main/figures/api_diagram-predictor.predict.svg\" width=50%>\n",
        "<figcaption>ที่มารูป scikit-learn MOOC by scikit-learn developers (https://inria.github.io/scikit-learn-mooc/)</figcaption>\n",
        "</figure>"
      ]
    },
    {
      "cell_type": "code",
      "execution_count": null,
      "metadata": {
        "colab": {
          "base_uri": "https://localhost:8080/"
        },
        "id": "MXoL9yDZtfn5",
        "outputId": "66fb6806-5b67-4280-e80e-21424e251aab",
        "tags": [
          "hide-output"
        ]
      },
      "outputs": [
        {
          "data": {
            "text/plain": [
              "array([[4.93312007],\n",
              "       [6.47319349],\n",
              "       [5.87427605],\n",
              "       [6.30207422],\n",
              "       [5.10423934],\n",
              "       [6.04539531],\n",
              "       [4.93312007],\n",
              "       [5.87427605],\n",
              "       [4.93312007],\n",
              "       [4.93312007],\n",
              "       [5.87427605],\n",
              "       [6.30207422],\n",
              "       [5.0186797 ],\n",
              "       [6.04539531],\n",
              "       [6.30207422],\n",
              "       [5.0186797 ],\n",
              "       [6.72987239],\n",
              "       [5.95983568],\n",
              "       [4.93312007],\n",
              "       [4.93312007],\n",
              "       [5.78871641],\n",
              "       [6.72987239],\n",
              "       [6.55875312],\n",
              "       [6.72987239],\n",
              "       [6.30207422],\n",
              "       [5.10423934],\n",
              "       [6.64431275],\n",
              "       [5.87427605],\n",
              "       [5.95983568],\n",
              "       [5.87427605],\n",
              "       [5.70315678],\n",
              "       [5.87427605],\n",
              "       [5.61759714],\n",
              "       [5.87427605],\n",
              "       [6.81543202],\n",
              "       [5.78871641],\n",
              "       [6.55875312],\n",
              "       [4.93312007],\n",
              "       [6.04539531],\n",
              "       [6.55875312],\n",
              "       [5.87427605],\n",
              "       [5.78871641],\n",
              "       [6.47319349],\n",
              "       [4.93312007],\n",
              "       [4.93312007],\n",
              "       [5.0186797 ],\n",
              "       [5.78871641],\n",
              "       [5.87427605],\n",
              "       [6.30207422],\n",
              "       [6.13095495],\n",
              "       [5.10423934],\n",
              "       [5.10423934],\n",
              "       [6.38763385],\n",
              "       [5.61759714],\n",
              "       [6.72987239],\n",
              "       [4.93312007],\n",
              "       [6.21651458],\n",
              "       [5.10423934],\n",
              "       [6.90099166],\n",
              "       [6.30207422],\n",
              "       [5.10423934],\n",
              "       [6.30207422],\n",
              "       [5.95983568],\n",
              "       [5.18979897],\n",
              "       [4.93312007],\n",
              "       [4.93312007],\n",
              "       [6.55875312],\n",
              "       [5.61759714],\n",
              "       [6.81543202],\n",
              "       [6.81543202],\n",
              "       [5.61759714],\n",
              "       [5.78871641],\n",
              "       [5.87427605],\n",
              "       [6.13095495],\n",
              "       [4.93312007],\n",
              "       [4.93312007],\n",
              "       [5.87427605],\n",
              "       [6.72987239],\n",
              "       [4.93312007],\n",
              "       [4.93312007],\n",
              "       [6.55875312],\n",
              "       [6.04539531],\n",
              "       [6.47319349],\n",
              "       [5.70315678],\n",
              "       [4.84756043],\n",
              "       [6.04539531],\n",
              "       [5.0186797 ],\n",
              "       [4.84756043],\n",
              "       [4.93312007],\n",
              "       [6.47319349]])"
            ]
          },
          "execution_count": 14,
          "metadata": {},
          "output_type": "execute_result"
        }
      ],
      "source": [
        "y_train_predict = model.predict(X_train)  # ทำนาย training set ให้ผลลัพธ์เหมือนการคำนวณจากสมการโดยตรง\n",
        "y_train_predict"
      ]
    },
    {
      "cell_type": "markdown",
      "metadata": {
        "id": "NkrmXFzsw3hw"
      },
      "source": [
        "คำสั่ง `model.predict()` ให้ผลลัพธ์เป็นตัวแปรชนิด Numpy array ซึ่งไม่ใช่ DataFrame/Series ของ Pandas ซึ่งแม้ว่า Numpy จะเป็นไลบรารีในที่เป็นที่นิยมมาก และแทบจะขาดไม่ได้ในการคำนวณทางคณิตศาสตร์ แต่เนื่องจากเวลาของวิชานี้มีจำกัด ดังนั้นวิชานี้จะไม่ลงรายละเอียดการใช้งาน Numpy ซึ่งหากนักศึกษาสนใจ อาจศึกษาเพิ่มเติมจาก https://numpy.org/ หรือจากแหล่งอื่น ๆ"
      ]
    },
    {
      "cell_type": "code",
      "execution_count": null,
      "metadata": {
        "colab": {
          "base_uri": "https://localhost:8080/"
        },
        "id": "sx953VDRw42o",
        "outputId": "c6ecdb58-37ac-402f-a903-2794179249d5"
      },
      "outputs": [
        {
          "data": {
            "text/plain": [
              "numpy.ndarray"
            ]
          },
          "execution_count": 15,
          "metadata": {},
          "output_type": "execute_result"
        }
      ],
      "source": [
        "type(y_train_predict)   # จะเห็นว่าไม่ใช่ชนิด DataFrame"
      ]
    },
    {
      "cell_type": "markdown",
      "metadata": {
        "id": "pA490RYk1vi-"
      },
      "source": [
        " เราอาจลองสร้าง DataFrame ขึ้นมาอันใหม่ไว้  รวบรวมผลการทำนาย (สมมติว่าไม่อยากแตะต้องข้อมูลต้นฉบับ, อันนี้เป็นตัวอย่างเฉย ๆ เพราะมันทำได้หลายแบบ)\n",
        "\n",
        "\n",
        "\n",
        "\n"
      ]
    },
    {
      "cell_type": "code",
      "execution_count": null,
      "metadata": {
        "colab": {
          "base_uri": "https://localhost:8080/",
          "height": 423
        },
        "id": "a8-0S3tL2UF3",
        "outputId": "63181bed-bf05-4516-c046-dfa5fd9c284c"
      },
      "outputs": [
        {
          "data": {
            "text/html": [
              "\n",
              "  <div id=\"df-5402e030-e071-42f8-8b6f-f19fe928e23a\" class=\"colab-df-container\">\n",
              "    <div>\n",
              "<style scoped>\n",
              "    .dataframe tbody tr th:only-of-type {\n",
              "        vertical-align: middle;\n",
              "    }\n",
              "\n",
              "    .dataframe tbody tr th {\n",
              "        vertical-align: top;\n",
              "    }\n",
              "\n",
              "    .dataframe thead th {\n",
              "        text-align: right;\n",
              "    }\n",
              "</style>\n",
              "<table border=\"1\" class=\"dataframe\">\n",
              "  <thead>\n",
              "    <tr style=\"text-align: right;\">\n",
              "      <th></th>\n",
              "      <th>petal_width</th>\n",
              "      <th>sepal_length</th>\n",
              "      <th>sepal_length_predict</th>\n",
              "    </tr>\n",
              "  </thead>\n",
              "  <tbody>\n",
              "    <tr>\n",
              "      <th>24</th>\n",
              "      <td>0.2</td>\n",
              "      <td>4.8</td>\n",
              "      <td>4.933120</td>\n",
              "    </tr>\n",
              "    <tr>\n",
              "      <th>147</th>\n",
              "      <td>2.0</td>\n",
              "      <td>6.5</td>\n",
              "      <td>6.473193</td>\n",
              "    </tr>\n",
              "    <tr>\n",
              "      <th>88</th>\n",
              "      <td>1.3</td>\n",
              "      <td>5.6</td>\n",
              "      <td>5.874276</td>\n",
              "    </tr>\n",
              "    <tr>\n",
              "      <th>123</th>\n",
              "      <td>1.8</td>\n",
              "      <td>6.3</td>\n",
              "      <td>6.302074</td>\n",
              "    </tr>\n",
              "    <tr>\n",
              "      <th>31</th>\n",
              "      <td>0.4</td>\n",
              "      <td>5.4</td>\n",
              "      <td>5.104239</td>\n",
              "    </tr>\n",
              "    <tr>\n",
              "      <th>...</th>\n",
              "      <td>...</td>\n",
              "      <td>...</td>\n",
              "      <td>...</td>\n",
              "    </tr>\n",
              "    <tr>\n",
              "      <th>52</th>\n",
              "      <td>1.5</td>\n",
              "      <td>6.9</td>\n",
              "      <td>6.045395</td>\n",
              "    </tr>\n",
              "    <tr>\n",
              "      <th>41</th>\n",
              "      <td>0.3</td>\n",
              "      <td>4.5</td>\n",
              "      <td>5.018680</td>\n",
              "    </tr>\n",
              "    <tr>\n",
              "      <th>12</th>\n",
              "      <td>0.1</td>\n",
              "      <td>4.8</td>\n",
              "      <td>4.847560</td>\n",
              "    </tr>\n",
              "    <tr>\n",
              "      <th>20</th>\n",
              "      <td>0.2</td>\n",
              "      <td>5.4</td>\n",
              "      <td>4.933120</td>\n",
              "    </tr>\n",
              "    <tr>\n",
              "      <th>131</th>\n",
              "      <td>2.0</td>\n",
              "      <td>7.9</td>\n",
              "      <td>6.473193</td>\n",
              "    </tr>\n",
              "  </tbody>\n",
              "</table>\n",
              "<p>90 rows × 3 columns</p>\n",
              "</div>\n",
              "    <div class=\"colab-df-buttons\">\n",
              "\n",
              "  <div class=\"colab-df-container\">\n",
              "    <button class=\"colab-df-convert\" onclick=\"convertToInteractive('df-5402e030-e071-42f8-8b6f-f19fe928e23a')\"\n",
              "            title=\"Convert this dataframe to an interactive table.\"\n",
              "            style=\"display:none;\">\n",
              "\n",
              "  <svg xmlns=\"http://www.w3.org/2000/svg\" height=\"24px\" viewBox=\"0 -960 960 960\">\n",
              "    <path d=\"M120-120v-720h720v720H120Zm60-500h600v-160H180v160Zm220 220h160v-160H400v160Zm0 220h160v-160H400v160ZM180-400h160v-160H180v160Zm440 0h160v-160H620v160ZM180-180h160v-160H180v160Zm440 0h160v-160H620v160Z\"/>\n",
              "  </svg>\n",
              "    </button>\n",
              "\n",
              "  <style>\n",
              "    .colab-df-container {\n",
              "      display:flex;\n",
              "      gap: 12px;\n",
              "    }\n",
              "\n",
              "    .colab-df-convert {\n",
              "      background-color: #E8F0FE;\n",
              "      border: none;\n",
              "      border-radius: 50%;\n",
              "      cursor: pointer;\n",
              "      display: none;\n",
              "      fill: #1967D2;\n",
              "      height: 32px;\n",
              "      padding: 0 0 0 0;\n",
              "      width: 32px;\n",
              "    }\n",
              "\n",
              "    .colab-df-convert:hover {\n",
              "      background-color: #E2EBFA;\n",
              "      box-shadow: 0px 1px 2px rgba(60, 64, 67, 0.3), 0px 1px 3px 1px rgba(60, 64, 67, 0.15);\n",
              "      fill: #174EA6;\n",
              "    }\n",
              "\n",
              "    .colab-df-buttons div {\n",
              "      margin-bottom: 4px;\n",
              "    }\n",
              "\n",
              "    [theme=dark] .colab-df-convert {\n",
              "      background-color: #3B4455;\n",
              "      fill: #D2E3FC;\n",
              "    }\n",
              "\n",
              "    [theme=dark] .colab-df-convert:hover {\n",
              "      background-color: #434B5C;\n",
              "      box-shadow: 0px 1px 3px 1px rgba(0, 0, 0, 0.15);\n",
              "      filter: drop-shadow(0px 1px 2px rgba(0, 0, 0, 0.3));\n",
              "      fill: #FFFFFF;\n",
              "    }\n",
              "  </style>\n",
              "\n",
              "    <script>\n",
              "      const buttonEl =\n",
              "        document.querySelector('#df-5402e030-e071-42f8-8b6f-f19fe928e23a button.colab-df-convert');\n",
              "      buttonEl.style.display =\n",
              "        google.colab.kernel.accessAllowed ? 'block' : 'none';\n",
              "\n",
              "      async function convertToInteractive(key) {\n",
              "        const element = document.querySelector('#df-5402e030-e071-42f8-8b6f-f19fe928e23a');\n",
              "        const dataTable =\n",
              "          await google.colab.kernel.invokeFunction('convertToInteractive',\n",
              "                                                    [key], {});\n",
              "        if (!dataTable) return;\n",
              "\n",
              "        const docLinkHtml = 'Like what you see? Visit the ' +\n",
              "          '<a target=\"_blank\" href=https://colab.research.google.com/notebooks/data_table.ipynb>data table notebook</a>'\n",
              "          + ' to learn more about interactive tables.';\n",
              "        element.innerHTML = '';\n",
              "        dataTable['output_type'] = 'display_data';\n",
              "        await google.colab.output.renderOutput(dataTable, element);\n",
              "        const docLink = document.createElement('div');\n",
              "        docLink.innerHTML = docLinkHtml;\n",
              "        element.appendChild(docLink);\n",
              "      }\n",
              "    </script>\n",
              "  </div>\n",
              "\n",
              "\n",
              "<div id=\"df-ab131d6e-eedc-4617-94e9-a13feedff164\">\n",
              "  <button class=\"colab-df-quickchart\" onclick=\"quickchart('df-ab131d6e-eedc-4617-94e9-a13feedff164')\"\n",
              "            title=\"Suggest charts\"\n",
              "            style=\"display:none;\">\n",
              "\n",
              "<svg xmlns=\"http://www.w3.org/2000/svg\" height=\"24px\"viewBox=\"0 0 24 24\"\n",
              "     width=\"24px\">\n",
              "    <g>\n",
              "        <path d=\"M19 3H5c-1.1 0-2 .9-2 2v14c0 1.1.9 2 2 2h14c1.1 0 2-.9 2-2V5c0-1.1-.9-2-2-2zM9 17H7v-7h2v7zm4 0h-2V7h2v10zm4 0h-2v-4h2v4z\"/>\n",
              "    </g>\n",
              "</svg>\n",
              "  </button>\n",
              "\n",
              "<style>\n",
              "  .colab-df-quickchart {\n",
              "      --bg-color: #E8F0FE;\n",
              "      --fill-color: #1967D2;\n",
              "      --hover-bg-color: #E2EBFA;\n",
              "      --hover-fill-color: #174EA6;\n",
              "      --disabled-fill-color: #AAA;\n",
              "      --disabled-bg-color: #DDD;\n",
              "  }\n",
              "\n",
              "  [theme=dark] .colab-df-quickchart {\n",
              "      --bg-color: #3B4455;\n",
              "      --fill-color: #D2E3FC;\n",
              "      --hover-bg-color: #434B5C;\n",
              "      --hover-fill-color: #FFFFFF;\n",
              "      --disabled-bg-color: #3B4455;\n",
              "      --disabled-fill-color: #666;\n",
              "  }\n",
              "\n",
              "  .colab-df-quickchart {\n",
              "    background-color: var(--bg-color);\n",
              "    border: none;\n",
              "    border-radius: 50%;\n",
              "    cursor: pointer;\n",
              "    display: none;\n",
              "    fill: var(--fill-color);\n",
              "    height: 32px;\n",
              "    padding: 0;\n",
              "    width: 32px;\n",
              "  }\n",
              "\n",
              "  .colab-df-quickchart:hover {\n",
              "    background-color: var(--hover-bg-color);\n",
              "    box-shadow: 0 1px 2px rgba(60, 64, 67, 0.3), 0 1px 3px 1px rgba(60, 64, 67, 0.15);\n",
              "    fill: var(--button-hover-fill-color);\n",
              "  }\n",
              "\n",
              "  .colab-df-quickchart-complete:disabled,\n",
              "  .colab-df-quickchart-complete:disabled:hover {\n",
              "    background-color: var(--disabled-bg-color);\n",
              "    fill: var(--disabled-fill-color);\n",
              "    box-shadow: none;\n",
              "  }\n",
              "\n",
              "  .colab-df-spinner {\n",
              "    border: 2px solid var(--fill-color);\n",
              "    border-color: transparent;\n",
              "    border-bottom-color: var(--fill-color);\n",
              "    animation:\n",
              "      spin 1s steps(1) infinite;\n",
              "  }\n",
              "\n",
              "  @keyframes spin {\n",
              "    0% {\n",
              "      border-color: transparent;\n",
              "      border-bottom-color: var(--fill-color);\n",
              "      border-left-color: var(--fill-color);\n",
              "    }\n",
              "    20% {\n",
              "      border-color: transparent;\n",
              "      border-left-color: var(--fill-color);\n",
              "      border-top-color: var(--fill-color);\n",
              "    }\n",
              "    30% {\n",
              "      border-color: transparent;\n",
              "      border-left-color: var(--fill-color);\n",
              "      border-top-color: var(--fill-color);\n",
              "      border-right-color: var(--fill-color);\n",
              "    }\n",
              "    40% {\n",
              "      border-color: transparent;\n",
              "      border-right-color: var(--fill-color);\n",
              "      border-top-color: var(--fill-color);\n",
              "    }\n",
              "    60% {\n",
              "      border-color: transparent;\n",
              "      border-right-color: var(--fill-color);\n",
              "    }\n",
              "    80% {\n",
              "      border-color: transparent;\n",
              "      border-right-color: var(--fill-color);\n",
              "      border-bottom-color: var(--fill-color);\n",
              "    }\n",
              "    90% {\n",
              "      border-color: transparent;\n",
              "      border-bottom-color: var(--fill-color);\n",
              "    }\n",
              "  }\n",
              "</style>\n",
              "\n",
              "  <script>\n",
              "    async function quickchart(key) {\n",
              "      const quickchartButtonEl =\n",
              "        document.querySelector('#' + key + ' button');\n",
              "      quickchartButtonEl.disabled = true;  // To prevent multiple clicks.\n",
              "      quickchartButtonEl.classList.add('colab-df-spinner');\n",
              "      try {\n",
              "        const charts = await google.colab.kernel.invokeFunction(\n",
              "            'suggestCharts', [key], {});\n",
              "      } catch (error) {\n",
              "        console.error('Error during call to suggestCharts:', error);\n",
              "      }\n",
              "      quickchartButtonEl.classList.remove('colab-df-spinner');\n",
              "      quickchartButtonEl.classList.add('colab-df-quickchart-complete');\n",
              "    }\n",
              "    (() => {\n",
              "      let quickchartButtonEl =\n",
              "        document.querySelector('#df-ab131d6e-eedc-4617-94e9-a13feedff164 button');\n",
              "      quickchartButtonEl.style.display =\n",
              "        google.colab.kernel.accessAllowed ? 'block' : 'none';\n",
              "    })();\n",
              "  </script>\n",
              "</div>\n",
              "    </div>\n",
              "  </div>\n"
            ],
            "text/plain": [
              "     petal_width  sepal_length  sepal_length_predict\n",
              "24           0.2           4.8              4.933120\n",
              "147          2.0           6.5              6.473193\n",
              "88           1.3           5.6              5.874276\n",
              "123          1.8           6.3              6.302074\n",
              "31           0.4           5.4              5.104239\n",
              "..           ...           ...                   ...\n",
              "52           1.5           6.9              6.045395\n",
              "41           0.3           4.5              5.018680\n",
              "12           0.1           4.8              4.847560\n",
              "20           0.2           5.4              4.933120\n",
              "131          2.0           7.9              6.473193\n",
              "\n",
              "[90 rows x 3 columns]"
            ]
          },
          "execution_count": 16,
          "metadata": {},
          "output_type": "execute_result"
        }
      ],
      "source": [
        "# สร้าง copy ใหม่ของ X_train เพราะไม่ต้องการยุ่งกับ X_train ต้นฉบับ เพื่อป้องกันกรณีที่เผลอแก้ค่าใน comparison แล้วค่าใน X_train เปลี่ยนตาม\n",
        "comparison = X_train.copy()\n",
        "\n",
        "# เพิ่มคอลัมน์ sepal length ที่เป็นค่าตัวแปรตามที่แท้จริงเข้าไป\n",
        "# Note: ทำได้ เพราะ X_train กับ y_train มี index เหมือนกันเป๊ะ\n",
        "comparison['sepal_length'] = y_train\n",
        "\n",
        "# เพิ่มคอลัมน์ผลการทำนาย\n",
        "# Note: ทำได้ไม่ผิด เพราะแม้ว่า y_train_predict จะเป็น Numpy array ที่ไม่มี index เดิมของ y_train\n",
        "#       แต่ตอนทำนายด้วย model.predict() นั้น ไม่ได้มีการสลับลำดับแถว\n",
        "comparison['sepal_length_predict'] = y_train_predict\n",
        "\n",
        "comparison"
      ]
    },
    {
      "cell_type": "markdown",
      "metadata": {
        "id": "eL6ng7j32ZZa"
      },
      "source": [
        "จาก DataFrame `comparison` เราสามารถใช้ ploty express ในการวาดกราฟเปรียบเทียบได้โดยง่าย"
      ]
    },
    {
      "cell_type": "code",
      "execution_count": null,
      "metadata": {
        "colab": {
          "base_uri": "https://localhost:8080/",
          "height": 542
        },
        "id": "W2rR3p-82D5X",
        "outputId": "8f9ce2fc-d8c2-4225-b73f-704edc5e519f"
      },
      "outputs": [
        {
          "data": {
            "text/html": [
              "<html>\n",
              "<head><meta charset=\"utf-8\" /></head>\n",
              "<body>\n",
              "    <div>            <script src=\"https://cdnjs.cloudflare.com/ajax/libs/mathjax/2.7.5/MathJax.js?config=TeX-AMS-MML_SVG\"></script><script type=\"text/javascript\">if (window.MathJax && window.MathJax.Hub && window.MathJax.Hub.Config) {window.MathJax.Hub.Config({SVG: {font: \"STIX-Web\"}});}</script>                <script type=\"text/javascript\">window.PlotlyConfig = {MathJaxConfig: 'local'};</script>\n",
              "        <script charset=\"utf-8\" src=\"https://cdn.plot.ly/plotly-2.24.1.min.js\"></script>                <div id=\"95c5133e-7e0e-493a-9814-99f28e27e999\" class=\"plotly-graph-div\" style=\"height:525px; width:100%;\"></div>            <script type=\"text/javascript\">                                    window.PLOTLYENV=window.PLOTLYENV || {};                                    if (document.getElementById(\"95c5133e-7e0e-493a-9814-99f28e27e999\")) {                    Plotly.newPlot(                        \"95c5133e-7e0e-493a-9814-99f28e27e999\",                        [{\"hovertemplate\":\"variable=sepal_length\\u003cbr\\u003epetal_width=%{x}\\u003cbr\\u003evalue=%{y}\\u003cextra\\u003e\\u003c\\u002fextra\\u003e\",\"legendgroup\":\"sepal_length\",\"marker\":{\"color\":\"#636efa\",\"opacity\":0.65,\"symbol\":\"circle\"},\"mode\":\"markers\",\"name\":\"sepal_length\",\"orientation\":\"v\",\"showlegend\":true,\"x\":[0.2,2.0,1.3,1.8,0.4,1.5,0.2,1.3,0.2,0.2,1.3,1.8,0.3,1.5,1.8,0.3,2.3,1.4,0.2,0.2,1.2,2.3,2.1,2.3,1.8,0.4,2.2,1.3,1.4,1.3,1.1,1.3,1.0,1.3,2.4,1.2,2.1,0.2,1.5,2.1,1.3,1.2,2.0,0.2,0.2,0.3,1.2,1.3,1.8,1.6,0.4,0.4,1.9,1.0,2.3,0.2,1.7,0.4,2.5,1.8,0.4,1.8,1.4,0.5,0.2,0.2,2.1,1.0,2.4,2.4,1.0,1.2,1.3,1.6,0.2,0.2,1.3,2.3,0.2,0.2,2.1,1.5,2.0,1.1,0.1,1.5,0.3,0.1,0.2,2.0],\"xaxis\":\"x\",\"y\":[4.8,6.5,5.6,6.3,5.4,6.5,4.8,6.2,5.0,5.0,5.5,6.4,5.0,6.3,6.3,4.6,6.2,7.0,5.4,4.7,6.1,6.9,6.9,7.7,7.3,5.1,6.4,6.6,5.2,5.7,5.6,5.7,5.5,6.1,6.7,5.8,6.4,4.9,6.0,6.8,6.3,5.5,5.6,4.4,5.1,5.7,5.7,5.5,6.7,6.0,5.7,5.4,6.4,6.0,6.7,4.6,4.9,5.0,7.2,6.2,5.1,5.9,6.1,5.1,5.3,4.6,7.1,5.7,5.8,6.3,5.0,5.8,5.7,6.0,5.0,4.8,5.6,6.9,5.2,5.1,6.7,5.4,5.7,5.1,4.3,6.9,4.5,4.8,5.4,7.9],\"yaxis\":\"y\",\"type\":\"scatter\"},{\"hovertemplate\":\"variable=sepal_length_predict\\u003cbr\\u003epetal_width=%{x}\\u003cbr\\u003evalue=%{y}\\u003cextra\\u003e\\u003c\\u002fextra\\u003e\",\"legendgroup\":\"sepal_length_predict\",\"marker\":{\"color\":\"#EF553B\",\"opacity\":0.65,\"symbol\":\"circle\"},\"mode\":\"markers\",\"name\":\"sepal_length_predict\",\"orientation\":\"v\",\"showlegend\":true,\"x\":[0.2,2.0,1.3,1.8,0.4,1.5,0.2,1.3,0.2,0.2,1.3,1.8,0.3,1.5,1.8,0.3,2.3,1.4,0.2,0.2,1.2,2.3,2.1,2.3,1.8,0.4,2.2,1.3,1.4,1.3,1.1,1.3,1.0,1.3,2.4,1.2,2.1,0.2,1.5,2.1,1.3,1.2,2.0,0.2,0.2,0.3,1.2,1.3,1.8,1.6,0.4,0.4,1.9,1.0,2.3,0.2,1.7,0.4,2.5,1.8,0.4,1.8,1.4,0.5,0.2,0.2,2.1,1.0,2.4,2.4,1.0,1.2,1.3,1.6,0.2,0.2,1.3,2.3,0.2,0.2,2.1,1.5,2.0,1.1,0.1,1.5,0.3,0.1,0.2,2.0],\"xaxis\":\"x\",\"y\":[4.9331200688941275,6.473193486373403,5.874276046242574,6.302074217764595,5.1042393375029365,6.045395314851382,4.9331200688941275,5.874276046242574,4.9331200688941275,4.9331200688941275,5.874276046242574,6.302074217764595,5.018679703198532,6.045395314851382,6.302074217764595,5.018679703198532,6.729872389286616,5.959835680546978,4.9331200688941275,4.9331200688941275,5.78871641193817,6.729872389286616,6.558753120677808,6.729872389286616,6.302074217764595,5.1042393375029365,6.644312754982211,5.874276046242574,5.959835680546978,5.874276046242574,5.703156777633765,5.874276046242574,5.617597143329361,5.874276046242574,6.81543202359102,5.78871641193817,6.558753120677808,4.9331200688941275,6.045395314851382,6.558753120677808,5.874276046242574,5.78871641193817,6.473193486373403,4.9331200688941275,4.9331200688941275,5.018679703198532,5.78871641193817,5.874276046242574,6.302074217764595,6.130954949155786,5.1042393375029365,5.1042393375029365,6.387633852068999,5.617597143329361,6.729872389286616,4.9331200688941275,6.2165145834601905,5.1042393375029365,6.900991657895424,6.302074217764595,5.1042393375029365,6.302074217764595,5.959835680546978,5.18979897180734,4.9331200688941275,4.9331200688941275,6.558753120677808,5.617597143329361,6.81543202359102,6.81543202359102,5.617597143329361,5.78871641193817,5.874276046242574,6.130954949155786,4.9331200688941275,4.9331200688941275,5.874276046242574,6.729872389286616,4.9331200688941275,4.9331200688941275,6.558753120677808,6.045395314851382,6.473193486373403,5.703156777633765,4.847560434589724,6.045395314851382,5.018679703198532,4.847560434589724,4.9331200688941275,6.473193486373403],\"yaxis\":\"y\",\"type\":\"scatter\"}],                        {\"template\":{\"data\":{\"histogram2dcontour\":[{\"type\":\"histogram2dcontour\",\"colorbar\":{\"outlinewidth\":0,\"ticks\":\"\"},\"colorscale\":[[0.0,\"#0d0887\"],[0.1111111111111111,\"#46039f\"],[0.2222222222222222,\"#7201a8\"],[0.3333333333333333,\"#9c179e\"],[0.4444444444444444,\"#bd3786\"],[0.5555555555555556,\"#d8576b\"],[0.6666666666666666,\"#ed7953\"],[0.7777777777777778,\"#fb9f3a\"],[0.8888888888888888,\"#fdca26\"],[1.0,\"#f0f921\"]]}],\"choropleth\":[{\"type\":\"choropleth\",\"colorbar\":{\"outlinewidth\":0,\"ticks\":\"\"}}],\"histogram2d\":[{\"type\":\"histogram2d\",\"colorbar\":{\"outlinewidth\":0,\"ticks\":\"\"},\"colorscale\":[[0.0,\"#0d0887\"],[0.1111111111111111,\"#46039f\"],[0.2222222222222222,\"#7201a8\"],[0.3333333333333333,\"#9c179e\"],[0.4444444444444444,\"#bd3786\"],[0.5555555555555556,\"#d8576b\"],[0.6666666666666666,\"#ed7953\"],[0.7777777777777778,\"#fb9f3a\"],[0.8888888888888888,\"#fdca26\"],[1.0,\"#f0f921\"]]}],\"heatmap\":[{\"type\":\"heatmap\",\"colorbar\":{\"outlinewidth\":0,\"ticks\":\"\"},\"colorscale\":[[0.0,\"#0d0887\"],[0.1111111111111111,\"#46039f\"],[0.2222222222222222,\"#7201a8\"],[0.3333333333333333,\"#9c179e\"],[0.4444444444444444,\"#bd3786\"],[0.5555555555555556,\"#d8576b\"],[0.6666666666666666,\"#ed7953\"],[0.7777777777777778,\"#fb9f3a\"],[0.8888888888888888,\"#fdca26\"],[1.0,\"#f0f921\"]]}],\"heatmapgl\":[{\"type\":\"heatmapgl\",\"colorbar\":{\"outlinewidth\":0,\"ticks\":\"\"},\"colorscale\":[[0.0,\"#0d0887\"],[0.1111111111111111,\"#46039f\"],[0.2222222222222222,\"#7201a8\"],[0.3333333333333333,\"#9c179e\"],[0.4444444444444444,\"#bd3786\"],[0.5555555555555556,\"#d8576b\"],[0.6666666666666666,\"#ed7953\"],[0.7777777777777778,\"#fb9f3a\"],[0.8888888888888888,\"#fdca26\"],[1.0,\"#f0f921\"]]}],\"contourcarpet\":[{\"type\":\"contourcarpet\",\"colorbar\":{\"outlinewidth\":0,\"ticks\":\"\"}}],\"contour\":[{\"type\":\"contour\",\"colorbar\":{\"outlinewidth\":0,\"ticks\":\"\"},\"colorscale\":[[0.0,\"#0d0887\"],[0.1111111111111111,\"#46039f\"],[0.2222222222222222,\"#7201a8\"],[0.3333333333333333,\"#9c179e\"],[0.4444444444444444,\"#bd3786\"],[0.5555555555555556,\"#d8576b\"],[0.6666666666666666,\"#ed7953\"],[0.7777777777777778,\"#fb9f3a\"],[0.8888888888888888,\"#fdca26\"],[1.0,\"#f0f921\"]]}],\"surface\":[{\"type\":\"surface\",\"colorbar\":{\"outlinewidth\":0,\"ticks\":\"\"},\"colorscale\":[[0.0,\"#0d0887\"],[0.1111111111111111,\"#46039f\"],[0.2222222222222222,\"#7201a8\"],[0.3333333333333333,\"#9c179e\"],[0.4444444444444444,\"#bd3786\"],[0.5555555555555556,\"#d8576b\"],[0.6666666666666666,\"#ed7953\"],[0.7777777777777778,\"#fb9f3a\"],[0.8888888888888888,\"#fdca26\"],[1.0,\"#f0f921\"]]}],\"mesh3d\":[{\"type\":\"mesh3d\",\"colorbar\":{\"outlinewidth\":0,\"ticks\":\"\"}}],\"scatter\":[{\"fillpattern\":{\"fillmode\":\"overlay\",\"size\":10,\"solidity\":0.2},\"type\":\"scatter\"}],\"parcoords\":[{\"type\":\"parcoords\",\"line\":{\"colorbar\":{\"outlinewidth\":0,\"ticks\":\"\"}}}],\"scatterpolargl\":[{\"type\":\"scatterpolargl\",\"marker\":{\"colorbar\":{\"outlinewidth\":0,\"ticks\":\"\"}}}],\"bar\":[{\"error_x\":{\"color\":\"#2a3f5f\"},\"error_y\":{\"color\":\"#2a3f5f\"},\"marker\":{\"line\":{\"color\":\"#E5ECF6\",\"width\":0.5},\"pattern\":{\"fillmode\":\"overlay\",\"size\":10,\"solidity\":0.2}},\"type\":\"bar\"}],\"scattergeo\":[{\"type\":\"scattergeo\",\"marker\":{\"colorbar\":{\"outlinewidth\":0,\"ticks\":\"\"}}}],\"scatterpolar\":[{\"type\":\"scatterpolar\",\"marker\":{\"colorbar\":{\"outlinewidth\":0,\"ticks\":\"\"}}}],\"histogram\":[{\"marker\":{\"pattern\":{\"fillmode\":\"overlay\",\"size\":10,\"solidity\":0.2}},\"type\":\"histogram\"}],\"scattergl\":[{\"type\":\"scattergl\",\"marker\":{\"colorbar\":{\"outlinewidth\":0,\"ticks\":\"\"}}}],\"scatter3d\":[{\"type\":\"scatter3d\",\"line\":{\"colorbar\":{\"outlinewidth\":0,\"ticks\":\"\"}},\"marker\":{\"colorbar\":{\"outlinewidth\":0,\"ticks\":\"\"}}}],\"scattermapbox\":[{\"type\":\"scattermapbox\",\"marker\":{\"colorbar\":{\"outlinewidth\":0,\"ticks\":\"\"}}}],\"scatterternary\":[{\"type\":\"scatterternary\",\"marker\":{\"colorbar\":{\"outlinewidth\":0,\"ticks\":\"\"}}}],\"scattercarpet\":[{\"type\":\"scattercarpet\",\"marker\":{\"colorbar\":{\"outlinewidth\":0,\"ticks\":\"\"}}}],\"carpet\":[{\"aaxis\":{\"endlinecolor\":\"#2a3f5f\",\"gridcolor\":\"white\",\"linecolor\":\"white\",\"minorgridcolor\":\"white\",\"startlinecolor\":\"#2a3f5f\"},\"baxis\":{\"endlinecolor\":\"#2a3f5f\",\"gridcolor\":\"white\",\"linecolor\":\"white\",\"minorgridcolor\":\"white\",\"startlinecolor\":\"#2a3f5f\"},\"type\":\"carpet\"}],\"table\":[{\"cells\":{\"fill\":{\"color\":\"#EBF0F8\"},\"line\":{\"color\":\"white\"}},\"header\":{\"fill\":{\"color\":\"#C8D4E3\"},\"line\":{\"color\":\"white\"}},\"type\":\"table\"}],\"barpolar\":[{\"marker\":{\"line\":{\"color\":\"#E5ECF6\",\"width\":0.5},\"pattern\":{\"fillmode\":\"overlay\",\"size\":10,\"solidity\":0.2}},\"type\":\"barpolar\"}],\"pie\":[{\"automargin\":true,\"type\":\"pie\"}]},\"layout\":{\"autotypenumbers\":\"strict\",\"colorway\":[\"#636efa\",\"#EF553B\",\"#00cc96\",\"#ab63fa\",\"#FFA15A\",\"#19d3f3\",\"#FF6692\",\"#B6E880\",\"#FF97FF\",\"#FECB52\"],\"font\":{\"color\":\"#2a3f5f\"},\"hovermode\":\"closest\",\"hoverlabel\":{\"align\":\"left\"},\"paper_bgcolor\":\"white\",\"plot_bgcolor\":\"#E5ECF6\",\"polar\":{\"bgcolor\":\"#E5ECF6\",\"angularaxis\":{\"gridcolor\":\"white\",\"linecolor\":\"white\",\"ticks\":\"\"},\"radialaxis\":{\"gridcolor\":\"white\",\"linecolor\":\"white\",\"ticks\":\"\"}},\"ternary\":{\"bgcolor\":\"#E5ECF6\",\"aaxis\":{\"gridcolor\":\"white\",\"linecolor\":\"white\",\"ticks\":\"\"},\"baxis\":{\"gridcolor\":\"white\",\"linecolor\":\"white\",\"ticks\":\"\"},\"caxis\":{\"gridcolor\":\"white\",\"linecolor\":\"white\",\"ticks\":\"\"}},\"coloraxis\":{\"colorbar\":{\"outlinewidth\":0,\"ticks\":\"\"}},\"colorscale\":{\"sequential\":[[0.0,\"#0d0887\"],[0.1111111111111111,\"#46039f\"],[0.2222222222222222,\"#7201a8\"],[0.3333333333333333,\"#9c179e\"],[0.4444444444444444,\"#bd3786\"],[0.5555555555555556,\"#d8576b\"],[0.6666666666666666,\"#ed7953\"],[0.7777777777777778,\"#fb9f3a\"],[0.8888888888888888,\"#fdca26\"],[1.0,\"#f0f921\"]],\"sequentialminus\":[[0.0,\"#0d0887\"],[0.1111111111111111,\"#46039f\"],[0.2222222222222222,\"#7201a8\"],[0.3333333333333333,\"#9c179e\"],[0.4444444444444444,\"#bd3786\"],[0.5555555555555556,\"#d8576b\"],[0.6666666666666666,\"#ed7953\"],[0.7777777777777778,\"#fb9f3a\"],[0.8888888888888888,\"#fdca26\"],[1.0,\"#f0f921\"]],\"diverging\":[[0,\"#8e0152\"],[0.1,\"#c51b7d\"],[0.2,\"#de77ae\"],[0.3,\"#f1b6da\"],[0.4,\"#fde0ef\"],[0.5,\"#f7f7f7\"],[0.6,\"#e6f5d0\"],[0.7,\"#b8e186\"],[0.8,\"#7fbc41\"],[0.9,\"#4d9221\"],[1,\"#276419\"]]},\"xaxis\":{\"gridcolor\":\"white\",\"linecolor\":\"white\",\"ticks\":\"\",\"title\":{\"standoff\":15},\"zerolinecolor\":\"white\",\"automargin\":true,\"zerolinewidth\":2},\"yaxis\":{\"gridcolor\":\"white\",\"linecolor\":\"white\",\"ticks\":\"\",\"title\":{\"standoff\":15},\"zerolinecolor\":\"white\",\"automargin\":true,\"zerolinewidth\":2},\"scene\":{\"xaxis\":{\"backgroundcolor\":\"#E5ECF6\",\"gridcolor\":\"white\",\"linecolor\":\"white\",\"showbackground\":true,\"ticks\":\"\",\"zerolinecolor\":\"white\",\"gridwidth\":2},\"yaxis\":{\"backgroundcolor\":\"#E5ECF6\",\"gridcolor\":\"white\",\"linecolor\":\"white\",\"showbackground\":true,\"ticks\":\"\",\"zerolinecolor\":\"white\",\"gridwidth\":2},\"zaxis\":{\"backgroundcolor\":\"#E5ECF6\",\"gridcolor\":\"white\",\"linecolor\":\"white\",\"showbackground\":true,\"ticks\":\"\",\"zerolinecolor\":\"white\",\"gridwidth\":2}},\"shapedefaults\":{\"line\":{\"color\":\"#2a3f5f\"}},\"annotationdefaults\":{\"arrowcolor\":\"#2a3f5f\",\"arrowhead\":0,\"arrowwidth\":1},\"geo\":{\"bgcolor\":\"white\",\"landcolor\":\"#E5ECF6\",\"subunitcolor\":\"white\",\"showland\":true,\"showlakes\":true,\"lakecolor\":\"white\"},\"title\":{\"x\":0.05},\"mapbox\":{\"style\":\"light\"}}},\"xaxis\":{\"anchor\":\"y\",\"domain\":[0.0,1.0],\"title\":{\"text\":\"petal_width\"}},\"yaxis\":{\"anchor\":\"x\",\"domain\":[0.0,1.0],\"title\":{\"text\":\"value\"}},\"legend\":{\"title\":{\"text\":\"variable\"},\"tracegroupgap\":0},\"margin\":{\"t\":60}},                        {\"responsive\": true}                    ).then(function(){\n",
              "                            \n",
              "var gd = document.getElementById('95c5133e-7e0e-493a-9814-99f28e27e999');\n",
              "var x = new MutationObserver(function (mutations, observer) {{\n",
              "        var display = window.getComputedStyle(gd).display;\n",
              "        if (!display || display === 'none') {{\n",
              "            console.log([gd, 'removed!']);\n",
              "            Plotly.purge(gd);\n",
              "            observer.disconnect();\n",
              "        }}\n",
              "}});\n",
              "\n",
              "// Listen for the removal of the full notebook cells\n",
              "var notebookContainer = gd.closest('#notebook-container');\n",
              "if (notebookContainer) {{\n",
              "    x.observe(notebookContainer, {childList: true});\n",
              "}}\n",
              "\n",
              "// Listen for the clearing of the current output cell\n",
              "var outputEl = gd.closest('.output');\n",
              "if (outputEl) {{\n",
              "    x.observe(outputEl, {childList: true});\n",
              "}}\n",
              "\n",
              "                        })                };                            </script>        </div>\n",
              "</body>\n",
              "</html>"
            ]
          },
          "metadata": {},
          "output_type": "display_data"
        }
      ],
      "source": [
        "px.scatter(comparison, x='petal_width',\n",
        "           y=['sepal_length','sepal_length_predict'],\n",
        "           opacity=0.65)"
      ]
    },
    {
      "cell_type": "markdown",
      "metadata": {
        "id": "lGhYZWFS6AEH"
      },
      "source": [
        "**ลองทำ:** ลองเพิ่ม `trendline='ols'` เข้าไปดูสิ\n",
        "```python\n",
        "px.scatter(comparison, x='petal_width',\n",
        "           y=['sepal_length','sepal_length_predict'],  \n",
        "           trendline='ols',  # เพิ่มเข้ามา\n",
        "           opacity=0.65)\n",
        "```           \n",
        "\n",
        "จะเห็นว่าผลการทำนายจาก `model.predict()` อยู่บนเส้นเดียวกับเส้น trendline ที่ Plotly สร้างมาให้เลย แปลว่าเรามาถูกทาง!"
      ]
    },
    {
      "cell_type": "markdown",
      "metadata": {
        "id": "Xf2L1b7Fv_Rd"
      },
      "source": [
        "### การคำนวณ MSE ด้วย `mean_squared_error()`\n",
        "\n",
        "การใช้ `model.predict()` เป็นเพียงการทำนายค่า sepal length ออกมา ซึ่งการจะประเมินว่าทำนายดีแค่ไหนนั้นดูยาก เพราะต้องดูเทียบค่าความผิดพลาดในการทำนายเป็นรายดอก อย่างเช่น"
      ]
    },
    {
      "cell_type": "code",
      "execution_count": null,
      "metadata": {
        "colab": {
          "base_uri": "https://localhost:8080/",
          "height": 206
        },
        "id": "izWROa7X7xGN",
        "outputId": "7a495721-64bc-4457-8b10-bbd37edd92c3"
      },
      "outputs": [
        {
          "data": {
            "text/html": [
              "\n",
              "  <div id=\"df-41075073-f64b-4f28-be65-ff6526e49d85\" class=\"colab-df-container\">\n",
              "    <div>\n",
              "<style scoped>\n",
              "    .dataframe tbody tr th:only-of-type {\n",
              "        vertical-align: middle;\n",
              "    }\n",
              "\n",
              "    .dataframe tbody tr th {\n",
              "        vertical-align: top;\n",
              "    }\n",
              "\n",
              "    .dataframe thead th {\n",
              "        text-align: right;\n",
              "    }\n",
              "</style>\n",
              "<table border=\"1\" class=\"dataframe\">\n",
              "  <thead>\n",
              "    <tr style=\"text-align: right;\">\n",
              "      <th></th>\n",
              "      <th>petal_width</th>\n",
              "      <th>sepal_length</th>\n",
              "      <th>sepal_length_predict</th>\n",
              "      <th>Error^2</th>\n",
              "    </tr>\n",
              "  </thead>\n",
              "  <tbody>\n",
              "    <tr>\n",
              "      <th>24</th>\n",
              "      <td>0.2</td>\n",
              "      <td>4.8</td>\n",
              "      <td>4.933120</td>\n",
              "      <td>0.017721</td>\n",
              "    </tr>\n",
              "    <tr>\n",
              "      <th>147</th>\n",
              "      <td>2.0</td>\n",
              "      <td>6.5</td>\n",
              "      <td>6.473193</td>\n",
              "      <td>0.000719</td>\n",
              "    </tr>\n",
              "    <tr>\n",
              "      <th>88</th>\n",
              "      <td>1.3</td>\n",
              "      <td>5.6</td>\n",
              "      <td>5.874276</td>\n",
              "      <td>0.075227</td>\n",
              "    </tr>\n",
              "    <tr>\n",
              "      <th>123</th>\n",
              "      <td>1.8</td>\n",
              "      <td>6.3</td>\n",
              "      <td>6.302074</td>\n",
              "      <td>0.000004</td>\n",
              "    </tr>\n",
              "    <tr>\n",
              "      <th>31</th>\n",
              "      <td>0.4</td>\n",
              "      <td>5.4</td>\n",
              "      <td>5.104239</td>\n",
              "      <td>0.087474</td>\n",
              "    </tr>\n",
              "  </tbody>\n",
              "</table>\n",
              "</div>\n",
              "    <div class=\"colab-df-buttons\">\n",
              "\n",
              "  <div class=\"colab-df-container\">\n",
              "    <button class=\"colab-df-convert\" onclick=\"convertToInteractive('df-41075073-f64b-4f28-be65-ff6526e49d85')\"\n",
              "            title=\"Convert this dataframe to an interactive table.\"\n",
              "            style=\"display:none;\">\n",
              "\n",
              "  <svg xmlns=\"http://www.w3.org/2000/svg\" height=\"24px\" viewBox=\"0 -960 960 960\">\n",
              "    <path d=\"M120-120v-720h720v720H120Zm60-500h600v-160H180v160Zm220 220h160v-160H400v160Zm0 220h160v-160H400v160ZM180-400h160v-160H180v160Zm440 0h160v-160H620v160ZM180-180h160v-160H180v160Zm440 0h160v-160H620v160Z\"/>\n",
              "  </svg>\n",
              "    </button>\n",
              "\n",
              "  <style>\n",
              "    .colab-df-container {\n",
              "      display:flex;\n",
              "      gap: 12px;\n",
              "    }\n",
              "\n",
              "    .colab-df-convert {\n",
              "      background-color: #E8F0FE;\n",
              "      border: none;\n",
              "      border-radius: 50%;\n",
              "      cursor: pointer;\n",
              "      display: none;\n",
              "      fill: #1967D2;\n",
              "      height: 32px;\n",
              "      padding: 0 0 0 0;\n",
              "      width: 32px;\n",
              "    }\n",
              "\n",
              "    .colab-df-convert:hover {\n",
              "      background-color: #E2EBFA;\n",
              "      box-shadow: 0px 1px 2px rgba(60, 64, 67, 0.3), 0px 1px 3px 1px rgba(60, 64, 67, 0.15);\n",
              "      fill: #174EA6;\n",
              "    }\n",
              "\n",
              "    .colab-df-buttons div {\n",
              "      margin-bottom: 4px;\n",
              "    }\n",
              "\n",
              "    [theme=dark] .colab-df-convert {\n",
              "      background-color: #3B4455;\n",
              "      fill: #D2E3FC;\n",
              "    }\n",
              "\n",
              "    [theme=dark] .colab-df-convert:hover {\n",
              "      background-color: #434B5C;\n",
              "      box-shadow: 0px 1px 3px 1px rgba(0, 0, 0, 0.15);\n",
              "      filter: drop-shadow(0px 1px 2px rgba(0, 0, 0, 0.3));\n",
              "      fill: #FFFFFF;\n",
              "    }\n",
              "  </style>\n",
              "\n",
              "    <script>\n",
              "      const buttonEl =\n",
              "        document.querySelector('#df-41075073-f64b-4f28-be65-ff6526e49d85 button.colab-df-convert');\n",
              "      buttonEl.style.display =\n",
              "        google.colab.kernel.accessAllowed ? 'block' : 'none';\n",
              "\n",
              "      async function convertToInteractive(key) {\n",
              "        const element = document.querySelector('#df-41075073-f64b-4f28-be65-ff6526e49d85');\n",
              "        const dataTable =\n",
              "          await google.colab.kernel.invokeFunction('convertToInteractive',\n",
              "                                                    [key], {});\n",
              "        if (!dataTable) return;\n",
              "\n",
              "        const docLinkHtml = 'Like what you see? Visit the ' +\n",
              "          '<a target=\"_blank\" href=https://colab.research.google.com/notebooks/data_table.ipynb>data table notebook</a>'\n",
              "          + ' to learn more about interactive tables.';\n",
              "        element.innerHTML = '';\n",
              "        dataTable['output_type'] = 'display_data';\n",
              "        await google.colab.output.renderOutput(dataTable, element);\n",
              "        const docLink = document.createElement('div');\n",
              "        docLink.innerHTML = docLinkHtml;\n",
              "        element.appendChild(docLink);\n",
              "      }\n",
              "    </script>\n",
              "  </div>\n",
              "\n",
              "\n",
              "<div id=\"df-4493ed22-f745-46b8-a478-173a4ac7eb93\">\n",
              "  <button class=\"colab-df-quickchart\" onclick=\"quickchart('df-4493ed22-f745-46b8-a478-173a4ac7eb93')\"\n",
              "            title=\"Suggest charts\"\n",
              "            style=\"display:none;\">\n",
              "\n",
              "<svg xmlns=\"http://www.w3.org/2000/svg\" height=\"24px\"viewBox=\"0 0 24 24\"\n",
              "     width=\"24px\">\n",
              "    <g>\n",
              "        <path d=\"M19 3H5c-1.1 0-2 .9-2 2v14c0 1.1.9 2 2 2h14c1.1 0 2-.9 2-2V5c0-1.1-.9-2-2-2zM9 17H7v-7h2v7zm4 0h-2V7h2v10zm4 0h-2v-4h2v4z\"/>\n",
              "    </g>\n",
              "</svg>\n",
              "  </button>\n",
              "\n",
              "<style>\n",
              "  .colab-df-quickchart {\n",
              "      --bg-color: #E8F0FE;\n",
              "      --fill-color: #1967D2;\n",
              "      --hover-bg-color: #E2EBFA;\n",
              "      --hover-fill-color: #174EA6;\n",
              "      --disabled-fill-color: #AAA;\n",
              "      --disabled-bg-color: #DDD;\n",
              "  }\n",
              "\n",
              "  [theme=dark] .colab-df-quickchart {\n",
              "      --bg-color: #3B4455;\n",
              "      --fill-color: #D2E3FC;\n",
              "      --hover-bg-color: #434B5C;\n",
              "      --hover-fill-color: #FFFFFF;\n",
              "      --disabled-bg-color: #3B4455;\n",
              "      --disabled-fill-color: #666;\n",
              "  }\n",
              "\n",
              "  .colab-df-quickchart {\n",
              "    background-color: var(--bg-color);\n",
              "    border: none;\n",
              "    border-radius: 50%;\n",
              "    cursor: pointer;\n",
              "    display: none;\n",
              "    fill: var(--fill-color);\n",
              "    height: 32px;\n",
              "    padding: 0;\n",
              "    width: 32px;\n",
              "  }\n",
              "\n",
              "  .colab-df-quickchart:hover {\n",
              "    background-color: var(--hover-bg-color);\n",
              "    box-shadow: 0 1px 2px rgba(60, 64, 67, 0.3), 0 1px 3px 1px rgba(60, 64, 67, 0.15);\n",
              "    fill: var(--button-hover-fill-color);\n",
              "  }\n",
              "\n",
              "  .colab-df-quickchart-complete:disabled,\n",
              "  .colab-df-quickchart-complete:disabled:hover {\n",
              "    background-color: var(--disabled-bg-color);\n",
              "    fill: var(--disabled-fill-color);\n",
              "    box-shadow: none;\n",
              "  }\n",
              "\n",
              "  .colab-df-spinner {\n",
              "    border: 2px solid var(--fill-color);\n",
              "    border-color: transparent;\n",
              "    border-bottom-color: var(--fill-color);\n",
              "    animation:\n",
              "      spin 1s steps(1) infinite;\n",
              "  }\n",
              "\n",
              "  @keyframes spin {\n",
              "    0% {\n",
              "      border-color: transparent;\n",
              "      border-bottom-color: var(--fill-color);\n",
              "      border-left-color: var(--fill-color);\n",
              "    }\n",
              "    20% {\n",
              "      border-color: transparent;\n",
              "      border-left-color: var(--fill-color);\n",
              "      border-top-color: var(--fill-color);\n",
              "    }\n",
              "    30% {\n",
              "      border-color: transparent;\n",
              "      border-left-color: var(--fill-color);\n",
              "      border-top-color: var(--fill-color);\n",
              "      border-right-color: var(--fill-color);\n",
              "    }\n",
              "    40% {\n",
              "      border-color: transparent;\n",
              "      border-right-color: var(--fill-color);\n",
              "      border-top-color: var(--fill-color);\n",
              "    }\n",
              "    60% {\n",
              "      border-color: transparent;\n",
              "      border-right-color: var(--fill-color);\n",
              "    }\n",
              "    80% {\n",
              "      border-color: transparent;\n",
              "      border-right-color: var(--fill-color);\n",
              "      border-bottom-color: var(--fill-color);\n",
              "    }\n",
              "    90% {\n",
              "      border-color: transparent;\n",
              "      border-bottom-color: var(--fill-color);\n",
              "    }\n",
              "  }\n",
              "</style>\n",
              "\n",
              "  <script>\n",
              "    async function quickchart(key) {\n",
              "      const quickchartButtonEl =\n",
              "        document.querySelector('#' + key + ' button');\n",
              "      quickchartButtonEl.disabled = true;  // To prevent multiple clicks.\n",
              "      quickchartButtonEl.classList.add('colab-df-spinner');\n",
              "      try {\n",
              "        const charts = await google.colab.kernel.invokeFunction(\n",
              "            'suggestCharts', [key], {});\n",
              "      } catch (error) {\n",
              "        console.error('Error during call to suggestCharts:', error);\n",
              "      }\n",
              "      quickchartButtonEl.classList.remove('colab-df-spinner');\n",
              "      quickchartButtonEl.classList.add('colab-df-quickchart-complete');\n",
              "    }\n",
              "    (() => {\n",
              "      let quickchartButtonEl =\n",
              "        document.querySelector('#df-4493ed22-f745-46b8-a478-173a4ac7eb93 button');\n",
              "      quickchartButtonEl.style.display =\n",
              "        google.colab.kernel.accessAllowed ? 'block' : 'none';\n",
              "    })();\n",
              "  </script>\n",
              "</div>\n",
              "    </div>\n",
              "  </div>\n"
            ],
            "text/plain": [
              "     petal_width  sepal_length  sepal_length_predict   Error^2\n",
              "24           0.2           4.8              4.933120  0.017721\n",
              "147          2.0           6.5              6.473193  0.000719\n",
              "88           1.3           5.6              5.874276  0.075227\n",
              "123          1.8           6.3              6.302074  0.000004\n",
              "31           0.4           5.4              5.104239  0.087474"
            ]
          },
          "execution_count": 18,
          "metadata": {},
          "output_type": "execute_result"
        }
      ],
      "source": [
        "# คำนวณผลต่างของการทำนาย ยกกำลังสอง\n",
        "comparison['Error^2'] = (comparison['sepal_length'] - comparison['sepal_length_predict'])**2  # Error ยกกำลังสอง\n",
        "comparison.head()"
      ]
    },
    {
      "cell_type": "markdown",
      "metadata": {
        "id": "by5ObtQs77Hu"
      },
      "source": [
        "โดยปกติแล้ว ในการประเมินประสิทธิภาพของโมเดล ในขั้นแรกเราจะยังไม่สนใจประสิทธิภาพการทำนายเป็นรายดอก แต่จะสนใจประสิทธิภาพของโมเดลโดยรวมเป็นอันดับแรก ซึ่งกรณีของ Linear regression ก็นิยมใช้ MSE ในการประเมิน อันที่จริง จากตัวแปร `comparison` เราสามารถคำนวณค่า MSE ของ training set ได้เองแล้ว ดังนี้"
      ]
    },
    {
      "cell_type": "code",
      "execution_count": null,
      "metadata": {
        "colab": {
          "base_uri": "https://localhost:8080/"
        },
        "id": "FIm__oZAwWcn",
        "outputId": "f67adc4f-34e4-4fe6-b859-b25c9dbe4374"
      },
      "outputs": [
        {
          "name": "stdout",
          "output_type": "stream",
          "text": [
            "MSE จากการคำนวณเอง = 0.2048398868775438\n"
          ]
        }
      ],
      "source": [
        "mse = comparison['Error^2'].mean()\n",
        "print(f'MSE จากการคำนวณเอง = {mse}')"
      ]
    },
    {
      "cell_type": "markdown",
      "metadata": {
        "id": "cvKw21f38tqt"
      },
      "source": [
        "> **Note:** เนื่องจาก MSE เป็นการนำ Error มายกกำลังสอง ดังนั้นในกรณีของ MSE = 0.2048 จึงมีหน่วย $cm^2$ เพราะ sepal length มีหน่วย $cm$\n",
        "\n",
        "อย่างไรก็ตาม Scikit-learn ก็ได้อำนวยความสะดวกในการคำนวณ MSE เช่นกันด้วยฟังก์ชัน `mean_squared_error()` ที่ต้องทำการนำเข้าฟังก์ชันก่อนการใช้งาน ดังนี้\n",
        "\n",
        "```python\n",
        "from sklearn.metrics import mean_squared_error\n",
        "```\n",
        "ซึ่งในการเรียกใช้ จะเป็นดังนี้\n",
        "```python\n",
        "mean_squared_error(ค่าที่แท้จริง, ค่าที่ทำนายได้)\n",
        "```"
      ]
    },
    {
      "cell_type": "code",
      "execution_count": null,
      "metadata": {
        "colab": {
          "base_uri": "https://localhost:8080/"
        },
        "id": "-rZjLZ-2tiX8",
        "outputId": "11ad03aa-f31a-4efa-ae67-4d70d30373db"
      },
      "outputs": [
        {
          "name": "stdout",
          "output_type": "stream",
          "text": [
            "MSE จาก mean_squared_error() = 0.2048398868775438\n"
          ]
        }
      ],
      "source": [
        "from sklearn.metrics import mean_squared_error\n",
        "mse = mean_squared_error(y_train, y_train_predict)\n",
        "print(f'MSE จาก mean_squared_error() = {mse}')"
      ]
    },
    {
      "cell_type": "markdown",
      "metadata": {
        "id": "xW_wf2F5HMUY"
      },
      "source": [
        "### MSE เปรียบเทียบระหว่าง Training set กับ Test set\n",
        "\n",
        "พิจารณาโค้ดต่อไปนี้ ที่นำโมเดลที่ได้เรียนรู้ training set มาใช้ทำนายข้อมูล training set และ test set เปรียบเทียบกัน"
      ]
    },
    {
      "cell_type": "code",
      "execution_count": null,
      "metadata": {
        "colab": {
          "base_uri": "https://localhost:8080/"
        },
        "id": "QXIJLjkjHK0l",
        "outputId": "773356a6-1bd7-4303-e091-1cbf1a76897e"
      },
      "outputs": [
        {
          "name": "stdout",
          "output_type": "stream",
          "text": [
            "MSE จากการทำนาย training set = 0.205\n",
            "MSE จากการทำนาย test set     = 0.266\n"
          ]
        }
      ],
      "source": [
        "# ประสิทธิภาพกรณีทำนาย training set\n",
        "y_train_pred = model.predict(X_train)\n",
        "mse_train = mean_squared_error(y_train, y_train_pred)\n",
        "\n",
        "# ประสิทธิภาพกรณีทำนาย test set\n",
        "y_test_pred = model.predict(X_test)\n",
        "mse_test  = mean_squared_error(y_test, y_test_pred)\n",
        "\n",
        "print(f'MSE จากการทำนาย training set = {mse_train:.3f}') # เพิ่ม :.3f เข้าไปเพื่อพิมพ์ทศนิยมแค่ 3 ตำแหน่ง\n",
        "print(f'MSE จากการทำนาย test set     = {mse_test:.3f}')"
      ]
    },
    {
      "cell_type": "markdown",
      "metadata": {
        "id": "IHnDw8tCLa6m"
      },
      "source": [
        "จากโค้ดข้างต้น จะเห็นว่า MSE ของ test set มีค่าสูงกว่าของ training set นักศึกษาคิดเห็นอย่างไร จงอภิปราย\n",
        "1. ถ้าโมเดลทำนายดี ค่า MSE ควรมากหรือน้อย\n",
        "2. ค่า MSE ต่ำที่สุดที่เป็นไปได้คือเท่าไร\n",
        "3. การที่ MSE ของ test set สูงกว่าของ training set นั้น สมเหตุสมผลหรือไม่"
      ]
    },
    {
      "cell_type": "markdown",
      "metadata": {
        "id": "wPOC6tpM3S_W"
      },
      "source": [
        "### (ศึกษาเอง) การวาดกราฟโดยใช้ `plotly.graph_objects`"
      ]
    },
    {
      "cell_type": "markdown",
      "metadata": {
        "id": "a3ydLzuPMOii"
      },
      "source": [
        "\n",
        "\n",
        "`plotly.express` เป็นไลบรารีการวาดกราฟที่สร้างขึ้นเพื่ออำนวยความสะดวกในการวาดกราฟจาก DataFrame ดังนั้นจึงมีข้อจำกัดบางประการในการสร้างกราฟ ดังนั้นในหัวข้อนี้ จะนำเสนอการวาดกราฟที่ควบคุมรายละเอียดได้มากขึ้น โดยการใช้ `plotly.graph_objects` [(ดูเพิ่ม)](https://plotly.com/python/graph-objects/)ซึ่งแม้ว่า `plotly.graph_objects` จะสามารถสร้างกราฟ เริ่มต้นจากกราฟเปล่า ๆ ได้ (ใช้ `go.Figure()` แล้วค่อยเพิ่มเติมสิ่งต่าง ๆ เข้าไปในกราฟได้\n",
        "\n",
        "> **Note:**  ในทางปฏิบัติ แนะนำให้เริ่มต้นวาดกราฟโดยใช้ `plotly.express` ก่อน ซึ่งคำสั่งเช่น `fig = px.scatter()`, `fig = px.bar()`, `fig = px.hist()` เป็นต้น จะให้ตัวแปร `fig` ที่เป็นประเภท `plotly.graph_objects` ออกมา ซึ่งสามารถนำ `fig` ไปเพิ่มความซับซ้อนของกราฟในภายหลังได้\n",
        "\n",
        "\n",
        "การนำเข้า `plotly.graph_objects` ทำดังนี้\n",
        "```python\n",
        "import plotly.graph_objects as go\n",
        "```\n",
        "\n",
        "ต่อไปนี้คือตัวอย่างการใช้ `plotly.graph_objects`\n",
        "\n",
        "จากที่ผ่านมา เราใช้ `px.scatter()` วาดกราฟดอกไอริส 3 สายพันธ์พร้อมกันได้ในคำสั่งเดียว แต่ในตัวอย่างต่อไปนี้ จะลองว่า scatter plot ละสายพันธุ์เพิ่มเข้าไปในกราฟ\n",
        "\n",
        "สมมติมีข้อมูลของ 3 สายพันธุ์ แยกเป็น DataFrame 3 อัน\n"
      ]
    },
    {
      "cell_type": "code",
      "execution_count": null,
      "metadata": {
        "id": "6-6s7mrFj2dq"
      },
      "outputs": [],
      "source": [
        "setosa = iris[iris['class'] == 'Iris-setosa']\n",
        "virginica = iris[iris['class'] == 'Iris-virginica']\n",
        "versicolor = iris[iris['class'] == 'Iris-versicolor']"
      ]
    },
    {
      "cell_type": "markdown",
      "metadata": {
        "id": "fDfDRe7ukLob"
      },
      "source": [
        "**Step 1** `import` และสร้าง Figure เปล่า"
      ]
    },
    {
      "cell_type": "code",
      "execution_count": null,
      "metadata": {
        "id": "Wgtpd7fdkRiB"
      },
      "outputs": [],
      "source": [
        "import plotly.graph_objects as go\n",
        "fig = go.Figure()"
      ]
    },
    {
      "cell_type": "markdown",
      "metadata": {
        "id": "yEfNBJMOmY9q"
      },
      "source": [
        "**Step 2** สร้างวัตถุของกราฟ\n",
        "\n",
        "เราต้องการใส่ scatter plot ของดอกแต่ละสายพันธุ์เข้าไปในกราฟ ดังนั้น จึงต้องสร้างวัตถุ Scatter ของแต่ละสายพันธุ์ก่อน โดยใช้ `go.Scatter()` [(อ้างอิง)](https://plotly.com/python-api-reference/generated/plotly.graph_objects.Scatter.html)\n",
        "\n"
      ]
    },
    {
      "cell_type": "code",
      "execution_count": null,
      "metadata": {
        "id": "3vZ_XgZmm1xG"
      },
      "outputs": [],
      "source": [
        "object_1 =  go.Scatter(x=setosa['petal_width'],\n",
        "                       y=setosa['sepal_length'],\n",
        "                       mode='markers',\n",
        "                       name='Setosa') # ของ Setosa\n",
        "object_2 =  go.Scatter(x=virginica['petal_width'],\n",
        "                       y=virginica['sepal_length'],\n",
        "                       mode='markers',\n",
        "                       name='Virginica') # ของ Virginica\n",
        "object_3 =  go.Scatter(x=versicolor['petal_width'],\n",
        "                       y=versicolor['sepal_length'],\n",
        "                       mode='markers',\n",
        "                       name='Versicolor') # ของ Versicolor"
      ]
    },
    {
      "cell_type": "markdown",
      "metadata": {
        "id": "OduAWVSVn3x1"
      },
      "source": [
        "> ข้อสังเกตุ `go.Figure()` และ `go.Scatter()` ใช้สร้างวัตถุ Figure และวัตถุ Scatter ขึ้นมา แต่ยังไม่ได้เชื่อมหากัน"
      ]
    },
    {
      "cell_type": "markdown",
      "metadata": {
        "id": "pwziu0PJkOLj"
      },
      "source": [
        "**Step 3** ใส่วัตถุของกราฟลงในกราฟ\n",
        "\n",
        "ในขั้นนี้ จะใช้ `fig.add_trace()` ใช้เพื่อใส่กราฟเข้าไปใน Figure  "
      ]
    },
    {
      "cell_type": "code",
      "execution_count": null,
      "metadata": {
        "colab": {
          "base_uri": "https://localhost:8080/",
          "height": 542
        },
        "id": "7TiaEgJ2kaZ-",
        "outputId": "5dca2cc1-90a8-4b8b-c44a-da49ab7f003b"
      },
      "outputs": [
        {
          "data": {
            "text/html": [
              "<html>\n",
              "<head><meta charset=\"utf-8\" /></head>\n",
              "<body>\n",
              "    <div>            <script src=\"https://cdnjs.cloudflare.com/ajax/libs/mathjax/2.7.5/MathJax.js?config=TeX-AMS-MML_SVG\"></script><script type=\"text/javascript\">if (window.MathJax && window.MathJax.Hub && window.MathJax.Hub.Config) {window.MathJax.Hub.Config({SVG: {font: \"STIX-Web\"}});}</script>                <script type=\"text/javascript\">window.PlotlyConfig = {MathJaxConfig: 'local'};</script>\n",
              "        <script charset=\"utf-8\" src=\"https://cdn.plot.ly/plotly-2.24.1.min.js\"></script>                <div id=\"4aa4210c-188a-443b-8d47-17c661d3d1e3\" class=\"plotly-graph-div\" style=\"height:525px; width:100%;\"></div>            <script type=\"text/javascript\">                                    window.PLOTLYENV=window.PLOTLYENV || {};                                    if (document.getElementById(\"4aa4210c-188a-443b-8d47-17c661d3d1e3\")) {                    Plotly.newPlot(                        \"4aa4210c-188a-443b-8d47-17c661d3d1e3\",                        [{\"mode\":\"markers\",\"name\":\"Setosa\",\"x\":[0.2,0.2,0.2,0.2,0.2,0.4,0.3,0.2,0.2,0.1,0.2,0.2,0.1,0.1,0.2,0.4,0.4,0.3,0.3,0.3,0.2,0.4,0.2,0.5,0.2,0.2,0.4,0.2,0.2,0.2,0.2,0.4,0.1,0.2,0.1,0.2,0.2,0.1,0.2,0.2,0.3,0.3,0.2,0.6,0.4,0.3,0.2,0.2,0.2,0.2],\"y\":[5.1,4.9,4.7,4.6,5.0,5.4,4.6,5.0,4.4,4.9,5.4,4.8,4.8,4.3,5.8,5.7,5.4,5.1,5.7,5.1,5.4,5.1,4.6,5.1,4.8,5.0,5.0,5.2,5.2,4.7,4.8,5.4,5.2,5.5,4.9,5.0,5.5,4.9,4.4,5.1,5.0,4.5,4.4,5.0,5.1,4.8,5.1,4.6,5.3,5.0],\"type\":\"scatter\"},{\"mode\":\"markers\",\"name\":\"Virginica\",\"x\":[2.5,1.9,2.1,1.8,2.2,2.1,1.7,1.8,1.8,2.5,2.0,1.9,2.1,2.0,2.4,2.3,1.8,2.2,2.3,1.5,2.3,2.0,2.0,1.8,2.1,1.8,1.8,1.8,2.1,1.6,1.9,2.0,2.2,1.5,1.4,2.3,2.4,1.8,1.8,2.1,2.4,2.3,1.9,2.3,2.5,2.3,1.9,2.0,2.3,1.8],\"y\":[6.3,5.8,7.1,6.3,6.5,7.6,4.9,7.3,6.7,7.2,6.5,6.4,6.8,5.7,5.8,6.4,6.5,7.7,7.7,6.0,6.9,5.6,7.7,6.3,6.7,7.2,6.2,6.1,6.4,7.2,7.4,7.9,6.4,6.3,6.1,7.7,6.3,6.4,6.0,6.9,6.7,6.9,5.8,6.8,6.7,6.7,6.3,6.5,6.2,5.9],\"type\":\"scatter\"},{\"mode\":\"markers\",\"name\":\"Versicolor\",\"x\":[1.4,1.5,1.5,1.3,1.5,1.3,1.6,1.0,1.3,1.4,1.0,1.5,1.0,1.4,1.3,1.4,1.5,1.0,1.5,1.1,1.8,1.3,1.5,1.2,1.3,1.4,1.4,1.7,1.5,1.0,1.1,1.0,1.2,1.6,1.5,1.6,1.5,1.3,1.3,1.3,1.2,1.4,1.2,1.0,1.3,1.2,1.3,1.3,1.1,1.3],\"y\":[7.0,6.4,6.9,5.5,6.5,5.7,6.3,4.9,6.6,5.2,5.0,5.9,6.0,6.1,5.6,6.7,5.6,5.8,6.2,5.6,5.9,6.1,6.3,6.1,6.4,6.6,6.8,6.7,6.0,5.7,5.5,5.5,5.8,6.0,5.4,6.0,6.7,6.3,5.6,5.5,5.5,6.1,5.8,5.0,5.6,5.7,5.7,6.2,5.1,5.7],\"type\":\"scatter\"}],                        {\"template\":{\"data\":{\"histogram2dcontour\":[{\"type\":\"histogram2dcontour\",\"colorbar\":{\"outlinewidth\":0,\"ticks\":\"\"},\"colorscale\":[[0.0,\"#0d0887\"],[0.1111111111111111,\"#46039f\"],[0.2222222222222222,\"#7201a8\"],[0.3333333333333333,\"#9c179e\"],[0.4444444444444444,\"#bd3786\"],[0.5555555555555556,\"#d8576b\"],[0.6666666666666666,\"#ed7953\"],[0.7777777777777778,\"#fb9f3a\"],[0.8888888888888888,\"#fdca26\"],[1.0,\"#f0f921\"]]}],\"choropleth\":[{\"type\":\"choropleth\",\"colorbar\":{\"outlinewidth\":0,\"ticks\":\"\"}}],\"histogram2d\":[{\"type\":\"histogram2d\",\"colorbar\":{\"outlinewidth\":0,\"ticks\":\"\"},\"colorscale\":[[0.0,\"#0d0887\"],[0.1111111111111111,\"#46039f\"],[0.2222222222222222,\"#7201a8\"],[0.3333333333333333,\"#9c179e\"],[0.4444444444444444,\"#bd3786\"],[0.5555555555555556,\"#d8576b\"],[0.6666666666666666,\"#ed7953\"],[0.7777777777777778,\"#fb9f3a\"],[0.8888888888888888,\"#fdca26\"],[1.0,\"#f0f921\"]]}],\"heatmap\":[{\"type\":\"heatmap\",\"colorbar\":{\"outlinewidth\":0,\"ticks\":\"\"},\"colorscale\":[[0.0,\"#0d0887\"],[0.1111111111111111,\"#46039f\"],[0.2222222222222222,\"#7201a8\"],[0.3333333333333333,\"#9c179e\"],[0.4444444444444444,\"#bd3786\"],[0.5555555555555556,\"#d8576b\"],[0.6666666666666666,\"#ed7953\"],[0.7777777777777778,\"#fb9f3a\"],[0.8888888888888888,\"#fdca26\"],[1.0,\"#f0f921\"]]}],\"heatmapgl\":[{\"type\":\"heatmapgl\",\"colorbar\":{\"outlinewidth\":0,\"ticks\":\"\"},\"colorscale\":[[0.0,\"#0d0887\"],[0.1111111111111111,\"#46039f\"],[0.2222222222222222,\"#7201a8\"],[0.3333333333333333,\"#9c179e\"],[0.4444444444444444,\"#bd3786\"],[0.5555555555555556,\"#d8576b\"],[0.6666666666666666,\"#ed7953\"],[0.7777777777777778,\"#fb9f3a\"],[0.8888888888888888,\"#fdca26\"],[1.0,\"#f0f921\"]]}],\"contourcarpet\":[{\"type\":\"contourcarpet\",\"colorbar\":{\"outlinewidth\":0,\"ticks\":\"\"}}],\"contour\":[{\"type\":\"contour\",\"colorbar\":{\"outlinewidth\":0,\"ticks\":\"\"},\"colorscale\":[[0.0,\"#0d0887\"],[0.1111111111111111,\"#46039f\"],[0.2222222222222222,\"#7201a8\"],[0.3333333333333333,\"#9c179e\"],[0.4444444444444444,\"#bd3786\"],[0.5555555555555556,\"#d8576b\"],[0.6666666666666666,\"#ed7953\"],[0.7777777777777778,\"#fb9f3a\"],[0.8888888888888888,\"#fdca26\"],[1.0,\"#f0f921\"]]}],\"surface\":[{\"type\":\"surface\",\"colorbar\":{\"outlinewidth\":0,\"ticks\":\"\"},\"colorscale\":[[0.0,\"#0d0887\"],[0.1111111111111111,\"#46039f\"],[0.2222222222222222,\"#7201a8\"],[0.3333333333333333,\"#9c179e\"],[0.4444444444444444,\"#bd3786\"],[0.5555555555555556,\"#d8576b\"],[0.6666666666666666,\"#ed7953\"],[0.7777777777777778,\"#fb9f3a\"],[0.8888888888888888,\"#fdca26\"],[1.0,\"#f0f921\"]]}],\"mesh3d\":[{\"type\":\"mesh3d\",\"colorbar\":{\"outlinewidth\":0,\"ticks\":\"\"}}],\"scatter\":[{\"fillpattern\":{\"fillmode\":\"overlay\",\"size\":10,\"solidity\":0.2},\"type\":\"scatter\"}],\"parcoords\":[{\"type\":\"parcoords\",\"line\":{\"colorbar\":{\"outlinewidth\":0,\"ticks\":\"\"}}}],\"scatterpolargl\":[{\"type\":\"scatterpolargl\",\"marker\":{\"colorbar\":{\"outlinewidth\":0,\"ticks\":\"\"}}}],\"bar\":[{\"error_x\":{\"color\":\"#2a3f5f\"},\"error_y\":{\"color\":\"#2a3f5f\"},\"marker\":{\"line\":{\"color\":\"#E5ECF6\",\"width\":0.5},\"pattern\":{\"fillmode\":\"overlay\",\"size\":10,\"solidity\":0.2}},\"type\":\"bar\"}],\"scattergeo\":[{\"type\":\"scattergeo\",\"marker\":{\"colorbar\":{\"outlinewidth\":0,\"ticks\":\"\"}}}],\"scatterpolar\":[{\"type\":\"scatterpolar\",\"marker\":{\"colorbar\":{\"outlinewidth\":0,\"ticks\":\"\"}}}],\"histogram\":[{\"marker\":{\"pattern\":{\"fillmode\":\"overlay\",\"size\":10,\"solidity\":0.2}},\"type\":\"histogram\"}],\"scattergl\":[{\"type\":\"scattergl\",\"marker\":{\"colorbar\":{\"outlinewidth\":0,\"ticks\":\"\"}}}],\"scatter3d\":[{\"type\":\"scatter3d\",\"line\":{\"colorbar\":{\"outlinewidth\":0,\"ticks\":\"\"}},\"marker\":{\"colorbar\":{\"outlinewidth\":0,\"ticks\":\"\"}}}],\"scattermapbox\":[{\"type\":\"scattermapbox\",\"marker\":{\"colorbar\":{\"outlinewidth\":0,\"ticks\":\"\"}}}],\"scatterternary\":[{\"type\":\"scatterternary\",\"marker\":{\"colorbar\":{\"outlinewidth\":0,\"ticks\":\"\"}}}],\"scattercarpet\":[{\"type\":\"scattercarpet\",\"marker\":{\"colorbar\":{\"outlinewidth\":0,\"ticks\":\"\"}}}],\"carpet\":[{\"aaxis\":{\"endlinecolor\":\"#2a3f5f\",\"gridcolor\":\"white\",\"linecolor\":\"white\",\"minorgridcolor\":\"white\",\"startlinecolor\":\"#2a3f5f\"},\"baxis\":{\"endlinecolor\":\"#2a3f5f\",\"gridcolor\":\"white\",\"linecolor\":\"white\",\"minorgridcolor\":\"white\",\"startlinecolor\":\"#2a3f5f\"},\"type\":\"carpet\"}],\"table\":[{\"cells\":{\"fill\":{\"color\":\"#EBF0F8\"},\"line\":{\"color\":\"white\"}},\"header\":{\"fill\":{\"color\":\"#C8D4E3\"},\"line\":{\"color\":\"white\"}},\"type\":\"table\"}],\"barpolar\":[{\"marker\":{\"line\":{\"color\":\"#E5ECF6\",\"width\":0.5},\"pattern\":{\"fillmode\":\"overlay\",\"size\":10,\"solidity\":0.2}},\"type\":\"barpolar\"}],\"pie\":[{\"automargin\":true,\"type\":\"pie\"}]},\"layout\":{\"autotypenumbers\":\"strict\",\"colorway\":[\"#636efa\",\"#EF553B\",\"#00cc96\",\"#ab63fa\",\"#FFA15A\",\"#19d3f3\",\"#FF6692\",\"#B6E880\",\"#FF97FF\",\"#FECB52\"],\"font\":{\"color\":\"#2a3f5f\"},\"hovermode\":\"closest\",\"hoverlabel\":{\"align\":\"left\"},\"paper_bgcolor\":\"white\",\"plot_bgcolor\":\"#E5ECF6\",\"polar\":{\"bgcolor\":\"#E5ECF6\",\"angularaxis\":{\"gridcolor\":\"white\",\"linecolor\":\"white\",\"ticks\":\"\"},\"radialaxis\":{\"gridcolor\":\"white\",\"linecolor\":\"white\",\"ticks\":\"\"}},\"ternary\":{\"bgcolor\":\"#E5ECF6\",\"aaxis\":{\"gridcolor\":\"white\",\"linecolor\":\"white\",\"ticks\":\"\"},\"baxis\":{\"gridcolor\":\"white\",\"linecolor\":\"white\",\"ticks\":\"\"},\"caxis\":{\"gridcolor\":\"white\",\"linecolor\":\"white\",\"ticks\":\"\"}},\"coloraxis\":{\"colorbar\":{\"outlinewidth\":0,\"ticks\":\"\"}},\"colorscale\":{\"sequential\":[[0.0,\"#0d0887\"],[0.1111111111111111,\"#46039f\"],[0.2222222222222222,\"#7201a8\"],[0.3333333333333333,\"#9c179e\"],[0.4444444444444444,\"#bd3786\"],[0.5555555555555556,\"#d8576b\"],[0.6666666666666666,\"#ed7953\"],[0.7777777777777778,\"#fb9f3a\"],[0.8888888888888888,\"#fdca26\"],[1.0,\"#f0f921\"]],\"sequentialminus\":[[0.0,\"#0d0887\"],[0.1111111111111111,\"#46039f\"],[0.2222222222222222,\"#7201a8\"],[0.3333333333333333,\"#9c179e\"],[0.4444444444444444,\"#bd3786\"],[0.5555555555555556,\"#d8576b\"],[0.6666666666666666,\"#ed7953\"],[0.7777777777777778,\"#fb9f3a\"],[0.8888888888888888,\"#fdca26\"],[1.0,\"#f0f921\"]],\"diverging\":[[0,\"#8e0152\"],[0.1,\"#c51b7d\"],[0.2,\"#de77ae\"],[0.3,\"#f1b6da\"],[0.4,\"#fde0ef\"],[0.5,\"#f7f7f7\"],[0.6,\"#e6f5d0\"],[0.7,\"#b8e186\"],[0.8,\"#7fbc41\"],[0.9,\"#4d9221\"],[1,\"#276419\"]]},\"xaxis\":{\"gridcolor\":\"white\",\"linecolor\":\"white\",\"ticks\":\"\",\"title\":{\"standoff\":15},\"zerolinecolor\":\"white\",\"automargin\":true,\"zerolinewidth\":2},\"yaxis\":{\"gridcolor\":\"white\",\"linecolor\":\"white\",\"ticks\":\"\",\"title\":{\"standoff\":15},\"zerolinecolor\":\"white\",\"automargin\":true,\"zerolinewidth\":2},\"scene\":{\"xaxis\":{\"backgroundcolor\":\"#E5ECF6\",\"gridcolor\":\"white\",\"linecolor\":\"white\",\"showbackground\":true,\"ticks\":\"\",\"zerolinecolor\":\"white\",\"gridwidth\":2},\"yaxis\":{\"backgroundcolor\":\"#E5ECF6\",\"gridcolor\":\"white\",\"linecolor\":\"white\",\"showbackground\":true,\"ticks\":\"\",\"zerolinecolor\":\"white\",\"gridwidth\":2},\"zaxis\":{\"backgroundcolor\":\"#E5ECF6\",\"gridcolor\":\"white\",\"linecolor\":\"white\",\"showbackground\":true,\"ticks\":\"\",\"zerolinecolor\":\"white\",\"gridwidth\":2}},\"shapedefaults\":{\"line\":{\"color\":\"#2a3f5f\"}},\"annotationdefaults\":{\"arrowcolor\":\"#2a3f5f\",\"arrowhead\":0,\"arrowwidth\":1},\"geo\":{\"bgcolor\":\"white\",\"landcolor\":\"#E5ECF6\",\"subunitcolor\":\"white\",\"showland\":true,\"showlakes\":true,\"lakecolor\":\"white\"},\"title\":{\"x\":0.05},\"mapbox\":{\"style\":\"light\"}}}},                        {\"responsive\": true}                    ).then(function(){\n",
              "                            \n",
              "var gd = document.getElementById('4aa4210c-188a-443b-8d47-17c661d3d1e3');\n",
              "var x = new MutationObserver(function (mutations, observer) {{\n",
              "        var display = window.getComputedStyle(gd).display;\n",
              "        if (!display || display === 'none') {{\n",
              "            console.log([gd, 'removed!']);\n",
              "            Plotly.purge(gd);\n",
              "            observer.disconnect();\n",
              "        }}\n",
              "}});\n",
              "\n",
              "// Listen for the removal of the full notebook cells\n",
              "var notebookContainer = gd.closest('#notebook-container');\n",
              "if (notebookContainer) {{\n",
              "    x.observe(notebookContainer, {childList: true});\n",
              "}}\n",
              "\n",
              "// Listen for the clearing of the current output cell\n",
              "var outputEl = gd.closest('.output');\n",
              "if (outputEl) {{\n",
              "    x.observe(outputEl, {childList: true});\n",
              "}}\n",
              "\n",
              "                        })                };                            </script>        </div>\n",
              "</body>\n",
              "</html>"
            ]
          },
          "metadata": {},
          "output_type": "display_data"
        }
      ],
      "source": [
        "fig.add_trace(object_1)\n",
        "fig.add_trace(object_2)\n",
        "fig.add_trace(object_3)"
      ]
    },
    {
      "cell_type": "markdown",
      "metadata": {
        "id": "hbcQFhbRpH4q"
      },
      "source": [
        "หรือหากจะวาดเส้นตรงเพิ่มเข้าไปในกราฟเอง ก็ย่อมทำได้ ก็ทำได้ในลักษณะเดียวกัน แต่คราวนี้ จะเขียนรวบในคำสั่งเดียว\n",
        "\n",
        "สมมติต้องการเติมเส้นตรงที่ลากตามลำดับพิกัด `(0,6) -> (1.5,7.5)` ตามลำดับ จะเขียนโค้ดได้ดังนี้"
      ]
    },
    {
      "cell_type": "code",
      "execution_count": null,
      "metadata": {
        "colab": {
          "base_uri": "https://localhost:8080/",
          "height": 542
        },
        "id": "k19TnurNpTcr",
        "outputId": "4c3725af-d31a-4af1-d8ce-4c9643a604ad"
      },
      "outputs": [
        {
          "data": {
            "text/html": [
              "<html>\n",
              "<head><meta charset=\"utf-8\" /></head>\n",
              "<body>\n",
              "    <div>            <script src=\"https://cdnjs.cloudflare.com/ajax/libs/mathjax/2.7.5/MathJax.js?config=TeX-AMS-MML_SVG\"></script><script type=\"text/javascript\">if (window.MathJax && window.MathJax.Hub && window.MathJax.Hub.Config) {window.MathJax.Hub.Config({SVG: {font: \"STIX-Web\"}});}</script>                <script type=\"text/javascript\">window.PlotlyConfig = {MathJaxConfig: 'local'};</script>\n",
              "        <script charset=\"utf-8\" src=\"https://cdn.plot.ly/plotly-2.24.1.min.js\"></script>                <div id=\"df592cee-f271-477e-8965-654f59ffca7d\" class=\"plotly-graph-div\" style=\"height:525px; width:100%;\"></div>            <script type=\"text/javascript\">                                    window.PLOTLYENV=window.PLOTLYENV || {};                                    if (document.getElementById(\"df592cee-f271-477e-8965-654f59ffca7d\")) {                    Plotly.newPlot(                        \"df592cee-f271-477e-8965-654f59ffca7d\",                        [{\"mode\":\"markers\",\"name\":\"Setosa\",\"x\":[0.2,0.2,0.2,0.2,0.2,0.4,0.3,0.2,0.2,0.1,0.2,0.2,0.1,0.1,0.2,0.4,0.4,0.3,0.3,0.3,0.2,0.4,0.2,0.5,0.2,0.2,0.4,0.2,0.2,0.2,0.2,0.4,0.1,0.2,0.1,0.2,0.2,0.1,0.2,0.2,0.3,0.3,0.2,0.6,0.4,0.3,0.2,0.2,0.2,0.2],\"y\":[5.1,4.9,4.7,4.6,5.0,5.4,4.6,5.0,4.4,4.9,5.4,4.8,4.8,4.3,5.8,5.7,5.4,5.1,5.7,5.1,5.4,5.1,4.6,5.1,4.8,5.0,5.0,5.2,5.2,4.7,4.8,5.4,5.2,5.5,4.9,5.0,5.5,4.9,4.4,5.1,5.0,4.5,4.4,5.0,5.1,4.8,5.1,4.6,5.3,5.0],\"type\":\"scatter\"},{\"mode\":\"markers\",\"name\":\"Virginica\",\"x\":[2.5,1.9,2.1,1.8,2.2,2.1,1.7,1.8,1.8,2.5,2.0,1.9,2.1,2.0,2.4,2.3,1.8,2.2,2.3,1.5,2.3,2.0,2.0,1.8,2.1,1.8,1.8,1.8,2.1,1.6,1.9,2.0,2.2,1.5,1.4,2.3,2.4,1.8,1.8,2.1,2.4,2.3,1.9,2.3,2.5,2.3,1.9,2.0,2.3,1.8],\"y\":[6.3,5.8,7.1,6.3,6.5,7.6,4.9,7.3,6.7,7.2,6.5,6.4,6.8,5.7,5.8,6.4,6.5,7.7,7.7,6.0,6.9,5.6,7.7,6.3,6.7,7.2,6.2,6.1,6.4,7.2,7.4,7.9,6.4,6.3,6.1,7.7,6.3,6.4,6.0,6.9,6.7,6.9,5.8,6.8,6.7,6.7,6.3,6.5,6.2,5.9],\"type\":\"scatter\"},{\"mode\":\"markers\",\"name\":\"Versicolor\",\"x\":[1.4,1.5,1.5,1.3,1.5,1.3,1.6,1.0,1.3,1.4,1.0,1.5,1.0,1.4,1.3,1.4,1.5,1.0,1.5,1.1,1.8,1.3,1.5,1.2,1.3,1.4,1.4,1.7,1.5,1.0,1.1,1.0,1.2,1.6,1.5,1.6,1.5,1.3,1.3,1.3,1.2,1.4,1.2,1.0,1.3,1.2,1.3,1.3,1.1,1.3],\"y\":[7.0,6.4,6.9,5.5,6.5,5.7,6.3,4.9,6.6,5.2,5.0,5.9,6.0,6.1,5.6,6.7,5.6,5.8,6.2,5.6,5.9,6.1,6.3,6.1,6.4,6.6,6.8,6.7,6.0,5.7,5.5,5.5,5.8,6.0,5.4,6.0,6.7,6.3,5.6,5.5,5.5,6.1,5.8,5.0,5.6,5.7,5.7,6.2,5.1,5.7],\"type\":\"scatter\"},{\"line\":{\"color\":\"gray\"},\"mode\":\"lines\",\"showlegend\":false,\"x\":[0,1.5],\"y\":[6,7.5],\"type\":\"scatter\"}],                        {\"template\":{\"data\":{\"histogram2dcontour\":[{\"type\":\"histogram2dcontour\",\"colorbar\":{\"outlinewidth\":0,\"ticks\":\"\"},\"colorscale\":[[0.0,\"#0d0887\"],[0.1111111111111111,\"#46039f\"],[0.2222222222222222,\"#7201a8\"],[0.3333333333333333,\"#9c179e\"],[0.4444444444444444,\"#bd3786\"],[0.5555555555555556,\"#d8576b\"],[0.6666666666666666,\"#ed7953\"],[0.7777777777777778,\"#fb9f3a\"],[0.8888888888888888,\"#fdca26\"],[1.0,\"#f0f921\"]]}],\"choropleth\":[{\"type\":\"choropleth\",\"colorbar\":{\"outlinewidth\":0,\"ticks\":\"\"}}],\"histogram2d\":[{\"type\":\"histogram2d\",\"colorbar\":{\"outlinewidth\":0,\"ticks\":\"\"},\"colorscale\":[[0.0,\"#0d0887\"],[0.1111111111111111,\"#46039f\"],[0.2222222222222222,\"#7201a8\"],[0.3333333333333333,\"#9c179e\"],[0.4444444444444444,\"#bd3786\"],[0.5555555555555556,\"#d8576b\"],[0.6666666666666666,\"#ed7953\"],[0.7777777777777778,\"#fb9f3a\"],[0.8888888888888888,\"#fdca26\"],[1.0,\"#f0f921\"]]}],\"heatmap\":[{\"type\":\"heatmap\",\"colorbar\":{\"outlinewidth\":0,\"ticks\":\"\"},\"colorscale\":[[0.0,\"#0d0887\"],[0.1111111111111111,\"#46039f\"],[0.2222222222222222,\"#7201a8\"],[0.3333333333333333,\"#9c179e\"],[0.4444444444444444,\"#bd3786\"],[0.5555555555555556,\"#d8576b\"],[0.6666666666666666,\"#ed7953\"],[0.7777777777777778,\"#fb9f3a\"],[0.8888888888888888,\"#fdca26\"],[1.0,\"#f0f921\"]]}],\"heatmapgl\":[{\"type\":\"heatmapgl\",\"colorbar\":{\"outlinewidth\":0,\"ticks\":\"\"},\"colorscale\":[[0.0,\"#0d0887\"],[0.1111111111111111,\"#46039f\"],[0.2222222222222222,\"#7201a8\"],[0.3333333333333333,\"#9c179e\"],[0.4444444444444444,\"#bd3786\"],[0.5555555555555556,\"#d8576b\"],[0.6666666666666666,\"#ed7953\"],[0.7777777777777778,\"#fb9f3a\"],[0.8888888888888888,\"#fdca26\"],[1.0,\"#f0f921\"]]}],\"contourcarpet\":[{\"type\":\"contourcarpet\",\"colorbar\":{\"outlinewidth\":0,\"ticks\":\"\"}}],\"contour\":[{\"type\":\"contour\",\"colorbar\":{\"outlinewidth\":0,\"ticks\":\"\"},\"colorscale\":[[0.0,\"#0d0887\"],[0.1111111111111111,\"#46039f\"],[0.2222222222222222,\"#7201a8\"],[0.3333333333333333,\"#9c179e\"],[0.4444444444444444,\"#bd3786\"],[0.5555555555555556,\"#d8576b\"],[0.6666666666666666,\"#ed7953\"],[0.7777777777777778,\"#fb9f3a\"],[0.8888888888888888,\"#fdca26\"],[1.0,\"#f0f921\"]]}],\"surface\":[{\"type\":\"surface\",\"colorbar\":{\"outlinewidth\":0,\"ticks\":\"\"},\"colorscale\":[[0.0,\"#0d0887\"],[0.1111111111111111,\"#46039f\"],[0.2222222222222222,\"#7201a8\"],[0.3333333333333333,\"#9c179e\"],[0.4444444444444444,\"#bd3786\"],[0.5555555555555556,\"#d8576b\"],[0.6666666666666666,\"#ed7953\"],[0.7777777777777778,\"#fb9f3a\"],[0.8888888888888888,\"#fdca26\"],[1.0,\"#f0f921\"]]}],\"mesh3d\":[{\"type\":\"mesh3d\",\"colorbar\":{\"outlinewidth\":0,\"ticks\":\"\"}}],\"scatter\":[{\"fillpattern\":{\"fillmode\":\"overlay\",\"size\":10,\"solidity\":0.2},\"type\":\"scatter\"}],\"parcoords\":[{\"type\":\"parcoords\",\"line\":{\"colorbar\":{\"outlinewidth\":0,\"ticks\":\"\"}}}],\"scatterpolargl\":[{\"type\":\"scatterpolargl\",\"marker\":{\"colorbar\":{\"outlinewidth\":0,\"ticks\":\"\"}}}],\"bar\":[{\"error_x\":{\"color\":\"#2a3f5f\"},\"error_y\":{\"color\":\"#2a3f5f\"},\"marker\":{\"line\":{\"color\":\"#E5ECF6\",\"width\":0.5},\"pattern\":{\"fillmode\":\"overlay\",\"size\":10,\"solidity\":0.2}},\"type\":\"bar\"}],\"scattergeo\":[{\"type\":\"scattergeo\",\"marker\":{\"colorbar\":{\"outlinewidth\":0,\"ticks\":\"\"}}}],\"scatterpolar\":[{\"type\":\"scatterpolar\",\"marker\":{\"colorbar\":{\"outlinewidth\":0,\"ticks\":\"\"}}}],\"histogram\":[{\"marker\":{\"pattern\":{\"fillmode\":\"overlay\",\"size\":10,\"solidity\":0.2}},\"type\":\"histogram\"}],\"scattergl\":[{\"type\":\"scattergl\",\"marker\":{\"colorbar\":{\"outlinewidth\":0,\"ticks\":\"\"}}}],\"scatter3d\":[{\"type\":\"scatter3d\",\"line\":{\"colorbar\":{\"outlinewidth\":0,\"ticks\":\"\"}},\"marker\":{\"colorbar\":{\"outlinewidth\":0,\"ticks\":\"\"}}}],\"scattermapbox\":[{\"type\":\"scattermapbox\",\"marker\":{\"colorbar\":{\"outlinewidth\":0,\"ticks\":\"\"}}}],\"scatterternary\":[{\"type\":\"scatterternary\",\"marker\":{\"colorbar\":{\"outlinewidth\":0,\"ticks\":\"\"}}}],\"scattercarpet\":[{\"type\":\"scattercarpet\",\"marker\":{\"colorbar\":{\"outlinewidth\":0,\"ticks\":\"\"}}}],\"carpet\":[{\"aaxis\":{\"endlinecolor\":\"#2a3f5f\",\"gridcolor\":\"white\",\"linecolor\":\"white\",\"minorgridcolor\":\"white\",\"startlinecolor\":\"#2a3f5f\"},\"baxis\":{\"endlinecolor\":\"#2a3f5f\",\"gridcolor\":\"white\",\"linecolor\":\"white\",\"minorgridcolor\":\"white\",\"startlinecolor\":\"#2a3f5f\"},\"type\":\"carpet\"}],\"table\":[{\"cells\":{\"fill\":{\"color\":\"#EBF0F8\"},\"line\":{\"color\":\"white\"}},\"header\":{\"fill\":{\"color\":\"#C8D4E3\"},\"line\":{\"color\":\"white\"}},\"type\":\"table\"}],\"barpolar\":[{\"marker\":{\"line\":{\"color\":\"#E5ECF6\",\"width\":0.5},\"pattern\":{\"fillmode\":\"overlay\",\"size\":10,\"solidity\":0.2}},\"type\":\"barpolar\"}],\"pie\":[{\"automargin\":true,\"type\":\"pie\"}]},\"layout\":{\"autotypenumbers\":\"strict\",\"colorway\":[\"#636efa\",\"#EF553B\",\"#00cc96\",\"#ab63fa\",\"#FFA15A\",\"#19d3f3\",\"#FF6692\",\"#B6E880\",\"#FF97FF\",\"#FECB52\"],\"font\":{\"color\":\"#2a3f5f\"},\"hovermode\":\"closest\",\"hoverlabel\":{\"align\":\"left\"},\"paper_bgcolor\":\"white\",\"plot_bgcolor\":\"#E5ECF6\",\"polar\":{\"bgcolor\":\"#E5ECF6\",\"angularaxis\":{\"gridcolor\":\"white\",\"linecolor\":\"white\",\"ticks\":\"\"},\"radialaxis\":{\"gridcolor\":\"white\",\"linecolor\":\"white\",\"ticks\":\"\"}},\"ternary\":{\"bgcolor\":\"#E5ECF6\",\"aaxis\":{\"gridcolor\":\"white\",\"linecolor\":\"white\",\"ticks\":\"\"},\"baxis\":{\"gridcolor\":\"white\",\"linecolor\":\"white\",\"ticks\":\"\"},\"caxis\":{\"gridcolor\":\"white\",\"linecolor\":\"white\",\"ticks\":\"\"}},\"coloraxis\":{\"colorbar\":{\"outlinewidth\":0,\"ticks\":\"\"}},\"colorscale\":{\"sequential\":[[0.0,\"#0d0887\"],[0.1111111111111111,\"#46039f\"],[0.2222222222222222,\"#7201a8\"],[0.3333333333333333,\"#9c179e\"],[0.4444444444444444,\"#bd3786\"],[0.5555555555555556,\"#d8576b\"],[0.6666666666666666,\"#ed7953\"],[0.7777777777777778,\"#fb9f3a\"],[0.8888888888888888,\"#fdca26\"],[1.0,\"#f0f921\"]],\"sequentialminus\":[[0.0,\"#0d0887\"],[0.1111111111111111,\"#46039f\"],[0.2222222222222222,\"#7201a8\"],[0.3333333333333333,\"#9c179e\"],[0.4444444444444444,\"#bd3786\"],[0.5555555555555556,\"#d8576b\"],[0.6666666666666666,\"#ed7953\"],[0.7777777777777778,\"#fb9f3a\"],[0.8888888888888888,\"#fdca26\"],[1.0,\"#f0f921\"]],\"diverging\":[[0,\"#8e0152\"],[0.1,\"#c51b7d\"],[0.2,\"#de77ae\"],[0.3,\"#f1b6da\"],[0.4,\"#fde0ef\"],[0.5,\"#f7f7f7\"],[0.6,\"#e6f5d0\"],[0.7,\"#b8e186\"],[0.8,\"#7fbc41\"],[0.9,\"#4d9221\"],[1,\"#276419\"]]},\"xaxis\":{\"gridcolor\":\"white\",\"linecolor\":\"white\",\"ticks\":\"\",\"title\":{\"standoff\":15},\"zerolinecolor\":\"white\",\"automargin\":true,\"zerolinewidth\":2},\"yaxis\":{\"gridcolor\":\"white\",\"linecolor\":\"white\",\"ticks\":\"\",\"title\":{\"standoff\":15},\"zerolinecolor\":\"white\",\"automargin\":true,\"zerolinewidth\":2},\"scene\":{\"xaxis\":{\"backgroundcolor\":\"#E5ECF6\",\"gridcolor\":\"white\",\"linecolor\":\"white\",\"showbackground\":true,\"ticks\":\"\",\"zerolinecolor\":\"white\",\"gridwidth\":2},\"yaxis\":{\"backgroundcolor\":\"#E5ECF6\",\"gridcolor\":\"white\",\"linecolor\":\"white\",\"showbackground\":true,\"ticks\":\"\",\"zerolinecolor\":\"white\",\"gridwidth\":2},\"zaxis\":{\"backgroundcolor\":\"#E5ECF6\",\"gridcolor\":\"white\",\"linecolor\":\"white\",\"showbackground\":true,\"ticks\":\"\",\"zerolinecolor\":\"white\",\"gridwidth\":2}},\"shapedefaults\":{\"line\":{\"color\":\"#2a3f5f\"}},\"annotationdefaults\":{\"arrowcolor\":\"#2a3f5f\",\"arrowhead\":0,\"arrowwidth\":1},\"geo\":{\"bgcolor\":\"white\",\"landcolor\":\"#E5ECF6\",\"subunitcolor\":\"white\",\"showland\":true,\"showlakes\":true,\"lakecolor\":\"white\"},\"title\":{\"x\":0.05},\"mapbox\":{\"style\":\"light\"}}}},                        {\"responsive\": true}                    ).then(function(){\n",
              "                            \n",
              "var gd = document.getElementById('df592cee-f271-477e-8965-654f59ffca7d');\n",
              "var x = new MutationObserver(function (mutations, observer) {{\n",
              "        var display = window.getComputedStyle(gd).display;\n",
              "        if (!display || display === 'none') {{\n",
              "            console.log([gd, 'removed!']);\n",
              "            Plotly.purge(gd);\n",
              "            observer.disconnect();\n",
              "        }}\n",
              "}});\n",
              "\n",
              "// Listen for the removal of the full notebook cells\n",
              "var notebookContainer = gd.closest('#notebook-container');\n",
              "if (notebookContainer) {{\n",
              "    x.observe(notebookContainer, {childList: true});\n",
              "}}\n",
              "\n",
              "// Listen for the clearing of the current output cell\n",
              "var outputEl = gd.closest('.output');\n",
              "if (outputEl) {{\n",
              "    x.observe(outputEl, {childList: true});\n",
              "}}\n",
              "\n",
              "                        })                };                            </script>        </div>\n",
              "</body>\n",
              "</html>"
            ]
          },
          "metadata": {},
          "output_type": "display_data"
        }
      ],
      "source": [
        "fig.add_trace(\n",
        "      go.Scatter(x=[0, 1.5],\n",
        "                 y=[6, 7.5],\n",
        "                 mode=\"lines\",\n",
        "                 line=go.scatter.Line(color=\"gray\"), # สีเส้น\n",
        "                 showlegend=False  # ไม่ต้องแสดงชื่อเส้น\n",
        "      )\n",
        ")"
      ]
    },
    {
      "cell_type": "markdown",
      "metadata": {
        "id": "rFYGQdnauH15"
      },
      "source": [
        "**Step 4:** แก้ไขภาพรูปลักษณ์ด้านนอกของกราฟ\n",
        "\n",
        "ใช้ `fig.update_layout()` ในการกำหนดค่าต่าง ๆ ดังตัวอย่างต่อไปนี้\n",
        "\n"
      ]
    },
    {
      "cell_type": "code",
      "execution_count": null,
      "metadata": {
        "colab": {
          "base_uri": "https://localhost:8080/",
          "height": 542
        },
        "id": "Kyqje0NFuQHK",
        "outputId": "5011682a-c458-4d8c-d5f2-45eefbfd7705"
      },
      "outputs": [
        {
          "data": {
            "text/html": [
              "<html>\n",
              "<head><meta charset=\"utf-8\" /></head>\n",
              "<body>\n",
              "    <div>            <script src=\"https://cdnjs.cloudflare.com/ajax/libs/mathjax/2.7.5/MathJax.js?config=TeX-AMS-MML_SVG\"></script><script type=\"text/javascript\">if (window.MathJax && window.MathJax.Hub && window.MathJax.Hub.Config) {window.MathJax.Hub.Config({SVG: {font: \"STIX-Web\"}});}</script>                <script type=\"text/javascript\">window.PlotlyConfig = {MathJaxConfig: 'local'};</script>\n",
              "        <script charset=\"utf-8\" src=\"https://cdn.plot.ly/plotly-2.24.1.min.js\"></script>                <div id=\"c1c9a1bf-651c-40f2-8bea-271f27610a34\" class=\"plotly-graph-div\" style=\"height:525px; width:100%;\"></div>            <script type=\"text/javascript\">                                    window.PLOTLYENV=window.PLOTLYENV || {};                                    if (document.getElementById(\"c1c9a1bf-651c-40f2-8bea-271f27610a34\")) {                    Plotly.newPlot(                        \"c1c9a1bf-651c-40f2-8bea-271f27610a34\",                        [{\"mode\":\"markers\",\"name\":\"Setosa\",\"x\":[0.2,0.2,0.2,0.2,0.2,0.4,0.3,0.2,0.2,0.1,0.2,0.2,0.1,0.1,0.2,0.4,0.4,0.3,0.3,0.3,0.2,0.4,0.2,0.5,0.2,0.2,0.4,0.2,0.2,0.2,0.2,0.4,0.1,0.2,0.1,0.2,0.2,0.1,0.2,0.2,0.3,0.3,0.2,0.6,0.4,0.3,0.2,0.2,0.2,0.2],\"y\":[5.1,4.9,4.7,4.6,5.0,5.4,4.6,5.0,4.4,4.9,5.4,4.8,4.8,4.3,5.8,5.7,5.4,5.1,5.7,5.1,5.4,5.1,4.6,5.1,4.8,5.0,5.0,5.2,5.2,4.7,4.8,5.4,5.2,5.5,4.9,5.0,5.5,4.9,4.4,5.1,5.0,4.5,4.4,5.0,5.1,4.8,5.1,4.6,5.3,5.0],\"type\":\"scatter\"},{\"mode\":\"markers\",\"name\":\"Virginica\",\"x\":[2.5,1.9,2.1,1.8,2.2,2.1,1.7,1.8,1.8,2.5,2.0,1.9,2.1,2.0,2.4,2.3,1.8,2.2,2.3,1.5,2.3,2.0,2.0,1.8,2.1,1.8,1.8,1.8,2.1,1.6,1.9,2.0,2.2,1.5,1.4,2.3,2.4,1.8,1.8,2.1,2.4,2.3,1.9,2.3,2.5,2.3,1.9,2.0,2.3,1.8],\"y\":[6.3,5.8,7.1,6.3,6.5,7.6,4.9,7.3,6.7,7.2,6.5,6.4,6.8,5.7,5.8,6.4,6.5,7.7,7.7,6.0,6.9,5.6,7.7,6.3,6.7,7.2,6.2,6.1,6.4,7.2,7.4,7.9,6.4,6.3,6.1,7.7,6.3,6.4,6.0,6.9,6.7,6.9,5.8,6.8,6.7,6.7,6.3,6.5,6.2,5.9],\"type\":\"scatter\"},{\"mode\":\"markers\",\"name\":\"Versicolor\",\"x\":[1.4,1.5,1.5,1.3,1.5,1.3,1.6,1.0,1.3,1.4,1.0,1.5,1.0,1.4,1.3,1.4,1.5,1.0,1.5,1.1,1.8,1.3,1.5,1.2,1.3,1.4,1.4,1.7,1.5,1.0,1.1,1.0,1.2,1.6,1.5,1.6,1.5,1.3,1.3,1.3,1.2,1.4,1.2,1.0,1.3,1.2,1.3,1.3,1.1,1.3],\"y\":[7.0,6.4,6.9,5.5,6.5,5.7,6.3,4.9,6.6,5.2,5.0,5.9,6.0,6.1,5.6,6.7,5.6,5.8,6.2,5.6,5.9,6.1,6.3,6.1,6.4,6.6,6.8,6.7,6.0,5.7,5.5,5.5,5.8,6.0,5.4,6.0,6.7,6.3,5.6,5.5,5.5,6.1,5.8,5.0,5.6,5.7,5.7,6.2,5.1,5.7],\"type\":\"scatter\"},{\"line\":{\"color\":\"gray\"},\"mode\":\"lines\",\"showlegend\":false,\"x\":[0,1.5],\"y\":[6,7.5],\"type\":\"scatter\"}],                        {\"template\":{\"data\":{\"histogram2dcontour\":[{\"type\":\"histogram2dcontour\",\"colorbar\":{\"outlinewidth\":0,\"ticks\":\"\"},\"colorscale\":[[0.0,\"#0d0887\"],[0.1111111111111111,\"#46039f\"],[0.2222222222222222,\"#7201a8\"],[0.3333333333333333,\"#9c179e\"],[0.4444444444444444,\"#bd3786\"],[0.5555555555555556,\"#d8576b\"],[0.6666666666666666,\"#ed7953\"],[0.7777777777777778,\"#fb9f3a\"],[0.8888888888888888,\"#fdca26\"],[1.0,\"#f0f921\"]]}],\"choropleth\":[{\"type\":\"choropleth\",\"colorbar\":{\"outlinewidth\":0,\"ticks\":\"\"}}],\"histogram2d\":[{\"type\":\"histogram2d\",\"colorbar\":{\"outlinewidth\":0,\"ticks\":\"\"},\"colorscale\":[[0.0,\"#0d0887\"],[0.1111111111111111,\"#46039f\"],[0.2222222222222222,\"#7201a8\"],[0.3333333333333333,\"#9c179e\"],[0.4444444444444444,\"#bd3786\"],[0.5555555555555556,\"#d8576b\"],[0.6666666666666666,\"#ed7953\"],[0.7777777777777778,\"#fb9f3a\"],[0.8888888888888888,\"#fdca26\"],[1.0,\"#f0f921\"]]}],\"heatmap\":[{\"type\":\"heatmap\",\"colorbar\":{\"outlinewidth\":0,\"ticks\":\"\"},\"colorscale\":[[0.0,\"#0d0887\"],[0.1111111111111111,\"#46039f\"],[0.2222222222222222,\"#7201a8\"],[0.3333333333333333,\"#9c179e\"],[0.4444444444444444,\"#bd3786\"],[0.5555555555555556,\"#d8576b\"],[0.6666666666666666,\"#ed7953\"],[0.7777777777777778,\"#fb9f3a\"],[0.8888888888888888,\"#fdca26\"],[1.0,\"#f0f921\"]]}],\"heatmapgl\":[{\"type\":\"heatmapgl\",\"colorbar\":{\"outlinewidth\":0,\"ticks\":\"\"},\"colorscale\":[[0.0,\"#0d0887\"],[0.1111111111111111,\"#46039f\"],[0.2222222222222222,\"#7201a8\"],[0.3333333333333333,\"#9c179e\"],[0.4444444444444444,\"#bd3786\"],[0.5555555555555556,\"#d8576b\"],[0.6666666666666666,\"#ed7953\"],[0.7777777777777778,\"#fb9f3a\"],[0.8888888888888888,\"#fdca26\"],[1.0,\"#f0f921\"]]}],\"contourcarpet\":[{\"type\":\"contourcarpet\",\"colorbar\":{\"outlinewidth\":0,\"ticks\":\"\"}}],\"contour\":[{\"type\":\"contour\",\"colorbar\":{\"outlinewidth\":0,\"ticks\":\"\"},\"colorscale\":[[0.0,\"#0d0887\"],[0.1111111111111111,\"#46039f\"],[0.2222222222222222,\"#7201a8\"],[0.3333333333333333,\"#9c179e\"],[0.4444444444444444,\"#bd3786\"],[0.5555555555555556,\"#d8576b\"],[0.6666666666666666,\"#ed7953\"],[0.7777777777777778,\"#fb9f3a\"],[0.8888888888888888,\"#fdca26\"],[1.0,\"#f0f921\"]]}],\"surface\":[{\"type\":\"surface\",\"colorbar\":{\"outlinewidth\":0,\"ticks\":\"\"},\"colorscale\":[[0.0,\"#0d0887\"],[0.1111111111111111,\"#46039f\"],[0.2222222222222222,\"#7201a8\"],[0.3333333333333333,\"#9c179e\"],[0.4444444444444444,\"#bd3786\"],[0.5555555555555556,\"#d8576b\"],[0.6666666666666666,\"#ed7953\"],[0.7777777777777778,\"#fb9f3a\"],[0.8888888888888888,\"#fdca26\"],[1.0,\"#f0f921\"]]}],\"mesh3d\":[{\"type\":\"mesh3d\",\"colorbar\":{\"outlinewidth\":0,\"ticks\":\"\"}}],\"scatter\":[{\"fillpattern\":{\"fillmode\":\"overlay\",\"size\":10,\"solidity\":0.2},\"type\":\"scatter\"}],\"parcoords\":[{\"type\":\"parcoords\",\"line\":{\"colorbar\":{\"outlinewidth\":0,\"ticks\":\"\"}}}],\"scatterpolargl\":[{\"type\":\"scatterpolargl\",\"marker\":{\"colorbar\":{\"outlinewidth\":0,\"ticks\":\"\"}}}],\"bar\":[{\"error_x\":{\"color\":\"#2a3f5f\"},\"error_y\":{\"color\":\"#2a3f5f\"},\"marker\":{\"line\":{\"color\":\"#E5ECF6\",\"width\":0.5},\"pattern\":{\"fillmode\":\"overlay\",\"size\":10,\"solidity\":0.2}},\"type\":\"bar\"}],\"scattergeo\":[{\"type\":\"scattergeo\",\"marker\":{\"colorbar\":{\"outlinewidth\":0,\"ticks\":\"\"}}}],\"scatterpolar\":[{\"type\":\"scatterpolar\",\"marker\":{\"colorbar\":{\"outlinewidth\":0,\"ticks\":\"\"}}}],\"histogram\":[{\"marker\":{\"pattern\":{\"fillmode\":\"overlay\",\"size\":10,\"solidity\":0.2}},\"type\":\"histogram\"}],\"scattergl\":[{\"type\":\"scattergl\",\"marker\":{\"colorbar\":{\"outlinewidth\":0,\"ticks\":\"\"}}}],\"scatter3d\":[{\"type\":\"scatter3d\",\"line\":{\"colorbar\":{\"outlinewidth\":0,\"ticks\":\"\"}},\"marker\":{\"colorbar\":{\"outlinewidth\":0,\"ticks\":\"\"}}}],\"scattermapbox\":[{\"type\":\"scattermapbox\",\"marker\":{\"colorbar\":{\"outlinewidth\":0,\"ticks\":\"\"}}}],\"scatterternary\":[{\"type\":\"scatterternary\",\"marker\":{\"colorbar\":{\"outlinewidth\":0,\"ticks\":\"\"}}}],\"scattercarpet\":[{\"type\":\"scattercarpet\",\"marker\":{\"colorbar\":{\"outlinewidth\":0,\"ticks\":\"\"}}}],\"carpet\":[{\"aaxis\":{\"endlinecolor\":\"#2a3f5f\",\"gridcolor\":\"white\",\"linecolor\":\"white\",\"minorgridcolor\":\"white\",\"startlinecolor\":\"#2a3f5f\"},\"baxis\":{\"endlinecolor\":\"#2a3f5f\",\"gridcolor\":\"white\",\"linecolor\":\"white\",\"minorgridcolor\":\"white\",\"startlinecolor\":\"#2a3f5f\"},\"type\":\"carpet\"}],\"table\":[{\"cells\":{\"fill\":{\"color\":\"#EBF0F8\"},\"line\":{\"color\":\"white\"}},\"header\":{\"fill\":{\"color\":\"#C8D4E3\"},\"line\":{\"color\":\"white\"}},\"type\":\"table\"}],\"barpolar\":[{\"marker\":{\"line\":{\"color\":\"#E5ECF6\",\"width\":0.5},\"pattern\":{\"fillmode\":\"overlay\",\"size\":10,\"solidity\":0.2}},\"type\":\"barpolar\"}],\"pie\":[{\"automargin\":true,\"type\":\"pie\"}]},\"layout\":{\"autotypenumbers\":\"strict\",\"colorway\":[\"#636efa\",\"#EF553B\",\"#00cc96\",\"#ab63fa\",\"#FFA15A\",\"#19d3f3\",\"#FF6692\",\"#B6E880\",\"#FF97FF\",\"#FECB52\"],\"font\":{\"color\":\"#2a3f5f\"},\"hovermode\":\"closest\",\"hoverlabel\":{\"align\":\"left\"},\"paper_bgcolor\":\"white\",\"plot_bgcolor\":\"#E5ECF6\",\"polar\":{\"bgcolor\":\"#E5ECF6\",\"angularaxis\":{\"gridcolor\":\"white\",\"linecolor\":\"white\",\"ticks\":\"\"},\"radialaxis\":{\"gridcolor\":\"white\",\"linecolor\":\"white\",\"ticks\":\"\"}},\"ternary\":{\"bgcolor\":\"#E5ECF6\",\"aaxis\":{\"gridcolor\":\"white\",\"linecolor\":\"white\",\"ticks\":\"\"},\"baxis\":{\"gridcolor\":\"white\",\"linecolor\":\"white\",\"ticks\":\"\"},\"caxis\":{\"gridcolor\":\"white\",\"linecolor\":\"white\",\"ticks\":\"\"}},\"coloraxis\":{\"colorbar\":{\"outlinewidth\":0,\"ticks\":\"\"}},\"colorscale\":{\"sequential\":[[0.0,\"#0d0887\"],[0.1111111111111111,\"#46039f\"],[0.2222222222222222,\"#7201a8\"],[0.3333333333333333,\"#9c179e\"],[0.4444444444444444,\"#bd3786\"],[0.5555555555555556,\"#d8576b\"],[0.6666666666666666,\"#ed7953\"],[0.7777777777777778,\"#fb9f3a\"],[0.8888888888888888,\"#fdca26\"],[1.0,\"#f0f921\"]],\"sequentialminus\":[[0.0,\"#0d0887\"],[0.1111111111111111,\"#46039f\"],[0.2222222222222222,\"#7201a8\"],[0.3333333333333333,\"#9c179e\"],[0.4444444444444444,\"#bd3786\"],[0.5555555555555556,\"#d8576b\"],[0.6666666666666666,\"#ed7953\"],[0.7777777777777778,\"#fb9f3a\"],[0.8888888888888888,\"#fdca26\"],[1.0,\"#f0f921\"]],\"diverging\":[[0,\"#8e0152\"],[0.1,\"#c51b7d\"],[0.2,\"#de77ae\"],[0.3,\"#f1b6da\"],[0.4,\"#fde0ef\"],[0.5,\"#f7f7f7\"],[0.6,\"#e6f5d0\"],[0.7,\"#b8e186\"],[0.8,\"#7fbc41\"],[0.9,\"#4d9221\"],[1,\"#276419\"]]},\"xaxis\":{\"gridcolor\":\"white\",\"linecolor\":\"white\",\"ticks\":\"\",\"title\":{\"standoff\":15},\"zerolinecolor\":\"white\",\"automargin\":true,\"zerolinewidth\":2},\"yaxis\":{\"gridcolor\":\"white\",\"linecolor\":\"white\",\"ticks\":\"\",\"title\":{\"standoff\":15},\"zerolinecolor\":\"white\",\"automargin\":true,\"zerolinewidth\":2},\"scene\":{\"xaxis\":{\"backgroundcolor\":\"#E5ECF6\",\"gridcolor\":\"white\",\"linecolor\":\"white\",\"showbackground\":true,\"ticks\":\"\",\"zerolinecolor\":\"white\",\"gridwidth\":2},\"yaxis\":{\"backgroundcolor\":\"#E5ECF6\",\"gridcolor\":\"white\",\"linecolor\":\"white\",\"showbackground\":true,\"ticks\":\"\",\"zerolinecolor\":\"white\",\"gridwidth\":2},\"zaxis\":{\"backgroundcolor\":\"#E5ECF6\",\"gridcolor\":\"white\",\"linecolor\":\"white\",\"showbackground\":true,\"ticks\":\"\",\"zerolinecolor\":\"white\",\"gridwidth\":2}},\"shapedefaults\":{\"line\":{\"color\":\"#2a3f5f\"}},\"annotationdefaults\":{\"arrowcolor\":\"#2a3f5f\",\"arrowhead\":0,\"arrowwidth\":1},\"geo\":{\"bgcolor\":\"white\",\"landcolor\":\"#E5ECF6\",\"subunitcolor\":\"white\",\"showland\":true,\"showlakes\":true,\"lakecolor\":\"white\"},\"title\":{\"x\":0.05},\"mapbox\":{\"style\":\"light\"}}},\"title\":{\"font\":{\"size\":30},\"text\":\"\\u0e01\\u0e23\\u0e32\\u0e1f\\u0e14\\u0e2d\\u0e01\\u0e44\\u0e2d\\u0e23\\u0e34\\u0e2a\"},\"margin\":{\"l\":0,\"r\":0,\"t\":60,\"b\":0}},                        {\"responsive\": true}                    ).then(function(){\n",
              "                            \n",
              "var gd = document.getElementById('c1c9a1bf-651c-40f2-8bea-271f27610a34');\n",
              "var x = new MutationObserver(function (mutations, observer) {{\n",
              "        var display = window.getComputedStyle(gd).display;\n",
              "        if (!display || display === 'none') {{\n",
              "            console.log([gd, 'removed!']);\n",
              "            Plotly.purge(gd);\n",
              "            observer.disconnect();\n",
              "        }}\n",
              "}});\n",
              "\n",
              "// Listen for the removal of the full notebook cells\n",
              "var notebookContainer = gd.closest('#notebook-container');\n",
              "if (notebookContainer) {{\n",
              "    x.observe(notebookContainer, {childList: true});\n",
              "}}\n",
              "\n",
              "// Listen for the clearing of the current output cell\n",
              "var outputEl = gd.closest('.output');\n",
              "if (outputEl) {{\n",
              "    x.observe(outputEl, {childList: true});\n",
              "}}\n",
              "\n",
              "                        })                };                            </script>        </div>\n",
              "</body>\n",
              "</html>"
            ]
          },
          "metadata": {},
          "output_type": "display_data"
        }
      ],
      "source": [
        "fig.update_layout(title_text=\"กราฟดอกไอริส\", # ใส่ชื่อกราฟ\n",
        "                  title_font_size=30,    # ขนาดฟอนต์ชื่อกราฟ\n",
        "                  margin={'l':0, 'r':0, 't':60, 'b':0},  # ตัดขอบรูป l=left, r=right, t=top, b=bottom\n",
        ")\n",
        "fig.show()  # คำสั่งนี้ปกติจำเป็นต้องใช้เพื่อสั่งแสดงกราฟ เพียงแต่สำหรับ Google Colab โดยปกติ จะแสดงผลโดยอัตโนมัติ"
      ]
    },
    {
      "cell_type": "markdown",
      "metadata": {
        "id": "-qHsyQuJkig4"
      },
      "source": [
        "เนื่องจากหัวข้อนี้เป็นเพียงการแสดงการใช้ `plotly.graph_objects` เพียงคร่าว ๆ  เท่านั้น ดังนั้น นักศึกษาสามารถดูเพิ่มเติมได้ที่\n",
        "- การอัพเดทกราฟ https://plotly.com/python/creating-and-updating-figures/\n",
        "- การปรับขนาดกราฟ https://plotly.com/python/setting-graph-size/ เป็นต้น\n",
        "\n",
        "สำหรับในหัวข้อนี้ อย่างน้อยสิ่งที่ควรทราบเกี่ยวกับ `plotly.graph_objects` เบื้องต้นก็คือ `go.Figure()`, `go.Scatter()`, `fig.add_trace()`, และ `fig.update_layout()`\n"
      ]
    },
    {
      "cell_type": "markdown",
      "metadata": {
        "id": "8oVzSw9FxUr_"
      },
      "source": [
        "## โมเดลเชิงเส้นที่รับอินพุตมากกว่า 1 คุณลักษณะ (Multiple linear regression)\n",
        "\n",
        "ในหัวข้อที่ผ่านมา เราได้ใช้ฟังก์ชันเชิงเส้นที่รับ `petal_width` มาเพื่อทำนายค่า `sepal_length` อย่างไรก็ตาม การใช้คุณลักษณะเดียวเป็นอินพุต อาจจะไม่เพียงพอที่จะทำนายค่า `sepal_lenth` ได้ดีนัก จึงอาจพิจารณาเพิ่มมิติข้อมูลเข้ามา\n",
        "\n",
        "**<u>กรณี 2 คุณลักษณะ</u>**\n",
        "\n",
        "สมมติว่าต้องการใช้ค่า **petal_width และ petal_length ในการทำนาย sepal_length** กรณีนี้\n",
        "\n",
        "- **petal_width** เป็นตัวแปรต้นตัวที่ 1 หรือคุณลักษณะที่ 1 เขียนแทนด้วยตัวแปร $x_1$\n",
        "- **petal_length** เป็นตัวแปรต้นตัวที่ 2 หรือคุณลักษณะที่ 2 เขียนแทนด้วยตัวแปร $x_2$\n",
        "- **sepal length** เป็นตัวแปรตาม หรือเป้าหมายของการทำนาย แทนด้วยตัวแปร $y$  \n",
        "\n",
        "การที่มีอินพุตเพิ่มมีอีก 1 มิติ สมการเส้นตรงจึงจะขยายกลายเป็นระนาบ (plane) ใน 3 มิติ แทน (มิติของ $x_1, x_2, \\hat{y}$) ซึ่งมีสมการคือ\n",
        "\n",
        "$$\n",
        "f(x_1, x_2) = \\hat{y} = w_1 x_1 + w_2 x_2 + b\n",
        "$$\n",
        "\n",
        "โดยที่ $w_1$, $w_2$ และ $b$ เป็นสัมประสิทธิ์ของสมการ เราอาจมองว่า $w_1$ และ $w_2$ เป็นตัวคูณถ่วงน้ำหนักของค่าคุณลักษณะก็ได้ ซึ่งหากวาดเป็นกราฟ ก็จะคือความชันของระนาบ\n",
        "\n",
        "**<u>กรณี 3 คุณลักษณะ</u>**\n",
        "\n",
        "สมมติว่าต้องการใช้ค่า **petal_width, petal_length และ sepal_width ในการทำนาย sepal_length** กรณีนี้ก็ไม่ต่างจากกรณี 2 คุณลักษณะเท่าใด เพียงแต่เพิ่มอีก 1 มิติเข้ามาคือ sepal_width จะเป็นตัวแปรต้นตัวที่ 3 ซึ่งเมื่อนำมาเขียนสมการ ก็จะได้สมการใน 4 มิติ (มิติของ $x_1, x_2, x_3, \\hat{y}$) ซึ่งจะมีสมการคือ\n",
        "\n",
        "$$\n",
        "f(x_1, x_2, x_3) = \\hat{y} = w_1 x_1 + w_2 x_2 + w_3 x_3 + b\n",
        "$$\n",
        "โดยที่ $w_1$, $w_2$, $w_3$ และ $b$ เป็นสัมประสิทธิ์ของสมการ\n",
        "\n",
        "นักศึกษาลองคิดถึงกรณีทั่วไปดูว่า หากมี $d$ คุณลักษณะเป็นอินพุต ฟังก์ชันเชิงเส้นก็จะมีรูปสมการคือ\n",
        "\n",
        "$$\n",
        "f(x_1, x_2, ..., x_d) = \\hat{y} = w_1 x_1 + w_2 x_2 + ... + w_d x_d + b\n",
        "$$\n",
        "\n",
        "กระนั้น แม้อินพุตจะมี $d$ คุณลักษณะ แต่เอาต์พุตของการทำนายยังเป็น $\\hat{y}$ ค่าเดียว ดังนั้น การคำนวณ MSE ก็จะยังคงเหมือนเดิมกับกรณี 1 คุณลักษณะ\n",
        "\n",
        "$$\n",
        "MSE = \\frac{1}{n} \\sum_{i=1}^n (\\hat{y}^{(i)} - y^{(i)})^2\n",
        "$$\n",
        "แต่ฟังก์ชันเชิงเส้นจะเปลี่ยนเป็น $\\hat{y}^{(i)} = w_1 x_1^{(i)} + w_2 x_2^{(i)} + ... + w_d x_d^{(i)} + b$\n",
        "\n",
        "ปัญหา Linear regression ในกรณนี้ จึงเป็นปัญหาของการเลือก $w_1, w_2, ..., w_d$ และ $b$ ที่ให้ค่า MSE ต่ำที่สุด ซึ่งมักเขียนด้วยสัญลักษณ์ทางคณิตศาสตร์ ดังนี้\n",
        "\n",
        "$$\n",
        "\\min_{w_1, w_2, ..., w_n,b} \\frac{1}{n} \\sum_{i=1}^n (\\hat{y}^{(i)} - y^{(i)})^2\n",
        "$$\n",
        "\n",
        "เราเรียก Linear regression ที่รับอินพุตหลายค่า ว่า **Multiple linear regression**"
      ]
    },
    {
      "cell_type": "markdown",
      "metadata": {
        "id": "MolGfCtbfmZE"
      },
      "source": [
        "การแก้สร้างโมเดล Multiple linear regression ใน Scikit-learn ทำได้ในลักษณะเดียวกับกรณี Linear regression แบบธรรมดา (Simple linear regression) ที่ได้แสดงวิธีการไปแล้วก่อนหน้า\n",
        "\n",
        "สำหรับในส่วนต่อไป จะทดลองทำ Multiple linear regression กรณี $d=2$ ที่ต้องการทำนาย `sepal_length` จาก `petal_width` และ `petal_length`\n",
        "\n",
        "\n"
      ]
    },
    {
      "cell_type": "markdown",
      "metadata": {
        "id": "8I6L6XK8IgcN"
      },
      "source": [
        " โดยส่วนที่โค้ดนี้ ต่างจากโค้ดกรณี d=1 ที่ใช้ `petal_width` อย่างเดียวคือ แก้ `X` เป็น `X = iris[['petal_width','petal_length']]` เท่านั้น\n"
      ]
    },
    {
      "cell_type": "code",
      "execution_count": null,
      "metadata": {
        "colab": {
          "base_uri": "https://localhost:8080/"
        },
        "id": "DcF2_KKnL5zK",
        "outputId": "6362636f-03ec-4511-e743-e77e7c7081ef"
      },
      "outputs": [
        {
          "name": "stdout",
          "output_type": "stream",
          "text": [
            "Shape of training set: X_train (90, 2), y_train (90, 1)\n",
            "Shape of test set:     X_test  (60, 2),  y_test  (60, 1)\n",
            "MSE จากการทำนาย training set = 0.153\n",
            "MSE จากการทำนาย test set     = 0.170\n"
          ]
        }
      ],
      "source": [
        "from sklearn.linear_model import LinearRegression\n",
        "from sklearn.model_selection import train_test_split\n",
        "X = iris[['petal_width','petal_length']]   ##### แก้แค่บรรทัดนี้เท่านั้น\n",
        "Y = iris[['sepal_length']] # Y เป็น DataFrame\n",
        "label = iris[['class']]    # label เป็น DataFrame\n",
        "X_train, X_test, y_train, y_test = train_test_split(X, Y,\n",
        "                                                    train_size=0.6,\n",
        "                                                    stratify=labels,\n",
        "                                                    random_state=123)\n",
        "print(f'Shape of training set: X_train {X_train.shape}, y_train {y_train.shape}')\n",
        "print(f'Shape of test set:     X_test  {X_test.shape},  y_test  {y_test.shape}')\n",
        "\n",
        "# สร้างและเทรนโมเดล\n",
        "model = LinearRegression()\n",
        "model.fit(X_train, y_train)\n",
        "\n",
        "# ประสิทธิภาพกรณีทำนาย training set\n",
        "y_train_pred = model.predict(X_train)\n",
        "mse_train = mean_squared_error(y_train, y_train_pred)\n",
        "\n",
        "# ประสิทธิภาพกรณีทำนาย test set\n",
        "y_test_pred = model.predict(X_test)\n",
        "mse_test  = mean_squared_error(y_test, y_test_pred)\n",
        "\n",
        "print(f'MSE จากการทำนาย training set = {mse_train:.3f}') # เพิ่ม :.3f เข้าไปเพื่อพิมพ์ทศนิยมแค่ 3 ตำแหน่ง\n",
        "print(f'MSE จากการทำนาย test set     = {mse_test:.3f}')"
      ]
    },
    {
      "cell_type": "markdown",
      "metadata": {
        "id": "RQ5eUa3WJs36"
      },
      "source": [
        "### เลือกคุณลักษณะใดเป็นอินพุตดี\n",
        "\n",
        "ไม่ใช่ว่าทุกคุณลักษณะที่เป็นอินพุตของโมเดล จะเป็นประโยชน์ต่อการทำนาย และในหลายกรณี คุณลักษณะที่ไม่เป็นประโยชน์กลับไปลดประสิทธิภาพของโมเดลอีกด้วย ดังนั้น จึงจำเป็นต้องเลือกคุณลักษณะที่เหมาะสม ซึ่งอาจพิจารณา ดังนี้\n",
        "\n",
        "1. ขั้นแรกเลย ซึ่งควรทำเป็นอย่างแรก คือการอาศัยความรู้ (Domain knowledge) ในการตัดคุณลักษณะที่ไม่ดีออกไป\n",
        "2. ถ้าจำนวนคุณลักษณะมีไม่มาก ก็อาจลองทดสอบทุกกลุ่มย่อยของคุณลักษณะที่เป็นไปได้ทั้งหมด แล้วเปรียบเทียบค่า MSE ของแต่ละแบบ การทำแบบนี้เรียกว่า **Exhaustive search** (การค้นหาแบบทั้งหมด) ซึ่งจริง ๆ เป็นวิธีการที่ไม่ดีนักในกรณีที่มีคุณลักษณะจำนวนมาก (ใช้เวลาในการคำนวณนาน หลายล้านปีก็ยังไม่เสร็จ)\n",
        "3. ถ้าจำนวนคุณลักษณะมีมาก อาจใช้เทคนิคจำพวก Partial search ซึ่งไม่ขอกล่าวถึงในวิชานี้\n",
        "\n",
        "สำหรับโค้ดในส่วนนี้ แสดงโค้ดของการทำ Exhaustive search เพื่อเปรียบเทียบค่า MSE ของ training set\n",
        "\n"
      ]
    },
    {
      "cell_type": "code",
      "execution_count": null,
      "metadata": {
        "colab": {
          "base_uri": "https://localhost:8080/"
        },
        "id": "dHJZDV8jxbO3",
        "outputId": "d36e5c60-e73a-49cc-fb87-83bcb11f0c0f"
      },
      "outputs": [
        {
          "name": "stdout",
          "output_type": "stream",
          "text": [
            "['petal_width'] --> MSE = 0.22771068996238963\n",
            "['sepal_width'] --> MSE = 0.6973324250513978\n",
            "['petal_length'] --> MSE = 0.15742467134316898\n",
            "['petal_width', 'sepal_width'] --> MSE = 0.19787011189038234\n",
            "['petal_width', 'petal_length'] --> MSE = 0.14656578806674972\n",
            "['sepal_width', 'petal_length'] --> MSE = 0.10092447622108516\n",
            "['petal_width', 'sepal_width', 'petal_length'] --> MSE = 0.0783176388314411\n"
          ]
        }
      ],
      "source": [
        "# โค้ดส่วนนี้เหมือนเดิม\n",
        "from sklearn.linear_model import LinearRegression\n",
        "from sklearn.model_selection import train_test_split\n",
        "from sklearn.metrics import mean_squared_error\n",
        "\n",
        "iris_train, iris_test = train_test_split(iris,\n",
        "                                       train_size=0.6,\n",
        "                                       stratify=iris[['class']],\n",
        "                                       random_state=None)\n",
        "\n",
        "# รายการของชุดคุณลักษณะที่ต้องการใช้ โดยจะลองทุก combination\n",
        "columns_list = [['petal_width'],\n",
        "                ['sepal_width'],\n",
        "                ['petal_length'],\n",
        "                ['petal_width', 'sepal_width'],\n",
        "                ['petal_width', 'petal_length'],\n",
        "                ['sepal_width', 'petal_length'],\n",
        "                ['petal_width', 'sepal_width', 'petal_length']]\n",
        "\n",
        "# โค้ดเหมือนเดิม เพียงแต่ใช้ Loop ในการลองว่าชุดของคุณลักษณะที่เลือกแต่ละแบบ ให้ MSE เท่าไร\n",
        "for columns in columns_list:\n",
        "    X_train = iris_train[columns]\n",
        "    y_train = iris_train['sepal_length']\n",
        "    model = LinearRegression()\n",
        "    model.fit(X_train, y_train)\n",
        "    y_train_pred = model.predict(X_train)\n",
        "    mse_train = mean_squared_error(y_train, y_train_pred)\n",
        "    print(f'{columns} --> MSE = {mse_train}')"
      ]
    },
    {
      "cell_type": "markdown",
      "metadata": {
        "id": "AsNZ5xhqLu_c"
      },
      "source": [
        "จากผลข้างต้น จะเห็นว่า การใช้ 3 คุณลักษณะเป็นอินพุตของโมเดล จะให้ผลดีที่สุด อย่างไรก็ตาม สำหรับชุดข้อมูลอื่น ๆ ที่ไม่ใช่ดอกไอริส การใช้จำนวนคุณลักษณะมาก ๆ ไม่ได้แปลว่าจะให้ผลลัพธ์ที่ดีเสมอไป\n"
      ]
    },
    {
      "cell_type": "markdown",
      "metadata": {
        "id": "Ms6nNSUSMXns"
      },
      "source": [
        "## การ Standardize ข้อมูล หรือ Normalize ข้อมูล\n",
        "\n",
        "ทุกท่านครับ Linear regression ที่เราทำมาแต่ต้น ดูไม่ได้มีปัญหาอะไรใช่ไหมครับ แต่ที่จริงแล้ว เราได้ข้ามขั้นตอนย่อยของ Data preparation/Data preprocessing ที่สำคัญอันหนึ่งคือ **Data normalization** หรือ **Data standardization**\n",
        "\n",
        "ให้นึกถึงกรณีอื่น ๆ ที่ไม่ใช่ข้อมูลดอกไอริส โดยข้อมูลเหล่านั้น อาจมีค่าในแต่ละคอลัมน์เป็นคนละหน่วย เช่นคอลัมน์แรกอาจเป็นอายุ ซึ่งมีหน่วย ปี มีค่าในช่วง 0 - 100 ส่วนอีกคอลัมน์เป็นเงินเดือนที่มีหน่วยบาท ซึ่งอาจจะอยู่ในช่วง 10000-200000 บาท เป็นต้น การที่ค่ามีช่วงกว้างหรือแคบต่างกันแบบสุดโต่งเช่นนี้ มักจะมีผลเสียต่อการคำนวณหาค่าพารามิเตอร์ที่ดีที่สุดของโมเดล (ทำไม? ต้องเข้าใจกระบวนการหาหาค่าพารามิเตอร์ของโมเดลก่อน ซึ่งจะละไว้ก่อน)\n",
        "\n",
        "การที่จะทำให้แต่ละคอลัมน์มีช่วงของค่าเท่า ๆ กัน ทำได้หลายแบบ ได้แก่\n",
        "1. คำนวณค่าเฉลี่ย ($\\mu$) และค่าส่วนเบี่ยงเบนมาตรฐาน ($\\sigma$) ของคอลัมน์ ๆ หนึ่ง จากนั้นนำมาเข้าสูตรหา z-score\n",
        "$$\n",
        "\\frac{x - \\mu}{\\sigma}\n",
        "$$\n",
        "โดย $x$ คือค่าแต่ละค่าในคอลัมน์นั้น การปรับช่วงของข้อมูลด้วยวิธีการนี้ เรียกว่า **Data standardization** (แต่จะเรียกว่า Data normalization ก็ไม่ผิด)\n",
        "\n",
        "2. ปรับสเกลของข้อมูลให้ตกอยู่ในช่วงที่ต้องการ เช่น -1 ถึง 1 หรือ 0 ถึง 1 เป็นต้น เรียกว่า Data normalization\n",
        "\n",
        "ในส่วนต่อไปนี้ จะแสดงวิธีการทำ Standardization โดยใช้ Pandas และจากแสดงว่า Scikit-learn ก็สามารถทำ Standardization ได้เช่นกัน\n",
        "\n",
        "อย่าลืมว่า หากพิจารณา DataFrame `iris` ทั้ง 150 ดอก เราสามารถ Standardization ข้อมูลรวดเดียวทั้ง 150 ดอกได้ ซึ่งก็สะดวกดี (สามารถทำได้) แต่เพื่อที่จะเป็นตัวอย่าง เราจะไม่ทำอย่างนั้น เราจะพิจารณา training set และ test set แยกจากกัน และจะ Standardization เฉพาะคุณลักษณะที่เป็นอินพุตของโมเดลเท่านั้น ไม่ Standardization ค่าที่ต้องการทำนาย\n",
        "\n",
        "> **Note:** จะแสดงเฉพาะการทำ Standardization ส่วนการ Normalize ให้อยู่ในช่วงที่ต้องการ เช่น 0 ถึง 1 จะให้ฝึกทำเป็นการบ้าน"
      ]
    },
    {
      "cell_type": "code",
      "execution_count": null,
      "metadata": {
        "id": "oVuMYcR668h3"
      },
      "outputs": [],
      "source": [
        "from sklearn.model_selection import train_test_split\n",
        "\n",
        "X = iris[['petal_width','petal_length','sepal_width']]  # X เป็น DataFrame\n",
        "Y = iris[['sepal_length']] # Y เป็น DataFrame\n",
        "label = iris[['class']]    # label เป็น DataFrame\n",
        "X_train, X_test, y_train, y_test = train_test_split(X, Y,\n",
        "                                                    train_size=0.6,\n",
        "                                                    stratify=labels,\n",
        "                                                    random_state=123)"
      ]
    },
    {
      "cell_type": "markdown",
      "metadata": {
        "id": "ukGkr40q2MB8"
      },
      "source": [
        "### Standardization ด้วย Pandas\n",
        "\n",
        "ในตัวอย่างต่อจากนี้ จะใช้คำสั่ง `df.mean()` และ `df.std(ddof=0)` ในการคำนวณค่าเฉลี่ยและส่วนเบี่ยงเบนมาตรฐาน โดยค่า SD จะเป็นค่าของประชากร (Population SD)\n",
        "\n",
        "> **Note:** ในทางปฏิบัติ จะใช้เพียง `df.std()` ที่ให้ค่า SD ของกลุ่มตัวอย่าง (Sample SD) ก็ได้ เพราะเป้าหมายของการทำ Normalization นั้น ทำด้วยเหตุผลเพียงแค่ไม่ให้ข้อมูลกระจายตัวมากเกินไปในมิติใดมิติหนึ่ง\n",
        ">ซึ่งสาเหตุที่จะใช้ `df.std(ddof=0)` ก็เพียงเพื่อให้ผลลัพธ์จากการคำนวณด้วย Pandas ตรงกับของ Scikit-learn เท่านั้น\n",
        "\n"
      ]
    },
    {
      "cell_type": "code",
      "execution_count": null,
      "metadata": {
        "colab": {
          "base_uri": "https://localhost:8080/"
        },
        "id": "WWY8fTKoFisj",
        "outputId": "905ed894-1638-40ee-9cb9-6fcca6ed4f39"
      },
      "outputs": [
        {
          "name": "stdout",
          "output_type": "stream",
          "text": [
            "mean = [1.19111111 3.72888889 3.02333333]\n",
            "sd = [0.75345787 1.70099608 0.43231933]\n"
          ]
        }
      ],
      "source": [
        "mu = X_train.mean()\n",
        "sd = X_train.std(ddof=0)  # ถ้าใช้ ddof=0 แล้วจะได้ผล Standardization ตรงกับ Scikit-learn\n",
        "print(f'mean = {mu.values}\\nsd = {sd.values}')"
      ]
    },
    {
      "cell_type": "markdown",
      "metadata": {
        "id": "iVFm7RbHFkEy"
      },
      "source": [
        "**แบบที่ 1**"
      ]
    },
    {
      "cell_type": "code",
      "execution_count": null,
      "metadata": {
        "colab": {
          "base_uri": "https://localhost:8080/",
          "height": 423
        },
        "id": "7qivOcZz55hk",
        "outputId": "a72da352-955b-4855-803a-17defeeef453"
      },
      "outputs": [
        {
          "data": {
            "text/html": [
              "\n",
              "  <div id=\"df-88a142fb-a521-413b-80f4-0add97ec5995\" class=\"colab-df-container\">\n",
              "    <div>\n",
              "<style scoped>\n",
              "    .dataframe tbody tr th:only-of-type {\n",
              "        vertical-align: middle;\n",
              "    }\n",
              "\n",
              "    .dataframe tbody tr th {\n",
              "        vertical-align: top;\n",
              "    }\n",
              "\n",
              "    .dataframe thead th {\n",
              "        text-align: right;\n",
              "    }\n",
              "</style>\n",
              "<table border=\"1\" class=\"dataframe\">\n",
              "  <thead>\n",
              "    <tr style=\"text-align: right;\">\n",
              "      <th></th>\n",
              "      <th>petal_width</th>\n",
              "      <th>petal_length</th>\n",
              "      <th>sepal_width</th>\n",
              "    </tr>\n",
              "  </thead>\n",
              "  <tbody>\n",
              "    <tr>\n",
              "      <th>24</th>\n",
              "      <td>-1.315417</td>\n",
              "      <td>-1.075187</td>\n",
              "      <td>0.871270</td>\n",
              "    </tr>\n",
              "    <tr>\n",
              "      <th>147</th>\n",
              "      <td>1.073569</td>\n",
              "      <td>0.864853</td>\n",
              "      <td>-0.053972</td>\n",
              "    </tr>\n",
              "    <tr>\n",
              "      <th>88</th>\n",
              "      <td>0.144519</td>\n",
              "      <td>0.218173</td>\n",
              "      <td>-0.053972</td>\n",
              "    </tr>\n",
              "    <tr>\n",
              "      <th>123</th>\n",
              "      <td>0.808126</td>\n",
              "      <td>0.688485</td>\n",
              "      <td>-0.747904</td>\n",
              "    </tr>\n",
              "    <tr>\n",
              "      <th>31</th>\n",
              "      <td>-1.049974</td>\n",
              "      <td>-1.310343</td>\n",
              "      <td>0.871270</td>\n",
              "    </tr>\n",
              "    <tr>\n",
              "      <th>...</th>\n",
              "      <td>...</td>\n",
              "      <td>...</td>\n",
              "      <td>...</td>\n",
              "    </tr>\n",
              "    <tr>\n",
              "      <th>52</th>\n",
              "      <td>0.409962</td>\n",
              "      <td>0.688485</td>\n",
              "      <td>0.177338</td>\n",
              "    </tr>\n",
              "    <tr>\n",
              "      <th>41</th>\n",
              "      <td>-1.182695</td>\n",
              "      <td>-1.427922</td>\n",
              "      <td>-1.673146</td>\n",
              "    </tr>\n",
              "    <tr>\n",
              "      <th>12</th>\n",
              "      <td>-1.448138</td>\n",
              "      <td>-1.369132</td>\n",
              "      <td>-0.053972</td>\n",
              "    </tr>\n",
              "    <tr>\n",
              "      <th>20</th>\n",
              "      <td>-1.315417</td>\n",
              "      <td>-1.192765</td>\n",
              "      <td>0.871270</td>\n",
              "    </tr>\n",
              "    <tr>\n",
              "      <th>131</th>\n",
              "      <td>1.073569</td>\n",
              "      <td>1.570322</td>\n",
              "      <td>1.796512</td>\n",
              "    </tr>\n",
              "  </tbody>\n",
              "</table>\n",
              "<p>90 rows × 3 columns</p>\n",
              "</div>\n",
              "    <div class=\"colab-df-buttons\">\n",
              "\n",
              "  <div class=\"colab-df-container\">\n",
              "    <button class=\"colab-df-convert\" onclick=\"convertToInteractive('df-88a142fb-a521-413b-80f4-0add97ec5995')\"\n",
              "            title=\"Convert this dataframe to an interactive table.\"\n",
              "            style=\"display:none;\">\n",
              "\n",
              "  <svg xmlns=\"http://www.w3.org/2000/svg\" height=\"24px\" viewBox=\"0 -960 960 960\">\n",
              "    <path d=\"M120-120v-720h720v720H120Zm60-500h600v-160H180v160Zm220 220h160v-160H400v160Zm0 220h160v-160H400v160ZM180-400h160v-160H180v160Zm440 0h160v-160H620v160ZM180-180h160v-160H180v160Zm440 0h160v-160H620v160Z\"/>\n",
              "  </svg>\n",
              "    </button>\n",
              "\n",
              "  <style>\n",
              "    .colab-df-container {\n",
              "      display:flex;\n",
              "      gap: 12px;\n",
              "    }\n",
              "\n",
              "    .colab-df-convert {\n",
              "      background-color: #E8F0FE;\n",
              "      border: none;\n",
              "      border-radius: 50%;\n",
              "      cursor: pointer;\n",
              "      display: none;\n",
              "      fill: #1967D2;\n",
              "      height: 32px;\n",
              "      padding: 0 0 0 0;\n",
              "      width: 32px;\n",
              "    }\n",
              "\n",
              "    .colab-df-convert:hover {\n",
              "      background-color: #E2EBFA;\n",
              "      box-shadow: 0px 1px 2px rgba(60, 64, 67, 0.3), 0px 1px 3px 1px rgba(60, 64, 67, 0.15);\n",
              "      fill: #174EA6;\n",
              "    }\n",
              "\n",
              "    .colab-df-buttons div {\n",
              "      margin-bottom: 4px;\n",
              "    }\n",
              "\n",
              "    [theme=dark] .colab-df-convert {\n",
              "      background-color: #3B4455;\n",
              "      fill: #D2E3FC;\n",
              "    }\n",
              "\n",
              "    [theme=dark] .colab-df-convert:hover {\n",
              "      background-color: #434B5C;\n",
              "      box-shadow: 0px 1px 3px 1px rgba(0, 0, 0, 0.15);\n",
              "      filter: drop-shadow(0px 1px 2px rgba(0, 0, 0, 0.3));\n",
              "      fill: #FFFFFF;\n",
              "    }\n",
              "  </style>\n",
              "\n",
              "    <script>\n",
              "      const buttonEl =\n",
              "        document.querySelector('#df-88a142fb-a521-413b-80f4-0add97ec5995 button.colab-df-convert');\n",
              "      buttonEl.style.display =\n",
              "        google.colab.kernel.accessAllowed ? 'block' : 'none';\n",
              "\n",
              "      async function convertToInteractive(key) {\n",
              "        const element = document.querySelector('#df-88a142fb-a521-413b-80f4-0add97ec5995');\n",
              "        const dataTable =\n",
              "          await google.colab.kernel.invokeFunction('convertToInteractive',\n",
              "                                                    [key], {});\n",
              "        if (!dataTable) return;\n",
              "\n",
              "        const docLinkHtml = 'Like what you see? Visit the ' +\n",
              "          '<a target=\"_blank\" href=https://colab.research.google.com/notebooks/data_table.ipynb>data table notebook</a>'\n",
              "          + ' to learn more about interactive tables.';\n",
              "        element.innerHTML = '';\n",
              "        dataTable['output_type'] = 'display_data';\n",
              "        await google.colab.output.renderOutput(dataTable, element);\n",
              "        const docLink = document.createElement('div');\n",
              "        docLink.innerHTML = docLinkHtml;\n",
              "        element.appendChild(docLink);\n",
              "      }\n",
              "    </script>\n",
              "  </div>\n",
              "\n",
              "\n",
              "<div id=\"df-79e9a26c-84fb-48a3-bd91-1c04e6c52fb6\">\n",
              "  <button class=\"colab-df-quickchart\" onclick=\"quickchart('df-79e9a26c-84fb-48a3-bd91-1c04e6c52fb6')\"\n",
              "            title=\"Suggest charts\"\n",
              "            style=\"display:none;\">\n",
              "\n",
              "<svg xmlns=\"http://www.w3.org/2000/svg\" height=\"24px\"viewBox=\"0 0 24 24\"\n",
              "     width=\"24px\">\n",
              "    <g>\n",
              "        <path d=\"M19 3H5c-1.1 0-2 .9-2 2v14c0 1.1.9 2 2 2h14c1.1 0 2-.9 2-2V5c0-1.1-.9-2-2-2zM9 17H7v-7h2v7zm4 0h-2V7h2v10zm4 0h-2v-4h2v4z\"/>\n",
              "    </g>\n",
              "</svg>\n",
              "  </button>\n",
              "\n",
              "<style>\n",
              "  .colab-df-quickchart {\n",
              "      --bg-color: #E8F0FE;\n",
              "      --fill-color: #1967D2;\n",
              "      --hover-bg-color: #E2EBFA;\n",
              "      --hover-fill-color: #174EA6;\n",
              "      --disabled-fill-color: #AAA;\n",
              "      --disabled-bg-color: #DDD;\n",
              "  }\n",
              "\n",
              "  [theme=dark] .colab-df-quickchart {\n",
              "      --bg-color: #3B4455;\n",
              "      --fill-color: #D2E3FC;\n",
              "      --hover-bg-color: #434B5C;\n",
              "      --hover-fill-color: #FFFFFF;\n",
              "      --disabled-bg-color: #3B4455;\n",
              "      --disabled-fill-color: #666;\n",
              "  }\n",
              "\n",
              "  .colab-df-quickchart {\n",
              "    background-color: var(--bg-color);\n",
              "    border: none;\n",
              "    border-radius: 50%;\n",
              "    cursor: pointer;\n",
              "    display: none;\n",
              "    fill: var(--fill-color);\n",
              "    height: 32px;\n",
              "    padding: 0;\n",
              "    width: 32px;\n",
              "  }\n",
              "\n",
              "  .colab-df-quickchart:hover {\n",
              "    background-color: var(--hover-bg-color);\n",
              "    box-shadow: 0 1px 2px rgba(60, 64, 67, 0.3), 0 1px 3px 1px rgba(60, 64, 67, 0.15);\n",
              "    fill: var(--button-hover-fill-color);\n",
              "  }\n",
              "\n",
              "  .colab-df-quickchart-complete:disabled,\n",
              "  .colab-df-quickchart-complete:disabled:hover {\n",
              "    background-color: var(--disabled-bg-color);\n",
              "    fill: var(--disabled-fill-color);\n",
              "    box-shadow: none;\n",
              "  }\n",
              "\n",
              "  .colab-df-spinner {\n",
              "    border: 2px solid var(--fill-color);\n",
              "    border-color: transparent;\n",
              "    border-bottom-color: var(--fill-color);\n",
              "    animation:\n",
              "      spin 1s steps(1) infinite;\n",
              "  }\n",
              "\n",
              "  @keyframes spin {\n",
              "    0% {\n",
              "      border-color: transparent;\n",
              "      border-bottom-color: var(--fill-color);\n",
              "      border-left-color: var(--fill-color);\n",
              "    }\n",
              "    20% {\n",
              "      border-color: transparent;\n",
              "      border-left-color: var(--fill-color);\n",
              "      border-top-color: var(--fill-color);\n",
              "    }\n",
              "    30% {\n",
              "      border-color: transparent;\n",
              "      border-left-color: var(--fill-color);\n",
              "      border-top-color: var(--fill-color);\n",
              "      border-right-color: var(--fill-color);\n",
              "    }\n",
              "    40% {\n",
              "      border-color: transparent;\n",
              "      border-right-color: var(--fill-color);\n",
              "      border-top-color: var(--fill-color);\n",
              "    }\n",
              "    60% {\n",
              "      border-color: transparent;\n",
              "      border-right-color: var(--fill-color);\n",
              "    }\n",
              "    80% {\n",
              "      border-color: transparent;\n",
              "      border-right-color: var(--fill-color);\n",
              "      border-bottom-color: var(--fill-color);\n",
              "    }\n",
              "    90% {\n",
              "      border-color: transparent;\n",
              "      border-bottom-color: var(--fill-color);\n",
              "    }\n",
              "  }\n",
              "</style>\n",
              "\n",
              "  <script>\n",
              "    async function quickchart(key) {\n",
              "      const quickchartButtonEl =\n",
              "        document.querySelector('#' + key + ' button');\n",
              "      quickchartButtonEl.disabled = true;  // To prevent multiple clicks.\n",
              "      quickchartButtonEl.classList.add('colab-df-spinner');\n",
              "      try {\n",
              "        const charts = await google.colab.kernel.invokeFunction(\n",
              "            'suggestCharts', [key], {});\n",
              "      } catch (error) {\n",
              "        console.error('Error during call to suggestCharts:', error);\n",
              "      }\n",
              "      quickchartButtonEl.classList.remove('colab-df-spinner');\n",
              "      quickchartButtonEl.classList.add('colab-df-quickchart-complete');\n",
              "    }\n",
              "    (() => {\n",
              "      let quickchartButtonEl =\n",
              "        document.querySelector('#df-79e9a26c-84fb-48a3-bd91-1c04e6c52fb6 button');\n",
              "      quickchartButtonEl.style.display =\n",
              "        google.colab.kernel.accessAllowed ? 'block' : 'none';\n",
              "    })();\n",
              "  </script>\n",
              "</div>\n",
              "    </div>\n",
              "  </div>\n"
            ],
            "text/plain": [
              "     petal_width  petal_length  sepal_width\n",
              "24     -1.315417     -1.075187     0.871270\n",
              "147     1.073569      0.864853    -0.053972\n",
              "88      0.144519      0.218173    -0.053972\n",
              "123     0.808126      0.688485    -0.747904\n",
              "31     -1.049974     -1.310343     0.871270\n",
              "..           ...           ...          ...\n",
              "52      0.409962      0.688485     0.177338\n",
              "41     -1.182695     -1.427922    -1.673146\n",
              "12     -1.448138     -1.369132    -0.053972\n",
              "20     -1.315417     -1.192765     0.871270\n",
              "131     1.073569      1.570322     1.796512\n",
              "\n",
              "[90 rows x 3 columns]"
            ]
          },
          "execution_count": 31,
          "metadata": {},
          "output_type": "execute_result"
        }
      ],
      "source": [
        "(X_train - mu)/sd"
      ]
    },
    {
      "cell_type": "markdown",
      "metadata": {
        "id": "SDpg8zsD8ggn"
      },
      "source": [
        "ทำไมโค้ดข้างต้นเอา `X_train` ซึ่งเป็น DataFrame มีมิติ `(90,3)` มาลบกับ `X_train.mean()` และหารด้วย `X_train.std()` ซึ่งเป็น Series ที่มีมิติแค่ `(3,)` ได้ล่ะ?"
      ]
    },
    {
      "cell_type": "code",
      "execution_count": null,
      "metadata": {
        "colab": {
          "base_uri": "https://localhost:8080/"
        },
        "id": "gOH6egJO8vlp",
        "outputId": "135e89a8-4572-4f4f-e2dd-92a7b02f903c"
      },
      "outputs": [
        {
          "name": "stdout",
          "output_type": "stream",
          "text": [
            "shape of X_train = (90, 3)\n",
            "shape of X_train.mean() = (3,)\n",
            "shape of X_train.std() = (3,)\n"
          ]
        }
      ],
      "source": [
        "print(f'shape of X_train = {X_train.shape}')\n",
        "print(f'shape of X_train.mean() = {mu.shape}')\n",
        "print(f'shape of X_train.std() = {sd.shape}')"
      ]
    },
    {
      "cell_type": "markdown",
      "metadata": {
        "id": "YXWkk_QL-90g"
      },
      "source": [
        "ก็เพราะว่า `X_train.mean()` และ `X_train.std()` มี index ของ Series คือ `petal_length`, `petal_width` และ `sepal_width` ทำให้ Pandas เอามาลบได้แต่ละคอลัมน์ได้ถูกคอลัมน์\n",
        "\n",
        "หลังจาก Normalize `X_train` แล้ว เราก็สามารถ Normalize `X_test` ได้ด้วย mean และ SD ของ `X_train`\n",
        "\n",
        "```python\n",
        "(X_test - mu)/sd\n",
        "```\n",
        "\n",
        "> **คำถาม**\n",
        "> - ทำไมต้อง Normalize โดยใช้ mean และ sd ของ `X_train`? ทำไม `X_test` ไม่ใช้ mean และ sd ของมันเอง?\n",
        "> - ทำไมข้อมูล `X_train` ที่ Standardize แล้วมีค่าเฉลี่ย = 0 และ SD = 1"
      ]
    },
    {
      "cell_type": "markdown",
      "metadata": {
        "id": "nd_2QGoq_rs7"
      },
      "source": [
        "**แบบที่ 2** ใช้คำสั่ง `df.apply()`\n",
        "\n",
        "คำสั่ง `apply()` เป็นคำสั่งที่ทำให้เราสามารถเรียกใช้ฟังก์ชันที่เราสร้างขึ้นเอง มาคำนวณแต่ละคอลัมน์ของ `df` แยกจากกัน\n",
        "\n",
        "ว่าแต่นักศึกษายังจำวิธีสร้างฟังก์ชันในภาษา Python ได้ไหม? ถ้าพอนึกออก มาดูตัวอย่างการใช้ `df.apply()` กันเลย"
      ]
    },
    {
      "cell_type": "code",
      "execution_count": null,
      "metadata": {
        "colab": {
          "base_uri": "https://localhost:8080/",
          "height": 423
        },
        "id": "HuH7LJMd2a4j",
        "outputId": "9660dca8-f408-4477-fbae-9f6e02cfdf59"
      },
      "outputs": [
        {
          "data": {
            "text/html": [
              "\n",
              "  <div id=\"df-a99841a7-0ddf-478a-a30f-a4a379f63cf8\" class=\"colab-df-container\">\n",
              "    <div>\n",
              "<style scoped>\n",
              "    .dataframe tbody tr th:only-of-type {\n",
              "        vertical-align: middle;\n",
              "    }\n",
              "\n",
              "    .dataframe tbody tr th {\n",
              "        vertical-align: top;\n",
              "    }\n",
              "\n",
              "    .dataframe thead th {\n",
              "        text-align: right;\n",
              "    }\n",
              "</style>\n",
              "<table border=\"1\" class=\"dataframe\">\n",
              "  <thead>\n",
              "    <tr style=\"text-align: right;\">\n",
              "      <th></th>\n",
              "      <th>petal_width</th>\n",
              "      <th>petal_length</th>\n",
              "      <th>sepal_width</th>\n",
              "    </tr>\n",
              "  </thead>\n",
              "  <tbody>\n",
              "    <tr>\n",
              "      <th>24</th>\n",
              "      <td>-1.315417</td>\n",
              "      <td>-1.075187</td>\n",
              "      <td>0.871270</td>\n",
              "    </tr>\n",
              "    <tr>\n",
              "      <th>147</th>\n",
              "      <td>1.073569</td>\n",
              "      <td>0.864853</td>\n",
              "      <td>-0.053972</td>\n",
              "    </tr>\n",
              "    <tr>\n",
              "      <th>88</th>\n",
              "      <td>0.144519</td>\n",
              "      <td>0.218173</td>\n",
              "      <td>-0.053972</td>\n",
              "    </tr>\n",
              "    <tr>\n",
              "      <th>123</th>\n",
              "      <td>0.808126</td>\n",
              "      <td>0.688485</td>\n",
              "      <td>-0.747904</td>\n",
              "    </tr>\n",
              "    <tr>\n",
              "      <th>31</th>\n",
              "      <td>-1.049974</td>\n",
              "      <td>-1.310343</td>\n",
              "      <td>0.871270</td>\n",
              "    </tr>\n",
              "    <tr>\n",
              "      <th>...</th>\n",
              "      <td>...</td>\n",
              "      <td>...</td>\n",
              "      <td>...</td>\n",
              "    </tr>\n",
              "    <tr>\n",
              "      <th>52</th>\n",
              "      <td>0.409962</td>\n",
              "      <td>0.688485</td>\n",
              "      <td>0.177338</td>\n",
              "    </tr>\n",
              "    <tr>\n",
              "      <th>41</th>\n",
              "      <td>-1.182695</td>\n",
              "      <td>-1.427922</td>\n",
              "      <td>-1.673146</td>\n",
              "    </tr>\n",
              "    <tr>\n",
              "      <th>12</th>\n",
              "      <td>-1.448138</td>\n",
              "      <td>-1.369132</td>\n",
              "      <td>-0.053972</td>\n",
              "    </tr>\n",
              "    <tr>\n",
              "      <th>20</th>\n",
              "      <td>-1.315417</td>\n",
              "      <td>-1.192765</td>\n",
              "      <td>0.871270</td>\n",
              "    </tr>\n",
              "    <tr>\n",
              "      <th>131</th>\n",
              "      <td>1.073569</td>\n",
              "      <td>1.570322</td>\n",
              "      <td>1.796512</td>\n",
              "    </tr>\n",
              "  </tbody>\n",
              "</table>\n",
              "<p>90 rows × 3 columns</p>\n",
              "</div>\n",
              "    <div class=\"colab-df-buttons\">\n",
              "\n",
              "  <div class=\"colab-df-container\">\n",
              "    <button class=\"colab-df-convert\" onclick=\"convertToInteractive('df-a99841a7-0ddf-478a-a30f-a4a379f63cf8')\"\n",
              "            title=\"Convert this dataframe to an interactive table.\"\n",
              "            style=\"display:none;\">\n",
              "\n",
              "  <svg xmlns=\"http://www.w3.org/2000/svg\" height=\"24px\" viewBox=\"0 -960 960 960\">\n",
              "    <path d=\"M120-120v-720h720v720H120Zm60-500h600v-160H180v160Zm220 220h160v-160H400v160Zm0 220h160v-160H400v160ZM180-400h160v-160H180v160Zm440 0h160v-160H620v160ZM180-180h160v-160H180v160Zm440 0h160v-160H620v160Z\"/>\n",
              "  </svg>\n",
              "    </button>\n",
              "\n",
              "  <style>\n",
              "    .colab-df-container {\n",
              "      display:flex;\n",
              "      gap: 12px;\n",
              "    }\n",
              "\n",
              "    .colab-df-convert {\n",
              "      background-color: #E8F0FE;\n",
              "      border: none;\n",
              "      border-radius: 50%;\n",
              "      cursor: pointer;\n",
              "      display: none;\n",
              "      fill: #1967D2;\n",
              "      height: 32px;\n",
              "      padding: 0 0 0 0;\n",
              "      width: 32px;\n",
              "    }\n",
              "\n",
              "    .colab-df-convert:hover {\n",
              "      background-color: #E2EBFA;\n",
              "      box-shadow: 0px 1px 2px rgba(60, 64, 67, 0.3), 0px 1px 3px 1px rgba(60, 64, 67, 0.15);\n",
              "      fill: #174EA6;\n",
              "    }\n",
              "\n",
              "    .colab-df-buttons div {\n",
              "      margin-bottom: 4px;\n",
              "    }\n",
              "\n",
              "    [theme=dark] .colab-df-convert {\n",
              "      background-color: #3B4455;\n",
              "      fill: #D2E3FC;\n",
              "    }\n",
              "\n",
              "    [theme=dark] .colab-df-convert:hover {\n",
              "      background-color: #434B5C;\n",
              "      box-shadow: 0px 1px 3px 1px rgba(0, 0, 0, 0.15);\n",
              "      filter: drop-shadow(0px 1px 2px rgba(0, 0, 0, 0.3));\n",
              "      fill: #FFFFFF;\n",
              "    }\n",
              "  </style>\n",
              "\n",
              "    <script>\n",
              "      const buttonEl =\n",
              "        document.querySelector('#df-a99841a7-0ddf-478a-a30f-a4a379f63cf8 button.colab-df-convert');\n",
              "      buttonEl.style.display =\n",
              "        google.colab.kernel.accessAllowed ? 'block' : 'none';\n",
              "\n",
              "      async function convertToInteractive(key) {\n",
              "        const element = document.querySelector('#df-a99841a7-0ddf-478a-a30f-a4a379f63cf8');\n",
              "        const dataTable =\n",
              "          await google.colab.kernel.invokeFunction('convertToInteractive',\n",
              "                                                    [key], {});\n",
              "        if (!dataTable) return;\n",
              "\n",
              "        const docLinkHtml = 'Like what you see? Visit the ' +\n",
              "          '<a target=\"_blank\" href=https://colab.research.google.com/notebooks/data_table.ipynb>data table notebook</a>'\n",
              "          + ' to learn more about interactive tables.';\n",
              "        element.innerHTML = '';\n",
              "        dataTable['output_type'] = 'display_data';\n",
              "        await google.colab.output.renderOutput(dataTable, element);\n",
              "        const docLink = document.createElement('div');\n",
              "        docLink.innerHTML = docLinkHtml;\n",
              "        element.appendChild(docLink);\n",
              "      }\n",
              "    </script>\n",
              "  </div>\n",
              "\n",
              "\n",
              "<div id=\"df-8c203859-b3a6-4816-b270-5829fb83605e\">\n",
              "  <button class=\"colab-df-quickchart\" onclick=\"quickchart('df-8c203859-b3a6-4816-b270-5829fb83605e')\"\n",
              "            title=\"Suggest charts\"\n",
              "            style=\"display:none;\">\n",
              "\n",
              "<svg xmlns=\"http://www.w3.org/2000/svg\" height=\"24px\"viewBox=\"0 0 24 24\"\n",
              "     width=\"24px\">\n",
              "    <g>\n",
              "        <path d=\"M19 3H5c-1.1 0-2 .9-2 2v14c0 1.1.9 2 2 2h14c1.1 0 2-.9 2-2V5c0-1.1-.9-2-2-2zM9 17H7v-7h2v7zm4 0h-2V7h2v10zm4 0h-2v-4h2v4z\"/>\n",
              "    </g>\n",
              "</svg>\n",
              "  </button>\n",
              "\n",
              "<style>\n",
              "  .colab-df-quickchart {\n",
              "      --bg-color: #E8F0FE;\n",
              "      --fill-color: #1967D2;\n",
              "      --hover-bg-color: #E2EBFA;\n",
              "      --hover-fill-color: #174EA6;\n",
              "      --disabled-fill-color: #AAA;\n",
              "      --disabled-bg-color: #DDD;\n",
              "  }\n",
              "\n",
              "  [theme=dark] .colab-df-quickchart {\n",
              "      --bg-color: #3B4455;\n",
              "      --fill-color: #D2E3FC;\n",
              "      --hover-bg-color: #434B5C;\n",
              "      --hover-fill-color: #FFFFFF;\n",
              "      --disabled-bg-color: #3B4455;\n",
              "      --disabled-fill-color: #666;\n",
              "  }\n",
              "\n",
              "  .colab-df-quickchart {\n",
              "    background-color: var(--bg-color);\n",
              "    border: none;\n",
              "    border-radius: 50%;\n",
              "    cursor: pointer;\n",
              "    display: none;\n",
              "    fill: var(--fill-color);\n",
              "    height: 32px;\n",
              "    padding: 0;\n",
              "    width: 32px;\n",
              "  }\n",
              "\n",
              "  .colab-df-quickchart:hover {\n",
              "    background-color: var(--hover-bg-color);\n",
              "    box-shadow: 0 1px 2px rgba(60, 64, 67, 0.3), 0 1px 3px 1px rgba(60, 64, 67, 0.15);\n",
              "    fill: var(--button-hover-fill-color);\n",
              "  }\n",
              "\n",
              "  .colab-df-quickchart-complete:disabled,\n",
              "  .colab-df-quickchart-complete:disabled:hover {\n",
              "    background-color: var(--disabled-bg-color);\n",
              "    fill: var(--disabled-fill-color);\n",
              "    box-shadow: none;\n",
              "  }\n",
              "\n",
              "  .colab-df-spinner {\n",
              "    border: 2px solid var(--fill-color);\n",
              "    border-color: transparent;\n",
              "    border-bottom-color: var(--fill-color);\n",
              "    animation:\n",
              "      spin 1s steps(1) infinite;\n",
              "  }\n",
              "\n",
              "  @keyframes spin {\n",
              "    0% {\n",
              "      border-color: transparent;\n",
              "      border-bottom-color: var(--fill-color);\n",
              "      border-left-color: var(--fill-color);\n",
              "    }\n",
              "    20% {\n",
              "      border-color: transparent;\n",
              "      border-left-color: var(--fill-color);\n",
              "      border-top-color: var(--fill-color);\n",
              "    }\n",
              "    30% {\n",
              "      border-color: transparent;\n",
              "      border-left-color: var(--fill-color);\n",
              "      border-top-color: var(--fill-color);\n",
              "      border-right-color: var(--fill-color);\n",
              "    }\n",
              "    40% {\n",
              "      border-color: transparent;\n",
              "      border-right-color: var(--fill-color);\n",
              "      border-top-color: var(--fill-color);\n",
              "    }\n",
              "    60% {\n",
              "      border-color: transparent;\n",
              "      border-right-color: var(--fill-color);\n",
              "    }\n",
              "    80% {\n",
              "      border-color: transparent;\n",
              "      border-right-color: var(--fill-color);\n",
              "      border-bottom-color: var(--fill-color);\n",
              "    }\n",
              "    90% {\n",
              "      border-color: transparent;\n",
              "      border-bottom-color: var(--fill-color);\n",
              "    }\n",
              "  }\n",
              "</style>\n",
              "\n",
              "  <script>\n",
              "    async function quickchart(key) {\n",
              "      const quickchartButtonEl =\n",
              "        document.querySelector('#' + key + ' button');\n",
              "      quickchartButtonEl.disabled = true;  // To prevent multiple clicks.\n",
              "      quickchartButtonEl.classList.add('colab-df-spinner');\n",
              "      try {\n",
              "        const charts = await google.colab.kernel.invokeFunction(\n",
              "            'suggestCharts', [key], {});\n",
              "      } catch (error) {\n",
              "        console.error('Error during call to suggestCharts:', error);\n",
              "      }\n",
              "      quickchartButtonEl.classList.remove('colab-df-spinner');\n",
              "      quickchartButtonEl.classList.add('colab-df-quickchart-complete');\n",
              "    }\n",
              "    (() => {\n",
              "      let quickchartButtonEl =\n",
              "        document.querySelector('#df-8c203859-b3a6-4816-b270-5829fb83605e button');\n",
              "      quickchartButtonEl.style.display =\n",
              "        google.colab.kernel.accessAllowed ? 'block' : 'none';\n",
              "    })();\n",
              "  </script>\n",
              "</div>\n",
              "    </div>\n",
              "  </div>\n"
            ],
            "text/plain": [
              "     petal_width  petal_length  sepal_width\n",
              "24     -1.315417     -1.075187     0.871270\n",
              "147     1.073569      0.864853    -0.053972\n",
              "88      0.144519      0.218173    -0.053972\n",
              "123     0.808126      0.688485    -0.747904\n",
              "31     -1.049974     -1.310343     0.871270\n",
              "..           ...           ...          ...\n",
              "52      0.409962      0.688485     0.177338\n",
              "41     -1.182695     -1.427922    -1.673146\n",
              "12     -1.448138     -1.369132    -0.053972\n",
              "20     -1.315417     -1.192765     0.871270\n",
              "131     1.073569      1.570322     1.796512\n",
              "\n",
              "[90 rows x 3 columns]"
            ]
          },
          "execution_count": 33,
          "metadata": {},
          "output_type": "execute_result"
        }
      ],
      "source": [
        "# นิยามฟังก์ชันที่เองชื่อ normalize\n",
        "def normalize(col):\n",
        "  # ตัวแปรชื่อ col ที่รับมาจาก apply จะเป็นเพียงคอลัมน์ ๆ หนึ่งของ X_train\n",
        "  return (col - col.mean())/col.std(ddof=0) # Standardization\n",
        "\n",
        "# apply จะส่งทีละคอลัมน์ของ X_train ให้ฟังก์ชัน normalize\n",
        "# และหลังจากที่ฟังก์ชัน normalize คำนวณเสร็จ ก็จะถูกรวบรวมกลับเป็น DataFrame\n",
        "X_train.apply(normalize)"
      ]
    },
    {
      "cell_type": "markdown",
      "metadata": {
        "id": "qKrHY2wa2RNM"
      },
      "source": [
        "### Standardization ด้วย Scikit-learn\n",
        "\n",
        "ก่อนอื่นต้องนำเข้า `StandardScaler()` เข้าก่อน และ สร้างตัวแปรที่จะเป็นตัวกลางในการทำ Standardization (สมมติชื่อ `scaler`)\n",
        "```python\n",
        "from sklearn.preprocessing import StandardScaler\n",
        "scaler = StandardScaler()\n",
        "```\n",
        "\n",
        "การนำไปใช้ ต้องนำ `scaler` ไปคำนวณค่า mean และ sd ของข้อมูลที่ต้องการก่อน ด้วยคำสั่ง\n",
        "```python\n",
        "scaler.fit(ข้อมูล)\n",
        "```\n",
        "\n",
        "<figure>\n",
        "<img src=\"https://raw.githubusercontent.com/INRIA/scikit-learn-mooc/main/figures/api_diagram-transformer.fit.svg\" width=30%> \n",
        "<figcaption>ที่มารูป scikit-learn MOOC by scikit-learn developers (https://inria.github.io/scikit-learn-mooc/)</figcaption>\n",
        "</figure>\n",
        "\n",
        "ซึ่งเมื่อทำแล้ว ค่า mean และ sd ของข้อมูล สามารถเข้าถึงได้จาก `scaler.mean_` และ `scaler.scale_`\n",
        "จากนั้นหากต้องการ Standardize ข้อมูลใด ๆ ก็เรียกใช้\n",
        "```python\n",
        "ข้อมูลที่แปลงแล้ว = scaler.transform(ข้อมูล)\n",
        "```\n",
        "\n",
        "<figure>\n",
        "<img src=\"https://raw.githubusercontent.com/INRIA/scikit-learn-mooc/main/figures/api_diagram-transformer.transform.svg\" width=50%> \n",
        "<figcaption>ที่มารูป scikit-learn MOOC by scikit-learn developers (https://inria.github.io/scikit-learn-mooc/)</figcaption>\n",
        "</figure>\n",
        "\n",
        "หรือในกรณีที่ต้องการทำทั้ง fit และ transform ในคราวเดียว ไม่ต้องเสียเวลาเรียก `.fit()` แล้วค่อย `.transform()` ก็สามารถทำได้ ดังนี้\n",
        "```python\n",
        "ข้อมูลที่แปลงแล้ว = scaler.fit_transform(ข้อมูล)\n",
        "```\n",
        "\n",
        "<figure>\n",
        "<img src=\"https://raw.githubusercontent.com/INRIA/scikit-learn-mooc/main/figures/api_diagram-transformer.fit_transform.svg\" width=50%>\n",
        "<figcaption>ที่มารูป scikit-learn MOOC by scikit-learn developers (https://inria.github.io/scikit-learn-mooc/)</figcaption>\n",
        "</figure>"
      ]
    },
    {
      "cell_type": "code",
      "execution_count": null,
      "metadata": {
        "colab": {
          "base_uri": "https://localhost:8080/"
        },
        "id": "OoKCJfzIJi-k",
        "outputId": "cfe6fe8c-4f41-4127-8cda-4adfaca37d17"
      },
      "outputs": [
        {
          "name": "stdout",
          "output_type": "stream",
          "text": [
            "mean = [1.19111111 3.72888889 3.02333333]\n",
            "sd = [0.75345787 1.70099608 0.43231933]\n"
          ]
        }
      ],
      "source": [
        "from sklearn.preprocessing import StandardScaler\n",
        "scaler = StandardScaler()\n",
        "\n",
        "# คำนวณ mean และ sd ของ X_train\n",
        "scaler.fit(X_train)\n",
        "\n",
        "# ทำ Standardization กับ X_train\n",
        "new_X_train = scaler.transform(X_train)\n",
        "\n",
        "# ทำ Standardization กับ X_test ด้วย mean และ sd ของ X_train\n",
        "new_X_test = scaler.transform(X_test)\n",
        "\n",
        "# ลองพิมพ์ผลลัพธ์การทำ Standardization\n",
        "mu = scaler.mean_\n",
        "sd = scaler.scale_\n",
        "print(f'mean = {mu}\\nsd = {sd}')"
      ]
    },
    {
      "cell_type": "markdown",
      "metadata": {
        "id": "VBIITPNhKfBX"
      },
      "source": [
        "ทั้งนี้ ตัวแปร `new_X_train` และ `new_X_test` ที่ได้จาก `scaler.transform()` จะไม่ใช่เป็น DataFrame แต่เป็น Numpy array ซึ่งจะสูญเสียชื่อคอลัมน์ไป ดังนั้น หากต้องการทำให้เป็น DataFrame ก็สามารถทำได้ ดังนี้ ซึ่งเมื่อแสดงผลออกมา จะพบว่า ผลของการ Standardize ตรงกับผลจากที่คำนวณเองด้วย Pandas"
      ]
    },
    {
      "cell_type": "code",
      "execution_count": null,
      "metadata": {
        "colab": {
          "base_uri": "https://localhost:8080/",
          "height": 423
        },
        "id": "9V4YSX-BKuCs",
        "outputId": "9fb2a2d6-8d73-4081-e884-4cd148d3da8e"
      },
      "outputs": [
        {
          "data": {
            "text/html": [
              "\n",
              "  <div id=\"df-0a730279-e7de-419a-8048-d6eff5650677\" class=\"colab-df-container\">\n",
              "    <div>\n",
              "<style scoped>\n",
              "    .dataframe tbody tr th:only-of-type {\n",
              "        vertical-align: middle;\n",
              "    }\n",
              "\n",
              "    .dataframe tbody tr th {\n",
              "        vertical-align: top;\n",
              "    }\n",
              "\n",
              "    .dataframe thead th {\n",
              "        text-align: right;\n",
              "    }\n",
              "</style>\n",
              "<table border=\"1\" class=\"dataframe\">\n",
              "  <thead>\n",
              "    <tr style=\"text-align: right;\">\n",
              "      <th></th>\n",
              "      <th>petal_width</th>\n",
              "      <th>petal_length</th>\n",
              "      <th>sepal_width</th>\n",
              "    </tr>\n",
              "  </thead>\n",
              "  <tbody>\n",
              "    <tr>\n",
              "      <th>24</th>\n",
              "      <td>-1.315417</td>\n",
              "      <td>-1.075187</td>\n",
              "      <td>0.871270</td>\n",
              "    </tr>\n",
              "    <tr>\n",
              "      <th>147</th>\n",
              "      <td>1.073569</td>\n",
              "      <td>0.864853</td>\n",
              "      <td>-0.053972</td>\n",
              "    </tr>\n",
              "    <tr>\n",
              "      <th>88</th>\n",
              "      <td>0.144519</td>\n",
              "      <td>0.218173</td>\n",
              "      <td>-0.053972</td>\n",
              "    </tr>\n",
              "    <tr>\n",
              "      <th>123</th>\n",
              "      <td>0.808126</td>\n",
              "      <td>0.688485</td>\n",
              "      <td>-0.747904</td>\n",
              "    </tr>\n",
              "    <tr>\n",
              "      <th>31</th>\n",
              "      <td>-1.049974</td>\n",
              "      <td>-1.310343</td>\n",
              "      <td>0.871270</td>\n",
              "    </tr>\n",
              "    <tr>\n",
              "      <th>...</th>\n",
              "      <td>...</td>\n",
              "      <td>...</td>\n",
              "      <td>...</td>\n",
              "    </tr>\n",
              "    <tr>\n",
              "      <th>52</th>\n",
              "      <td>0.409962</td>\n",
              "      <td>0.688485</td>\n",
              "      <td>0.177338</td>\n",
              "    </tr>\n",
              "    <tr>\n",
              "      <th>41</th>\n",
              "      <td>-1.182695</td>\n",
              "      <td>-1.427922</td>\n",
              "      <td>-1.673146</td>\n",
              "    </tr>\n",
              "    <tr>\n",
              "      <th>12</th>\n",
              "      <td>-1.448138</td>\n",
              "      <td>-1.369132</td>\n",
              "      <td>-0.053972</td>\n",
              "    </tr>\n",
              "    <tr>\n",
              "      <th>20</th>\n",
              "      <td>-1.315417</td>\n",
              "      <td>-1.192765</td>\n",
              "      <td>0.871270</td>\n",
              "    </tr>\n",
              "    <tr>\n",
              "      <th>131</th>\n",
              "      <td>1.073569</td>\n",
              "      <td>1.570322</td>\n",
              "      <td>1.796512</td>\n",
              "    </tr>\n",
              "  </tbody>\n",
              "</table>\n",
              "<p>90 rows × 3 columns</p>\n",
              "</div>\n",
              "    <div class=\"colab-df-buttons\">\n",
              "\n",
              "  <div class=\"colab-df-container\">\n",
              "    <button class=\"colab-df-convert\" onclick=\"convertToInteractive('df-0a730279-e7de-419a-8048-d6eff5650677')\"\n",
              "            title=\"Convert this dataframe to an interactive table.\"\n",
              "            style=\"display:none;\">\n",
              "\n",
              "  <svg xmlns=\"http://www.w3.org/2000/svg\" height=\"24px\" viewBox=\"0 -960 960 960\">\n",
              "    <path d=\"M120-120v-720h720v720H120Zm60-500h600v-160H180v160Zm220 220h160v-160H400v160Zm0 220h160v-160H400v160ZM180-400h160v-160H180v160Zm440 0h160v-160H620v160ZM180-180h160v-160H180v160Zm440 0h160v-160H620v160Z\"/>\n",
              "  </svg>\n",
              "    </button>\n",
              "\n",
              "  <style>\n",
              "    .colab-df-container {\n",
              "      display:flex;\n",
              "      gap: 12px;\n",
              "    }\n",
              "\n",
              "    .colab-df-convert {\n",
              "      background-color: #E8F0FE;\n",
              "      border: none;\n",
              "      border-radius: 50%;\n",
              "      cursor: pointer;\n",
              "      display: none;\n",
              "      fill: #1967D2;\n",
              "      height: 32px;\n",
              "      padding: 0 0 0 0;\n",
              "      width: 32px;\n",
              "    }\n",
              "\n",
              "    .colab-df-convert:hover {\n",
              "      background-color: #E2EBFA;\n",
              "      box-shadow: 0px 1px 2px rgba(60, 64, 67, 0.3), 0px 1px 3px 1px rgba(60, 64, 67, 0.15);\n",
              "      fill: #174EA6;\n",
              "    }\n",
              "\n",
              "    .colab-df-buttons div {\n",
              "      margin-bottom: 4px;\n",
              "    }\n",
              "\n",
              "    [theme=dark] .colab-df-convert {\n",
              "      background-color: #3B4455;\n",
              "      fill: #D2E3FC;\n",
              "    }\n",
              "\n",
              "    [theme=dark] .colab-df-convert:hover {\n",
              "      background-color: #434B5C;\n",
              "      box-shadow: 0px 1px 3px 1px rgba(0, 0, 0, 0.15);\n",
              "      filter: drop-shadow(0px 1px 2px rgba(0, 0, 0, 0.3));\n",
              "      fill: #FFFFFF;\n",
              "    }\n",
              "  </style>\n",
              "\n",
              "    <script>\n",
              "      const buttonEl =\n",
              "        document.querySelector('#df-0a730279-e7de-419a-8048-d6eff5650677 button.colab-df-convert');\n",
              "      buttonEl.style.display =\n",
              "        google.colab.kernel.accessAllowed ? 'block' : 'none';\n",
              "\n",
              "      async function convertToInteractive(key) {\n",
              "        const element = document.querySelector('#df-0a730279-e7de-419a-8048-d6eff5650677');\n",
              "        const dataTable =\n",
              "          await google.colab.kernel.invokeFunction('convertToInteractive',\n",
              "                                                    [key], {});\n",
              "        if (!dataTable) return;\n",
              "\n",
              "        const docLinkHtml = 'Like what you see? Visit the ' +\n",
              "          '<a target=\"_blank\" href=https://colab.research.google.com/notebooks/data_table.ipynb>data table notebook</a>'\n",
              "          + ' to learn more about interactive tables.';\n",
              "        element.innerHTML = '';\n",
              "        dataTable['output_type'] = 'display_data';\n",
              "        await google.colab.output.renderOutput(dataTable, element);\n",
              "        const docLink = document.createElement('div');\n",
              "        docLink.innerHTML = docLinkHtml;\n",
              "        element.appendChild(docLink);\n",
              "      }\n",
              "    </script>\n",
              "  </div>\n",
              "\n",
              "\n",
              "<div id=\"df-9776a8ac-b1e9-439e-8ca8-e5d404a4c8ec\">\n",
              "  <button class=\"colab-df-quickchart\" onclick=\"quickchart('df-9776a8ac-b1e9-439e-8ca8-e5d404a4c8ec')\"\n",
              "            title=\"Suggest charts\"\n",
              "            style=\"display:none;\">\n",
              "\n",
              "<svg xmlns=\"http://www.w3.org/2000/svg\" height=\"24px\"viewBox=\"0 0 24 24\"\n",
              "     width=\"24px\">\n",
              "    <g>\n",
              "        <path d=\"M19 3H5c-1.1 0-2 .9-2 2v14c0 1.1.9 2 2 2h14c1.1 0 2-.9 2-2V5c0-1.1-.9-2-2-2zM9 17H7v-7h2v7zm4 0h-2V7h2v10zm4 0h-2v-4h2v4z\"/>\n",
              "    </g>\n",
              "</svg>\n",
              "  </button>\n",
              "\n",
              "<style>\n",
              "  .colab-df-quickchart {\n",
              "      --bg-color: #E8F0FE;\n",
              "      --fill-color: #1967D2;\n",
              "      --hover-bg-color: #E2EBFA;\n",
              "      --hover-fill-color: #174EA6;\n",
              "      --disabled-fill-color: #AAA;\n",
              "      --disabled-bg-color: #DDD;\n",
              "  }\n",
              "\n",
              "  [theme=dark] .colab-df-quickchart {\n",
              "      --bg-color: #3B4455;\n",
              "      --fill-color: #D2E3FC;\n",
              "      --hover-bg-color: #434B5C;\n",
              "      --hover-fill-color: #FFFFFF;\n",
              "      --disabled-bg-color: #3B4455;\n",
              "      --disabled-fill-color: #666;\n",
              "  }\n",
              "\n",
              "  .colab-df-quickchart {\n",
              "    background-color: var(--bg-color);\n",
              "    border: none;\n",
              "    border-radius: 50%;\n",
              "    cursor: pointer;\n",
              "    display: none;\n",
              "    fill: var(--fill-color);\n",
              "    height: 32px;\n",
              "    padding: 0;\n",
              "    width: 32px;\n",
              "  }\n",
              "\n",
              "  .colab-df-quickchart:hover {\n",
              "    background-color: var(--hover-bg-color);\n",
              "    box-shadow: 0 1px 2px rgba(60, 64, 67, 0.3), 0 1px 3px 1px rgba(60, 64, 67, 0.15);\n",
              "    fill: var(--button-hover-fill-color);\n",
              "  }\n",
              "\n",
              "  .colab-df-quickchart-complete:disabled,\n",
              "  .colab-df-quickchart-complete:disabled:hover {\n",
              "    background-color: var(--disabled-bg-color);\n",
              "    fill: var(--disabled-fill-color);\n",
              "    box-shadow: none;\n",
              "  }\n",
              "\n",
              "  .colab-df-spinner {\n",
              "    border: 2px solid var(--fill-color);\n",
              "    border-color: transparent;\n",
              "    border-bottom-color: var(--fill-color);\n",
              "    animation:\n",
              "      spin 1s steps(1) infinite;\n",
              "  }\n",
              "\n",
              "  @keyframes spin {\n",
              "    0% {\n",
              "      border-color: transparent;\n",
              "      border-bottom-color: var(--fill-color);\n",
              "      border-left-color: var(--fill-color);\n",
              "    }\n",
              "    20% {\n",
              "      border-color: transparent;\n",
              "      border-left-color: var(--fill-color);\n",
              "      border-top-color: var(--fill-color);\n",
              "    }\n",
              "    30% {\n",
              "      border-color: transparent;\n",
              "      border-left-color: var(--fill-color);\n",
              "      border-top-color: var(--fill-color);\n",
              "      border-right-color: var(--fill-color);\n",
              "    }\n",
              "    40% {\n",
              "      border-color: transparent;\n",
              "      border-right-color: var(--fill-color);\n",
              "      border-top-color: var(--fill-color);\n",
              "    }\n",
              "    60% {\n",
              "      border-color: transparent;\n",
              "      border-right-color: var(--fill-color);\n",
              "    }\n",
              "    80% {\n",
              "      border-color: transparent;\n",
              "      border-right-color: var(--fill-color);\n",
              "      border-bottom-color: var(--fill-color);\n",
              "    }\n",
              "    90% {\n",
              "      border-color: transparent;\n",
              "      border-bottom-color: var(--fill-color);\n",
              "    }\n",
              "  }\n",
              "</style>\n",
              "\n",
              "  <script>\n",
              "    async function quickchart(key) {\n",
              "      const quickchartButtonEl =\n",
              "        document.querySelector('#' + key + ' button');\n",
              "      quickchartButtonEl.disabled = true;  // To prevent multiple clicks.\n",
              "      quickchartButtonEl.classList.add('colab-df-spinner');\n",
              "      try {\n",
              "        const charts = await google.colab.kernel.invokeFunction(\n",
              "            'suggestCharts', [key], {});\n",
              "      } catch (error) {\n",
              "        console.error('Error during call to suggestCharts:', error);\n",
              "      }\n",
              "      quickchartButtonEl.classList.remove('colab-df-spinner');\n",
              "      quickchartButtonEl.classList.add('colab-df-quickchart-complete');\n",
              "    }\n",
              "    (() => {\n",
              "      let quickchartButtonEl =\n",
              "        document.querySelector('#df-9776a8ac-b1e9-439e-8ca8-e5d404a4c8ec button');\n",
              "      quickchartButtonEl.style.display =\n",
              "        google.colab.kernel.accessAllowed ? 'block' : 'none';\n",
              "    })();\n",
              "  </script>\n",
              "</div>\n",
              "    </div>\n",
              "  </div>\n"
            ],
            "text/plain": [
              "     petal_width  petal_length  sepal_width\n",
              "24     -1.315417     -1.075187     0.871270\n",
              "147     1.073569      0.864853    -0.053972\n",
              "88      0.144519      0.218173    -0.053972\n",
              "123     0.808126      0.688485    -0.747904\n",
              "31     -1.049974     -1.310343     0.871270\n",
              "..           ...           ...          ...\n",
              "52      0.409962      0.688485     0.177338\n",
              "41     -1.182695     -1.427922    -1.673146\n",
              "12     -1.448138     -1.369132    -0.053972\n",
              "20     -1.315417     -1.192765     0.871270\n",
              "131     1.073569      1.570322     1.796512\n",
              "\n",
              "[90 rows x 3 columns]"
            ]
          },
          "execution_count": 35,
          "metadata": {},
          "output_type": "execute_result"
        }
      ],
      "source": [
        "# แสดงตัวอย่างสำหรับ new_X_train ซึ่ง new_X_test ก็ทำในลักษณะเดียวกัน\n",
        "new_X_train = pd.DataFrame(new_X_train,\n",
        "             columns=X_train.columns,  # เอาชื่อคอลัมน์มาจากต้นฉบับ\n",
        "             index=X_train.index)      # เอาชื่อแถวมาจากต้นฉบับ\n",
        "new_X_train"
      ]
    },
    {
      "cell_type": "markdown",
      "metadata": {
        "id": "n9MhwlvpMxLj"
      },
      "source": [
        "### (ศึกษาเอง) กราฟก่อนและหลังการทำ Standardization\n",
        "\n",
        "ทีนี้ ลองวาดกราฟเปรียบเทียบก่อนและหลังการ Standardize ซึ่งจะยกตัวอย่างคู่ `petal_width` กับ `petal_length` โดยจะทดลองวาดเป็นกราฟ 2 กราฟแยกกันโดยใช้ `plotly.graph_objects` ร่วมกับ `plotly.subplots` ซึ่งจากกราฟ จะเห็นว่า ก่อนและหลังเป็นรูปเดียวกัน เพียงแต่ค่าพิกัดแกนนอนและแกนตั้งต่างกัน\n",
        "\n",
        "> **Note:** สำหรับคำสั่งในการวาดกราฟ ให้นักศึกษา**ลองศึกษาด้วยตนเอง** ตามลิงค์นี้ https://plotly.com/python/subplots/ แต่โดยหลักการแล้ว จะใช้คำสั่ง `make_subplots()` เพื่อกำหนดจำนวนช่องที่ต้องการวาดกราฟก่อน จากนั้นจึงใส่กราฟเข้าไปทีละช่องด้วยการระบุว่าจะใส่แถวหรือคอลัมน์ที่เท่าไร\n"
      ]
    },
    {
      "cell_type": "code",
      "execution_count": null,
      "metadata": {
        "colab": {
          "base_uri": "https://localhost:8080/",
          "height": 437
        },
        "id": "nU6z-NoiM-jL",
        "outputId": "d913b3a2-ecf8-45ee-bffc-aff8c4a90ddc"
      },
      "outputs": [
        {
          "data": {
            "text/html": [
              "<html>\n",
              "<head><meta charset=\"utf-8\" /></head>\n",
              "<body>\n",
              "    <div>            <script src=\"https://cdnjs.cloudflare.com/ajax/libs/mathjax/2.7.5/MathJax.js?config=TeX-AMS-MML_SVG\"></script><script type=\"text/javascript\">if (window.MathJax && window.MathJax.Hub && window.MathJax.Hub.Config) {window.MathJax.Hub.Config({SVG: {font: \"STIX-Web\"}});}</script>                <script type=\"text/javascript\">window.PlotlyConfig = {MathJaxConfig: 'local'};</script>\n",
              "        <script charset=\"utf-8\" src=\"https://cdn.plot.ly/plotly-2.24.1.min.js\"></script>                <div id=\"cb904702-e784-43f6-bf94-3761c18aa18e\" class=\"plotly-graph-div\" style=\"height:400px; width:1000px;\"></div>            <script type=\"text/javascript\">                                    window.PLOTLYENV=window.PLOTLYENV || {};                                    if (document.getElementById(\"cb904702-e784-43f6-bf94-3761c18aa18e\")) {                    Plotly.newPlot(                        \"cb904702-e784-43f6-bf94-3761c18aa18e\",                        [{\"mode\":\"markers\",\"name\":\"\\u0e01\\u0e48\\u0e2d\\u0e19\\u0e17\\u0e33\",\"x\":[0.2,2.0,1.3,1.8,0.4,1.5,0.2,1.3,0.2,0.2,1.3,1.8,0.3,1.5,1.8,0.3,2.3,1.4,0.2,0.2,1.2,2.3,2.1,2.3,1.8,0.4,2.2,1.3,1.4,1.3,1.1,1.3,1.0,1.3,2.4,1.2,2.1,0.2,1.5,2.1,1.3,1.2,2.0,0.2,0.2,0.3,1.2,1.3,1.8,1.6,0.4,0.4,1.9,1.0,2.3,0.2,1.7,0.4,2.5,1.8,0.4,1.8,1.4,0.5,0.2,0.2,2.1,1.0,2.4,2.4,1.0,1.2,1.3,1.6,0.2,0.2,1.3,2.3,0.2,0.2,2.1,1.5,2.0,1.1,0.1,1.5,0.3,0.1,0.2,2.0],\"y\":[1.9,5.2,4.1,4.9,1.5,4.6,1.6,4.3,1.2,1.5,4.0,5.5,1.3,5.1,5.6,1.4,5.4,4.7,1.5,1.6,4.7,5.7,5.4,6.9,6.3,1.9,5.6,4.6,3.9,4.5,3.9,4.2,3.7,4.0,5.6,3.9,5.6,1.4,4.5,5.5,4.4,4.4,4.9,1.4,1.4,1.7,4.2,4.0,5.8,5.1,1.5,1.7,5.3,4.0,5.2,1.5,4.5,1.6,6.1,4.8,1.5,5.1,5.6,1.7,1.5,1.4,5.9,3.5,5.1,5.6,3.5,4.0,4.1,4.5,1.4,1.6,4.2,5.1,1.5,1.6,5.7,4.5,5.0,3.0,1.1,4.9,1.3,1.4,1.7,6.4],\"type\":\"scatter\",\"xaxis\":\"x\",\"yaxis\":\"y\"},{\"mode\":\"markers\",\"name\":\"\\u0e2b\\u0e25\\u0e31\\u0e07\\u0e17\\u0e33\",\"x\":[-1.3154167571403357,1.0735688331817983,0.14451888138985738,0.8081259898126724,-1.0499739137712096,0.40996172475898335,-1.3154167571403357,0.14451888138985738,-1.3154167571403357,-1.3154167571403357,0.14451888138985738,0.8081259898126724,-1.1826953354557725,0.40996172475898335,0.8081259898126724,-1.1826953354557725,1.471733098235487,0.2772403030744202,-1.3154167571403357,-1.3154167571403357,0.01179745970529427,1.471733098235487,1.2062902548663614,1.471733098235487,0.8081259898126724,-1.0499739137712096,1.3390116765509246,0.14451888138985738,0.2772403030744202,0.14451888138985738,-0.12092396197926855,0.14451888138985738,-0.25364538366383166,0.14451888138985738,1.6044545199200502,0.01179745970529427,1.2062902548663614,-1.3154167571403357,0.40996172475898335,1.2062902548663614,0.14451888138985738,0.01179745970529427,1.0735688331817983,-1.3154167571403357,-1.3154167571403357,-1.1826953354557725,0.01179745970529427,0.14451888138985738,0.8081259898126724,0.5426831464435464,-1.0499739137712096,-1.0499739137712096,0.9408474114972353,-0.25364538366383166,1.471733098235487,-1.3154167571403357,0.6754045681281092,-1.0499739137712096,1.7371759416046133,0.8081259898126724,-1.0499739137712096,0.8081259898126724,0.2772403030744202,-0.9172524920866467,-1.3154167571403357,-1.3154167571403357,1.2062902548663614,-0.25364538366383166,1.6044545199200502,1.6044545199200502,-0.25364538366383166,0.01179745970529427,0.14451888138985738,0.5426831464435464,-1.3154167571403357,-1.3154167571403357,0.14451888138985738,1.471733098235487,-1.3154167571403357,-1.3154167571403357,1.2062902548663614,0.40996172475898335,1.0735688331817983,-0.12092396197926855,-1.4481381788248986,0.40996172475898335,-1.1826953354557725,-1.4481381788248986,-1.3154167571403357,1.0735688331817983],\"y\":[-1.0751870116028301,0.8648527359429814,0.21817282009437733,0.6884854861660896,-1.3103433446386858,0.5121182363891972,-1.251554261379722,0.3357509866123054,-1.486710594415578,-1.3103433446386858,0.15938373683541357,1.0412199857198732,-1.4279215111566137,0.8060636526840171,1.100009068978837,-1.36913242789765,0.9824309024609095,0.5709073196481615,-1.3103433446386858,-1.251554261379722,0.5709073196481615,1.1587981522378012,0.9824309024609095,1.8642671513453692,1.511532651791585,-1.0751870116028301,1.100009068978837,0.5121182363891972,0.10059465357644953,0.4533291531302335,0.10059465357644953,0.27696190335334164,-0.016983512941478266,0.15938373683541357,1.100009068978837,0.10059465357644953,1.100009068978837,-1.36913242789765,0.4533291531302335,1.0412199857198732,0.3945400698712697,0.3945400698712697,0.6884854861660896,-1.36913242789765,-1.36913242789765,-1.192765178120758,0.27696190335334164,0.15938373683541357,1.2175872354967652,0.8060636526840171,-1.3103433446386858,-1.192765178120758,0.9236418192019452,0.15938373683541357,0.8648527359429814,-1.3103433446386858,0.4533291531302335,-1.251554261379722,1.393954485273657,0.6296964029071253,-1.3103433446386858,0.8060636526840171,1.100009068978837,-1.192765178120758,-1.3103433446386858,-1.36913242789765,1.2763763187557293,-0.13456167945940634,0.8060636526840171,1.100009068978837,-0.13456167945940634,0.15938373683541357,0.21817282009437733,0.4533291531302335,-1.36913242789765,-1.251554261379722,0.27696190335334164,0.8060636526840171,-1.3103433446386858,-1.251554261379722,1.1587981522378012,0.4533291531302335,0.7472745694250533,-0.42850709575422624,-1.5454996776745418,0.6884854861660896,-1.4279215111566137,-1.36913242789765,-1.192765178120758,1.5703217350505492],\"type\":\"scatter\",\"xaxis\":\"x2\",\"yaxis\":\"y2\"}],                        {\"template\":{\"data\":{\"histogram2dcontour\":[{\"type\":\"histogram2dcontour\",\"colorbar\":{\"outlinewidth\":0,\"ticks\":\"\"},\"colorscale\":[[0.0,\"#0d0887\"],[0.1111111111111111,\"#46039f\"],[0.2222222222222222,\"#7201a8\"],[0.3333333333333333,\"#9c179e\"],[0.4444444444444444,\"#bd3786\"],[0.5555555555555556,\"#d8576b\"],[0.6666666666666666,\"#ed7953\"],[0.7777777777777778,\"#fb9f3a\"],[0.8888888888888888,\"#fdca26\"],[1.0,\"#f0f921\"]]}],\"choropleth\":[{\"type\":\"choropleth\",\"colorbar\":{\"outlinewidth\":0,\"ticks\":\"\"}}],\"histogram2d\":[{\"type\":\"histogram2d\",\"colorbar\":{\"outlinewidth\":0,\"ticks\":\"\"},\"colorscale\":[[0.0,\"#0d0887\"],[0.1111111111111111,\"#46039f\"],[0.2222222222222222,\"#7201a8\"],[0.3333333333333333,\"#9c179e\"],[0.4444444444444444,\"#bd3786\"],[0.5555555555555556,\"#d8576b\"],[0.6666666666666666,\"#ed7953\"],[0.7777777777777778,\"#fb9f3a\"],[0.8888888888888888,\"#fdca26\"],[1.0,\"#f0f921\"]]}],\"heatmap\":[{\"type\":\"heatmap\",\"colorbar\":{\"outlinewidth\":0,\"ticks\":\"\"},\"colorscale\":[[0.0,\"#0d0887\"],[0.1111111111111111,\"#46039f\"],[0.2222222222222222,\"#7201a8\"],[0.3333333333333333,\"#9c179e\"],[0.4444444444444444,\"#bd3786\"],[0.5555555555555556,\"#d8576b\"],[0.6666666666666666,\"#ed7953\"],[0.7777777777777778,\"#fb9f3a\"],[0.8888888888888888,\"#fdca26\"],[1.0,\"#f0f921\"]]}],\"heatmapgl\":[{\"type\":\"heatmapgl\",\"colorbar\":{\"outlinewidth\":0,\"ticks\":\"\"},\"colorscale\":[[0.0,\"#0d0887\"],[0.1111111111111111,\"#46039f\"],[0.2222222222222222,\"#7201a8\"],[0.3333333333333333,\"#9c179e\"],[0.4444444444444444,\"#bd3786\"],[0.5555555555555556,\"#d8576b\"],[0.6666666666666666,\"#ed7953\"],[0.7777777777777778,\"#fb9f3a\"],[0.8888888888888888,\"#fdca26\"],[1.0,\"#f0f921\"]]}],\"contourcarpet\":[{\"type\":\"contourcarpet\",\"colorbar\":{\"outlinewidth\":0,\"ticks\":\"\"}}],\"contour\":[{\"type\":\"contour\",\"colorbar\":{\"outlinewidth\":0,\"ticks\":\"\"},\"colorscale\":[[0.0,\"#0d0887\"],[0.1111111111111111,\"#46039f\"],[0.2222222222222222,\"#7201a8\"],[0.3333333333333333,\"#9c179e\"],[0.4444444444444444,\"#bd3786\"],[0.5555555555555556,\"#d8576b\"],[0.6666666666666666,\"#ed7953\"],[0.7777777777777778,\"#fb9f3a\"],[0.8888888888888888,\"#fdca26\"],[1.0,\"#f0f921\"]]}],\"surface\":[{\"type\":\"surface\",\"colorbar\":{\"outlinewidth\":0,\"ticks\":\"\"},\"colorscale\":[[0.0,\"#0d0887\"],[0.1111111111111111,\"#46039f\"],[0.2222222222222222,\"#7201a8\"],[0.3333333333333333,\"#9c179e\"],[0.4444444444444444,\"#bd3786\"],[0.5555555555555556,\"#d8576b\"],[0.6666666666666666,\"#ed7953\"],[0.7777777777777778,\"#fb9f3a\"],[0.8888888888888888,\"#fdca26\"],[1.0,\"#f0f921\"]]}],\"mesh3d\":[{\"type\":\"mesh3d\",\"colorbar\":{\"outlinewidth\":0,\"ticks\":\"\"}}],\"scatter\":[{\"fillpattern\":{\"fillmode\":\"overlay\",\"size\":10,\"solidity\":0.2},\"type\":\"scatter\"}],\"parcoords\":[{\"type\":\"parcoords\",\"line\":{\"colorbar\":{\"outlinewidth\":0,\"ticks\":\"\"}}}],\"scatterpolargl\":[{\"type\":\"scatterpolargl\",\"marker\":{\"colorbar\":{\"outlinewidth\":0,\"ticks\":\"\"}}}],\"bar\":[{\"error_x\":{\"color\":\"#2a3f5f\"},\"error_y\":{\"color\":\"#2a3f5f\"},\"marker\":{\"line\":{\"color\":\"#E5ECF6\",\"width\":0.5},\"pattern\":{\"fillmode\":\"overlay\",\"size\":10,\"solidity\":0.2}},\"type\":\"bar\"}],\"scattergeo\":[{\"type\":\"scattergeo\",\"marker\":{\"colorbar\":{\"outlinewidth\":0,\"ticks\":\"\"}}}],\"scatterpolar\":[{\"type\":\"scatterpolar\",\"marker\":{\"colorbar\":{\"outlinewidth\":0,\"ticks\":\"\"}}}],\"histogram\":[{\"marker\":{\"pattern\":{\"fillmode\":\"overlay\",\"size\":10,\"solidity\":0.2}},\"type\":\"histogram\"}],\"scattergl\":[{\"type\":\"scattergl\",\"marker\":{\"colorbar\":{\"outlinewidth\":0,\"ticks\":\"\"}}}],\"scatter3d\":[{\"type\":\"scatter3d\",\"line\":{\"colorbar\":{\"outlinewidth\":0,\"ticks\":\"\"}},\"marker\":{\"colorbar\":{\"outlinewidth\":0,\"ticks\":\"\"}}}],\"scattermapbox\":[{\"type\":\"scattermapbox\",\"marker\":{\"colorbar\":{\"outlinewidth\":0,\"ticks\":\"\"}}}],\"scatterternary\":[{\"type\":\"scatterternary\",\"marker\":{\"colorbar\":{\"outlinewidth\":0,\"ticks\":\"\"}}}],\"scattercarpet\":[{\"type\":\"scattercarpet\",\"marker\":{\"colorbar\":{\"outlinewidth\":0,\"ticks\":\"\"}}}],\"carpet\":[{\"aaxis\":{\"endlinecolor\":\"#2a3f5f\",\"gridcolor\":\"white\",\"linecolor\":\"white\",\"minorgridcolor\":\"white\",\"startlinecolor\":\"#2a3f5f\"},\"baxis\":{\"endlinecolor\":\"#2a3f5f\",\"gridcolor\":\"white\",\"linecolor\":\"white\",\"minorgridcolor\":\"white\",\"startlinecolor\":\"#2a3f5f\"},\"type\":\"carpet\"}],\"table\":[{\"cells\":{\"fill\":{\"color\":\"#EBF0F8\"},\"line\":{\"color\":\"white\"}},\"header\":{\"fill\":{\"color\":\"#C8D4E3\"},\"line\":{\"color\":\"white\"}},\"type\":\"table\"}],\"barpolar\":[{\"marker\":{\"line\":{\"color\":\"#E5ECF6\",\"width\":0.5},\"pattern\":{\"fillmode\":\"overlay\",\"size\":10,\"solidity\":0.2}},\"type\":\"barpolar\"}],\"pie\":[{\"automargin\":true,\"type\":\"pie\"}]},\"layout\":{\"autotypenumbers\":\"strict\",\"colorway\":[\"#636efa\",\"#EF553B\",\"#00cc96\",\"#ab63fa\",\"#FFA15A\",\"#19d3f3\",\"#FF6692\",\"#B6E880\",\"#FF97FF\",\"#FECB52\"],\"font\":{\"color\":\"#2a3f5f\"},\"hovermode\":\"closest\",\"hoverlabel\":{\"align\":\"left\"},\"paper_bgcolor\":\"white\",\"plot_bgcolor\":\"#E5ECF6\",\"polar\":{\"bgcolor\":\"#E5ECF6\",\"angularaxis\":{\"gridcolor\":\"white\",\"linecolor\":\"white\",\"ticks\":\"\"},\"radialaxis\":{\"gridcolor\":\"white\",\"linecolor\":\"white\",\"ticks\":\"\"}},\"ternary\":{\"bgcolor\":\"#E5ECF6\",\"aaxis\":{\"gridcolor\":\"white\",\"linecolor\":\"white\",\"ticks\":\"\"},\"baxis\":{\"gridcolor\":\"white\",\"linecolor\":\"white\",\"ticks\":\"\"},\"caxis\":{\"gridcolor\":\"white\",\"linecolor\":\"white\",\"ticks\":\"\"}},\"coloraxis\":{\"colorbar\":{\"outlinewidth\":0,\"ticks\":\"\"}},\"colorscale\":{\"sequential\":[[0.0,\"#0d0887\"],[0.1111111111111111,\"#46039f\"],[0.2222222222222222,\"#7201a8\"],[0.3333333333333333,\"#9c179e\"],[0.4444444444444444,\"#bd3786\"],[0.5555555555555556,\"#d8576b\"],[0.6666666666666666,\"#ed7953\"],[0.7777777777777778,\"#fb9f3a\"],[0.8888888888888888,\"#fdca26\"],[1.0,\"#f0f921\"]],\"sequentialminus\":[[0.0,\"#0d0887\"],[0.1111111111111111,\"#46039f\"],[0.2222222222222222,\"#7201a8\"],[0.3333333333333333,\"#9c179e\"],[0.4444444444444444,\"#bd3786\"],[0.5555555555555556,\"#d8576b\"],[0.6666666666666666,\"#ed7953\"],[0.7777777777777778,\"#fb9f3a\"],[0.8888888888888888,\"#fdca26\"],[1.0,\"#f0f921\"]],\"diverging\":[[0,\"#8e0152\"],[0.1,\"#c51b7d\"],[0.2,\"#de77ae\"],[0.3,\"#f1b6da\"],[0.4,\"#fde0ef\"],[0.5,\"#f7f7f7\"],[0.6,\"#e6f5d0\"],[0.7,\"#b8e186\"],[0.8,\"#7fbc41\"],[0.9,\"#4d9221\"],[1,\"#276419\"]]},\"xaxis\":{\"gridcolor\":\"white\",\"linecolor\":\"white\",\"ticks\":\"\",\"title\":{\"standoff\":15},\"zerolinecolor\":\"white\",\"automargin\":true,\"zerolinewidth\":2},\"yaxis\":{\"gridcolor\":\"white\",\"linecolor\":\"white\",\"ticks\":\"\",\"title\":{\"standoff\":15},\"zerolinecolor\":\"white\",\"automargin\":true,\"zerolinewidth\":2},\"scene\":{\"xaxis\":{\"backgroundcolor\":\"#E5ECF6\",\"gridcolor\":\"white\",\"linecolor\":\"white\",\"showbackground\":true,\"ticks\":\"\",\"zerolinecolor\":\"white\",\"gridwidth\":2},\"yaxis\":{\"backgroundcolor\":\"#E5ECF6\",\"gridcolor\":\"white\",\"linecolor\":\"white\",\"showbackground\":true,\"ticks\":\"\",\"zerolinecolor\":\"white\",\"gridwidth\":2},\"zaxis\":{\"backgroundcolor\":\"#E5ECF6\",\"gridcolor\":\"white\",\"linecolor\":\"white\",\"showbackground\":true,\"ticks\":\"\",\"zerolinecolor\":\"white\",\"gridwidth\":2}},\"shapedefaults\":{\"line\":{\"color\":\"#2a3f5f\"}},\"annotationdefaults\":{\"arrowcolor\":\"#2a3f5f\",\"arrowhead\":0,\"arrowwidth\":1},\"geo\":{\"bgcolor\":\"white\",\"landcolor\":\"#E5ECF6\",\"subunitcolor\":\"white\",\"showland\":true,\"showlakes\":true,\"lakecolor\":\"white\"},\"title\":{\"x\":0.05},\"mapbox\":{\"style\":\"light\"}}},\"xaxis\":{\"anchor\":\"y\",\"domain\":[0.0,0.45],\"title\":{\"text\":\"petal_width\"}},\"yaxis\":{\"anchor\":\"x\",\"domain\":[0.0,1.0],\"title\":{\"text\":\"petal_length\"}},\"xaxis2\":{\"anchor\":\"y2\",\"domain\":[0.55,1.0],\"title\":{\"text\":\"petal_width\"}},\"yaxis2\":{\"anchor\":\"x2\",\"domain\":[0.0,1.0],\"title\":{\"text\":\"petal_length\"}},\"title\":{\"text\":\"\\u0e41\\u0e1c\\u0e19\\u0e20\\u0e32\\u0e1e\\u0e40\\u0e1b\\u0e23\\u0e35\\u0e22\\u0e1a\\u0e40\\u0e17\\u0e35\\u0e22\\u0e1a\\u0e01\\u0e48\\u0e2d\\u0e19\\u0e41\\u0e25\\u0e30\\u0e2b\\u0e25\\u0e31\\u0e07 Standardization\"},\"height\":400,\"width\":1000},                        {\"responsive\": true}                    ).then(function(){\n",
              "                            \n",
              "var gd = document.getElementById('cb904702-e784-43f6-bf94-3761c18aa18e');\n",
              "var x = new MutationObserver(function (mutations, observer) {{\n",
              "        var display = window.getComputedStyle(gd).display;\n",
              "        if (!display || display === 'none') {{\n",
              "            console.log([gd, 'removed!']);\n",
              "            Plotly.purge(gd);\n",
              "            observer.disconnect();\n",
              "        }}\n",
              "}});\n",
              "\n",
              "// Listen for the removal of the full notebook cells\n",
              "var notebookContainer = gd.closest('#notebook-container');\n",
              "if (notebookContainer) {{\n",
              "    x.observe(notebookContainer, {childList: true});\n",
              "}}\n",
              "\n",
              "// Listen for the clearing of the current output cell\n",
              "var outputEl = gd.closest('.output');\n",
              "if (outputEl) {{\n",
              "    x.observe(outputEl, {childList: true});\n",
              "}}\n",
              "\n",
              "                        })                };                            </script>        </div>\n",
              "</body>\n",
              "</html>"
            ]
          },
          "metadata": {},
          "output_type": "display_data"
        }
      ],
      "source": [
        "from plotly.subplots import make_subplots\n",
        "import plotly.graph_objects as go\n",
        "\n",
        "fig = make_subplots(rows=1, cols=2)  # สร้างช่องไว้ล่วงหน้า 2 ช่อง เพื่อรอใส่กราฟ\n",
        "\n",
        "obj_1 = go.Scatter(x=X_train['petal_width'],\n",
        "                   y=X_train['petal_length'],\n",
        "                   mode='markers',\n",
        "                   name='ก่อนทำ')\n",
        "obj_2 = go.Scatter(x=new_X_train['petal_width'],\n",
        "                   y=new_X_train['petal_length'],\n",
        "                   mode='markers',\n",
        "                   name='หลังทำ')\n",
        "\n",
        "fig.add_trace(obj_1, row=1, col=1) # ใส่กราฟลงช่องแรก\n",
        "fig.add_trace(obj_2, row=1, col=2) # ใส่กราฟลงช่องที่สอง\n",
        "\n",
        "# แก้ไขชื่อแกนนอนและแกนตั้ง\n",
        "fig.update_xaxes(title_text='petal_width', row=1, col=1)\n",
        "fig.update_yaxes(title_text='petal_length', row=1, col=1)\n",
        "\n",
        "fig.update_xaxes(title_text='petal_width', row=1, col=2)\n",
        "fig.update_yaxes(title_text='petal_length', row=1, col=2)\n",
        "\n",
        "# แก้ไขขนาดและชื่อกราฟ\n",
        "fig.update_layout(height=400, width=1000, title_text=\"แผนภาพเปรียบเทียบก่อนและหลัง Standardization\")\n",
        "fig.show()"
      ]
    },
    {
      "cell_type": "markdown",
      "metadata": {
        "id": "2-zKjI7DXmBz"
      },
      "source": [
        "### ลองทำ: Normalization ให้อยู่ในช่วง -1 ถึง 1\n",
        "\n",
        "การทำ Normalization ให้ข้อมูลอยู่ในช่วง -1 ถึง 1 นั้นสามารถทำได้ด้วย Pandas ได้ โดยนักศึกษาอาจลองทำด้วยตนเองดูก่อน (ซึ่งจริง ๆ ไม่ยาก) แต่สำหรับในส่วนนี้ อยากจะลองให้ทำโดย `MinMaxScaler` ที่เป็นฟังก์ชันสำเร็จรูปของ Scikit-learn ซึ่งจะง่ายกว่า โดยสามารถนำเข้าได้ดังนี้\n",
        "\n",
        "```python\n",
        "from sklearn.preprocessing import MinMaxScaler\n",
        "scaler = MinMaxScaler((-1,1))  # ช่วง -1 ถึง 1\n",
        "```\n",
        "เมื่อสร้าง `scaler` ขึ้นมาแล้ว สามารถเรียกใช้งานได้ในแบบเดียวกับ `StandardScaler` ดังนั้น ขอให้นักศึกษาลองใช้งาน `scaler` ตัวนี้ด้วยตนเองในการ Normalize หากต้องการแหล่งอ้างอิง อาจดูคำอธิบายเพิ่มเติมจาก [ที่นี่](https://scikit-learn.org/stable/modules/generated/sklearn.preprocessing.MinMaxScaler.html)\n"
      ]
    },
    {
      "cell_type": "markdown",
      "metadata": {
        "id": "4PbyHS-I16Lu"
      },
      "source": [
        "### ลองทำ: ให้นำ `StandardScaler()` ไปใช้ก่อนการเทรนโมเดลและการทำนาย\n",
        "\n",
        "```python\n",
        "X = iris[['petal_width','petal_length']]  # X เป็น DataFrame\n",
        "Y = iris[['sepal_length']] # Y เป็น DataFrame\n",
        "label = iris[['class']]    # label เป็น DataFrame\n",
        "\n",
        "### เติมโค้ดด้านล่างให้สมบูรณ์ ###\n",
        "X_train, X_test, Y_train, Y_test = train_test_split(_____)\n",
        "\n",
        "# Standardization\n",
        "scaler = StandardScaler()\n",
        "new_X_train = scaler.fit_transform(X_train)\n",
        "new_X_test = scaler.transform(X_test)\n",
        "\n",
        "# เทรนโมเดล\n",
        "model = ______\n",
        "model.fit(_____)\n",
        "\n",
        "# ประสิทธิภาพกรณีทำนาย training set\n",
        "model.predict(_____)\n",
        "mean_squared_error(_____)\n",
        "\n",
        "# ประสิทธิภาพกรณีทำนาย test set\n",
        "model.predict(_____)\n",
        "mean_squared_error(_____)\n",
        "```"
      ]
    },
    {
      "cell_type": "markdown",
      "metadata": {
        "id": "SelUhx8KMN7L"
      },
      "source": [
        "## (ศึกษาเอง) ค่าความผิดพลาดอื่น ๆ\n",
        "\n",
        "นักศึกษาทราบแล้วว่า สามารถวัดความผิดพลาดของการทำนายได้โดยใช้ Mean Squared Error (MSE) แต่ยังมีค่าอื่น ๆ อีก สรุปรวมได้ดังตารางต่อไปนี้ โดย `y_true` คือค่าที่แท้จริง และ `y_pred` คือค่าที่ทำนายได้\n",
        "\n",
        "| ค่า | สูตรคณิตศาสตร์&nbsp;&nbsp;&nbsp;&nbsp;&nbsp;&nbsp;&nbsp;&nbsp;&nbsp;&nbsp;&nbsp;&nbsp;&nbsp;&nbsp;&nbsp;&nbsp; |  `from sklearn.metrics import ______`  |\n",
        "|:-- |:-- |:-- |\n",
        "| [Mean Squared Error (MSE)](https://scikit-learn.org/stable/modules/generated/sklearn.metrics.mean_squared_error.html) | $\\frac{1}{n} \\sum_{i=1}^n (\\hat{y}^{(i)} - y^{(i)})^2$ | `mean_squared_error(y_true, y_pred)` |\n",
        "| [Root Mean Squared Error (RMSE)](https://scikit-learn.org/dev/modules/generated/sklearn.metrics.root_mean_squared_error.html) | $\\sqrt{MSE}$ | `root_mean_squared_error(y_true, y_pred)` |\n",
        "| [Mean Absolute Error (MAE)](https://scikit-learn.org/stable/modules/generated/sklearn.metrics.mean_absolute_error.html) | $\\frac{1}{n} \\sum_{i=1}^n \\| \\hat{y}^{(i)} - y^{(i)}\\|$ |  `mean_absolute_error(y_true, y_pred)` |\n",
        "\n",
        "ค่าอื่น ๆ ที่สำคัญไม่แพ้กัน ได้แก่ค่า R-Squared หรือ coefficient of determination ซึ่งขอไม่กล่าวถึงรายละเอียด\n",
        "\n",
        "**ลองทำ:** ให้ลองคำนวณ MAE\n",
        "```python\n",
        "from sklearn.metrics import mean_absolute_error\n",
        "____________\n",
        "```\n",
        "\n",
        "> **Note:** สำหรับคำสั่ง `root_mean_squared_error` จะใช้ได้ใน Scikit-learn เวอร์ชัน 1.4 ขึ้นไป สำหรับการตรวจสอบเวอร์ชัน Scikit-learn ที่ลงมาให้ใน Google Colab ตรวจสอบได้จาก\n",
        "> ```python\n",
        "> import sklearn\n",
        "> sklearn.__version__\n",
        "> ```"
      ]
    },
    {
      "cell_type": "markdown",
      "metadata": {
        "id": "zWbtpV-jyz7m"
      },
      "source": [
        "## สรุปภาพรวมการพัฒนาโมเดล\n",
        "\n",
        "กระบวนการทั้งหมดในการทำนายค่า `sepal_length` เป็นดังนี้\n",
        "1. ตั้งโจทย์ปัญหาว่าจะทำนายอะไร (Problem formulation) ซึ่งกรณีนี้คือต้องการทำนาย sepal length  และตั้งคำถามว่า จะใช้อะไรเป็นตัวแปรต้นในการทำนาย ซึ่งต้องอาศัยความรู้เฉพาะทาง (Domain expertise) ว่ามันมีความสัมพันธ์กัน\n",
        "2. เดินสายเก็บข้อมูล (Data collection) วัดความยาวและความกว้างของดอกไอริส โดยในกรณีนี้มีคนเก็บข้อมูลไว้ให้แล้ว\n",
        "3. ทำความเข้าใจข้อมูล (Data understanding) ซึ่งทำไปในคาบก่อนที่ทำ Exploratory Data Analysis\n",
        "4. จัดการข้อมูลเบื้องต้นก่อนการเทรนโมเดล (Data preprocessing) ได้แก่ การแบ่งข้อมูล train/test และการทำ Standardization\n",
        "5. การเลือกโมเดล ซึ่งกรณีนี้ เราเลือกโมเดล Linear regression เพราะเห็นความสัมพันธ์เชิงเส้นในข้อมูล\n",
        "6. เทรนโมเดล (Model training)\n",
        "7. ใช้โมเดลทำนาย (Prediction) และทดสอบโมเดล (Evaluation) ด้วย MSE\n",
        "\n",
        "คำถามที่มักจะพบบ่อยเกี่ยวกับการใช้โมเดล Linear regression ก็คือ ตัวโมเดล Linear regression เหมาะสมกับชุดข้อมูลที่มีอยู่หรือไม่ โดยประเด็นนี้ จะเป็นประเด็นที่กล่าวถึงในหัวข้อต่อไป\n"
      ]
    }
  ],
  "metadata": {
    "colab": {
      "provenance": [],
      "toc_visible": true
    },
    "kernelspec": {
      "display_name": "Python 3",
      "name": "python3"
    },
    "language_info": {
      "codemirror_mode": {
        "name": "ipython",
        "version": 3
      },
      "file_extension": ".py",
      "mimetype": "text/x-python",
      "name": "python",
      "nbconvert_exporter": "python",
      "pygments_lexer": "ipython3",
      "version": "3.10.6"
    }
  },
  "nbformat": 4,
  "nbformat_minor": 0
}
