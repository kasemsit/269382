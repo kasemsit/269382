{
  "cells": [
    {
      "cell_type": "markdown",
      "metadata": {
        "id": "31gxnia2I5H8"
      },
      "source": [
        "# แบบฝึกหัด: การตรวจจับการฉ้อโกงบัตรเครดิต\n",
        "\n",
        "พิจารณาชุดข้อมูล [Credit card frauds](https://www.kaggle.com/datasets/mlg-ulb/creditcardfraud) จาก Kaggle ซึ่งสามารถดาวน์โหลดได้ดังนี้\n",
        "\n"
      ]
    },
    {
      "cell_type": "code",
      "execution_count": 1,
      "metadata": {
        "colab": {
          "base_uri": "https://localhost:8080/",
          "height": 106
        },
        "id": "Rnmm6_ZXSZpv",
        "outputId": "53313d18-ae26-45be-e08d-34285cbf3173",
        "tags": [
          "hide-output"
        ]
      },
      "outputs": [
        {
          "name": "stderr",
          "output_type": "stream",
          "text": [
            "Downloading...\n",
            "From: https://drive.google.com/uc?export=download&confirm=pbef&id=1pqOkV39Sk6_D64sVfkMXXzRLwe0y9rFE\n",
            "To: /content/creditcard.zip\n",
            "100%|██████████| 69.2M/69.2M [00:02<00:00, 30.4MB/s]\n"
          ]
        },
        {
          "data": {
            "application/vnd.google.colaboratory.intrinsic+json": {
              "type": "string"
            },
            "text/plain": [
              "'creditcard.zip'"
            ]
          },
          "execution_count": 1,
          "metadata": {},
          "output_type": "execute_result"
        }
      ],
      "source": [
        "import gdown\n",
        "file_id = '1pqOkV39Sk6_D64sVfkMXXzRLwe0y9rFE'\n",
        "output = 'creditcard.zip'\n",
        "gdown.download(f\"https://drive.google.com/uc?export=download&confirm=pbef&id={file_id}\", output)"
      ]
    },
    {
      "cell_type": "code",
      "execution_count": 2,
      "metadata": {
        "colab": {
          "base_uri": "https://localhost:8080/"
        },
        "id": "ySL5SUibSv36",
        "outputId": "52ff5fa7-67ee-497d-ab3a-661d67530bc7",
        "tags": [
          "hide-output"
        ]
      },
      "outputs": [
        {
          "name": "stdout",
          "output_type": "stream",
          "text": [
            "Archive:  creditcard.zip\n",
            "  inflating: creditcard.csv          \n"
          ]
        }
      ],
      "source": [
        "# แตกไฟล์ zip\n",
        "!unzip -o creditcard.zip"
      ]
    },
    {
      "cell_type": "markdown",
      "metadata": {
        "id": "6Gs2cABLSrza"
      },
      "source": [
        "โดยข้อมูลที่ให้ เป็นข้อมูลธุรกรรมบัตรเครดิต 2 วัน ในเดือนกันยายน 2013 จากธนาคารแห่งหนึ่งในยุโรป โดยมีรายละเอียดข้อมูลดังนี้\n",
        "\n",
        "- **ตัวแปรต้น**\n",
        "  - คอลัมน์ที่ถูกตั้งชื่อเป็น V1, V2, …, และ V28 ซึ่งเป็นค่าที่ถูกแปลงหรือลดมิติข้อมูลมาแล้ว ด้วยเทคนิค [Principal Component Analysis (PCA)](https://en.wikipedia.org/wiki/Principal_component_analysis)  ซึ่งสาเหตุของการไม่เผยแพร่ข้อมูลต้นฉบับ เนื่องมาจากเป็นข้อมูลส่วนบุคคลของลูกค้า\n",
        "  - คอลัมน์ Time กับ Amount ที่เป็นข้อมูลต้นฉบับที่ไม่ผ่าน PCA\n",
        "- **ตัวแปรตาม** เป็นไปได้ 2 ค่าคือ\n",
        "  - Class 0: ธุรกรรมปกติ (no fraud)\n",
        "  - Class 1: ธุรกรรมผิดปกติ (frauds)\n",
        "  "
      ]
    },
    {
      "cell_type": "markdown",
      "metadata": {
        "id": "YJBEuIylSVMX"
      },
      "source": [
        "จากข้อมูลข้างต้น จงทำนายความผิดปกติของธุรกรรม โดยใช้โมเดลต่อไปนี้\n",
        "  1. Logistic regression (`LogisticRegression`)\n",
        "  2. Decision tree (`DecisionTreeClassifier`)\n",
        "  3. Random forest (`RandomForestClassifier`, [คู่มือ](https://scikit-learn.org/stable/modules/generated/sklearn.ensemble.RandomForestClassifier.html))\n",
        "\n",
        "โดยให้ แบ่งข้อมูล **train 70% และ test 30%** ซึ่งต้องไม่ลืมการ Standardize ข้อมูลด้วย และในส่วนการเทรนโมเดล อาจใช้ `GridSearchCV` มาช่วยด้วยก็ได้\n",
        "\n",
        "จากโมเดลที่ได้\n",
        "1. ให้รายงานประสิทธิภาพของโมเดลโดยใช้ Confusion matrix\n",
        "2. ให้ระบุว่าโมเดลใดดีที่สุด\n",
        "3. ลองวิเคราะห์ว่า ทำไมการรายงานและเปรียบเทียบประสิทธิภาพของโมเดลโดยใช้ Accuracy (`accuracy_score`) จึงไม่ใช่สิ่งที่ถูกต้อง\n",
        "\n",
        "ทั้งนี้ นักศึกษายังไม่เคยเรียนว่าโมเดล Random forest คืออะไร โดยคร่าว ๆ แล้ว มันคือโมเดลตระกูลต้นไม้ ที่จะสร้าง Decision tree หลาย ๆ ต้นขึ้นมา โดยในการตัดสินใจ จะพิจารณานำผลการทำนายจาก Decision tree แต่ละต้น มาโหวตหรือเฉลี่ย เพื่อฟันธงผลลัพธ์สุดท้าย เราเรียกเทคนิคการใช้โมเดลหลาย ๆ ตัว มาช่วยกันตัดสินใจว่าโมเดลแบบ **Ensemble** \n",
        "\n",
        "> การที่ Random forest สร้างต้นไม้หลายต้นจากข้อมูลเดียวกัน หากต้องสอนต้นไม้ทุกต้นด้วยข้อมูลที่มีลำดับเหมือนกันหมด ก็จะกลายเป็นว่าได้ต้นไม้ที่เหมือน ๆ กัน ดังนั้น ในทางปฏิบัติ Random forest ก่อนที่จะสร้างต้นไม้แต่ละต้น Random forest จะทำการ shuffle ข้อมูลทั้งหมดก่อน จึงเป็นที่มาของคำว่า Random ในชื่อของ Random forest\n",
        "\n",
        "สำหรับรูปแบบการใช้ `RandomForestClassifier` จะเหมือนกับ `DecisionTreeClassifier` โดยที่จะต้องกำหนดว่า ต้องการสร้างต้นไม้กี่ต้น (`n_estimators`)\n",
        "\n",
        "```python\n",
        "from sklearn.ensemble import RandomForestClassifier\n",
        "model = RandomForestClassifier(n_estimators=จำนวนต้นไม้,\n",
        "     max_depth=จำนวนชั้นของต้นไม้ในการตัดสินใจ,   # เหมือนของ DecisionTreeClassifier\n",
        "     min_samples_split=จำนวนจุดข้อมูลขั้นต่ำที่จะทำการแตกกิ่ง, # เหมือนของ DecisionTreeClassifier\n",
        "     min_samples_leaf=จำนวนจุดข้อมูลขั้นต่ำที่ปลายกิ่งต้องมี,    # เหมือนของ DecisionTreeClassifier\n",
        "     random_state=ค่าซีดล็อคผลการสุ่ม)        # เหมือนของ DecisionTreeClassifier\n",
        "```\n",
        "\n",
        "ซึ่งศึกษาวิธีการใช้เพิ่มเติมได้จาก[คู่มือ](https://scikit-learn.org/stable/modules/generated/sklearn.ensemble.RandomForestClassifier.html)"
      ]
    }
  ],
  "metadata": {
    "colab": {
      "provenance": []
    },
    "kernelspec": {
      "display_name": "Python 3",
      "name": "python3"
    },
    "language_info": {
      "name": "python"
    }
  },
  "nbformat": 4,
  "nbformat_minor": 0
}
