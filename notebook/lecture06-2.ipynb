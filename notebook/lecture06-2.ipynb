{
  "cells": [
    {
      "cell_type": "markdown",
      "metadata": {
        "id": "6mKHA8qHynbD"
      },
      "source": [
        "# การตัดสินใจด้วยต้นไม้\n",
        "\n",
        "**จุดประสงค์การเรียนรู้**\n",
        "\n",
        "1. รู้จักวิธีการ Decision tree และทราบว่ามีวิธีการตัดสินใจต่างจาก Linear model (Linear/Logistic Regression) ในคาบที่ผ่านมาอย่างไร\n",
        "2. เทรนและทดสอบ Decision tree ได้\n",
        "3. ตระหนักถึงปัญหา overfit และ underfit ของโมเดลกับข้อมูล\n",
        "4. สามารถใช้ `GridSearchCV` ในการลองเทรนโมเดลที่การตั้งค่าต่าง ๆ\n"
      ]
    },
    {
      "cell_type": "markdown",
      "metadata": {
        "id": "eBhK4KUB41Kn"
      },
      "source": [
        "ในบทนี้ เราจะยังคงใช้ชุดข้อมูลเดิมจากบทที่ผ่านมา คือ [Car Evaluation](https://archive.ics.uci.edu/dataset/19/car+evaluation) ซึ่งเป็นชุดข้อมูลเกี่ยวกับการประเมินค่ารถ"
      ]
    },
    {
      "cell_type": "code",
      "execution_count": 3,
      "metadata": {
        "colab": {
          "base_uri": "https://localhost:8080/"
        },
        "id": "ZoV3S_fR9gGA",
        "outputId": "57a24298-1e16-49f5-e047-2684c03070bd",
        "tags": [
          "hide-output"
        ]
      },
      "outputs": [
        {
          "name": "stdout",
          "output_type": "stream",
          "text": [
            "Collecting ucimlrepo\n",
            "  Downloading ucimlrepo-0.0.3-py3-none-any.whl (7.0 kB)\n",
            "Installing collected packages: ucimlrepo\n",
            "Successfully installed ucimlrepo-0.0.3\n"
          ]
        }
      ],
      "source": [
        "%pip install ucimlrepo"
      ]
    },
    {
      "cell_type": "code",
      "execution_count": null,
      "metadata": {
        "id": "KLsKApYU6MdD"
      },
      "outputs": [],
      "source": [
        "from ucimlrepo import fetch_ucirepo\n",
        "car_evaluation = fetch_ucirepo(id=19)   # fetch dataset\n",
        "X = car_evaluation.data.features        # data (as pandas dataframes)\n",
        "y = car_evaluation.data.targets"
      ]
    },
    {
      "cell_type": "markdown",
      "metadata": {
        "id": "DhiWtoY76uW8"
      },
      "source": [
        "ชุดข้อมูล Car Evaluation มีตัวแปรดังต่อไปนี้\n",
        "\n",
        "|คอลัมน์| ความหมาย | ค่าที่เป็นไปได้ |\n",
        "|:--|:--|:-- |\n",
        "|buying|\tราคาซื้อ | vhigh, high, med, low |\n",
        "|maint | ค่าบำรุงรักษา\t\t| vhigh, high, med, low |\n",
        "|doors | จำนวนประตูรถ\t| 2, 3, 4, 5more |\n",
        "|persons | จำนวนผู้โดยสาร  | 2, 4, more |\n",
        "|lug_boot\t| ความจุท้ายรถ  | small, med, big |\n",
        "|safety| ประมาณการความปลอดภัยของรถ  | low, med, high |\n",
        "|class| ระดับการประเมินซึ่งแสดงถึง Car's Acceptability  | unacc, acc, good, vgood |\n"
      ]
    },
    {
      "cell_type": "code",
      "execution_count": null,
      "metadata": {
        "colab": {
          "base_uri": "https://localhost:8080/"
        },
        "id": "YWn3of2eVjHp",
        "outputId": "501f9f4e-cef0-4126-9229-6a50b14ebf98"
      },
      "outputs": [
        {
          "data": {
            "text/plain": [
              "class\n",
              "unacc    1210\n",
              "acc       384\n",
              "good       69\n",
              "vgood      65\n",
              "dtype: int64"
            ]
          },
          "execution_count": 3,
          "metadata": {},
          "output_type": "execute_result"
        }
      ],
      "source": [
        "y.value_counts()"
      ]
    },
    {
      "cell_type": "markdown",
      "metadata": {
        "id": "LAnXsSs5SExh"
      },
      "source": [
        "## เตรียมข้อมูลให้พร้อม"
      ]
    },
    {
      "cell_type": "markdown",
      "metadata": {
        "id": "4MtVJkviScAn"
      },
      "source": [
        "ก่อนอื่น แบ่งข้อมูล train/test โดยให้สัดส่วน 30% เป็นของข้อมูล test"
      ]
    },
    {
      "cell_type": "code",
      "execution_count": null,
      "metadata": {
        "id": "jZ7sZAe7qsIB"
      },
      "outputs": [],
      "source": [
        "from sklearn.model_selection import train_test_split\n",
        "X_train, X_test, y_train, y_test = train_test_split(X, y, test_size=0.3, random_state=123)"
      ]
    },
    {
      "cell_type": "markdown",
      "metadata": {
        "id": "rgiDVLx_Sn06"
      },
      "source": [
        "จากนั้น แปลงทุกคอลัมน์ของตัวแปรต้นให้เป็นตัวเลข ด้วย `OrdinalEncoder` เนื่องจากทุกคอลัมน์เป็นค่าที่มีลำดับ โดยวิธีการใช้ `OrdinalEncoder` เหมือนกับในบทที่ผ่านมา"
      ]
    },
    {
      "cell_type": "code",
      "execution_count": null,
      "metadata": {
        "colab": {
          "base_uri": "https://localhost:8080/",
          "height": 423
        },
        "id": "DMepyg-ir4Z4",
        "outputId": "cd1dfaa7-ed9f-4309-be51-6cfe2cdbf9de"
      },
      "outputs": [
        {
          "data": {
            "text/html": [
              "\n",
              "  <div id=\"df-487cc61f-2152-4e0c-9720-6ef9183d2b4e\" class=\"colab-df-container\">\n",
              "    <div>\n",
              "<style scoped>\n",
              "    .dataframe tbody tr th:only-of-type {\n",
              "        vertical-align: middle;\n",
              "    }\n",
              "\n",
              "    .dataframe tbody tr th {\n",
              "        vertical-align: top;\n",
              "    }\n",
              "\n",
              "    .dataframe thead th {\n",
              "        text-align: right;\n",
              "    }\n",
              "</style>\n",
              "<table border=\"1\" class=\"dataframe\">\n",
              "  <thead>\n",
              "    <tr style=\"text-align: right;\">\n",
              "      <th></th>\n",
              "      <th>buying</th>\n",
              "      <th>maint</th>\n",
              "      <th>doors</th>\n",
              "      <th>persons</th>\n",
              "      <th>lug_boot</th>\n",
              "      <th>safety</th>\n",
              "    </tr>\n",
              "  </thead>\n",
              "  <tbody>\n",
              "    <tr>\n",
              "      <th>1468</th>\n",
              "      <td>0.0</td>\n",
              "      <td>2.0</td>\n",
              "      <td>2.0</td>\n",
              "      <td>1.0</td>\n",
              "      <td>0.0</td>\n",
              "      <td>1.0</td>\n",
              "    </tr>\n",
              "    <tr>\n",
              "      <th>152</th>\n",
              "      <td>3.0</td>\n",
              "      <td>2.0</td>\n",
              "      <td>1.0</td>\n",
              "      <td>1.0</td>\n",
              "      <td>2.0</td>\n",
              "      <td>2.0</td>\n",
              "    </tr>\n",
              "    <tr>\n",
              "      <th>1119</th>\n",
              "      <td>1.0</td>\n",
              "      <td>1.0</td>\n",
              "      <td>1.0</td>\n",
              "      <td>1.0</td>\n",
              "      <td>1.0</td>\n",
              "      <td>0.0</td>\n",
              "    </tr>\n",
              "    <tr>\n",
              "      <th>1252</th>\n",
              "      <td>1.0</td>\n",
              "      <td>0.0</td>\n",
              "      <td>2.0</td>\n",
              "      <td>1.0</td>\n",
              "      <td>0.0</td>\n",
              "      <td>1.0</td>\n",
              "    </tr>\n",
              "    <tr>\n",
              "      <th>556</th>\n",
              "      <td>2.0</td>\n",
              "      <td>2.0</td>\n",
              "      <td>0.0</td>\n",
              "      <td>1.0</td>\n",
              "      <td>2.0</td>\n",
              "      <td>1.0</td>\n",
              "    </tr>\n",
              "    <tr>\n",
              "      <th>...</th>\n",
              "      <td>...</td>\n",
              "      <td>...</td>\n",
              "      <td>...</td>\n",
              "      <td>...</td>\n",
              "      <td>...</td>\n",
              "      <td>...</td>\n",
              "    </tr>\n",
              "    <tr>\n",
              "      <th>1122</th>\n",
              "      <td>1.0</td>\n",
              "      <td>1.0</td>\n",
              "      <td>1.0</td>\n",
              "      <td>1.0</td>\n",
              "      <td>2.0</td>\n",
              "      <td>0.0</td>\n",
              "    </tr>\n",
              "    <tr>\n",
              "      <th>1346</th>\n",
              "      <td>0.0</td>\n",
              "      <td>3.0</td>\n",
              "      <td>1.0</td>\n",
              "      <td>2.0</td>\n",
              "      <td>1.0</td>\n",
              "      <td>2.0</td>\n",
              "    </tr>\n",
              "    <tr>\n",
              "      <th>1406</th>\n",
              "      <td>0.0</td>\n",
              "      <td>2.0</td>\n",
              "      <td>0.0</td>\n",
              "      <td>0.0</td>\n",
              "      <td>0.0</td>\n",
              "      <td>2.0</td>\n",
              "    </tr>\n",
              "    <tr>\n",
              "      <th>1389</th>\n",
              "      <td>0.0</td>\n",
              "      <td>3.0</td>\n",
              "      <td>3.0</td>\n",
              "      <td>1.0</td>\n",
              "      <td>1.0</td>\n",
              "      <td>0.0</td>\n",
              "    </tr>\n",
              "    <tr>\n",
              "      <th>1534</th>\n",
              "      <td>0.0</td>\n",
              "      <td>1.0</td>\n",
              "      <td>0.0</td>\n",
              "      <td>2.0</td>\n",
              "      <td>1.0</td>\n",
              "      <td>1.0</td>\n",
              "    </tr>\n",
              "  </tbody>\n",
              "</table>\n",
              "<p>1209 rows × 6 columns</p>\n",
              "</div>\n",
              "    <div class=\"colab-df-buttons\">\n",
              "\n",
              "  <div class=\"colab-df-container\">\n",
              "    <button class=\"colab-df-convert\" onclick=\"convertToInteractive('df-487cc61f-2152-4e0c-9720-6ef9183d2b4e')\"\n",
              "            title=\"Convert this dataframe to an interactive table.\"\n",
              "            style=\"display:none;\">\n",
              "\n",
              "  <svg xmlns=\"http://www.w3.org/2000/svg\" height=\"24px\" viewBox=\"0 -960 960 960\">\n",
              "    <path d=\"M120-120v-720h720v720H120Zm60-500h600v-160H180v160Zm220 220h160v-160H400v160Zm0 220h160v-160H400v160ZM180-400h160v-160H180v160Zm440 0h160v-160H620v160ZM180-180h160v-160H180v160Zm440 0h160v-160H620v160Z\"/>\n",
              "  </svg>\n",
              "    </button>\n",
              "\n",
              "  <style>\n",
              "    .colab-df-container {\n",
              "      display:flex;\n",
              "      gap: 12px;\n",
              "    }\n",
              "\n",
              "    .colab-df-convert {\n",
              "      background-color: #E8F0FE;\n",
              "      border: none;\n",
              "      border-radius: 50%;\n",
              "      cursor: pointer;\n",
              "      display: none;\n",
              "      fill: #1967D2;\n",
              "      height: 32px;\n",
              "      padding: 0 0 0 0;\n",
              "      width: 32px;\n",
              "    }\n",
              "\n",
              "    .colab-df-convert:hover {\n",
              "      background-color: #E2EBFA;\n",
              "      box-shadow: 0px 1px 2px rgba(60, 64, 67, 0.3), 0px 1px 3px 1px rgba(60, 64, 67, 0.15);\n",
              "      fill: #174EA6;\n",
              "    }\n",
              "\n",
              "    .colab-df-buttons div {\n",
              "      margin-bottom: 4px;\n",
              "    }\n",
              "\n",
              "    [theme=dark] .colab-df-convert {\n",
              "      background-color: #3B4455;\n",
              "      fill: #D2E3FC;\n",
              "    }\n",
              "\n",
              "    [theme=dark] .colab-df-convert:hover {\n",
              "      background-color: #434B5C;\n",
              "      box-shadow: 0px 1px 3px 1px rgba(0, 0, 0, 0.15);\n",
              "      filter: drop-shadow(0px 1px 2px rgba(0, 0, 0, 0.3));\n",
              "      fill: #FFFFFF;\n",
              "    }\n",
              "  </style>\n",
              "\n",
              "    <script>\n",
              "      const buttonEl =\n",
              "        document.querySelector('#df-487cc61f-2152-4e0c-9720-6ef9183d2b4e button.colab-df-convert');\n",
              "      buttonEl.style.display =\n",
              "        google.colab.kernel.accessAllowed ? 'block' : 'none';\n",
              "\n",
              "      async function convertToInteractive(key) {\n",
              "        const element = document.querySelector('#df-487cc61f-2152-4e0c-9720-6ef9183d2b4e');\n",
              "        const dataTable =\n",
              "          await google.colab.kernel.invokeFunction('convertToInteractive',\n",
              "                                                    [key], {});\n",
              "        if (!dataTable) return;\n",
              "\n",
              "        const docLinkHtml = 'Like what you see? Visit the ' +\n",
              "          '<a target=\"_blank\" href=https://colab.research.google.com/notebooks/data_table.ipynb>data table notebook</a>'\n",
              "          + ' to learn more about interactive tables.';\n",
              "        element.innerHTML = '';\n",
              "        dataTable['output_type'] = 'display_data';\n",
              "        await google.colab.output.renderOutput(dataTable, element);\n",
              "        const docLink = document.createElement('div');\n",
              "        docLink.innerHTML = docLinkHtml;\n",
              "        element.appendChild(docLink);\n",
              "      }\n",
              "    </script>\n",
              "  </div>\n",
              "\n",
              "\n",
              "<div id=\"df-94c56536-301b-41bf-835c-0eb22623b3b8\">\n",
              "  <button class=\"colab-df-quickchart\" onclick=\"quickchart('df-94c56536-301b-41bf-835c-0eb22623b3b8')\"\n",
              "            title=\"Suggest charts\"\n",
              "            style=\"display:none;\">\n",
              "\n",
              "<svg xmlns=\"http://www.w3.org/2000/svg\" height=\"24px\"viewBox=\"0 0 24 24\"\n",
              "     width=\"24px\">\n",
              "    <g>\n",
              "        <path d=\"M19 3H5c-1.1 0-2 .9-2 2v14c0 1.1.9 2 2 2h14c1.1 0 2-.9 2-2V5c0-1.1-.9-2-2-2zM9 17H7v-7h2v7zm4 0h-2V7h2v10zm4 0h-2v-4h2v4z\"/>\n",
              "    </g>\n",
              "</svg>\n",
              "  </button>\n",
              "\n",
              "<style>\n",
              "  .colab-df-quickchart {\n",
              "      --bg-color: #E8F0FE;\n",
              "      --fill-color: #1967D2;\n",
              "      --hover-bg-color: #E2EBFA;\n",
              "      --hover-fill-color: #174EA6;\n",
              "      --disabled-fill-color: #AAA;\n",
              "      --disabled-bg-color: #DDD;\n",
              "  }\n",
              "\n",
              "  [theme=dark] .colab-df-quickchart {\n",
              "      --bg-color: #3B4455;\n",
              "      --fill-color: #D2E3FC;\n",
              "      --hover-bg-color: #434B5C;\n",
              "      --hover-fill-color: #FFFFFF;\n",
              "      --disabled-bg-color: #3B4455;\n",
              "      --disabled-fill-color: #666;\n",
              "  }\n",
              "\n",
              "  .colab-df-quickchart {\n",
              "    background-color: var(--bg-color);\n",
              "    border: none;\n",
              "    border-radius: 50%;\n",
              "    cursor: pointer;\n",
              "    display: none;\n",
              "    fill: var(--fill-color);\n",
              "    height: 32px;\n",
              "    padding: 0;\n",
              "    width: 32px;\n",
              "  }\n",
              "\n",
              "  .colab-df-quickchart:hover {\n",
              "    background-color: var(--hover-bg-color);\n",
              "    box-shadow: 0 1px 2px rgba(60, 64, 67, 0.3), 0 1px 3px 1px rgba(60, 64, 67, 0.15);\n",
              "    fill: var(--button-hover-fill-color);\n",
              "  }\n",
              "\n",
              "  .colab-df-quickchart-complete:disabled,\n",
              "  .colab-df-quickchart-complete:disabled:hover {\n",
              "    background-color: var(--disabled-bg-color);\n",
              "    fill: var(--disabled-fill-color);\n",
              "    box-shadow: none;\n",
              "  }\n",
              "\n",
              "  .colab-df-spinner {\n",
              "    border: 2px solid var(--fill-color);\n",
              "    border-color: transparent;\n",
              "    border-bottom-color: var(--fill-color);\n",
              "    animation:\n",
              "      spin 1s steps(1) infinite;\n",
              "  }\n",
              "\n",
              "  @keyframes spin {\n",
              "    0% {\n",
              "      border-color: transparent;\n",
              "      border-bottom-color: var(--fill-color);\n",
              "      border-left-color: var(--fill-color);\n",
              "    }\n",
              "    20% {\n",
              "      border-color: transparent;\n",
              "      border-left-color: var(--fill-color);\n",
              "      border-top-color: var(--fill-color);\n",
              "    }\n",
              "    30% {\n",
              "      border-color: transparent;\n",
              "      border-left-color: var(--fill-color);\n",
              "      border-top-color: var(--fill-color);\n",
              "      border-right-color: var(--fill-color);\n",
              "    }\n",
              "    40% {\n",
              "      border-color: transparent;\n",
              "      border-right-color: var(--fill-color);\n",
              "      border-top-color: var(--fill-color);\n",
              "    }\n",
              "    60% {\n",
              "      border-color: transparent;\n",
              "      border-right-color: var(--fill-color);\n",
              "    }\n",
              "    80% {\n",
              "      border-color: transparent;\n",
              "      border-right-color: var(--fill-color);\n",
              "      border-bottom-color: var(--fill-color);\n",
              "    }\n",
              "    90% {\n",
              "      border-color: transparent;\n",
              "      border-bottom-color: var(--fill-color);\n",
              "    }\n",
              "  }\n",
              "</style>\n",
              "\n",
              "  <script>\n",
              "    async function quickchart(key) {\n",
              "      const quickchartButtonEl =\n",
              "        document.querySelector('#' + key + ' button');\n",
              "      quickchartButtonEl.disabled = true;  // To prevent multiple clicks.\n",
              "      quickchartButtonEl.classList.add('colab-df-spinner');\n",
              "      try {\n",
              "        const charts = await google.colab.kernel.invokeFunction(\n",
              "            'suggestCharts', [key], {});\n",
              "      } catch (error) {\n",
              "        console.error('Error during call to suggestCharts:', error);\n",
              "      }\n",
              "      quickchartButtonEl.classList.remove('colab-df-spinner');\n",
              "      quickchartButtonEl.classList.add('colab-df-quickchart-complete');\n",
              "    }\n",
              "    (() => {\n",
              "      let quickchartButtonEl =\n",
              "        document.querySelector('#df-94c56536-301b-41bf-835c-0eb22623b3b8 button');\n",
              "      quickchartButtonEl.style.display =\n",
              "        google.colab.kernel.accessAllowed ? 'block' : 'none';\n",
              "    })();\n",
              "  </script>\n",
              "</div>\n",
              "    </div>\n",
              "  </div>\n"
            ],
            "text/plain": [
              "      buying  maint  doors  persons  lug_boot  safety\n",
              "1468     0.0    2.0    2.0      1.0       0.0     1.0\n",
              "152      3.0    2.0    1.0      1.0       2.0     2.0\n",
              "1119     1.0    1.0    1.0      1.0       1.0     0.0\n",
              "1252     1.0    0.0    2.0      1.0       0.0     1.0\n",
              "556      2.0    2.0    0.0      1.0       2.0     1.0\n",
              "...      ...    ...    ...      ...       ...     ...\n",
              "1122     1.0    1.0    1.0      1.0       2.0     0.0\n",
              "1346     0.0    3.0    1.0      2.0       1.0     2.0\n",
              "1406     0.0    2.0    0.0      0.0       0.0     2.0\n",
              "1389     0.0    3.0    3.0      1.0       1.0     0.0\n",
              "1534     0.0    1.0    0.0      2.0       1.0     1.0\n",
              "\n",
              "[1209 rows x 6 columns]"
            ]
          },
          "execution_count": 5,
          "metadata": {},
          "output_type": "execute_result"
        }
      ],
      "source": [
        "from sklearn.preprocessing import OrdinalEncoder\n",
        "\n",
        "ord = OrdinalEncoder(categories=\n",
        "     [['low','med','high','vhigh'],  # ลำดับของค่าในคอลัมน์ buying\n",
        "      ['low','med','high','vhigh'],  # ลำดับของค่าในคอลัมน์ maint\n",
        "      ['2', '3', '4', '5more'],      # ลำดับของค่าในคอลัมน์ doors\n",
        "      ['2', '4', 'more'],            # ลำดับของค่าในคอลัมน์ persons\n",
        "      ['small','med','big'],         # ลำดับของค่าในคอลัมน์ lug_boot\n",
        "      ['low','med','high']]          # ลำดับของค่าในคอลัมน์ safety\n",
        ")\n",
        "ord.set_output(transform='pandas')\n",
        "X_train_new = ord.fit_transform(X_train)\n",
        "X_train_new"
      ]
    },
    {
      "cell_type": "markdown",
      "metadata": {
        "id": "a8Ka4U8iC7ce"
      },
      "source": [
        "## เทรนโมเดล Decision tree\n",
        "\n",
        "ก่อนอื่น ให้ศึกษาหลักการเบื้องต้นของโมเดลต้นไม้ตัดสินใจ (Decision tree) จาก [Slides (คลิกเพื่อเปิด)](https://docs.google.com/presentation/d/1qCZki7tNQGmRlzqnQchn2i2f5ED2gRtw3mObhiRy3yU/edit?usp=sharing) โดยในส่วนของการเขียนโค้ด เราจะใช้ `DecisionTreeClassifier` ([คู่มือ](https://scikit-learn.org/stable/modules/generated/sklearn.tree.DecisionTreeClassifier.html)) ของ Scikit-learn ซึ่งมีรูปแบบใช้งานไม่ต่างจาก `LinearRegression/LogisticRegression` มากนัก ยกเว้นโมเดลจะมีการกำหนดค่าพารามิเตอร์ที่แตกต่างกัน\n",
        "\n",
        "สำหรับรูปแบบการใช้งาน และพารามิเตอร์ที่กำหนดได้ในเบื้องต้น เป็นดังนี้\n",
        "\n",
        "```python\n",
        "from sklearn.tree import DecisionTreeClassifier\n",
        "dt = DecisionTreeClassifier(\n",
        "            criterion='gini' หรือ 'entropy',\n",
        "            max_depth=จำนวนชั้นการตัดสินใจ,\n",
        "            min_samples_split=จำนวนจุดข้อมูลขั้นต่ำที่จะทำการแตกกิ่ง,\n",
        "            min_samples_leaf=จำนวนจุดข้อมูลขั้นต่ำที่ปลายกิ่งต้องมี,\n",
        "            random_state=ค่าซีดล็อคผลการสุ่มถ้ามี)\n",
        "```"
      ]
    },
    {
      "cell_type": "code",
      "execution_count": null,
      "metadata": {
        "colab": {
          "base_uri": "https://localhost:8080/",
          "height": 75
        },
        "id": "FiZBtyiWrNS0",
        "outputId": "6a42e636-9a90-4897-e7e8-25cb187ffad0"
      },
      "outputs": [
        {
          "data": {
            "text/html": [
              "<style>#sk-container-id-1 {color: black;background-color: white;}#sk-container-id-1 pre{padding: 0;}#sk-container-id-1 div.sk-toggleable {background-color: white;}#sk-container-id-1 label.sk-toggleable__label {cursor: pointer;display: block;width: 100%;margin-bottom: 0;padding: 0.3em;box-sizing: border-box;text-align: center;}#sk-container-id-1 label.sk-toggleable__label-arrow:before {content: \"▸\";float: left;margin-right: 0.25em;color: #696969;}#sk-container-id-1 label.sk-toggleable__label-arrow:hover:before {color: black;}#sk-container-id-1 div.sk-estimator:hover label.sk-toggleable__label-arrow:before {color: black;}#sk-container-id-1 div.sk-toggleable__content {max-height: 0;max-width: 0;overflow: hidden;text-align: left;background-color: #f0f8ff;}#sk-container-id-1 div.sk-toggleable__content pre {margin: 0.2em;color: black;border-radius: 0.25em;background-color: #f0f8ff;}#sk-container-id-1 input.sk-toggleable__control:checked~div.sk-toggleable__content {max-height: 200px;max-width: 100%;overflow: auto;}#sk-container-id-1 input.sk-toggleable__control:checked~label.sk-toggleable__label-arrow:before {content: \"▾\";}#sk-container-id-1 div.sk-estimator input.sk-toggleable__control:checked~label.sk-toggleable__label {background-color: #d4ebff;}#sk-container-id-1 div.sk-label input.sk-toggleable__control:checked~label.sk-toggleable__label {background-color: #d4ebff;}#sk-container-id-1 input.sk-hidden--visually {border: 0;clip: rect(1px 1px 1px 1px);clip: rect(1px, 1px, 1px, 1px);height: 1px;margin: -1px;overflow: hidden;padding: 0;position: absolute;width: 1px;}#sk-container-id-1 div.sk-estimator {font-family: monospace;background-color: #f0f8ff;border: 1px dotted black;border-radius: 0.25em;box-sizing: border-box;margin-bottom: 0.5em;}#sk-container-id-1 div.sk-estimator:hover {background-color: #d4ebff;}#sk-container-id-1 div.sk-parallel-item::after {content: \"\";width: 100%;border-bottom: 1px solid gray;flex-grow: 1;}#sk-container-id-1 div.sk-label:hover label.sk-toggleable__label {background-color: #d4ebff;}#sk-container-id-1 div.sk-serial::before {content: \"\";position: absolute;border-left: 1px solid gray;box-sizing: border-box;top: 0;bottom: 0;left: 50%;z-index: 0;}#sk-container-id-1 div.sk-serial {display: flex;flex-direction: column;align-items: center;background-color: white;padding-right: 0.2em;padding-left: 0.2em;position: relative;}#sk-container-id-1 div.sk-item {position: relative;z-index: 1;}#sk-container-id-1 div.sk-parallel {display: flex;align-items: stretch;justify-content: center;background-color: white;position: relative;}#sk-container-id-1 div.sk-item::before, #sk-container-id-1 div.sk-parallel-item::before {content: \"\";position: absolute;border-left: 1px solid gray;box-sizing: border-box;top: 0;bottom: 0;left: 50%;z-index: -1;}#sk-container-id-1 div.sk-parallel-item {display: flex;flex-direction: column;z-index: 1;position: relative;background-color: white;}#sk-container-id-1 div.sk-parallel-item:first-child::after {align-self: flex-end;width: 50%;}#sk-container-id-1 div.sk-parallel-item:last-child::after {align-self: flex-start;width: 50%;}#sk-container-id-1 div.sk-parallel-item:only-child::after {width: 0;}#sk-container-id-1 div.sk-dashed-wrapped {border: 1px dashed gray;margin: 0 0.4em 0.5em 0.4em;box-sizing: border-box;padding-bottom: 0.4em;background-color: white;}#sk-container-id-1 div.sk-label label {font-family: monospace;font-weight: bold;display: inline-block;line-height: 1.2em;}#sk-container-id-1 div.sk-label-container {text-align: center;}#sk-container-id-1 div.sk-container {/* jupyter's `normalize.less` sets `[hidden] { display: none; }` but bootstrap.min.css set `[hidden] { display: none !important; }` so we also need the `!important` here to be able to override the default hidden behavior on the sphinx rendered scikit-learn.org. See: https://github.com/scikit-learn/scikit-learn/issues/21755 */display: inline-block !important;position: relative;}#sk-container-id-1 div.sk-text-repr-fallback {display: none;}</style><div id=\"sk-container-id-1\" class=\"sk-top-container\"><div class=\"sk-text-repr-fallback\"><pre>DecisionTreeClassifier(max_depth=3, random_state=123)</pre><b>In a Jupyter environment, please rerun this cell to show the HTML representation or trust the notebook. <br />On GitHub, the HTML representation is unable to render, please try loading this page with nbviewer.org.</b></div><div class=\"sk-container\" hidden><div class=\"sk-item\"><div class=\"sk-estimator sk-toggleable\"><input class=\"sk-toggleable__control sk-hidden--visually\" id=\"sk-estimator-id-1\" type=\"checkbox\" checked><label for=\"sk-estimator-id-1\" class=\"sk-toggleable__label sk-toggleable__label-arrow\">DecisionTreeClassifier</label><div class=\"sk-toggleable__content\"><pre>DecisionTreeClassifier(max_depth=3, random_state=123)</pre></div></div></div></div></div>"
            ],
            "text/plain": [
              "DecisionTreeClassifier(max_depth=3, random_state=123)"
            ]
          },
          "execution_count": 6,
          "metadata": {},
          "output_type": "execute_result"
        }
      ],
      "source": [
        "from sklearn.tree import DecisionTreeClassifier\n",
        "dt = DecisionTreeClassifier(criterion='gini',\n",
        "                            max_depth=3,\n",
        "                            min_samples_split=2,\n",
        "                            min_samples_leaf=1,\n",
        "                            random_state=123)\n",
        "\n",
        "dt.fit(X_train_new, y_train)"
      ]
    },
    {
      "cell_type": "markdown",
      "metadata": {
        "id": "nlqxsT8_VbKz"
      },
      "source": [
        "## ประเมินประสิทธิภาพของโมเดล\n",
        "\n"
      ]
    },
    {
      "cell_type": "code",
      "execution_count": null,
      "metadata": {
        "colab": {
          "base_uri": "https://localhost:8080/"
        },
        "id": "tDbZr9K6s47H",
        "outputId": "8646c9a4-b462-4ecd-93f3-92a10f15944b"
      },
      "outputs": [
        {
          "name": "stdout",
          "output_type": "stream",
          "text": [
            "Accuracy on the training set = 0.8147\n"
          ]
        }
      ],
      "source": [
        "from sklearn.metrics import accuracy_score\n",
        "y_train_pred = dt.predict(X_train_new)\n",
        "acc = accuracy_score(y_train, y_train_pred)\n",
        "print(f'Accuracy on the training set = {acc:.4f}')"
      ]
    },
    {
      "cell_type": "code",
      "execution_count": null,
      "metadata": {
        "colab": {
          "base_uri": "https://localhost:8080/"
        },
        "id": "28TBh2tHvkce",
        "outputId": "95edf351-b79d-4f60-b8e3-f958f768cdfe"
      },
      "outputs": [
        {
          "name": "stdout",
          "output_type": "stream",
          "text": [
            "Accuracy on the test set = 0.7842\n"
          ]
        }
      ],
      "source": [
        "X_test_new = ord.transform(X_test)\n",
        "y_test_pred = dt.predict(X_test_new)\n",
        "acc = accuracy_score(y_test, y_test_pred)\n",
        "print(f'Accuracy on the test set = {acc:.4f}')"
      ]
    },
    {
      "cell_type": "markdown",
      "metadata": {
        "id": "yUINlBwobz3z"
      },
      "source": [
        "หากจะลองป้อนข้อมูล 1 example เข้าไป เพื่อดูว่าโมเดลทำนายอะไรออกมา ก็ทำได้ ยกตัวอย่างเช่น ป้อน\n",
        "\n",
        "\n",
        "|'buying'|'maint'| 'doors'|'persons'|'lug_boot'|'safety'|\n",
        "|:--|:--|:--|:--|:--|:--|\n",
        "|'low'|   'vhigh'| '2'|    '4'|      'small'|   'low'|\n",
        "\n",
        "จะพบว่าทำนาย `unacc` ออกมาดังโค้ดด้านล่างนี้"
      ]
    },
    {
      "cell_type": "code",
      "execution_count": null,
      "metadata": {
        "colab": {
          "base_uri": "https://localhost:8080/"
        },
        "id": "FdSq19VEYKWc",
        "outputId": "cc489cf3-9b83-4cb8-fbff-61cbe03f2dc4"
      },
      "outputs": [
        {
          "name": "stdout",
          "output_type": "stream",
          "text": [
            "Before OrdinalEncoder:\n",
            "   buying  maint doors persons lug_boot safety\n",
            "0    low  vhigh     2       4    small    low\n",
            "Input to the model:\n",
            "    buying  maint  doors  persons  lug_boot  safety\n",
            "0     0.0    3.0    0.0      1.0       0.0     0.0\n",
            "Model prediction:\n",
            "['unacc']\n"
          ]
        }
      ],
      "source": [
        "import pandas as pd\n",
        "sample_input = pd.DataFrame([['low',   'vhigh', '2',    '4',      'small',   'low']],\n",
        "                     columns=['buying','maint', 'doors','persons','lug_boot','safety'])\n",
        "print(f'Before OrdinalEncoder:\\n {sample_input}')\n",
        "sample_input = ord.transform(sample_input)\n",
        "print(f'Input to the model:\\n {sample_input}')\n",
        "prediction = dt.predict(sample_input)\n",
        "print(f'Model prediction:\\n{prediction}')"
      ]
    },
    {
      "cell_type": "markdown",
      "metadata": {},
      "source": [
        "ผลดังกล่าว สอดคล้องกับกราฟจาก `plot_tree` ในห้วข้อถัดไปหรือไม่?"
      ]
    },
    {
      "cell_type": "markdown",
      "metadata": {
        "id": "L9YRBq1FWRS_"
      },
      "source": [
        "## การแปลผลการติดสินใจ\n",
        "\n",
        "โมเดล Decision tree ตัดสินใจโดยการหากฎ IF/ELSE จากข้อมูล  ที่สามารถแบ่งข้อมูลได้ดีที่สุด เราสามารถตรวจสอบกฎดังกล่าว ที่ได้จากการเทรน ดังนี้"
      ]
    },
    {
      "cell_type": "code",
      "execution_count": null,
      "metadata": {
        "colab": {
          "base_uri": "https://localhost:8080/",
          "height": 406
        },
        "id": "40EgIBfUwsP-",
        "outputId": "1a7c1dd6-c2fa-40bb-ae7e-04ade99a4c81"
      },
      "outputs": [
        {
          "data": {
            "image/png": "[encoded data removed]",
            "text/plain": [
              "<Figure size 640x480 with 1 Axes>"
            ]
          },
          "metadata": {},
          "output_type": "display_data"
        }
      ],
      "source": [
        "from sklearn.tree import plot_tree\n",
        "feature_names = dt.feature_names_in_  # ชื่อของคอลัมน์ที่นำมาเทรนโมเดล\n",
        "plot_tree(dt,   # ตัว DecisionTreeClassifier ที่เทรนแล้ว\n",
        "          filled=True, # ระบายสีลงในแผนภาพ\n",
        "          feature_names=feature_names # ใส่ชื่อคุณลักษณะหรือคอลัมน์ของข้อมูลที่ใช้ตัดสินใจ)\n",
        ");"
      ]
    },
    {
      "cell_type": "markdown",
      "metadata": {
        "id": "9uwEur7ncsaY"
      },
      "source": [
        "จากกราฟ ลำดับการตัดสินใจในแต่ละ node ว่าจะเริ่มตัดสินใจจากตัวแปรใดบ้าง รวมถึงตัดสินใจแบ่งด้วยค่าเท่าไรนั้น เช่น `persons<=0.5` หรือ  `maint<=2.5` เป็นสิ่งที่เรียนรู้จากข้อมูล training\n",
        "\n",
        "**วิธีอ่านกราฟ:**\n",
        "\n",
        "ลูกศรที่ออกจากแต่ละ node ของกราฟ *หากชี้ซ้าย แปลว่า จริง และหากชี้ขวา แปลว่า เท็จ*\n",
        "\n",
        "ในแต่ละโหนดของกราฟ\n",
        "\n",
        "1. คอลัมน์ที่จะใช้ในการตัดสินใจที่ node นั้น ๆ เช่น `persons<=0.5`\n",
        "2. สถานะของค่า impurity ที่ node นั้น ๆ เช่น `gini=0.459` (เป็นค่าก่อนการใช้กฎการตัดสินใจจากข้อ 1.)\n",
        "3. จำนวนข้อมูลทั้งหมดที่ node นั้น ๆ\n",
        "4. จำนวนข้อมูลจากข้อ 3 แจกแจงจำนวนตาม class ใน node นั้น ๆ ตามลำดับ `['acc', 'good', 'unacc', 'vgood']` (ดูลำดับจาก `dt.classes_`)\n",
        "\n",
        "\n"
      ]
    },
    {
      "cell_type": "code",
      "execution_count": null,
      "metadata": {
        "colab": {
          "base_uri": "https://localhost:8080/"
        },
        "id": "9nx9LBfAgEjI",
        "outputId": "72a0a4f5-55d9-47be-e948-6e7fbf500eef"
      },
      "outputs": [
        {
          "data": {
            "text/plain": [
              "array(['acc', 'good', 'unacc', 'vgood'], dtype=object)"
            ]
          },
          "execution_count": 10,
          "metadata": {},
          "output_type": "execute_result"
        }
      ],
      "source": [
        "dt.classes_  # ค่า value= ในกราฟ จะเรียงลำดับตาม dt.classes_"
      ]
    },
    {
      "cell_type": "markdown",
      "metadata": {
        "id": "Q4DaEWFMh10l"
      },
      "source": [
        "## ปัญหา overfit และ underfit\n",
        "\n",
        "ปัญหาที่ Decision tree มักผจญเสมอ ก็คือปัญหา overfit และ underfit อันที่จริงปัญหานี้ เป็นปัญหาสำคัญที่พบได้กับทุก**โมเดล ที่สามารถสร้างรูปแบบการตัดสินใจที่ซับซ้อนมากเกินไปหรือน้อยเกินไป** ดังนั้น เราลองมาทำความเข้าใจว่า มันคือปัญหาอะไรกันแน่\n",
        "\n",
        "เพื่อให้เห็นภาพ เราจะใช้โค้ดตั้งต้นเดิม แต่เปลี่ยนไปใช้ชุดข้อมูล [Dry Bean](https://archive.ics.uci.edu/dataset/602/dry+bean+dataset) (ชุดข้อมูลจำแนกพันธุ์ถั่วแห้ง) ซึ่งมีความยากกว่าชุดข้อมูล Car Evaluation โดยตัด `OrdinalEncoder` ทิ้งไป เพราะชุดข้อมูล Dry Bean เป็นตัวเลขทั้งหมดอยู่แล้ว\n",
        "\n",
        "สำหรับชุดข้อมูล Dry Bean เราจะมีข้อมูลถั่วทั้งหมด 13,611 เมล็ด ซึ่งแต่ละเมล็ดมี 16 คุณลักษณะ เพื่อใช้จำแนกชนิดถั่วออกเป็น 7 ประเภท\n",
        "\n",
        "นักศึกษาไม่จำเป็นต้องทำความเข้าใจว่าแต่ละคอลัมน์ของชุดข้อมูล Dry Bean คืออะไร แต่ให้ลองรันโค้ดด้านล่างนี้ และทดสอบปรับค่า `max_depth` ที่ค่าต่าง ๆ เช่น\n",
        "\n",
        "`max_depth = 2, 3, 4, ..., 10, 100`\n",
        "\n",
        "แล้วให้สังเกตุค่า Accuracy ของ training set เทียบกับ test set"
      ]
    },
    {
      "cell_type": "code",
      "execution_count": 2,
      "metadata": {
        "colab": {
          "base_uri": "https://localhost:8080/"
        },
        "id": "j7m0r2mMiBSr",
        "outputId": "d6d70dd1-e3d7-43b8-beb8-c796c2d99bc2"
      },
      "outputs": [
        {
          "name": "stdout",
          "output_type": "stream",
          "text": [
            "Accuracy: train = 0.9648, test = 0.9067\n"
          ]
        }
      ],
      "source": [
        "# โค้ดในบล๊อคนี้ เป็นโค้ดที่สมบูรณ์ในตัว\n",
        "%reset -f\n",
        "from ucimlrepo import fetch_ucirepo\n",
        "from sklearn.model_selection import train_test_split\n",
        "from sklearn.tree import DecisionTreeClassifier\n",
        "from sklearn.metrics import accuracy_score\n",
        "\n",
        "data = fetch_ucirepo(id=602)   # fetch dataset\n",
        "X = data.data.features        # data (as pandas dataframes)\n",
        "y = data.data.targets\n",
        "\n",
        "X_train, X_test, y_train, y_test = train_test_split(X, y, test_size=0.3, random_state=123)\n",
        "\n",
        "dt = DecisionTreeClassifier(criterion='gini',\n",
        "                            max_depth=30,   ### ลองแก้ตรงนี้\n",
        "                            min_samples_split=2,\n",
        "                            min_samples_leaf=1,\n",
        "                            random_state=123)\n",
        "\n",
        "# เริ่มเทรน\n",
        "dt.fit(X_train, y_train)\n",
        "\n",
        "# Training set\n",
        "y_train_pred = dt.predict(X_train)\n",
        "acc_train = accuracy_score(y_train, y_train_pred)\n",
        "\n",
        "# Test set\n",
        "y_test_pred = dt.predict(X_test)\n",
        "acc_test = accuracy_score(y_test, y_test_pred)\n",
        "\n",
        "# Print accuracy\n",
        "print(f'Accuracy: train = {acc_train:.4f}, test = {acc_test:.4f}')"
      ]
    },
    {
      "cell_type": "markdown",
      "metadata": {
        "id": "0CBgM1nMEzUm"
      },
      "source": [
        "<figure>\n",
        "<img src=\"https://raw.githubusercontent.com/kasemsit/269382/main/fig/decision_tree_max_depth.svg\" width=100%>\n",
        "<figcaption>กราฟเปรียบเทียบค่า accuracy ของชุดข้อมูล train และ test ที่ค่า max_depth ค่าต่าง ๆ ของโมเดล</figcaption>\n",
        "</figure>\n",
        "\n",
        "จากกราฟ จะสามารถสังเกตุผลของการปรับค่า `max_depth` ดังนี้\n",
        "\n",
        "1. ที่ค่า `max_depth` น้อยมาก ๆ เช่น `max_depth` ได้ accuracy ของข้อมูล train และ test เท่ากับ 82.5% และ 82.2% ตามลำดับ โดยที่ค่าประสิทธิภาพนี้ต่ำเมื่อเทียบกับส่วนทางขวาของกราฟ สถานการณ์นี้บ่งบอกว่าเกิดปัญหา underfit เพราะจำนวนชั้นของกฎต้นไม้น้อยเกินไป\n",
        " - **underfit** = โมเดลไม่ซับซ้อนพอที่จะจดจำลักษณะของข้อมูลที่ซับซ้อนได้ (= poor generaliztion)\n",
        "2. ที่ `max_depth=25` มีค่า accuracy ของ train ประมาณ 100% หมายความว่าโมเดลจำข้อมูล train ได้ทุกตัว แต่กลับได้ accuracy ของข้อมูล test เพียง 89.9% ความห่างกันอย่างมากระหว่างผลของ training set กับ test set บ่งบอกถึงปัญหา overfit เพราะจำนวนชั้นของกฎต้นไม้มากเกินไป\n",
        " - **overfit** = โมเดลซับซ้อนมากเกินไป จนจดจำข้อมูลที่ใช้ฝึกสอนได้ดี แต่กลับนำความรู้ไปใช้กับข้อมูลที่ไม่เคยเห็นได้แย่ (= poor generaliztion)\n",
        "3. ที่ค่า `max_depth=8` ได้ค่า accuracy ของ test set สูงสุดเท่าที่เป็นไปได้คือ 90.9% แม้ว่า training set จะได้เพียง 94.1%\n",
        "\n",
        ">**Note:** ลักษณะของกราฟข้างต้น เรียกว่า **Bias-variance tradeoff** ซึ่งเป็นความกล้ำกลืนที่ต้องเลือกระหว่างโมเดลที่ซับซ้อน แต่มีความแปรปรวน (Variance) ในการทำนายกับข้อมูลที่ไม่เคยเห็นมาก่อน กับ โมเดลที่เรียบง่ายตัดสินใจไม่ซับซ้อน แต่ก็อาจจะโง่เกินไปเพราะอคติ (Bias) ในตัว\n",
        ">**หมายเหตุ:** หากไปคำว่า Bias-variance tradeoff ในอินเตอร์เน็ต จะพบกราฟที่กลับหัวกับกราฟข้างต้น เนื่องจากโดยปกติมักจะแสดงแกนตั้งด้วยค่า Error ของการทำนาย แทนที่จะเป็นค่า Accuracy อย่างเช่นที่แสดงให้นักศึกษาเห็น\n",
        "\n",
        "\n",
        ">Decision tree มีค่าต่าง ๆ มากมายที่ต้องกำหนดเอง ได้แก่ `max_depth` ที่ได้ทดลองปรับเองจากหัวข้อก่อนหน้า เราเรียกค่าที่เราต้องกำหนดเอง โดยที่โมเดลไม่ได้เรียนรู้จากข้อมูลนี้ว่า **hyper-parameter ของโมเดล** เพื่อไม่ให้สับสนกับ **parameter ของโมเดล** ที่ต้องเรียนรู้จากข้อมูล เช่นกฏ `persons<=0.5` ใน Decision tree หรือพารามิเตอร์ $w$ และ $b$ ของ Linear/Logistic regression\n",
        "\n",
        "\n",
        "**คำถาม:**\n",
        "\n",
        "1. โมเดลอื่น ๆ นอกจาก Decision tree เกิดปัญหา overfit/underfit ได้ด้วยหรือไม่?\n",
        "  - **ตอบ:** มีเช่นกัน\n",
        "2. จากกราฟ เราควรเลือกค่า `max_depth` ที่ค่าเท่าไรดีล่ะ?\n",
        "  - **ตอบ:** ควรเลือก `max_depth=8` เพราะดูเป็นจุดที่เป็นทางสายกลาง เพราะจำนวนชั้นของกฎต้นไม้ไม่มากหรือน้อยเกินไป ซึ่งถ้ากล่าวตามจริง โดยทั่วไป เราแคร์ที่โมเดลจะทำนายได้ดีกับข้อมูลที่ไม่เคยเห็น (test set)\n",
        "3. จากคำถามข้อ 2. สิ่งที่เราทำจนกว่าจะได้ค่า `max_depth=8` คือ ลองเทรน `max_depth` ที่ค่าต่าง ๆ กับข้อมูล `X_train` แล้วเอามาทดสอบกับข้อมูล `X_test` จนกว่าจะพบ `max_depth` ที่มีประสิทธิภาพกับ `X_test` ดีที่สุด นักศึกษาคิดว่า จริง ๆ **มันแฟร์หรือไม่**ที่จะบอกว่า `max_depth=8` ที่พบนั้นดีจริง ๆ **และเพราะอะไร**\n",
        "  - **ตอบ:** ไม่แฟร์เลย เพราะเท่ากับว่าเราใช้ `X_test` ในการ tune หาค่า `max_depth` ซึ่งสุดท้ายแล้วจะเกิดปัญหา overfit กับค่า `max_depth` เองก็เป็นได้ กล่าวคือโมเดลที่เทรนด้วยค่า `max_depth=8` อาจจะใช้ไม่ได้กับข้อมูลอื่น ๆ  ในความเป็นจริง `X_test` เป็นข้อมูลที่ไม่ควรถูกแตะต้องในกระบวนการสอนโมเดล ซึ่งวิธีการแก้ไขคือ เราควรมีข้อมูล 3 กลุ่ม แทนที่จะมีแค่ 2 กลุ่ม (train/test) เหมือนที่เราทำที่ผ่านมา โดยหน้าที่ของข้อมูล 3 กลุ่มนี้ คือ\n",
        "    - **Training set** - ใช้ฝึกสอนโมเดล (เหมือนกับ Training set เดิม)\n",
        "    - **Validation set** - ใช้ทดสอบประสิทธิภาพของโมเดลในเบื้องต้น เพื่อปรับจูนค่า hyper-parameter ต่าง ๆ เช่น `max_depth` ซึ่งข้อมูลเซตนี้เป็นเซตใหม่ที่อาจแบ่งมาจาก Training set เดิม\n",
        "    - **Blind test set** - เป็นชุดข้อมูลที่เก็บไว้ทดสอบประสิทธิภาพจริง ๆ ในขั้นสุดท้าย"
      ]
    },
    {
      "cell_type": "markdown",
      "metadata": {
        "id": "oiXXAIgvxbF8"
      },
      "source": [
        "## ลองค่าต่าง ๆ ด้วย `GridSearchCV`\n",
        "\n",
        "การปรับค่า hyper-parameter ต่าง ๆ หากจะลองผิดลองถูกทีละค่าก็ไม่สะดวกเท่าไร ดังนั้นจึงมีเครื่องมืออำนวยความสะดวกที่ช่วยทดสอบชุดของค่าเหล่านั้น โดยใช้ `GridSearchCV` [คู่มือ](https://scikit-learn.org/stable/modules/generated/sklearn.model_selection.GridSearchCV.html) ซึ่งรูปแบบการใช้งาน เป็นการนำ `GridSearchCV` ไปครอบหรือเรียกใช้ตัวโมเดลอีกที ดังรูปแบบต่อไปนี้\n",
        "\n",
        "```python\n",
        "from sklearn.model_selection import GridSearchCV\n",
        "\n",
        "cv = GridSearchCV(โมเดล, ดิกชันนารีของค่า, refit=True)\n",
        "```\n",
        "\n",
        "โดยเมื่อสร้าง `cv` แล้ว ก็สามารถเรียกใช้ได้เหมือนโมเดลปกติ เช่น \n",
        "\n",
        "- `cv.fit(X_train, y_train)` และ \n",
        "- `cv.predict(X_test)`\n",
        "\n",
        "ทั้งนี้ `GridSearchCV` จะเลือก hyperparameters ที่ดีที่สุด ที่ต่างจากวิธีการของเราอยู่บ้าง กล่าวคือ `GridSearchCV` จะใช้วิธีการ 5-fold cross validation (โดย default) ดังนี้\n",
        "\n",
        "1. `cv.fit(X_train, y_train)` สุ่มแบ่งข้อมูล `X_train` เป็น 5 ส่วน (folds) 5 แบบ ดังตาราง\n",
        "\n",
        "|  | Fold 1 | Fold 2 | Fold 3 | Fold 4 | Fold 5 |\n",
        "|:--:|:--:|:--:|:--:|:--:|:--:|\n",
        "| ข้อมูลสำหรับโมเดล 1 | X | O | O | O | O |\n",
        "| ข้อมูลสำหรับโมเดล 2 | O | X | O | O | O |\n",
        "| ข้อมูลสำหรับโมเดล 3 | O | O | X | O | O |\n",
        "| ข้อมูลสำหรับโมเดล 4 | O | O | O | X | O |\n",
        "| ข้อมูลสำหรับโมเดล 5 | O | O | O | O | X |\n",
        "\n",
        "2. สร้างโมเดลจากการกำหนด hyper-parameter 1 แบบที่ต้องการลอง เช่น สมมติเลือก `max_depth=40, criterion='gini', min_samples_split=2` เป็นต้น\n",
        "\n",
        "3. นำค่าข้อ 2. มาเทรนโมเดล 5 โมเดล โดยแต่ละโมเดลจะเทรนและทดสอบโดยใช้ข้อมูลต่างกันตามตารางข้อ 1 คือ เฉพาะส่วนที่เป็นสัญลักษณ์ O จะเป็น training set และส่วนที่เป็น X จะเป็น validation set (หรือชุดข้อมูลทดสอบในเบื้องต้น)\n",
        "\n",
        "4. นำผลประสิทธิภาพของทั้ง 5 โมเดลมาเฉลี่ยรวม\n",
        "\n",
        "5. กลับไปทำข้อ 2, 3, 4 อีกครั้ง โดยเปลี่ยนไปใช้ hyper-parameter ค่าอื่น จนครบทุกค่าที่ต้องการลอง โดยสุดท้ายแล้ว hyper-parameters ที่ดีที่สุดคือที่ให้ประสิทธิภาพที่วัดในข้อ 4 สูงที่สุด\n",
        "\n",
        "6. เป็นขั้นตอนของการ Refit คือการนำ hyper-parameters ที่ดีที่สุดจากข้อ 5 มาเทรนกับข้อมูลทั้งชุด (`X_train`) (Fold 1 ถึง 5 ทั้งหมด) ซึ่งขั้นตอนนี้ระบุให้ทำด้วยการกำหนด `refit=True`\n",
        "\n",
        "\n",
        "สำหรับโค้ดตัวอย่างการใช้ `GridSearchCV` ดูได้ตามด้านล่างนี้"
      ]
    },
    {
      "cell_type": "code",
      "execution_count": 3,
      "metadata": {
        "colab": {
          "base_uri": "https://localhost:8080/"
        },
        "id": "wUkMTM6vd6W7",
        "outputId": "7d9b3adf-cb36-4bbe-e72b-a16b8f73a4b6"
      },
      "outputs": [
        {
          "name": "stdout",
          "output_type": "stream",
          "text": [
            "Best hyperparameters are {'criterion': 'gini', 'max_depth': 10}\n",
            "Accuracy: train = 0.9648, test = 0.9067\n"
          ]
        }
      ],
      "source": [
        "from sklearn.model_selection import GridSearchCV\n",
        "\n",
        "# สร้างโมเดลที่กำหนดค่าไว้บางส่วน\n",
        "dt = DecisionTreeClassifier(\n",
        "            min_samples_split=2,\n",
        "            min_samples_leaf=1,\n",
        "            random_state=123\n",
        ")\n",
        "\n",
        "# List of Dictionary of Hyper-parameters ที่ต้องการทดลองโดย GridSearchCV จะจับคู่กันทุกแบบ\n",
        "param_grid = [\n",
        "    {'max_depth':[6,8,10,12],\n",
        "    'criterion':['gini']}\n",
        "]\n",
        "\n",
        "# สร้าง GridSearchCV เปล่า ๆ ครอบ DecisionTreeClassifier dt อีกที\n",
        "cv = GridSearchCV(dt, param_grid, refit=True)\n",
        "\n",
        "# ฝึกสอน GridSearchCV ซึ่งจะไปสอน dt อีกที ด้วย param_grid ค่าต่าง ๆ\n",
        "cv.fit(X_train, y_train)\n",
        "print(f'Best hyperparameters are {cv.best_params_}')\n",
        "\n",
        "# การทำนาย (ใช้ cv ไม่ใช่ dt เพราะค่า hyperparameter ที่ดีที่สุด เก็บไว้ใน cv ไม่ใช่ dt)\n",
        "y_train_pred = cv.predict(X_train)  # Prediction on training set\n",
        "y_test_pred = cv.predict(X_test)    # Prediction on test set\n",
        "\n",
        "# รายงานผล\n",
        "acc_train = accuracy_score(y_train, y_train_pred)\n",
        "acc_test = accuracy_score(y_test, y_test_pred)\n",
        "print(f'Accuracy: train = {acc_train:.4f}, test = {acc_test:.4f}')"
      ]
    },
    {
      "cell_type": "markdown",
      "metadata": {},
      "source": [
        "จะเห็นว่า ผลลัพธ์ที่ได้อาจไม่ใช่ค่า `max_depth=8` เดียวกับค่าที่เราคิดว่าดีที่สุด นั่นเป็นเพราะ `GridSearchCV`แบ่งซอยข้อมูล `X_train` ไปเป็นหลาย validation set แล้วเฉลี่ยผลลัพธ์ \n",
        "\n"
      ]
    }
  ],
  "metadata": {
    "colab": {
      "provenance": [],
      "toc_visible": true
    },
    "kernelspec": {
      "display_name": "Python 3",
      "name": "python3"
    },
    "language_info": {
      "codemirror_mode": {
        "name": "ipython",
        "version": 3
      },
      "file_extension": ".py",
      "mimetype": "text/x-python",
      "name": "python",
      "nbconvert_exporter": "python",
      "pygments_lexer": "ipython3",
      "version": "3.10.6"
    }
  },
  "nbformat": 4,
  "nbformat_minor": 0
}
