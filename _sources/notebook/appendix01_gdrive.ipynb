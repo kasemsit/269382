{
  "cells": [
    {
      "cell_type": "markdown",
      "metadata": {
        "id": "L7qdO4giNDMV"
      },
      "source": [
        "# การใช้ Google Drive กับ Google Colab\n",
        "\n",
        "ในโน๊ตบุ๊คนี้ จะกล่าวถึงการอ่านไฟล์จาก Google Drive ดังนี้\n",
        "1. ใช้ไลบรารี `google.colab` ในการเข้าถึง Google Drive\n",
        "2. ใช้โปรแกรม `gdown` [(ลิงค์ทางการของโปรแกรม)](https://github.com/wkentaro/gdown) ในการดาวน์โหลดไฟล์\n",
        "\n",
        "สมมติว่ามีไฟล์ชื่อ `AAPL.csv` เก็บอยู่ในโฟล์เดอร์ `SharedForClasses/269382` (โฟล์เดอร์ `269382` อยู่ในโฟล์เดอร์ `SharedForClasses` อีกที)\n",
        "\n",
        "จะสามารถเข้าถึงไฟล์นี้ได้ ดังนี้"
      ]
    },
    {
      "cell_type": "markdown",
      "metadata": {
        "id": "0t0xXcFPNKWR"
      },
      "source": [
        "## แบบที่ 1: Mount Google Drive\n",
        "\n",
        "แบบนี้เป็นการอนุญาตให้ Google Colab เข้าถึง Google Drive ได้ทั้งหมด โดยจะมองเห็น Google Drive เป็นหนึ่งโฟล์เดอร์ใน Google Colab\n",
        "\n",
        "```python\n",
        "from google.colab import drive\n",
        "drive.mount('/content/mnt')\n",
        "```\n",
        "\n",
        "จากนั้นจะมีหน้าต่างขึ้นมาให้ใส่อนุญาตเชื่อมต่อกับ Google Drive\n",
        "\n",
        "เราสามารถเข้าถึงไฟล์ใน `AAPL.csv` ที่เก็บไว้ ได้ดังนี้\n",
        "\n",
        "```python\n",
        "import pandas as pd\n",
        "df = pd.read_csv('/content/mnt/MyDrive/SharedForClasses/269382/AAPL.csv')\n",
        "```"
      ]
    },
    {
      "cell_type": "markdown",
      "metadata": {
        "id": "nAa7UNsYZryV"
      },
      "source": [
        "ในกรณีที่ต้องการเข้าถึงไฟล์อื่น ที่เก็บในโฟล์เดอร์อื่น ก็สามารถทำได้โดยอ้างถึงไฟล์นั้น เทียบกับโฟล์เดอร์ `/content/mnt/MyDrive/`"
      ]
    },
    {
      "cell_type": "markdown",
      "metadata": {
        "id": "jonGKS9QOEWI"
      },
      "source": [
        "## แบบที่ 2 ดาวน์โหลดไฟล์จาก Google Drive ด้วย `gdown`\n",
        "\n",
        "ในแบบที่ 2 นี้ ทำได้ 2 วิธีคือ การเรียกใช้ `gdown` จาก Command line หรือการเรียกใช้ `gdown` ในโค้ด Python เลย\n",
        "\n",
        "ก่อนอื่น ในขั้นแรก ให้ลงโปรแกรม `gdown` ก่อน\n",
        "\n"
      ]
    },
    {
      "cell_type": "code",
      "execution_count": 28,
      "metadata": {
        "colab": {
          "base_uri": "https://localhost:8080/"
        },
        "id": "sZ4fq-KfP23-",
        "outputId": "4b412f77-3473-468b-90b7-1bfdb845c6cf",
        "tags": [
          "hide-output"
        ]
      },
      "outputs": [
        {
          "name": "stdout",
          "output_type": "stream",
          "text": [
            "Requirement already satisfied: gdown in /usr/local/lib/python3.10/dist-packages (4.6.6)\n",
            "Requirement already satisfied: filelock in /usr/local/lib/python3.10/dist-packages (from gdown) (3.13.1)\n",
            "Requirement already satisfied: requests[socks] in /usr/local/lib/python3.10/dist-packages (from gdown) (2.31.0)\n",
            "Requirement already satisfied: six in /usr/local/lib/python3.10/dist-packages (from gdown) (1.16.0)\n",
            "Requirement already satisfied: tqdm in /usr/local/lib/python3.10/dist-packages (from gdown) (4.66.1)\n",
            "Requirement already satisfied: beautifulsoup4 in /usr/local/lib/python3.10/dist-packages (from gdown) (4.11.2)\n",
            "Requirement already satisfied: soupsieve>1.2 in /usr/local/lib/python3.10/dist-packages (from beautifulsoup4->gdown) (2.5)\n",
            "Requirement already satisfied: charset-normalizer<4,>=2 in /usr/local/lib/python3.10/dist-packages (from requests[socks]->gdown) (3.3.2)\n",
            "Requirement already satisfied: idna<4,>=2.5 in /usr/local/lib/python3.10/dist-packages (from requests[socks]->gdown) (3.6)\n",
            "Requirement already satisfied: urllib3<3,>=1.21.1 in /usr/local/lib/python3.10/dist-packages (from requests[socks]->gdown) (2.0.7)\n",
            "Requirement already satisfied: certifi>=2017.4.17 in /usr/local/lib/python3.10/dist-packages (from requests[socks]->gdown) (2023.11.17)\n",
            "Requirement already satisfied: PySocks!=1.5.7,>=1.5.6 in /usr/local/lib/python3.10/dist-packages (from requests[socks]->gdown) (1.7.1)\n"
          ]
        }
      ],
      "source": [
        "%pip install gdown"
      ]
    },
    {
      "cell_type": "markdown",
      "metadata": {
        "id": "AAJ8PZ_9XC6K"
      },
      "source": [
        "### 2.1) แบบใช้ Command line ของเรียกโปรแกรม `gdown`\n",
        "\n",
        "โดยในการใช้ `gdown` เพื่อดาวน์โหลดไฟล์จาก Google Drive  จะต้องแชร์ไฟล์ใน Google Drive แบบเปิด Public ก่อน ยกตัวอย่างเช่น เมื่อแชร์ไฟล์ `AAPL.csv` แล้ว จะได้ลิงค์ที่มีรูปแบบ ดังนี้\n",
        "\n",
        "```\n",
        "https://drive.google.com/file/d/19MK3ve74tqr-X_6TcFlhmV-rGmU9DqZd/view?usp=sharing\n",
        "```\n",
        "\n",
        "ให้คัดลอกรหัสที่อยู่ระหว่าง `drive.google.com/file/d/` กับ `view?usp=sharing` แล้วนำไปใช้กับคำสั่ง `gdown` ดังนี้"
      ]
    },
    {
      "cell_type": "code",
      "execution_count": 29,
      "metadata": {
        "colab": {
          "base_uri": "https://localhost:8080/"
        },
        "id": "D2DRihjyP5Ka",
        "outputId": "22bc8337-1d7d-4887-e255-4272bf0156e9"
      },
      "outputs": [
        {
          "name": "stdout",
          "output_type": "stream",
          "text": [
            "Downloading...\n",
            "From: https://drive.google.com/uc?id=19MK3ve74tqr-X_6TcFlhmV-rGmU9DqZd\n",
            "To: /content/myapple_1.csv\n",
            "\r  0% 0.00/735k [00:00<?, ?B/s]\r100% 735k/735k [00:00<00:00, 78.4MB/s]\n"
          ]
        }
      ],
      "source": [
        "!gdown 19MK3ve74tqr-X_6TcFlhmV-rGmU9DqZd -O myapple_1.csv"
      ]
    },
    {
      "cell_type": "markdown",
      "metadata": {
        "id": "tFPGtyfgaDzh"
      },
      "source": [
        "ซึ่งจะดาวน์โหลดไฟล์ `AAPL.csv` มาไว้ในชื่อไฟล์ `myapple_1.csv` ซึ่งสามารถอ่านไฟล์ได้ ดังตัวอย่าง"
      ]
    },
    {
      "cell_type": "code",
      "execution_count": 30,
      "metadata": {
        "colab": {
          "base_uri": "https://localhost:8080/",
          "height": 206
        },
        "id": "6JUADwmeaNjL",
        "outputId": "44b8bf68-6a6e-4437-bb19-7bb56196f5f2"
      },
      "outputs": [
        {
          "data": {
            "text/html": [
              "\n",
              "  <div id=\"df-6c7ebd9c-9718-41a4-8652-43b0d178d96b\" class=\"colab-df-container\">\n",
              "    <div>\n",
              "<style scoped>\n",
              "    .dataframe tbody tr th:only-of-type {\n",
              "        vertical-align: middle;\n",
              "    }\n",
              "\n",
              "    .dataframe tbody tr th {\n",
              "        vertical-align: top;\n",
              "    }\n",
              "\n",
              "    .dataframe thead th {\n",
              "        text-align: right;\n",
              "    }\n",
              "</style>\n",
              "<table border=\"1\" class=\"dataframe\">\n",
              "  <thead>\n",
              "    <tr style=\"text-align: right;\">\n",
              "      <th></th>\n",
              "      <th>Date</th>\n",
              "      <th>Open</th>\n",
              "      <th>High</th>\n",
              "      <th>Low</th>\n",
              "      <th>Close</th>\n",
              "      <th>Adj Close</th>\n",
              "      <th>Volume</th>\n",
              "    </tr>\n",
              "  </thead>\n",
              "  <tbody>\n",
              "    <tr>\n",
              "      <th>0</th>\n",
              "      <td>1980-12-12</td>\n",
              "      <td>0.128348</td>\n",
              "      <td>0.128906</td>\n",
              "      <td>0.128348</td>\n",
              "      <td>0.128348</td>\n",
              "      <td>0.099319</td>\n",
              "      <td>469033600</td>\n",
              "    </tr>\n",
              "    <tr>\n",
              "      <th>1</th>\n",
              "      <td>1980-12-15</td>\n",
              "      <td>0.122210</td>\n",
              "      <td>0.122210</td>\n",
              "      <td>0.121652</td>\n",
              "      <td>0.121652</td>\n",
              "      <td>0.094137</td>\n",
              "      <td>175884800</td>\n",
              "    </tr>\n",
              "    <tr>\n",
              "      <th>2</th>\n",
              "      <td>1980-12-16</td>\n",
              "      <td>0.113281</td>\n",
              "      <td>0.113281</td>\n",
              "      <td>0.112723</td>\n",
              "      <td>0.112723</td>\n",
              "      <td>0.087228</td>\n",
              "      <td>105728000</td>\n",
              "    </tr>\n",
              "    <tr>\n",
              "      <th>3</th>\n",
              "      <td>1980-12-17</td>\n",
              "      <td>0.115513</td>\n",
              "      <td>0.116071</td>\n",
              "      <td>0.115513</td>\n",
              "      <td>0.115513</td>\n",
              "      <td>0.089387</td>\n",
              "      <td>86441600</td>\n",
              "    </tr>\n",
              "    <tr>\n",
              "      <th>4</th>\n",
              "      <td>1980-12-18</td>\n",
              "      <td>0.118862</td>\n",
              "      <td>0.119420</td>\n",
              "      <td>0.118862</td>\n",
              "      <td>0.118862</td>\n",
              "      <td>0.091978</td>\n",
              "      <td>73449600</td>\n",
              "    </tr>\n",
              "  </tbody>\n",
              "</table>\n",
              "</div>\n",
              "    <div class=\"colab-df-buttons\">\n",
              "\n",
              "  <div class=\"colab-df-container\">\n",
              "    <button class=\"colab-df-convert\" onclick=\"convertToInteractive('df-6c7ebd9c-9718-41a4-8652-43b0d178d96b')\"\n",
              "            title=\"Convert this dataframe to an interactive table.\"\n",
              "            style=\"display:none;\">\n",
              "\n",
              "  <svg xmlns=\"http://www.w3.org/2000/svg\" height=\"24px\" viewBox=\"0 -960 960 960\">\n",
              "    <path d=\"M120-120v-720h720v720H120Zm60-500h600v-160H180v160Zm220 220h160v-160H400v160Zm0 220h160v-160H400v160ZM180-400h160v-160H180v160Zm440 0h160v-160H620v160ZM180-180h160v-160H180v160Zm440 0h160v-160H620v160Z\"/>\n",
              "  </svg>\n",
              "    </button>\n",
              "\n",
              "  <style>\n",
              "    .colab-df-container {\n",
              "      display:flex;\n",
              "      gap: 12px;\n",
              "    }\n",
              "\n",
              "    .colab-df-convert {\n",
              "      background-color: #E8F0FE;\n",
              "      border: none;\n",
              "      border-radius: 50%;\n",
              "      cursor: pointer;\n",
              "      display: none;\n",
              "      fill: #1967D2;\n",
              "      height: 32px;\n",
              "      padding: 0 0 0 0;\n",
              "      width: 32px;\n",
              "    }\n",
              "\n",
              "    .colab-df-convert:hover {\n",
              "      background-color: #E2EBFA;\n",
              "      box-shadow: 0px 1px 2px rgba(60, 64, 67, 0.3), 0px 1px 3px 1px rgba(60, 64, 67, 0.15);\n",
              "      fill: #174EA6;\n",
              "    }\n",
              "\n",
              "    .colab-df-buttons div {\n",
              "      margin-bottom: 4px;\n",
              "    }\n",
              "\n",
              "    [theme=dark] .colab-df-convert {\n",
              "      background-color: #3B4455;\n",
              "      fill: #D2E3FC;\n",
              "    }\n",
              "\n",
              "    [theme=dark] .colab-df-convert:hover {\n",
              "      background-color: #434B5C;\n",
              "      box-shadow: 0px 1px 3px 1px rgba(0, 0, 0, 0.15);\n",
              "      filter: drop-shadow(0px 1px 2px rgba(0, 0, 0, 0.3));\n",
              "      fill: #FFFFFF;\n",
              "    }\n",
              "  </style>\n",
              "\n",
              "    <script>\n",
              "      const buttonEl =\n",
              "        document.querySelector('#df-6c7ebd9c-9718-41a4-8652-43b0d178d96b button.colab-df-convert');\n",
              "      buttonEl.style.display =\n",
              "        google.colab.kernel.accessAllowed ? 'block' : 'none';\n",
              "\n",
              "      async function convertToInteractive(key) {\n",
              "        const element = document.querySelector('#df-6c7ebd9c-9718-41a4-8652-43b0d178d96b');\n",
              "        const dataTable =\n",
              "          await google.colab.kernel.invokeFunction('convertToInteractive',\n",
              "                                                    [key], {});\n",
              "        if (!dataTable) return;\n",
              "\n",
              "        const docLinkHtml = 'Like what you see? Visit the ' +\n",
              "          '<a target=\"_blank\" href=https://colab.research.google.com/notebooks/data_table.ipynb>data table notebook</a>'\n",
              "          + ' to learn more about interactive tables.';\n",
              "        element.innerHTML = '';\n",
              "        dataTable['output_type'] = 'display_data';\n",
              "        await google.colab.output.renderOutput(dataTable, element);\n",
              "        const docLink = document.createElement('div');\n",
              "        docLink.innerHTML = docLinkHtml;\n",
              "        element.appendChild(docLink);\n",
              "      }\n",
              "    </script>\n",
              "  </div>\n",
              "\n",
              "\n",
              "<div id=\"df-95104ca1-25ba-400c-8c22-09c65799742c\">\n",
              "  <button class=\"colab-df-quickchart\" onclick=\"quickchart('df-95104ca1-25ba-400c-8c22-09c65799742c')\"\n",
              "            title=\"Suggest charts\"\n",
              "            style=\"display:none;\">\n",
              "\n",
              "<svg xmlns=\"http://www.w3.org/2000/svg\" height=\"24px\"viewBox=\"0 0 24 24\"\n",
              "     width=\"24px\">\n",
              "    <g>\n",
              "        <path d=\"M19 3H5c-1.1 0-2 .9-2 2v14c0 1.1.9 2 2 2h14c1.1 0 2-.9 2-2V5c0-1.1-.9-2-2-2zM9 17H7v-7h2v7zm4 0h-2V7h2v10zm4 0h-2v-4h2v4z\"/>\n",
              "    </g>\n",
              "</svg>\n",
              "  </button>\n",
              "\n",
              "<style>\n",
              "  .colab-df-quickchart {\n",
              "      --bg-color: #E8F0FE;\n",
              "      --fill-color: #1967D2;\n",
              "      --hover-bg-color: #E2EBFA;\n",
              "      --hover-fill-color: #174EA6;\n",
              "      --disabled-fill-color: #AAA;\n",
              "      --disabled-bg-color: #DDD;\n",
              "  }\n",
              "\n",
              "  [theme=dark] .colab-df-quickchart {\n",
              "      --bg-color: #3B4455;\n",
              "      --fill-color: #D2E3FC;\n",
              "      --hover-bg-color: #434B5C;\n",
              "      --hover-fill-color: #FFFFFF;\n",
              "      --disabled-bg-color: #3B4455;\n",
              "      --disabled-fill-color: #666;\n",
              "  }\n",
              "\n",
              "  .colab-df-quickchart {\n",
              "    background-color: var(--bg-color);\n",
              "    border: none;\n",
              "    border-radius: 50%;\n",
              "    cursor: pointer;\n",
              "    display: none;\n",
              "    fill: var(--fill-color);\n",
              "    height: 32px;\n",
              "    padding: 0;\n",
              "    width: 32px;\n",
              "  }\n",
              "\n",
              "  .colab-df-quickchart:hover {\n",
              "    background-color: var(--hover-bg-color);\n",
              "    box-shadow: 0 1px 2px rgba(60, 64, 67, 0.3), 0 1px 3px 1px rgba(60, 64, 67, 0.15);\n",
              "    fill: var(--button-hover-fill-color);\n",
              "  }\n",
              "\n",
              "  .colab-df-quickchart-complete:disabled,\n",
              "  .colab-df-quickchart-complete:disabled:hover {\n",
              "    background-color: var(--disabled-bg-color);\n",
              "    fill: var(--disabled-fill-color);\n",
              "    box-shadow: none;\n",
              "  }\n",
              "\n",
              "  .colab-df-spinner {\n",
              "    border: 2px solid var(--fill-color);\n",
              "    border-color: transparent;\n",
              "    border-bottom-color: var(--fill-color);\n",
              "    animation:\n",
              "      spin 1s steps(1) infinite;\n",
              "  }\n",
              "\n",
              "  @keyframes spin {\n",
              "    0% {\n",
              "      border-color: transparent;\n",
              "      border-bottom-color: var(--fill-color);\n",
              "      border-left-color: var(--fill-color);\n",
              "    }\n",
              "    20% {\n",
              "      border-color: transparent;\n",
              "      border-left-color: var(--fill-color);\n",
              "      border-top-color: var(--fill-color);\n",
              "    }\n",
              "    30% {\n",
              "      border-color: transparent;\n",
              "      border-left-color: var(--fill-color);\n",
              "      border-top-color: var(--fill-color);\n",
              "      border-right-color: var(--fill-color);\n",
              "    }\n",
              "    40% {\n",
              "      border-color: transparent;\n",
              "      border-right-color: var(--fill-color);\n",
              "      border-top-color: var(--fill-color);\n",
              "    }\n",
              "    60% {\n",
              "      border-color: transparent;\n",
              "      border-right-color: var(--fill-color);\n",
              "    }\n",
              "    80% {\n",
              "      border-color: transparent;\n",
              "      border-right-color: var(--fill-color);\n",
              "      border-bottom-color: var(--fill-color);\n",
              "    }\n",
              "    90% {\n",
              "      border-color: transparent;\n",
              "      border-bottom-color: var(--fill-color);\n",
              "    }\n",
              "  }\n",
              "</style>\n",
              "\n",
              "  <script>\n",
              "    async function quickchart(key) {\n",
              "      const quickchartButtonEl =\n",
              "        document.querySelector('#' + key + ' button');\n",
              "      quickchartButtonEl.disabled = true;  // To prevent multiple clicks.\n",
              "      quickchartButtonEl.classList.add('colab-df-spinner');\n",
              "      try {\n",
              "        const charts = await google.colab.kernel.invokeFunction(\n",
              "            'suggestCharts', [key], {});\n",
              "      } catch (error) {\n",
              "        console.error('Error during call to suggestCharts:', error);\n",
              "      }\n",
              "      quickchartButtonEl.classList.remove('colab-df-spinner');\n",
              "      quickchartButtonEl.classList.add('colab-df-quickchart-complete');\n",
              "    }\n",
              "    (() => {\n",
              "      let quickchartButtonEl =\n",
              "        document.querySelector('#df-95104ca1-25ba-400c-8c22-09c65799742c button');\n",
              "      quickchartButtonEl.style.display =\n",
              "        google.colab.kernel.accessAllowed ? 'block' : 'none';\n",
              "    })();\n",
              "  </script>\n",
              "</div>\n",
              "    </div>\n",
              "  </div>\n"
            ],
            "text/plain": [
              "         Date      Open      High       Low     Close  Adj Close     Volume\n",
              "0  1980-12-12  0.128348  0.128906  0.128348  0.128348   0.099319  469033600\n",
              "1  1980-12-15  0.122210  0.122210  0.121652  0.121652   0.094137  175884800\n",
              "2  1980-12-16  0.113281  0.113281  0.112723  0.112723   0.087228  105728000\n",
              "3  1980-12-17  0.115513  0.116071  0.115513  0.115513   0.089387   86441600\n",
              "4  1980-12-18  0.118862  0.119420  0.118862  0.118862   0.091978   73449600"
            ]
          },
          "execution_count": 30,
          "metadata": {},
          "output_type": "execute_result"
        }
      ],
      "source": [
        "import pandas as pd\n",
        "df = pd.read_csv('myapple_1.csv')\n",
        "df.head()"
      ]
    },
    {
      "cell_type": "markdown",
      "metadata": {
        "id": "knkSAcA5bF0V"
      },
      "source": [
        "### 2.2) แบบใช้ `gdown` โดยตรงในโค้ด\n",
        "\n",
        "ในกรณีนี้ จะใช้ `gdown` โดยการ `import` เข้ามาในโค้ด Python แล้วจากนั้นจึงใช้ `gdown.download()` ในการดาวน์โหลด ดังนี้"
      ]
    },
    {
      "cell_type": "code",
      "execution_count": 33,
      "metadata": {
        "colab": {
          "base_uri": "https://localhost:8080/",
          "height": 106
        },
        "id": "FWpPhJ4EbLOL",
        "outputId": "633cc348-2102-4147-ee46-0db568ba1c4f",
        "tags": [
          "hide-output"
        ]
      },
      "outputs": [
        {
          "name": "stderr",
          "output_type": "stream",
          "text": [
            "Downloading...\n",
            "From: https://drive.google.com/uc?id=19MK3ve74tqr-X_6TcFlhmV-rGmU9DqZd\n",
            "To: /content/myapple_2.csv\n",
            "100%|██████████| 735k/735k [00:00<00:00, 54.0MB/s]\n"
          ]
        },
        {
          "data": {
            "application/vnd.google.colaboratory.intrinsic+json": {
              "type": "string"
            },
            "text/plain": [
              "'myapple_2.csv'"
            ]
          },
          "execution_count": 33,
          "metadata": {},
          "output_type": "execute_result"
        }
      ],
      "source": [
        "import gdown\n",
        "\n",
        "gdown.download(\n",
        "    url='https://drive.google.com/file/d/19MK3ve74tqr-X_6TcFlhmV-rGmU9DqZd/view?usp=sharing',\n",
        "    output='myapple_2.csv',\n",
        "    quiet=False,\n",
        "    fuzzy=True\n",
        ")\n",
        "\n",
        "df = pd.read_csv('myapple_2.csv')\n",
        "df.head()"
      ]
    },
    {
      "cell_type": "markdown",
      "metadata": {
        "id": "UVq9Rmf2e9dy"
      },
      "source": [
        "ซึ่งในกรณีนี้ เราดาวน์โหลดไฟล์ `AAPL.csv` มาเก็บไว้ในชื่อ `myapple_2.csv` โดยพารามิเตอร์ `fuzzy=True` เป็นการระบุเพื่อให้ `gdown` สามารถอ่าน URL ที่ copy-paste มาจาก Google Drive ได้เลย\n",
        "\n",
        "ดูเพิ่มเติมการใช้ `gdown` ได้ที่ https://github.com/wkentaro/gdown โดย `gdown` ยังมีความสามารถที่จะดาวน์โหลดโฟล์เดอร์ทั้งโฟล์เดอร์ได้อีกด้วย ในที่นี้จะไม่ขอยกตัวอย่าง แต่ขอให้นักศึกษาศึกษาด้วยตนเองจากเว็บทางการของ `gdown`"
      ]
    }
  ],
  "metadata": {
    "colab": {
      "provenance": []
    },
    "kernelspec": {
      "display_name": "Python 3",
      "name": "python3"
    },
    "language_info": {
      "codemirror_mode": {
        "name": "ipython",
        "version": 3
      },
      "file_extension": ".py",
      "mimetype": "text/x-python",
      "name": "python",
      "nbconvert_exporter": "python",
      "pygments_lexer": "ipython3",
      "version": "3.10.6"
    }
  },
  "nbformat": 4,
  "nbformat_minor": 0
}
